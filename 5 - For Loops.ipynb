{
 "cells": [
  {
   "cell_type": "code",
   "execution_count": 1,
   "id": "9007f390",
   "metadata": {},
   "outputs": [
    {
     "name": "stdout",
     "output_type": "stream",
     "text": [
      "2\n",
      "3\n",
      "4\n"
     ]
    }
   ],
   "source": [
    "for i in range(2, 5):\n",
    "    print(i)"
   ]
  },
  {
   "cell_type": "code",
   "execution_count": 3,
   "id": "4008aece",
   "metadata": {},
   "outputs": [
    {
     "name": "stdout",
     "output_type": "stream",
     "text": [
      "0\n",
      "1\n",
      "2\n"
     ]
    }
   ],
   "source": [
    "for i in range(3):\n",
    "    print(i)\n",
    "    \n",
    "# AUTOMATICALLY sets start as 0\n",
    "# 3 becomes end value"
   ]
  },
  {
   "cell_type": "code",
   "execution_count": 4,
   "id": "1cf6bf71",
   "metadata": {},
   "outputs": [
    {
     "data": {
      "text/plain": [
       "True"
      ]
     },
     "execution_count": 4,
     "metadata": {},
     "output_type": "execute_result"
    }
   ],
   "source": [
    "range(0, 3) == range(3)"
   ]
  },
  {
   "cell_type": "code",
   "execution_count": 6,
   "id": "31d994ac",
   "metadata": {},
   "outputs": [
    {
     "ename": "TypeError",
     "evalue": "'float' object cannot be interpreted as an integer",
     "output_type": "error",
     "traceback": [
      "\u001b[0;31m---------------------------------------------------------------------------\u001b[0m",
      "\u001b[0;31mTypeError\u001b[0m                                 Traceback (most recent call last)",
      "Cell \u001b[0;32mIn[6], line 1\u001b[0m\n\u001b[0;32m----> 1\u001b[0m \u001b[38;5;28;43mrange\u001b[39;49m\u001b[43m(\u001b[49m\u001b[38;5;241;43m0.7\u001b[39;49m\u001b[43m,\u001b[49m\u001b[43m \u001b[49m\u001b[38;5;241;43m8.7\u001b[39;49m\u001b[43m)\u001b[49m \u001b[38;5;66;03m# only integers are allowed\u001b[39;00m\n",
      "\u001b[0;31mTypeError\u001b[0m: 'float' object cannot be interpreted as an integer"
     ]
    }
   ],
   "source": [
    "range(0.7, 8.7) # only integers are allowed"
   ]
  },
  {
   "cell_type": "code",
   "execution_count": 7,
   "id": "6277f53a",
   "metadata": {},
   "outputs": [
    {
     "ename": "TypeError",
     "evalue": "'float' object cannot be interpreted as an integer",
     "output_type": "error",
     "traceback": [
      "\u001b[0;31m---------------------------------------------------------------------------\u001b[0m",
      "\u001b[0;31mTypeError\u001b[0m                                 Traceback (most recent call last)",
      "Cell \u001b[0;32mIn[7], line 1\u001b[0m\n\u001b[0;32m----> 1\u001b[0m \u001b[38;5;28;43mrange\u001b[39;49m\u001b[43m(\u001b[49m\u001b[38;5;241;43m1\u001b[39;49m\u001b[43m,\u001b[49m\u001b[43m \u001b[49m\u001b[38;5;241;43m8\u001b[39;49m\u001b[43m,\u001b[49m\u001b[43m \u001b[49m\u001b[38;5;241;43m0.5\u001b[39;49m\u001b[43m)\u001b[49m \u001b[38;5;66;03m# even jump can't be float\u001b[39;00m\n",
      "\u001b[0;31mTypeError\u001b[0m: 'float' object cannot be interpreted as an integer"
     ]
    }
   ],
   "source": [
    "range(1, 8, 0.5) # even jump can't be float"
   ]
  },
  {
   "cell_type": "code",
   "execution_count": 9,
   "id": "c2dde230",
   "metadata": {},
   "outputs": [
    {
     "ename": "ValueError",
     "evalue": "range() arg 3 must not be zero",
     "output_type": "error",
     "traceback": [
      "\u001b[0;31m---------------------------------------------------------------------------\u001b[0m",
      "\u001b[0;31mValueError\u001b[0m                                Traceback (most recent call last)",
      "Cell \u001b[0;32mIn[9], line 1\u001b[0m\n\u001b[0;32m----> 1\u001b[0m \u001b[38;5;28;43mrange\u001b[39;49m\u001b[43m(\u001b[49m\u001b[38;5;241;43m1\u001b[39;49m\u001b[43m,\u001b[49m\u001b[43m \u001b[49m\u001b[38;5;241;43m7\u001b[39;49m\u001b[43m,\u001b[49m\u001b[43m \u001b[49m\u001b[38;5;241;43m0\u001b[39;49m\u001b[43m)\u001b[49m \u001b[38;5;66;03m# step size can't be zero\u001b[39;00m\n",
      "\u001b[0;31mValueError\u001b[0m: range() arg 3 must not be zero"
     ]
    }
   ],
   "source": [
    "range(1, 7, 0) # step size can't be zero"
   ]
  },
  {
   "cell_type": "code",
   "execution_count": 11,
   "id": "4bcf9fd0",
   "metadata": {},
   "outputs": [
    {
     "data": {
      "text/plain": [
       "7"
      ]
     },
     "execution_count": 11,
     "metadata": {},
     "output_type": "execute_result"
    }
   ],
   "source": [
    "len(range(1, 8))"
   ]
  },
  {
   "cell_type": "code",
   "execution_count": 12,
   "id": "9d83ad97",
   "metadata": {},
   "outputs": [
    {
     "data": {
      "text/plain": [
       "4"
      ]
     },
     "execution_count": 12,
     "metadata": {},
     "output_type": "execute_result"
    }
   ],
   "source": [
    "len(range(1, 9, 2))"
   ]
  },
  {
   "cell_type": "code",
   "execution_count": 13,
   "id": "0e0bc95a",
   "metadata": {},
   "outputs": [
    {
     "data": {
      "text/plain": [
       "'\\nQuestion 1 - \\nPrint all integers from 1 to N using for loop. (N to be included)\\nTake N as input from the user.\\n'"
      ]
     },
     "execution_count": 13,
     "metadata": {},
     "output_type": "execute_result"
    }
   ],
   "source": [
    "'''\n",
    "Question 1 - \n",
    "Print all integers from 1 to N using for loop. (N to be included)\n",
    "Take N as input from the user.\n",
    "'''"
   ]
  },
  {
   "cell_type": "code",
   "execution_count": 14,
   "id": "3b5302ec",
   "metadata": {},
   "outputs": [
    {
     "name": "stdout",
     "output_type": "stream",
     "text": [
      "10\n",
      "1 2 3 4 5 6 7 8 9 10 "
     ]
    }
   ],
   "source": [
    "N = int(input())\n",
    "\n",
    "for i in range(1, N + 1):\n",
    "    print(i, end = \" \")"
   ]
  },
  {
   "cell_type": "code",
   "execution_count": 15,
   "id": "222f92b7",
   "metadata": {},
   "outputs": [
    {
     "data": {
      "text/plain": [
       "'\\nQuestion 2 - \\nTake N as input from the user.\\nCalculate the sum of all numbers from 1 to N (N is included).\\n'"
      ]
     },
     "execution_count": 15,
     "metadata": {},
     "output_type": "execute_result"
    }
   ],
   "source": [
    "'''\n",
    "Question 2 - \n",
    "Take N as input from the user.\n",
    "Calculate the sum of all numbers from 1 to N (N is included).\n",
    "'''"
   ]
  },
  {
   "cell_type": "code",
   "execution_count": 16,
   "id": "d1ea35b4",
   "metadata": {},
   "outputs": [
    {
     "name": "stdout",
     "output_type": "stream",
     "text": [
      "10\n",
      "The final sum is - 55\n"
     ]
    }
   ],
   "source": [
    "N = int(input())\n",
    "\n",
    "final_sum = 0\n",
    "\n",
    "for value in range(1, N + 1):\n",
    "    final_sum += value\n",
    "    \n",
    "print(\"The final sum is -\", final_sum)"
   ]
  },
  {
   "cell_type": "code",
   "execution_count": 17,
   "id": "71f365ec",
   "metadata": {},
   "outputs": [
    {
     "data": {
      "text/plain": [
       "'\\nQuestion 3 - \\nFACTORIAL ->\\nTake N an input from the user.\\nCalculate the product of all numbers from 1 to N (N is included).\\n'"
      ]
     },
     "execution_count": 17,
     "metadata": {},
     "output_type": "execute_result"
    }
   ],
   "source": [
    "'''\n",
    "Question 3 - \n",
    "FACTORIAL ->\n",
    "Take N an input from the user.\n",
    "Calculate the product of all numbers from 1 to N (N is included).\n",
    "'''"
   ]
  },
  {
   "cell_type": "code",
   "execution_count": 19,
   "id": "78588551",
   "metadata": {},
   "outputs": [
    {
     "name": "stdout",
     "output_type": "stream",
     "text": [
      "5\n",
      "120\n"
     ]
    }
   ],
   "source": [
    "N = int(input())\n",
    "\n",
    "factorial = 1\n",
    "\n",
    "for i in range(2, N + 1):\n",
    "    factorial *= i\n",
    "    \n",
    "print(factorial)"
   ]
  },
  {
   "cell_type": "code",
   "execution_count": 20,
   "id": "aa3503eb",
   "metadata": {},
   "outputs": [
    {
     "data": {
      "text/plain": [
       "'\\nN = 3\\n\\nfactorial = 1\\n\\nIteration 1 ->\\n    -> i = 1\\n    -> factorial *= 1 -> 1*1 -> 1\\n\\nIteration 2 ->\\n    -> i = 2\\n    -> factorial *= 2 -> 1*2 -> 2\\n    \\nIteration 3 ->\\n    -> i = 3\\n    -> factorial *= 3 -> 2*3 -> 6\\n'"
      ]
     },
     "execution_count": 20,
     "metadata": {},
     "output_type": "execute_result"
    }
   ],
   "source": [
    "'''\n",
    "N = 3\n",
    "\n",
    "factorial = 1\n",
    "\n",
    "Iteration 1 ->\n",
    "    -> i = 1\n",
    "    -> factorial *= 1 -> 1*1 -> 1\n",
    "\n",
    "Iteration 2 ->\n",
    "    -> i = 2\n",
    "    -> factorial *= 2 -> 1*2 -> 2\n",
    "    \n",
    "Iteration 3 ->\n",
    "    -> i = 3\n",
    "    -> factorial *= 3 -> 2*3 -> 6\n",
    "'''"
   ]
  },
  {
   "cell_type": "code",
   "execution_count": 21,
   "id": "394517b6",
   "metadata": {},
   "outputs": [
    {
     "data": {
      "text/plain": [
       "'\\nQuestion 4 - \\nTake N as input from the user.\\nCalculate the product of all even numbers between 1 and N. Both included.\\n'"
      ]
     },
     "execution_count": 21,
     "metadata": {},
     "output_type": "execute_result"
    }
   ],
   "source": [
    "'''\n",
    "Question 4 - \n",
    "Take N as input from the user.\n",
    "Calculate the product of all even numbers between 1 and N. Both included.\n",
    "'''"
   ]
  },
  {
   "cell_type": "code",
   "execution_count": 24,
   "id": "e14f1132",
   "metadata": {},
   "outputs": [
    {
     "name": "stdout",
     "output_type": "stream",
     "text": [
      "2\n",
      "4\n",
      "6\n",
      "8\n",
      "10\n",
      "12\n",
      "14\n",
      "16\n",
      "18\n"
     ]
    }
   ],
   "source": [
    "for i in range(2, 20, 2):\n",
    "    print(i)"
   ]
  },
  {
   "cell_type": "code",
   "execution_count": 25,
   "id": "71b68b2a",
   "metadata": {},
   "outputs": [
    {
     "name": "stdout",
     "output_type": "stream",
     "text": [
      "7\n",
      "48\n"
     ]
    }
   ],
   "source": [
    "N = int(input())\n",
    "\n",
    "even_product = 1\n",
    "\n",
    "for i in range(2, N + 1, 2):\n",
    "    even_product *= i\n",
    "    \n",
    "print(even_product)"
   ]
  },
  {
   "cell_type": "code",
   "execution_count": 27,
   "id": "270315b8",
   "metadata": {},
   "outputs": [
    {
     "name": "stdout",
     "output_type": "stream",
     "text": [
      "7\n",
      "48\n"
     ]
    }
   ],
   "source": [
    "# NOT THE BEST SOLUTION\n",
    "\n",
    "N = int(input())\n",
    "\n",
    "even_product = 1\n",
    "\n",
    "for i in range(1, N + 1):\n",
    "    if i % 2 == 0:\n",
    "        even_product *= i\n",
    "    \n",
    "print(even_product)\n",
    "\n",
    "# NOT THE BEST SOLUTION"
   ]
  },
  {
   "cell_type": "code",
   "execution_count": 28,
   "id": "832890e9",
   "metadata": {},
   "outputs": [
    {
     "data": {
      "text/plain": [
       "'\\nQuestion 5 - \\nTake start and end as input from the user.\\nCalculate the product of all even numbers between start and end.\\nBoth included.\\n\\nGIVEN - Both start and end will be greater than 0.\\n'"
      ]
     },
     "execution_count": 28,
     "metadata": {},
     "output_type": "execute_result"
    }
   ],
   "source": [
    "'''\n",
    "Question 5 - \n",
    "Take start and end as input from the user.\n",
    "Calculate the product of all even numbers between start and end.\n",
    "Both included.\n",
    "\n",
    "GIVEN - Both start and end will be greater than 0.\n",
    "'''"
   ]
  },
  {
   "cell_type": "code",
   "execution_count": 32,
   "id": "048c8f13",
   "metadata": {},
   "outputs": [
    {
     "name": "stdout",
     "output_type": "stream",
     "text": [
      "START - 2\n",
      "END - 9\n",
      "384\n",
      "Number of steps - 8\n"
     ]
    }
   ],
   "source": [
    "# SOLUTION 1\n",
    "\n",
    "start = int(input(\"START - \"))\n",
    "end = int(input(\"END - \"))\n",
    "\n",
    "even_product = 1\n",
    "\n",
    "for i in range(start, end + 1):\n",
    "    if i % 2 == 0:\n",
    "        even_product *= i\n",
    "        \n",
    "print(even_product)\n",
    "print(\"Number of steps -\", len(range(start, end + 1)))"
   ]
  },
  {
   "cell_type": "code",
   "execution_count": 33,
   "id": "90282526",
   "metadata": {},
   "outputs": [
    {
     "name": "stdout",
     "output_type": "stream",
     "text": [
      "START - 2\n",
      "END - 9\n",
      "384\n",
      "Number of steps - 4\n"
     ]
    }
   ],
   "source": [
    "# SOLUTION 1\n",
    "\n",
    "start = int(input(\"START - \"))\n",
    "end = int(input(\"END - \"))\n",
    "\n",
    "even_product = 1\n",
    "\n",
    "if start % 2 != 0:\n",
    "    start += 1\n",
    "\n",
    "for i in range(start, end + 1, 2):\n",
    "    even_product *= i\n",
    "        \n",
    "print(even_product)\n",
    "print(\"Number of steps -\", len(range(start, end + 1, 2)))"
   ]
  },
  {
   "cell_type": "code",
   "execution_count": 34,
   "id": "d1cd2ab8",
   "metadata": {},
   "outputs": [
    {
     "data": {
      "text/plain": [
       "'\\nQuestion 6 -\\nPrint all the numbers from an input N to 1 in reverse order.\\nN > 1 -> Given\\n'"
      ]
     },
     "execution_count": 34,
     "metadata": {},
     "output_type": "execute_result"
    }
   ],
   "source": [
    "'''\n",
    "Question 6 -\n",
    "Print all the numbers from an input N to 1 in reverse order.\n",
    "N > 1 -> Given\n",
    "'''"
   ]
  },
  {
   "cell_type": "code",
   "execution_count": 35,
   "id": "0ed33bf1",
   "metadata": {},
   "outputs": [
    {
     "name": "stdout",
     "output_type": "stream",
     "text": [
      "9\n",
      "9 8 7 6 5 4 3 2 1 "
     ]
    }
   ],
   "source": [
    "N = int(input())\n",
    "\n",
    "for i in range(N, 0, -1):\n",
    "    print(i, end = \" \")"
   ]
  },
  {
   "cell_type": "code",
   "execution_count": 36,
   "id": "7ab5c78d",
   "metadata": {},
   "outputs": [
    {
     "data": {
      "text/plain": [
       "'\\nQuestion 7 -\\nPrint all the numbers from an input N to 1 in reverse order.\\nWithout using a negative jump!\\nN > 1 -> Given\\n'"
      ]
     },
     "execution_count": 36,
     "metadata": {},
     "output_type": "execute_result"
    }
   ],
   "source": [
    "'''\n",
    "Question 7 -\n",
    "Print all the numbers from an input N to 1 in reverse order.\n",
    "Without using a negative jump!\n",
    "N > 1 -> Given\n",
    "'''"
   ]
  },
  {
   "cell_type": "code",
   "execution_count": 37,
   "id": "13ce756a",
   "metadata": {},
   "outputs": [
    {
     "name": "stdout",
     "output_type": "stream",
     "text": [
      "5\n",
      "5 4 3 2 1 "
     ]
    }
   ],
   "source": [
    "# Solution 1\n",
    "\n",
    "N = int(input()) # 5\n",
    "\n",
    "for i in range(N): # 0 1 2 3 4\n",
    "    print(N - i, end = \" \") # 5 4 3 2 1"
   ]
  },
  {
   "cell_type": "code",
   "execution_count": 39,
   "id": "356d2df0",
   "metadata": {},
   "outputs": [
    {
     "name": "stdout",
     "output_type": "stream",
     "text": [
      "5\n",
      "5 4 3 2 1 "
     ]
    }
   ],
   "source": [
    "# Solution 2\n",
    "\n",
    "N = int(input()) # 5\n",
    "\n",
    "for i in range(-N, 0): # -5 -4 -3 -2 -1\n",
    "    print(-i, end = \" \") # 5 4 3 2 1"
   ]
  },
  {
   "cell_type": "code",
   "execution_count": 45,
   "id": "aaa446b8",
   "metadata": {},
   "outputs": [
    {
     "name": "stdout",
     "output_type": "stream",
     "text": [
      "START - 10\n",
      "END - 5\n",
      "10\n",
      "9\n",
      "8\n",
      "7\n",
      "6\n"
     ]
    }
   ],
   "source": [
    "start = int(input(\"START - \"))\n",
    "end = int(input(\"END - \"))\n",
    "\n",
    "for i in range(end, start):\n",
    "    print(start + end - i)"
   ]
  },
  {
   "cell_type": "code",
   "execution_count": null,
   "id": "3b5f2424",
   "metadata": {},
   "outputs": [],
   "source": []
  }
 ],
 "metadata": {
  "kernelspec": {
   "display_name": "Python 3 (ipykernel)",
   "language": "python",
   "name": "python3"
  },
  "language_info": {
   "codemirror_mode": {
    "name": "ipython",
    "version": 3
   },
   "file_extension": ".py",
   "mimetype": "text/x-python",
   "name": "python",
   "nbconvert_exporter": "python",
   "pygments_lexer": "ipython3",
   "version": "3.9.5"
  }
 },
 "nbformat": 4,
 "nbformat_minor": 5
}
