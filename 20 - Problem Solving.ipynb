{
 "cells": [
  {
   "cell_type": "code",
   "execution_count": 1,
   "id": "2ea5b6a4",
   "metadata": {},
   "outputs": [],
   "source": [
    "def add_two(x, y):\n",
    "    return x + y"
   ]
  },
  {
   "cell_type": "code",
   "execution_count": 2,
   "id": "39348589",
   "metadata": {},
   "outputs": [
    {
     "data": {
      "text/plain": [
       "11"
      ]
     },
     "execution_count": 2,
     "metadata": {},
     "output_type": "execute_result"
    }
   ],
   "source": [
    "add_two(5, 6)"
   ]
  },
  {
   "cell_type": "code",
   "execution_count": 3,
   "id": "4a6adcba",
   "metadata": {},
   "outputs": [],
   "source": [
    "add_two_new = lambda x, y: x + y"
   ]
  },
  {
   "cell_type": "code",
   "execution_count": 4,
   "id": "73b04b3b",
   "metadata": {},
   "outputs": [
    {
     "data": {
      "text/plain": [
       "11"
      ]
     },
     "execution_count": 4,
     "metadata": {},
     "output_type": "execute_result"
    }
   ],
   "source": [
    "add_two_new(5, 6)"
   ]
  },
  {
   "cell_type": "code",
   "execution_count": 6,
   "id": "a357d22a",
   "metadata": {},
   "outputs": [
    {
     "data": {
      "text/plain": [
       "[1, 2, 3, 4, 5, 6, 7, 8, 9, 10]"
      ]
     },
     "execution_count": 6,
     "metadata": {},
     "output_type": "execute_result"
    }
   ],
   "source": [
    "sorted([7,8,9,10,3,4,6,2,1,5])"
   ]
  },
  {
   "cell_type": "code",
   "execution_count": 7,
   "id": "24be04af",
   "metadata": {},
   "outputs": [],
   "source": [
    "student_data = [\n",
    "    {\"name\": \"B\", \"marks\": 90},\n",
    "    {\"name\": \"E\", \"marks\": 100},\n",
    "    {\"name\": \"C\", \"marks\": 70},\n",
    "    {\"name\": \"A\", \"marks\": 20},\n",
    "    {\"name\": \"D\", \"marks\": 80},\n",
    "]"
   ]
  },
  {
   "cell_type": "code",
   "execution_count": 10,
   "id": "180d67ef",
   "metadata": {},
   "outputs": [
    {
     "data": {
      "text/plain": [
       "[{'name': 'A', 'marks': 20},\n",
       " {'name': 'C', 'marks': 70},\n",
       " {'name': 'D', 'marks': 80},\n",
       " {'name': 'B', 'marks': 90},\n",
       " {'name': 'E', 'marks': 100}]"
      ]
     },
     "execution_count": 10,
     "metadata": {},
     "output_type": "execute_result"
    }
   ],
   "source": [
    "sorted(student_data, key = lambda x: x[\"marks\"])"
   ]
  },
  {
   "cell_type": "code",
   "execution_count": 11,
   "id": "264e4eaf",
   "metadata": {},
   "outputs": [],
   "source": [
    "def generate_matrix(rows, columns):\n",
    "    matrix = []\n",
    "    \n",
    "    for i in range(rows):\n",
    "        row = []\n",
    "        \n",
    "        for j in range(columns):\n",
    "            message = \"Please input element at \" + str(i) + \",\" + str(j) + \" - \"\n",
    "            row.append(int(input(message)))\n",
    "        \n",
    "        matrix.append(row)\n",
    "        \n",
    "    return matrix"
   ]
  },
  {
   "cell_type": "code",
   "execution_count": 13,
   "id": "ced1a5c6",
   "metadata": {},
   "outputs": [
    {
     "name": "stdout",
     "output_type": "stream",
     "text": [
      "Please input element at 0,0 - 1\n",
      "Please input element at 0,1 - 2\n",
      "Please input element at 0,2 - 3\n",
      "Please input element at 1,0 - 4\n",
      "Please input element at 1,1 - 5\n",
      "Please input element at 1,2 - 6\n",
      "Please input element at 2,0 - 7\n",
      "Please input element at 2,1 - 8\n",
      "Please input element at 2,2 - 9\n"
     ]
    }
   ],
   "source": [
    "a = generate_matrix(3,3)"
   ]
  },
  {
   "cell_type": "code",
   "execution_count": 14,
   "id": "2ea1747a",
   "metadata": {},
   "outputs": [
    {
     "data": {
      "text/plain": [
       "[[1, 2, 3], [4, 5, 6], [7, 8, 9]]"
      ]
     },
     "execution_count": 14,
     "metadata": {},
     "output_type": "execute_result"
    }
   ],
   "source": [
    "a"
   ]
  },
  {
   "cell_type": "code",
   "execution_count": 17,
   "id": "cf121e49",
   "metadata": {
    "scrolled": true
   },
   "outputs": [
    {
     "name": "stdout",
     "output_type": "stream",
     "text": [
      "6\n",
      "15\n",
      "24\n"
     ]
    }
   ],
   "source": [
    "for i in a:\n",
    "    sum_list = 0\n",
    "\n",
    "    for j in i:\n",
    "        sum_list += j\n",
    "        \n",
    "    print(sum_list)"
   ]
  },
  {
   "cell_type": "code",
   "execution_count": 16,
   "id": "c751e042",
   "metadata": {},
   "outputs": [
    {
     "name": "stdout",
     "output_type": "stream",
     "text": [
      "6\n"
     ]
    }
   ],
   "source": [
    "sum_list = 0\n",
    "\n",
    "for i in [1,2,3]:\n",
    "    sum_list += i\n",
    "    \n",
    "print(sum_list)"
   ]
  },
  {
   "cell_type": "code",
   "execution_count": 18,
   "id": "23fa5064",
   "metadata": {},
   "outputs": [],
   "source": [
    "a = {\"scaler\": [5, 7, 5, 4, 5], \"is\": [6, 7, 4, 3, 3], \"best\": [9, 9, 6, 5, 5]}"
   ]
  },
  {
   "cell_type": "code",
   "execution_count": 19,
   "id": "37acef2a",
   "metadata": {},
   "outputs": [
    {
     "data": {
      "text/plain": [
       "{'scaler': [5, 7, 5, 4, 5], 'is': [6, 7, 4, 3, 3], 'best': [9, 9, 6, 5, 5]}"
      ]
     },
     "execution_count": 19,
     "metadata": {},
     "output_type": "execute_result"
    }
   ],
   "source": [
    "a"
   ]
  },
  {
   "cell_type": "code",
   "execution_count": 20,
   "id": "c4a9628f",
   "metadata": {},
   "outputs": [],
   "source": [
    "max_key = None\n",
    "max_unique = 0\n",
    "\n",
    "for key, value in a.items():\n",
    "    num_unique = len(set(value))\n",
    "    \n",
    "    if num_unique >= max_unique:\n",
    "        max_unique = num_unique\n",
    "        max_key = key"
   ]
  },
  {
   "cell_type": "code",
   "execution_count": 21,
   "id": "20c38457",
   "metadata": {},
   "outputs": [
    {
     "data": {
      "text/plain": [
       "'is'"
      ]
     },
     "execution_count": 21,
     "metadata": {},
     "output_type": "execute_result"
    }
   ],
   "source": [
    "max_key"
   ]
  },
  {
   "cell_type": "code",
   "execution_count": 22,
   "id": "12f23ffc",
   "metadata": {},
   "outputs": [],
   "source": [
    "def ceil_and_floor(a, target):\n",
    "    floor = min(a)\n",
    "    ceil = max(a)\n",
    "    \n",
    "    for element in a:\n",
    "        if element > floor and element < target:\n",
    "            floor = element\n",
    "        \n",
    "        if element < ceil and element > target:\n",
    "            ceil = element\n",
    "            \n",
    "    return [floor, ceil]"
   ]
  },
  {
   "cell_type": "code",
   "execution_count": 23,
   "id": "48850997",
   "metadata": {},
   "outputs": [
    {
     "data": {
      "text/plain": [
       "[4, 6]"
      ]
     },
     "execution_count": 23,
     "metadata": {},
     "output_type": "execute_result"
    }
   ],
   "source": [
    "ceil_and_floor([6,7,2,4,9,3,5,8], 5)"
   ]
  },
  {
   "cell_type": "code",
   "execution_count": 24,
   "id": "f4e27924",
   "metadata": {},
   "outputs": [],
   "source": [
    "def character_count(a):\n",
    "    result = {}\n",
    "    \n",
    "    for i in a:\n",
    "        if i in result:\n",
    "            result[i] += 1\n",
    "        else:\n",
    "            result[i] = 1\n",
    "            \n",
    "    return result"
   ]
  },
  {
   "cell_type": "code",
   "execution_count": 25,
   "id": "6be3752b",
   "metadata": {},
   "outputs": [],
   "source": [
    "a = [1, 2, 3, 4, 5, 6, 7, 8]\n",
    "k = 3"
   ]
  },
  {
   "cell_type": "code",
   "execution_count": 26,
   "id": "57a11301",
   "metadata": {},
   "outputs": [],
   "source": [
    "a[k-1], a[-k] = a[-k], a[k-1]"
   ]
  },
  {
   "cell_type": "code",
   "execution_count": 27,
   "id": "aad366f5",
   "metadata": {},
   "outputs": [
    {
     "data": {
      "text/plain": [
       "[1, 2, 6, 4, 5, 3, 7, 8]"
      ]
     },
     "execution_count": 27,
     "metadata": {},
     "output_type": "execute_result"
    }
   ],
   "source": [
    "a"
   ]
  },
  {
   "cell_type": "code",
   "execution_count": null,
   "id": "f6a36380",
   "metadata": {},
   "outputs": [],
   "source": []
  }
 ],
 "metadata": {
  "kernelspec": {
   "display_name": "Python 3 (ipykernel)",
   "language": "python",
   "name": "python3"
  },
  "language_info": {
   "codemirror_mode": {
    "name": "ipython",
    "version": 3
   },
   "file_extension": ".py",
   "mimetype": "text/x-python",
   "name": "python",
   "nbconvert_exporter": "python",
   "pygments_lexer": "ipython3",
   "version": "3.9.5"
  }
 },
 "nbformat": 4,
 "nbformat_minor": 5
}
