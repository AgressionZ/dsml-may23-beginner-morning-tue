{
 "cells": [
  {
   "cell_type": "code",
   "execution_count": 1,
   "id": "e43aa1d1",
   "metadata": {},
   "outputs": [
    {
     "name": "stdout",
     "output_type": "stream",
     "text": [
      "12345\n"
     ]
    }
   ],
   "source": [
    "a = input()"
   ]
  },
  {
   "cell_type": "code",
   "execution_count": 2,
   "id": "f5a08256",
   "metadata": {},
   "outputs": [
    {
     "data": {
      "text/plain": [
       "'12345'"
      ]
     },
     "execution_count": 2,
     "metadata": {},
     "output_type": "execute_result"
    }
   ],
   "source": [
    "a"
   ]
  },
  {
   "cell_type": "code",
   "execution_count": 4,
   "id": "790a317a",
   "metadata": {},
   "outputs": [],
   "source": [
    "def covert_to_word_form(a):\n",
    "    word_form = \"\"\n",
    "    \n",
    "    for i in a:\n",
    "        if i == \"0\":\n",
    "            word_form.append(\"zero\")\n",
    "            continue\n",
    "        \n",
    "        if i == \"1\":\n",
    "            word_form.append(\"one\")\n",
    "            continue\n",
    "        \n",
    "        # DO THIS FOR EVERY SINGLE DIGIT\n",
    "        \n",
    "    return word_form"
   ]
  },
  {
   "cell_type": "code",
   "execution_count": 5,
   "id": "8016bb47",
   "metadata": {},
   "outputs": [
    {
     "data": {
      "text/plain": [
       "'0678'"
      ]
     },
     "execution_count": 5,
     "metadata": {},
     "output_type": "execute_result"
    }
   ],
   "source": [
    "\"0678\""
   ]
  },
  {
   "cell_type": "code",
   "execution_count": 6,
   "id": "7216141b",
   "metadata": {},
   "outputs": [
    {
     "name": "stdout",
     "output_type": "stream",
     "text": [
      "120\n"
     ]
    }
   ],
   "source": [
    "a = [1, 2, 3, 4, 5]\n",
    "\n",
    "product = 1\n",
    "\n",
    "for i in a:\n",
    "     product *= i\n",
    "        \n",
    "print(product)"
   ]
  },
  {
   "cell_type": "code",
   "execution_count": 10,
   "id": "67e2444f",
   "metadata": {},
   "outputs": [],
   "source": [
    "a = [1, 2, 3, 4, 5]\n",
    "\n",
    "x = 3\n",
    "y = 10"
   ]
  },
  {
   "cell_type": "code",
   "execution_count": 11,
   "id": "74fa6c56",
   "metadata": {},
   "outputs": [],
   "source": [
    "a.insert(x - 1, y)"
   ]
  },
  {
   "cell_type": "code",
   "execution_count": 12,
   "id": "17101871",
   "metadata": {},
   "outputs": [
    {
     "data": {
      "text/plain": [
       "[1, 2, 10, 3, 4, 5]"
      ]
     },
     "execution_count": 12,
     "metadata": {},
     "output_type": "execute_result"
    }
   ],
   "source": [
    "a"
   ]
  },
  {
   "cell_type": "code",
   "execution_count": 13,
   "id": "4544bcc4",
   "metadata": {},
   "outputs": [],
   "source": [
    "# CASE -> n based indexing"
   ]
  },
  {
   "cell_type": "code",
   "execution_count": 14,
   "id": "2ed766a8",
   "metadata": {},
   "outputs": [],
   "source": [
    "a = list(range(1,21))"
   ]
  },
  {
   "cell_type": "code",
   "execution_count": 15,
   "id": "332744dd",
   "metadata": {},
   "outputs": [
    {
     "data": {
      "text/plain": [
       "[1, 2, 3, 4, 5, 6, 7, 8, 9, 10, 11, 12, 13, 14, 15, 16, 17, 18, 19, 20]"
      ]
     },
     "execution_count": 15,
     "metadata": {},
     "output_type": "execute_result"
    }
   ],
   "source": [
    "a"
   ]
  },
  {
   "cell_type": "code",
   "execution_count": 16,
   "id": "b0c62b59",
   "metadata": {},
   "outputs": [],
   "source": [
    "x = 10\n",
    "y = 100\n",
    "n = 5"
   ]
  },
  {
   "cell_type": "code",
   "execution_count": 17,
   "id": "ff207164",
   "metadata": {},
   "outputs": [],
   "source": [
    "a.insert(x - n, y)"
   ]
  },
  {
   "cell_type": "code",
   "execution_count": 18,
   "id": "9356d085",
   "metadata": {},
   "outputs": [
    {
     "data": {
      "text/plain": [
       "[1, 2, 3, 4, 5, 100, 6, 7, 8, 9, 10, 11, 12, 13, 14, 15, 16, 17, 18, 19, 20]"
      ]
     },
     "execution_count": 18,
     "metadata": {},
     "output_type": "execute_result"
    }
   ],
   "source": [
    "a"
   ]
  },
  {
   "cell_type": "code",
   "execution_count": 19,
   "id": "06ac7c2e",
   "metadata": {},
   "outputs": [
    {
     "data": {
      "text/plain": [
       "[1, 2, 3, 4, 5, 100, 6, 7, 8, 9, 10, 11, 12, 13, 14, 15, 16, 17, 18, 19, 20]"
      ]
     },
     "execution_count": 19,
     "metadata": {},
     "output_type": "execute_result"
    }
   ],
   "source": [
    "a"
   ]
  },
  {
   "cell_type": "code",
   "execution_count": 21,
   "id": "d57f30c1",
   "metadata": {},
   "outputs": [],
   "source": [
    "sum_even = 0\n",
    "sum_odd = 0\n",
    "\n",
    "for i in a:\n",
    "    if i % 2 == 0:\n",
    "        sum_even += i\n",
    "    else:\n",
    "        sum_odd += i"
   ]
  },
  {
   "cell_type": "code",
   "execution_count": 22,
   "id": "17865dcd",
   "metadata": {},
   "outputs": [
    {
     "data": {
      "text/plain": [
       "210"
      ]
     },
     "execution_count": 22,
     "metadata": {},
     "output_type": "execute_result"
    }
   ],
   "source": [
    "sum_even"
   ]
  },
  {
   "cell_type": "code",
   "execution_count": 23,
   "id": "599e7ce3",
   "metadata": {},
   "outputs": [
    {
     "data": {
      "text/plain": [
       "100"
      ]
     },
     "execution_count": 23,
     "metadata": {},
     "output_type": "execute_result"
    }
   ],
   "source": [
    "sum_odd"
   ]
  },
  {
   "cell_type": "code",
   "execution_count": 26,
   "id": "f069d719",
   "metadata": {},
   "outputs": [],
   "source": [
    "a = [[1,2,3],[0,4,5],[1,0,6]] # Upper Triangular Matrix"
   ]
  },
  {
   "cell_type": "code",
   "execution_count": 27,
   "id": "8cd1e964",
   "metadata": {},
   "outputs": [
    {
     "name": "stdout",
     "output_type": "stream",
     "text": [
      "False\n"
     ]
    }
   ],
   "source": [
    "rows = len(a)\n",
    "columns = len(a[0])\n",
    "\n",
    "upper_triangular = True\n",
    "\n",
    "for i in range(rows):\n",
    "    for j in range(columns):\n",
    "        if i > j and a[i][j] != 0:\n",
    "            upper_triangular = False\n",
    "            \n",
    "print(upper_triangular)"
   ]
  },
  {
   "cell_type": "code",
   "execution_count": 28,
   "id": "e952e115",
   "metadata": {},
   "outputs": [],
   "source": [
    "a = [2, 0, 1] # len = 3 -> indexes -> 0, 1, 2\n",
    "# Elements will also be 0, 1, 2 but rearranged!\n",
    "\n",
    "# -> At index 0, we have element 2 -> At index 2, place element 0\n",
    "# -> At index 1, we have element 0 -> At index 0, place element 1\n",
    "# -> At index 2, we have element 1 -> At index 1, place element 2"
   ]
  },
  {
   "cell_type": "code",
   "execution_count": 29,
   "id": "05c6fdd8",
   "metadata": {},
   "outputs": [
    {
     "data": {
      "text/plain": [
       "[0, 0, 0, 0, 0]"
      ]
     },
     "execution_count": 29,
     "metadata": {},
     "output_type": "execute_result"
    }
   ],
   "source": [
    "[0]*5"
   ]
  },
  {
   "cell_type": "code",
   "execution_count": 32,
   "id": "5aea3245",
   "metadata": {},
   "outputs": [],
   "source": [
    "def inverse_list(a):\n",
    "    inverse_a = [0] * len(a)\n",
    "    \n",
    "    for i in range(len(a)):\n",
    "        inverse_a[a[i]] = i\n",
    "        \n",
    "    return inverse_a"
   ]
  },
  {
   "cell_type": "code",
   "execution_count": 33,
   "id": "55ce30fe",
   "metadata": {},
   "outputs": [
    {
     "data": {
      "text/plain": [
       "[1, 2, 0]"
      ]
     },
     "execution_count": 33,
     "metadata": {},
     "output_type": "execute_result"
    }
   ],
   "source": [
    "inverse_list([2,0,1])"
   ]
  },
  {
   "cell_type": "code",
   "execution_count": 36,
   "id": "d8524c2e",
   "metadata": {},
   "outputs": [],
   "source": [
    "def difference_max_min(a):\n",
    "    MAX = a[0]\n",
    "    MIN = a[0]\n",
    "    \n",
    "    for i in a:\n",
    "        if i > MAX:\n",
    "            MAX = i\n",
    "        elif i < MIN:\n",
    "            MIN = i\n",
    "            \n",
    "    return MAX - MIN"
   ]
  },
  {
   "cell_type": "code",
   "execution_count": 37,
   "id": "182e1efd",
   "metadata": {},
   "outputs": [
    {
     "data": {
      "text/plain": [
       "13"
      ]
     },
     "execution_count": 37,
     "metadata": {},
     "output_type": "execute_result"
    }
   ],
   "source": [
    "difference_max_min([0,5,6,10,2,-1,3,9,8,12])"
   ]
  },
  {
   "cell_type": "code",
   "execution_count": 38,
   "id": "98ccb518",
   "metadata": {},
   "outputs": [],
   "source": [
    "a = [\n",
    "    [1,2,3],\n",
    "    [4,5,6],\n",
    "    [7,8,9],\n",
    "    [10,11,12]\n",
    "]"
   ]
  },
  {
   "cell_type": "code",
   "execution_count": 39,
   "id": "f53f97b5",
   "metadata": {},
   "outputs": [
    {
     "data": {
      "text/plain": [
       "[[1, 2, 3], [4, 5, 6], [7, 8, 9], [10, 11, 12]]"
      ]
     },
     "execution_count": 39,
     "metadata": {},
     "output_type": "execute_result"
    }
   ],
   "source": [
    "a"
   ]
  },
  {
   "cell_type": "code",
   "execution_count": 41,
   "id": "c0977603",
   "metadata": {},
   "outputs": [],
   "source": [
    "rows = len(a)\n",
    "columns = len(a[0])\n",
    "    \n",
    "transpose = [ [ 0 for i in range(rows) ] for i in range(columns) ]"
   ]
  },
  {
   "cell_type": "code",
   "execution_count": 42,
   "id": "2a637480",
   "metadata": {},
   "outputs": [
    {
     "data": {
      "text/plain": [
       "[[0, 0, 0, 0], [0, 0, 0, 0], [0, 0, 0, 0]]"
      ]
     },
     "execution_count": 42,
     "metadata": {},
     "output_type": "execute_result"
    }
   ],
   "source": [
    "transpose"
   ]
  },
  {
   "cell_type": "code",
   "execution_count": 46,
   "id": "a49d9df2",
   "metadata": {},
   "outputs": [],
   "source": [
    "a = [[1, 2, 3], [4, 5, 6], [7, 8, 9], [10, 11, 12]]\n",
    "\n",
    "def matrix_transpose(a):\n",
    "    rows = len(a)\n",
    "    columns = len(a[0])\n",
    "    \n",
    "    transpose = [ [ 0 for i in range(rows) ] for i in range(columns) ]\n",
    "    \n",
    "    for i in range(columns):\n",
    "        for j in range(rows):\n",
    "            transpose[i][j] = a[j][i]\n",
    "            \n",
    "    return transpose\n",
    "\n",
    "result = matrix_transpose(a)"
   ]
  },
  {
   "cell_type": "code",
   "execution_count": 47,
   "id": "253b2a14",
   "metadata": {},
   "outputs": [
    {
     "data": {
      "text/plain": [
       "[[1, 2, 3], [4, 5, 6], [7, 8, 9], [10, 11, 12]]"
      ]
     },
     "execution_count": 47,
     "metadata": {},
     "output_type": "execute_result"
    }
   ],
   "source": [
    "a"
   ]
  },
  {
   "cell_type": "code",
   "execution_count": 49,
   "id": "b17646d4",
   "metadata": {},
   "outputs": [],
   "source": [
    "result = matrix_transpose(a)"
   ]
  },
  {
   "cell_type": "code",
   "execution_count": 50,
   "id": "5b7db45b",
   "metadata": {},
   "outputs": [
    {
     "data": {
      "text/plain": [
       "[[1, 4, 7, 10], [2, 5, 8, 11], [3, 6, 9, 12]]"
      ]
     },
     "execution_count": 50,
     "metadata": {},
     "output_type": "execute_result"
    }
   ],
   "source": [
    "result"
   ]
  },
  {
   "cell_type": "code",
   "execution_count": 51,
   "id": "5858e001",
   "metadata": {},
   "outputs": [],
   "source": [
    "def max_each_row(matrix):\n",
    "    rows = len(matrix)\n",
    "    columns = len(matrix[0])\n",
    "    \n",
    "    for i in range(rows):\n",
    "        print(f\"Going over row {i} -\")\n",
    "        max_row = matrix[i][0]\n",
    "        \n",
    "        for j in range(columns):\n",
    "            print(f\"\\tGoing over element {matrix[i][j]} and comparing with current max {max_row}\")\n",
    "            \n",
    "            if matrix[i][j] > max_row:\n",
    "                max_row = matrix[i][j]\n",
    "        \n",
    "        print(f\"Max of row {i} = {max_row}\")\n",
    "        print(\"-\"*25)"
   ]
  },
  {
   "cell_type": "code",
   "execution_count": 52,
   "id": "234a0f01",
   "metadata": {},
   "outputs": [
    {
     "name": "stdout",
     "output_type": "stream",
     "text": [
      "Going over row 0 -\n",
      "\tGoing over element 1 and comparing with current max 1\n",
      "\tGoing over element 4 and comparing with current max 1\n",
      "\tGoing over element 7 and comparing with current max 4\n",
      "\tGoing over element 10 and comparing with current max 7\n",
      "Max of row 0 = 10\n",
      "-------------------------\n",
      "Going over row 1 -\n",
      "\tGoing over element 2 and comparing with current max 2\n",
      "\tGoing over element 5 and comparing with current max 2\n",
      "\tGoing over element 8 and comparing with current max 5\n",
      "\tGoing over element 11 and comparing with current max 8\n",
      "Max of row 1 = 11\n",
      "-------------------------\n",
      "Going over row 2 -\n",
      "\tGoing over element 3 and comparing with current max 3\n",
      "\tGoing over element 6 and comparing with current max 3\n",
      "\tGoing over element 9 and comparing with current max 6\n",
      "\tGoing over element 12 and comparing with current max 9\n",
      "Max of row 2 = 12\n",
      "-------------------------\n"
     ]
    }
   ],
   "source": [
    "max_each_row(result)"
   ]
  },
  {
   "cell_type": "code",
   "execution_count": null,
   "id": "857eab21",
   "metadata": {},
   "outputs": [],
   "source": []
  }
 ],
 "metadata": {
  "kernelspec": {
   "display_name": "Python 3 (ipykernel)",
   "language": "python",
   "name": "python3"
  },
  "language_info": {
   "codemirror_mode": {
    "name": "ipython",
    "version": 3
   },
   "file_extension": ".py",
   "mimetype": "text/x-python",
   "name": "python",
   "nbconvert_exporter": "python",
   "pygments_lexer": "ipython3",
   "version": "3.9.5"
  }
 },
 "nbformat": 4,
 "nbformat_minor": 5
}
