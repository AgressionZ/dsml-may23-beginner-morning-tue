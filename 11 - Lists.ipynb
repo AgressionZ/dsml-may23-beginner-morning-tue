{
 "cells": [
  {
   "cell_type": "code",
   "execution_count": 1,
   "id": "257ebc20",
   "metadata": {},
   "outputs": [],
   "source": [
    "# CRUD -> CREATE, READ, UPDATE, DELETE"
   ]
  },
  {
   "cell_type": "code",
   "execution_count": 3,
   "id": "086d9bc3",
   "metadata": {},
   "outputs": [],
   "source": [
    "# CREATE\n",
    "\n",
    "runs_virat = [67, 54, 12, 34, 77, 89, 101, 92]\n",
    "\n",
    "# The list can theoritically be infinitely sized - PYTHON HAS NO LIMIT ON LIST SIZE!"
   ]
  },
  {
   "cell_type": "code",
   "execution_count": 4,
   "id": "64b6a1c4",
   "metadata": {},
   "outputs": [
    {
     "data": {
      "text/plain": [
       "[67, 54, 12, 34, 77, 89, 101, 92]"
      ]
     },
     "execution_count": 4,
     "metadata": {},
     "output_type": "execute_result"
    }
   ],
   "source": [
    "runs_virat"
   ]
  },
  {
   "cell_type": "code",
   "execution_count": 5,
   "id": "712f9756",
   "metadata": {},
   "outputs": [
    {
     "data": {
      "text/plain": [
       "list"
      ]
     },
     "execution_count": 5,
     "metadata": {},
     "output_type": "execute_result"
    }
   ],
   "source": [
    "type(runs_virat)"
   ]
  },
  {
   "cell_type": "code",
   "execution_count": 6,
   "id": "3ad792b4",
   "metadata": {},
   "outputs": [],
   "source": [
    "# READ\n",
    "# Values are accessible using indexes which start at 0"
   ]
  },
  {
   "cell_type": "code",
   "execution_count": 7,
   "id": "ecd880ba",
   "metadata": {},
   "outputs": [
    {
     "data": {
      "text/plain": [
       "67"
      ]
     },
     "execution_count": 7,
     "metadata": {},
     "output_type": "execute_result"
    }
   ],
   "source": [
    "runs_virat[0] # Runs scored in the first match - 0th index"
   ]
  },
  {
   "cell_type": "code",
   "execution_count": 8,
   "id": "d8551236",
   "metadata": {},
   "outputs": [
    {
     "data": {
      "text/plain": [
       "77"
      ]
     },
     "execution_count": 8,
     "metadata": {},
     "output_type": "execute_result"
    }
   ],
   "source": [
    "runs_virat[4] # Runs scored in the 5th match - 4th index"
   ]
  },
  {
   "cell_type": "code",
   "execution_count": 9,
   "id": "8884522f",
   "metadata": {},
   "outputs": [
    {
     "data": {
      "text/plain": [
       "8"
      ]
     },
     "execution_count": 9,
     "metadata": {},
     "output_type": "execute_result"
    }
   ],
   "source": [
    "len(runs_virat) # number of elements inside a list"
   ]
  },
  {
   "cell_type": "code",
   "execution_count": 10,
   "id": "99d537e3",
   "metadata": {},
   "outputs": [],
   "source": [
    "# HOW WOULD YOU GET THE RUNS SCORED IN THE LAST MATCH?"
   ]
  },
  {
   "cell_type": "code",
   "execution_count": 11,
   "id": "c351b039",
   "metadata": {},
   "outputs": [
    {
     "data": {
      "text/plain": [
       "[67, 54, 12, 34, 77, 89, 101, 92]"
      ]
     },
     "execution_count": 11,
     "metadata": {},
     "output_type": "execute_result"
    }
   ],
   "source": [
    "runs_virat"
   ]
  },
  {
   "cell_type": "code",
   "execution_count": 14,
   "id": "99b7221a",
   "metadata": {},
   "outputs": [
    {
     "data": {
      "text/plain": [
       "92"
      ]
     },
     "execution_count": 14,
     "metadata": {},
     "output_type": "execute_result"
    }
   ],
   "source": [
    "n = len(runs_virat)\n",
    "\n",
    "runs_virat[n - 1] # last element"
   ]
  },
  {
   "cell_type": "code",
   "execution_count": 15,
   "id": "4405a077",
   "metadata": {},
   "outputs": [
    {
     "data": {
      "text/plain": [
       "92"
      ]
     },
     "execution_count": 15,
     "metadata": {},
     "output_type": "execute_result"
    }
   ],
   "source": [
    "runs_virat[len(runs_virat) - 1]"
   ]
  },
  {
   "cell_type": "code",
   "execution_count": 16,
   "id": "3438f41e",
   "metadata": {},
   "outputs": [
    {
     "data": {
      "text/plain": [
       "101"
      ]
     },
     "execution_count": 16,
     "metadata": {},
     "output_type": "execute_result"
    }
   ],
   "source": [
    "runs_virat[n - 2]"
   ]
  },
  {
   "cell_type": "code",
   "execution_count": 17,
   "id": "df92d327",
   "metadata": {},
   "outputs": [],
   "source": [
    "# NEGATIVE INDEXING"
   ]
  },
  {
   "cell_type": "code",
   "execution_count": 19,
   "id": "08403648",
   "metadata": {},
   "outputs": [
    {
     "data": {
      "text/plain": [
       "92"
      ]
     },
     "execution_count": 19,
     "metadata": {},
     "output_type": "execute_result"
    }
   ],
   "source": [
    "runs_virat[-1]"
   ]
  },
  {
   "cell_type": "code",
   "execution_count": 20,
   "id": "053e90e4",
   "metadata": {},
   "outputs": [
    {
     "data": {
      "text/plain": [
       "101"
      ]
     },
     "execution_count": 20,
     "metadata": {},
     "output_type": "execute_result"
    }
   ],
   "source": [
    "runs_virat[-2]"
   ]
  },
  {
   "cell_type": "code",
   "execution_count": 22,
   "id": "a5387840",
   "metadata": {},
   "outputs": [
    {
     "data": {
      "text/plain": [
       "67"
      ]
     },
     "execution_count": 22,
     "metadata": {},
     "output_type": "execute_result"
    }
   ],
   "source": [
    "runs_virat[-n] # n here is the length as calculated above!"
   ]
  },
  {
   "cell_type": "code",
   "execution_count": 23,
   "id": "16f6db9c",
   "metadata": {},
   "outputs": [
    {
     "ename": "IndexError",
     "evalue": "list index out of range",
     "output_type": "error",
     "traceback": [
      "\u001b[0;31m---------------------------------------------------------------------------\u001b[0m",
      "\u001b[0;31mIndexError\u001b[0m                                Traceback (most recent call last)",
      "Cell \u001b[0;32mIn[23], line 1\u001b[0m\n\u001b[0;32m----> 1\u001b[0m \u001b[43mruns_virat\u001b[49m\u001b[43m[\u001b[49m\u001b[38;5;241;43m100000\u001b[39;49m\u001b[43m]\u001b[49m \u001b[38;5;66;03m# These many elements are not present\u001b[39;00m\n",
      "\u001b[0;31mIndexError\u001b[0m: list index out of range"
     ]
    }
   ],
   "source": [
    "runs_virat[100000] # These many elements are not present"
   ]
  },
  {
   "cell_type": "code",
   "execution_count": 24,
   "id": "ffe2ed7a",
   "metadata": {},
   "outputs": [
    {
     "data": {
      "text/plain": [
       "[67, 54, 12, 34, 77, 89, 101, 92]"
      ]
     },
     "execution_count": 24,
     "metadata": {},
     "output_type": "execute_result"
    }
   ],
   "source": [
    "runs_virat"
   ]
  },
  {
   "cell_type": "code",
   "execution_count": 25,
   "id": "8ba5d207",
   "metadata": {},
   "outputs": [],
   "source": [
    "# UPDATE"
   ]
  },
  {
   "cell_type": "code",
   "execution_count": 26,
   "id": "49788299",
   "metadata": {},
   "outputs": [],
   "source": [
    "# Adding elements to the list"
   ]
  },
  {
   "cell_type": "code",
   "execution_count": 27,
   "id": "7c93a97b",
   "metadata": {},
   "outputs": [],
   "source": [
    "# 1. Append\n",
    "\n",
    "runs_virat.append(123)"
   ]
  },
  {
   "cell_type": "code",
   "execution_count": 28,
   "id": "a0eca129",
   "metadata": {},
   "outputs": [
    {
     "data": {
      "text/plain": [
       "[67, 54, 12, 34, 77, 89, 101, 92, 123]"
      ]
     },
     "execution_count": 28,
     "metadata": {},
     "output_type": "execute_result"
    }
   ],
   "source": [
    "runs_virat"
   ]
  },
  {
   "cell_type": "code",
   "execution_count": 29,
   "id": "a37fc384",
   "metadata": {},
   "outputs": [
    {
     "ename": "TypeError",
     "evalue": "can only concatenate list (not \"int\") to list",
     "output_type": "error",
     "traceback": [
      "\u001b[0;31m---------------------------------------------------------------------------\u001b[0m",
      "\u001b[0;31mTypeError\u001b[0m                                 Traceback (most recent call last)",
      "Cell \u001b[0;32mIn[29], line 1\u001b[0m\n\u001b[0;32m----> 1\u001b[0m runs_virat \u001b[38;5;241m=\u001b[39m \u001b[43mruns_virat\u001b[49m\u001b[43m \u001b[49m\u001b[38;5;241;43m+\u001b[39;49m\u001b[43m \u001b[49m\u001b[38;5;241;43m45\u001b[39;49m\n",
      "\u001b[0;31mTypeError\u001b[0m: can only concatenate list (not \"int\") to list"
     ]
    }
   ],
   "source": [
    "runs_virat = runs_virat + 45"
   ]
  },
  {
   "cell_type": "code",
   "execution_count": 30,
   "id": "b99ddd32",
   "metadata": {},
   "outputs": [],
   "source": [
    "runs_virat = runs_virat + [45]"
   ]
  },
  {
   "cell_type": "code",
   "execution_count": 33,
   "id": "c39facf0",
   "metadata": {},
   "outputs": [
    {
     "data": {
      "text/plain": [
       "[67, 54, 12, 34, 77, 89, 101, 92, 123, 45]"
      ]
     },
     "execution_count": 33,
     "metadata": {},
     "output_type": "execute_result"
    }
   ],
   "source": [
    "runs_virat # The above operation is similar to a append operation"
   ]
  },
  {
   "cell_type": "code",
   "execution_count": 34,
   "id": "36912287",
   "metadata": {},
   "outputs": [],
   "source": [
    "# 2. Insert"
   ]
  },
  {
   "cell_type": "code",
   "execution_count": 35,
   "id": "a44c04e2",
   "metadata": {},
   "outputs": [],
   "source": [
    "# list.insert(index, value)"
   ]
  },
  {
   "cell_type": "code",
   "execution_count": 36,
   "id": "4e290f4c",
   "metadata": {},
   "outputs": [],
   "source": [
    "runs_virat.insert(2, 55)"
   ]
  },
  {
   "cell_type": "code",
   "execution_count": 37,
   "id": "5bde9723",
   "metadata": {},
   "outputs": [
    {
     "data": {
      "text/plain": [
       "[67, 54, 55, 12, 34, 77, 89, 101, 92, 123, 45]"
      ]
     },
     "execution_count": 37,
     "metadata": {},
     "output_type": "execute_result"
    }
   ],
   "source": [
    "runs_virat"
   ]
  },
  {
   "cell_type": "code",
   "execution_count": 38,
   "id": "dacc5de7",
   "metadata": {},
   "outputs": [],
   "source": [
    "# 3. Extend"
   ]
  },
  {
   "cell_type": "code",
   "execution_count": 39,
   "id": "83eb1a66",
   "metadata": {},
   "outputs": [],
   "source": [
    "runs_virat.extend([15, 19, 88])"
   ]
  },
  {
   "cell_type": "code",
   "execution_count": 40,
   "id": "b4a3f23e",
   "metadata": {},
   "outputs": [
    {
     "data": {
      "text/plain": [
       "[67, 54, 55, 12, 34, 77, 89, 101, 92, 123, 45, 15, 19, 88]"
      ]
     },
     "execution_count": 40,
     "metadata": {},
     "output_type": "execute_result"
    }
   ],
   "source": [
    "runs_virat"
   ]
  },
  {
   "cell_type": "code",
   "execution_count": 44,
   "id": "e2b62c72",
   "metadata": {},
   "outputs": [],
   "source": [
    "runs_virat += [1, 2, 3]"
   ]
  },
  {
   "cell_type": "code",
   "execution_count": 45,
   "id": "fec98459",
   "metadata": {},
   "outputs": [
    {
     "data": {
      "text/plain": [
       "[67, 54, 55, 12, 34, 77, 89, 101, 92, 123, 45, 15, 19, 88, 1, 2, 3, 1, 2, 3]"
      ]
     },
     "execution_count": 45,
     "metadata": {},
     "output_type": "execute_result"
    }
   ],
   "source": [
    "runs_virat # The above operation is similar to the extend operation"
   ]
  },
  {
   "cell_type": "code",
   "execution_count": 46,
   "id": "af618334",
   "metadata": {},
   "outputs": [
    {
     "data": {
      "text/plain": [
       "'\\nlist.append(value) -> Add one value at the end of the list\\n    - list += [value]\\n    \\nlist.insert(index, value) -> Add one value at the specified index in the list\\n\\nlist.extend([value1, value2, value3...]) -> Add multiple values at the end of the list\\n    - list += [value1, value2, value3...]\\n'"
      ]
     },
     "execution_count": 46,
     "metadata": {},
     "output_type": "execute_result"
    }
   ],
   "source": [
    "'''\n",
    "list.append(value) -> Add one value at the end of the list\n",
    "    - list += [value]\n",
    "    \n",
    "list.insert(index, value) -> Add one value at the specified index in the list\n",
    "\n",
    "list.extend([value1, value2, value3...]) -> Add multiple values at the end of the list\n",
    "    - list += [value1, value2, value3...]\n",
    "'''"
   ]
  },
  {
   "cell_type": "code",
   "execution_count": 47,
   "id": "c7ebebd1",
   "metadata": {},
   "outputs": [],
   "source": [
    "# Iteration on Lists"
   ]
  },
  {
   "cell_type": "code",
   "execution_count": 48,
   "id": "3c5ec447",
   "metadata": {},
   "outputs": [
    {
     "name": "stdout",
     "output_type": "stream",
     "text": [
      "p\n",
      "y\n",
      "t\n",
      "h\n",
      "o\n",
      "n\n"
     ]
    }
   ],
   "source": [
    "a = \"python\"\n",
    "\n",
    "for i in a:\n",
    "    print(i)"
   ]
  },
  {
   "cell_type": "code",
   "execution_count": 49,
   "id": "4fec71c0",
   "metadata": {},
   "outputs": [],
   "source": [
    "a = [10, 20, 30, 40, 50, 60]"
   ]
  },
  {
   "cell_type": "code",
   "execution_count": 51,
   "id": "8269fd34",
   "metadata": {},
   "outputs": [
    {
     "name": "stdout",
     "output_type": "stream",
     "text": [
      "10\n",
      "20\n",
      "30\n",
      "40\n",
      "50\n",
      "60\n"
     ]
    }
   ],
   "source": [
    "# TRAVERSAL METHOD 1 -> Directly traverse over the elements\n",
    "for i in a:\n",
    "    print(i)"
   ]
  },
  {
   "cell_type": "code",
   "execution_count": 53,
   "id": "3798b127",
   "metadata": {},
   "outputs": [
    {
     "name": "stdout",
     "output_type": "stream",
     "text": [
      "0 -> 10\n",
      "1 -> 20\n",
      "2 -> 30\n",
      "3 -> 40\n",
      "4 -> 50\n",
      "5 -> 60\n"
     ]
    }
   ],
   "source": [
    "# TRAVERSAL METHOD 2 -> Using indexes\n",
    "for i in range(len(a)):\n",
    "    print(i, \"->\",a[i])"
   ]
  },
  {
   "cell_type": "code",
   "execution_count": 55,
   "id": "fdd59d0f",
   "metadata": {},
   "outputs": [
    {
     "name": "stdout",
     "output_type": "stream",
     "text": [
      "10\n",
      "20\n",
      "30\n",
      "40\n",
      "50\n",
      "60\n"
     ]
    }
   ],
   "source": [
    "# TRAVERSAL METHOD 3 -> Also possible using while loops\n",
    "\n",
    "i = 0\n",
    "\n",
    "while i < len(a):\n",
    "    print(a[i])\n",
    "    i += 1"
   ]
  },
  {
   "cell_type": "code",
   "execution_count": 56,
   "id": "cee348eb",
   "metadata": {},
   "outputs": [
    {
     "data": {
      "text/plain": [
       "'\\nQustion 1 - \\nruns_virat = [67, 54, 12, 34, 77, 89, 101]\\n\\nIn runs_virat -> Calculate, sum, avg, max and min runs.\\nWithout using any internal functions.\\n'"
      ]
     },
     "execution_count": 56,
     "metadata": {},
     "output_type": "execute_result"
    }
   ],
   "source": [
    "'''\n",
    "Qustion 1 - \n",
    "runs_virat = [67, 54, 12, 34, 77, 89, 101, 112]\n",
    "\n",
    "In runs_virat -> Calculate, sum, avg, max and min runs.\n",
    "Without using any internal functions.\n",
    "'''"
   ]
  },
  {
   "cell_type": "code",
   "execution_count": 57,
   "id": "d62cbfb6",
   "metadata": {},
   "outputs": [],
   "source": [
    "def custom_len(a):\n",
    "    count = 0\n",
    "    \n",
    "    for i in a:\n",
    "        count += 1\n",
    "    \n",
    "    return count"
   ]
  },
  {
   "cell_type": "code",
   "execution_count": 58,
   "id": "cc78f183",
   "metadata": {},
   "outputs": [],
   "source": [
    "runs = [67, 54, 12, 34, 77, 89, 101, 112]"
   ]
  },
  {
   "cell_type": "code",
   "execution_count": 64,
   "id": "157dd2ee",
   "metadata": {},
   "outputs": [],
   "source": [
    "len_runs = custom_len(runs)"
   ]
  },
  {
   "cell_type": "code",
   "execution_count": 65,
   "id": "7b08b4b4",
   "metadata": {},
   "outputs": [
    {
     "data": {
      "text/plain": [
       "8"
      ]
     },
     "execution_count": 65,
     "metadata": {},
     "output_type": "execute_result"
    }
   ],
   "source": [
    "len_runs"
   ]
  },
  {
   "cell_type": "code",
   "execution_count": 61,
   "id": "75c313a3",
   "metadata": {},
   "outputs": [],
   "source": [
    "def custom_sum(a):\n",
    "    SUM = 0\n",
    "    \n",
    "    for i in a:\n",
    "        SUM += i\n",
    "        \n",
    "    return SUM"
   ]
  },
  {
   "cell_type": "code",
   "execution_count": 66,
   "id": "36ec6f82",
   "metadata": {},
   "outputs": [],
   "source": [
    "sum_runs = custom_sum(runs)"
   ]
  },
  {
   "cell_type": "code",
   "execution_count": 67,
   "id": "d1e25249",
   "metadata": {},
   "outputs": [
    {
     "data": {
      "text/plain": [
       "546"
      ]
     },
     "execution_count": 67,
     "metadata": {},
     "output_type": "execute_result"
    }
   ],
   "source": [
    "sum_runs"
   ]
  },
  {
   "cell_type": "code",
   "execution_count": 63,
   "id": "20a57abb",
   "metadata": {},
   "outputs": [
    {
     "data": {
      "text/plain": [
       "6"
      ]
     },
     "execution_count": 63,
     "metadata": {},
     "output_type": "execute_result"
    }
   ],
   "source": [
    "custom_sum([1,2,3])"
   ]
  },
  {
   "cell_type": "code",
   "execution_count": 68,
   "id": "264bbc4b",
   "metadata": {},
   "outputs": [],
   "source": [
    "avg_runs = sum_runs / len_runs"
   ]
  },
  {
   "cell_type": "code",
   "execution_count": 69,
   "id": "52e26eaa",
   "metadata": {},
   "outputs": [
    {
     "data": {
      "text/plain": [
       "68.25"
      ]
     },
     "execution_count": 69,
     "metadata": {},
     "output_type": "execute_result"
    }
   ],
   "source": [
    "avg_runs"
   ]
  },
  {
   "cell_type": "code",
   "execution_count": 73,
   "id": "0cbcdba2",
   "metadata": {},
   "outputs": [],
   "source": [
    "def custom_max(a):\n",
    "    MAX = a[0]\n",
    "    \n",
    "    for i in range(1, len_runs):\n",
    "        if a[i] > MAX:\n",
    "            MAX = a[i]\n",
    "            \n",
    "    return MAX"
   ]
  },
  {
   "cell_type": "code",
   "execution_count": 74,
   "id": "e0fc7842",
   "metadata": {},
   "outputs": [],
   "source": [
    "max_runs = custom_max(runs)"
   ]
  },
  {
   "cell_type": "code",
   "execution_count": 75,
   "id": "4bcc8b28",
   "metadata": {},
   "outputs": [
    {
     "data": {
      "text/plain": [
       "112"
      ]
     },
     "execution_count": 75,
     "metadata": {},
     "output_type": "execute_result"
    }
   ],
   "source": [
    "max_runs"
   ]
  },
  {
   "cell_type": "code",
   "execution_count": 76,
   "id": "75147c7b",
   "metadata": {},
   "outputs": [],
   "source": [
    "def custom_min(a):\n",
    "    MIN = a[0]\n",
    "    \n",
    "    for i in range(1, len(a)):\n",
    "        if a[i] < MIN:\n",
    "            MIN = a[i]\n",
    "            \n",
    "    return MIN"
   ]
  },
  {
   "cell_type": "code",
   "execution_count": 77,
   "id": "004fac7f",
   "metadata": {},
   "outputs": [],
   "source": [
    "min_runs = custom_min(runs)"
   ]
  },
  {
   "cell_type": "code",
   "execution_count": 78,
   "id": "c4784b79",
   "metadata": {},
   "outputs": [
    {
     "data": {
      "text/plain": [
       "12"
      ]
     },
     "execution_count": 78,
     "metadata": {},
     "output_type": "execute_result"
    }
   ],
   "source": [
    "min_runs"
   ]
  },
  {
   "cell_type": "code",
   "execution_count": 79,
   "id": "203edda9",
   "metadata": {},
   "outputs": [
    {
     "data": {
      "text/plain": [
       "8"
      ]
     },
     "execution_count": 79,
     "metadata": {},
     "output_type": "execute_result"
    }
   ],
   "source": [
    "len(runs)"
   ]
  },
  {
   "cell_type": "code",
   "execution_count": 80,
   "id": "5552766e",
   "metadata": {},
   "outputs": [
    {
     "data": {
      "text/plain": [
       "546"
      ]
     },
     "execution_count": 80,
     "metadata": {},
     "output_type": "execute_result"
    }
   ],
   "source": [
    "sum(runs)"
   ]
  },
  {
   "cell_type": "code",
   "execution_count": 81,
   "id": "9da9ddc4",
   "metadata": {},
   "outputs": [
    {
     "data": {
      "text/plain": [
       "68.25"
      ]
     },
     "execution_count": 81,
     "metadata": {},
     "output_type": "execute_result"
    }
   ],
   "source": [
    "sum(runs) / len(runs)"
   ]
  },
  {
   "cell_type": "code",
   "execution_count": 82,
   "id": "03223ee7",
   "metadata": {},
   "outputs": [
    {
     "data": {
      "text/plain": [
       "112"
      ]
     },
     "execution_count": 82,
     "metadata": {},
     "output_type": "execute_result"
    }
   ],
   "source": [
    "max(runs)"
   ]
  },
  {
   "cell_type": "code",
   "execution_count": 83,
   "id": "c6201e7b",
   "metadata": {},
   "outputs": [
    {
     "data": {
      "text/plain": [
       "12"
      ]
     },
     "execution_count": 83,
     "metadata": {},
     "output_type": "execute_result"
    }
   ],
   "source": [
    "min(runs)"
   ]
  },
  {
   "cell_type": "code",
   "execution_count": 84,
   "id": "f7423b14",
   "metadata": {},
   "outputs": [],
   "source": [
    "# LISTS ARE MUTABLE"
   ]
  },
  {
   "cell_type": "code",
   "execution_count": 85,
   "id": "ae6e32e3",
   "metadata": {},
   "outputs": [],
   "source": [
    "a = [1,2,3,4,5]"
   ]
  },
  {
   "cell_type": "code",
   "execution_count": 86,
   "id": "23f061d8",
   "metadata": {},
   "outputs": [],
   "source": [
    "a[0] = 10"
   ]
  },
  {
   "cell_type": "code",
   "execution_count": 87,
   "id": "a8f81fd0",
   "metadata": {},
   "outputs": [
    {
     "data": {
      "text/plain": [
       "[10, 2, 3, 4, 5]"
      ]
     },
     "execution_count": 87,
     "metadata": {},
     "output_type": "execute_result"
    }
   ],
   "source": [
    "a"
   ]
  },
  {
   "cell_type": "code",
   "execution_count": 88,
   "id": "a9821f54",
   "metadata": {},
   "outputs": [],
   "source": [
    "# DELETE"
   ]
  },
  {
   "cell_type": "code",
   "execution_count": 89,
   "id": "96cdb3e5",
   "metadata": {},
   "outputs": [],
   "source": [
    "a = [10, 20, 30, 40, 50, 60]"
   ]
  },
  {
   "cell_type": "code",
   "execution_count": 90,
   "id": "17f7a6ff",
   "metadata": {},
   "outputs": [],
   "source": [
    "# 1. Delete by index -> list.pop(index)"
   ]
  },
  {
   "cell_type": "code",
   "execution_count": 91,
   "id": "72a43ae3",
   "metadata": {},
   "outputs": [
    {
     "data": {
      "text/plain": [
       "30"
      ]
     },
     "execution_count": 91,
     "metadata": {},
     "output_type": "execute_result"
    }
   ],
   "source": [
    "a.pop(2)"
   ]
  },
  {
   "cell_type": "code",
   "execution_count": 92,
   "id": "6ad54bb3",
   "metadata": {},
   "outputs": [
    {
     "data": {
      "text/plain": [
       "[10, 20, 40, 50, 60]"
      ]
     },
     "execution_count": 92,
     "metadata": {},
     "output_type": "execute_result"
    }
   ],
   "source": [
    "a"
   ]
  },
  {
   "cell_type": "code",
   "execution_count": 93,
   "id": "11675b8f",
   "metadata": {},
   "outputs": [
    {
     "data": {
      "text/plain": [
       "60"
      ]
     },
     "execution_count": 93,
     "metadata": {},
     "output_type": "execute_result"
    }
   ],
   "source": [
    "a.pop() # Automatically deletes the last element"
   ]
  },
  {
   "cell_type": "code",
   "execution_count": 94,
   "id": "e3ed8773",
   "metadata": {},
   "outputs": [
    {
     "data": {
      "text/plain": [
       "[10, 20, 40, 50]"
      ]
     },
     "execution_count": 94,
     "metadata": {},
     "output_type": "execute_result"
    }
   ],
   "source": [
    "a"
   ]
  },
  {
   "cell_type": "code",
   "execution_count": 95,
   "id": "00884c67",
   "metadata": {},
   "outputs": [],
   "source": [
    "# 2. Delete by value -> list.remove(value)"
   ]
  },
  {
   "cell_type": "code",
   "execution_count": 97,
   "id": "6ce27aa1",
   "metadata": {},
   "outputs": [],
   "source": [
    "a = [10, 20, 30, 40, 50, 60]"
   ]
  },
  {
   "cell_type": "code",
   "execution_count": 98,
   "id": "9167bad4",
   "metadata": {},
   "outputs": [],
   "source": [
    "a.remove(40)"
   ]
  },
  {
   "cell_type": "code",
   "execution_count": 99,
   "id": "2d9257fe",
   "metadata": {},
   "outputs": [
    {
     "data": {
      "text/plain": [
       "[10, 20, 30, 50, 60]"
      ]
     },
     "execution_count": 99,
     "metadata": {},
     "output_type": "execute_result"
    }
   ],
   "source": [
    "a"
   ]
  },
  {
   "cell_type": "code",
   "execution_count": 100,
   "id": "a6980620",
   "metadata": {},
   "outputs": [
    {
     "ename": "ValueError",
     "evalue": "list.remove(x): x not in list",
     "output_type": "error",
     "traceback": [
      "\u001b[0;31m---------------------------------------------------------------------------\u001b[0m",
      "\u001b[0;31mValueError\u001b[0m                                Traceback (most recent call last)",
      "Cell \u001b[0;32mIn[100], line 1\u001b[0m\n\u001b[0;32m----> 1\u001b[0m \u001b[43ma\u001b[49m\u001b[38;5;241;43m.\u001b[39;49m\u001b[43mremove\u001b[49m\u001b[43m(\u001b[49m\u001b[38;5;241;43m100\u001b[39;49m\u001b[43m)\u001b[49m\n",
      "\u001b[0;31mValueError\u001b[0m: list.remove(x): x not in list"
     ]
    }
   ],
   "source": [
    "a.remove(100)"
   ]
  },
  {
   "cell_type": "code",
   "execution_count": 101,
   "id": "49d7e4cd",
   "metadata": {},
   "outputs": [],
   "source": [
    "a = [10, 20, 30, 40, 50, 40, 60, 40]"
   ]
  },
  {
   "cell_type": "code",
   "execution_count": 104,
   "id": "9186ddb0",
   "metadata": {},
   "outputs": [],
   "source": [
    "a.remove(40) # remove only deletes the first instance of a repeated value"
   ]
  },
  {
   "cell_type": "code",
   "execution_count": 103,
   "id": "7653384d",
   "metadata": {},
   "outputs": [
    {
     "data": {
      "text/plain": [
       "[10, 20, 30, 50, 40, 60, 40]"
      ]
     },
     "execution_count": 103,
     "metadata": {},
     "output_type": "execute_result"
    }
   ],
   "source": [
    "a"
   ]
  },
  {
   "cell_type": "code",
   "execution_count": 107,
   "id": "c8dd5dc8",
   "metadata": {},
   "outputs": [
    {
     "data": {
      "text/plain": [
       "True"
      ]
     },
     "execution_count": 107,
     "metadata": {},
     "output_type": "execute_result"
    }
   ],
   "source": [
    "50 in a # MEMBERSHIP OPERATOR"
   ]
  },
  {
   "cell_type": "code",
   "execution_count": 106,
   "id": "43e13343",
   "metadata": {},
   "outputs": [
    {
     "data": {
      "text/plain": [
       "False"
      ]
     },
     "execution_count": 106,
     "metadata": {},
     "output_type": "execute_result"
    }
   ],
   "source": [
    "100 in a"
   ]
  },
  {
   "cell_type": "code",
   "execution_count": 114,
   "id": "b901a541",
   "metadata": {},
   "outputs": [],
   "source": [
    "# ITERATION 1 -> Remove All\n",
    "\n",
    "def remove_all_1(a, target):\n",
    "    while True:\n",
    "        if target in a:\n",
    "            a.remove(target)\n",
    "            continue\n",
    "        \n",
    "        break\n",
    "        \n",
    "    return a"
   ]
  },
  {
   "cell_type": "code",
   "execution_count": 115,
   "id": "b0492c75",
   "metadata": {},
   "outputs": [],
   "source": [
    "a = [10, 20, 30, 40, 50, 40, 60, 40]"
   ]
  },
  {
   "cell_type": "code",
   "execution_count": 116,
   "id": "5b7f80aa",
   "metadata": {},
   "outputs": [
    {
     "data": {
      "text/plain": [
       "[10, 20, 30, 50, 60]"
      ]
     },
     "execution_count": 116,
     "metadata": {},
     "output_type": "execute_result"
    }
   ],
   "source": [
    "remove_all_1(a, 40)"
   ]
  },
  {
   "cell_type": "code",
   "execution_count": 117,
   "id": "368b3ef1",
   "metadata": {},
   "outputs": [],
   "source": [
    "# ITERATION 2 -> Remove All\n",
    "\n",
    "def remove_all_2(a, target):\n",
    "    while True:\n",
    "        if target not in a:\n",
    "            break\n",
    "            \n",
    "        a.remove(target)\n",
    "        \n",
    "    return a"
   ]
  },
  {
   "cell_type": "code",
   "execution_count": 118,
   "id": "6ccfabc3",
   "metadata": {},
   "outputs": [],
   "source": [
    "a = [10, 20, 30, 40, 50, 40, 60, 40]"
   ]
  },
  {
   "cell_type": "code",
   "execution_count": 119,
   "id": "a99cf1f8",
   "metadata": {},
   "outputs": [
    {
     "data": {
      "text/plain": [
       "[10, 20, 30, 50, 60]"
      ]
     },
     "execution_count": 119,
     "metadata": {},
     "output_type": "execute_result"
    }
   ],
   "source": [
    "remove_all_2(a, 40)"
   ]
  },
  {
   "cell_type": "code",
   "execution_count": 120,
   "id": "f9587a71",
   "metadata": {},
   "outputs": [],
   "source": [
    "# ITERATION 3 -> Remove All\n",
    "\n",
    "def remove_all_3(a, target):\n",
    "    while target in a:\n",
    "        a.remove(target)\n",
    "        \n",
    "    return a"
   ]
  },
  {
   "cell_type": "code",
   "execution_count": 121,
   "id": "ebadd848",
   "metadata": {},
   "outputs": [],
   "source": [
    "a = [10, 20, 30, 40, 50, 40, 60, 40]"
   ]
  },
  {
   "cell_type": "code",
   "execution_count": 122,
   "id": "03ef51c5",
   "metadata": {},
   "outputs": [
    {
     "data": {
      "text/plain": [
       "[10, 20, 30, 50, 60]"
      ]
     },
     "execution_count": 122,
     "metadata": {},
     "output_type": "execute_result"
    }
   ],
   "source": [
    "remove_all_3(a, 40)"
   ]
  },
  {
   "cell_type": "code",
   "execution_count": 123,
   "id": "ca1c0361",
   "metadata": {},
   "outputs": [],
   "source": [
    "# LISTS ARE HETEROGENEOUS"
   ]
  },
  {
   "cell_type": "code",
   "execution_count": 125,
   "id": "e9bbf75f",
   "metadata": {},
   "outputs": [],
   "source": [
    "a = [\"bipin\", 4.5, -9, True, [1,2,3,4]] # VALID LIST"
   ]
  },
  {
   "cell_type": "code",
   "execution_count": 129,
   "id": "4fd3fc41",
   "metadata": {},
   "outputs": [
    {
     "data": {
      "text/plain": [
       "[1, 2, 3, 4]"
      ]
     },
     "execution_count": 129,
     "metadata": {},
     "output_type": "execute_result"
    }
   ],
   "source": [
    "a[-1]"
   ]
  },
  {
   "cell_type": "code",
   "execution_count": 127,
   "id": "8ee776d9",
   "metadata": {},
   "outputs": [
    {
     "data": {
      "text/plain": [
       "'bipin'"
      ]
     },
     "execution_count": 127,
     "metadata": {},
     "output_type": "execute_result"
    }
   ],
   "source": [
    "a[0]"
   ]
  },
  {
   "cell_type": "code",
   "execution_count": null,
   "id": "f4de1a22",
   "metadata": {},
   "outputs": [],
   "source": []
  }
 ],
 "metadata": {
  "kernelspec": {
   "display_name": "Python 3 (ipykernel)",
   "language": "python",
   "name": "python3"
  },
  "language_info": {
   "codemirror_mode": {
    "name": "ipython",
    "version": 3
   },
   "file_extension": ".py",
   "mimetype": "text/x-python",
   "name": "python",
   "nbconvert_exporter": "python",
   "pygments_lexer": "ipython3",
   "version": "3.9.5"
  }
 },
 "nbformat": 4,
 "nbformat_minor": 5
}
