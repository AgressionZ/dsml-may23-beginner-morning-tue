{
 "cells": [
  {
   "cell_type": "code",
   "execution_count": 1,
   "id": "ac61ccf9",
   "metadata": {},
   "outputs": [
    {
     "name": "stdout",
     "output_type": "stream",
     "text": [
      "0\n",
      "1\n",
      "2\n",
      "3\n",
      "4\n"
     ]
    }
   ],
   "source": [
    "print(\"0\")\n",
    "\n",
    "if 50 > 40:\n",
    "    print(\"1\")\n",
    "    print(\"2\")\n",
    "    print(\"3\")\n",
    "\n",
    "print(\"4\")"
   ]
  },
  {
   "cell_type": "code",
   "execution_count": 2,
   "id": "b657bf54",
   "metadata": {},
   "outputs": [
    {
     "name": "stdout",
     "output_type": "stream",
     "text": [
      "0\n",
      "4\n"
     ]
    }
   ],
   "source": [
    "print(\"0\")\n",
    "\n",
    "if 50 < 40:\n",
    "    print(\"1\")\n",
    "    print(\"2\")\n",
    "    print(\"3\")\n",
    "\n",
    "print(\"4\")"
   ]
  },
  {
   "cell_type": "code",
   "execution_count": 3,
   "id": "7203b0e2",
   "metadata": {},
   "outputs": [
    {
     "data": {
      "text/plain": [
       "'\\nLINES BEFORE THE IF-ELSE BLOCK WILL ALWAYS EXECUTE.\\n\\nif <condition>:\\n    IF BLOCK EXECUTES IF THE CONDITION IS TRUE.\\n    SECOND LINE.\\n    THIRD LINE.\\nelse:\\n    ELSE BLOCK EXECUTES IF THE CONDITION IS FALSE.\\n    SECOND LINE.\\n    THIRD LINE.\\n\\nLINES AFTER THE IF-ELSE BLOCK WILL ALWAYS EXECUTE.\\n'"
      ]
     },
     "execution_count": 3,
     "metadata": {},
     "output_type": "execute_result"
    }
   ],
   "source": [
    "'''\n",
    "LINES BEFORE THE IF-ELSE BLOCK WILL ALWAYS EXECUTE.\n",
    "\n",
    "if <condition>:\n",
    "    IF BLOCK EXECUTES IF THE CONDITION IS TRUE.\n",
    "    SECOND LINE.\n",
    "    THIRD LINE.\n",
    "else:\n",
    "    ELSE BLOCK EXECUTES IF THE CONDITION IS FALSE.\n",
    "    SECOND LINE.\n",
    "    THIRD LINE.\n",
    "\n",
    "LINES AFTER THE IF-ELSE BLOCK WILL ALWAYS EXECUTE.\n",
    "'''"
   ]
  },
  {
   "cell_type": "code",
   "execution_count": 4,
   "id": "3b1be92a",
   "metadata": {},
   "outputs": [
    {
     "data": {
      "text/plain": [
       "'\\nQuestion 1 - \\n1. Take an integer as input from the user.\\n2. Calculate cube of the input.\\n3. If result > 50 print \"Massive Number\" else print \"Small Number\".\\n4. After this, print \"EXECUTION COMPLETE!\"\\n'"
      ]
     },
     "execution_count": 4,
     "metadata": {},
     "output_type": "execute_result"
    }
   ],
   "source": [
    "'''\n",
    "Question 1 - \n",
    "1. Take an integer as input from the user.\n",
    "2. Calculate cube of the input.\n",
    "3. If result > 50 print \"Massive Number\" else print \"Small Number\".\n",
    "4. After this, print \"EXECUTION COMPLETE!\"\n",
    "'''"
   ]
  },
  {
   "cell_type": "code",
   "execution_count": 6,
   "id": "a304531d",
   "metadata": {},
   "outputs": [
    {
     "name": "stdout",
     "output_type": "stream",
     "text": [
      "3\n",
      "Small Number!\n",
      "EXECUTION COMPLETE!\n"
     ]
    }
   ],
   "source": [
    "n = int(input())\n",
    "\n",
    "result = n ** 3\n",
    "\n",
    "if result > 50:\n",
    "    print(\"Massive Number!\")\n",
    "else:\n",
    "    print(\"Small Number!\")\n",
    "\n",
    "print(\"EXECUTION COMPLETE!\")"
   ]
  },
  {
   "cell_type": "code",
   "execution_count": 7,
   "id": "375a511b",
   "metadata": {},
   "outputs": [
    {
     "data": {
      "text/plain": [
       "'\\nQuestion 2 -\\n1. Take a password as input from User.\\n2. Take another input to verify password.\\n3. Print \"Successfully Verified!\" if both passwords are same.\\n4. Print \"Verification Failed!\" otherwise.\\n'"
      ]
     },
     "execution_count": 7,
     "metadata": {},
     "output_type": "execute_result"
    }
   ],
   "source": [
    "'''\n",
    "Question 2 -\n",
    "1. Take a password as input from User.\n",
    "2. Take another input to verify password.\n",
    "3. Print \"Successfully Verified!\" if both passwords are same.\n",
    "4. Print \"Verification Failed!\" otherwise.\n",
    "'''"
   ]
  },
  {
   "cell_type": "code",
   "execution_count": 9,
   "id": "ed420108",
   "metadata": {},
   "outputs": [
    {
     "name": "stdout",
     "output_type": "stream",
     "text": [
      "Enter your password - password\n",
      "Enter your password again - random123\n",
      "Verification Failed!\n"
     ]
    }
   ],
   "source": [
    "password_1 = input(\"Enter your password - \")\n",
    "password_2 = input(\"Enter your password again - \")\n",
    "\n",
    "if password_1 == password_2:\n",
    "    print(\"Successfully Verified!\")\n",
    "else:\n",
    "    print(\"Verification Failed!\")"
   ]
  },
  {
   "cell_type": "code",
   "execution_count": 11,
   "id": "bd8f0186",
   "metadata": {},
   "outputs": [
    {
     "name": "stdout",
     "output_type": "stream",
     "text": [
      "14\n",
      "Good Afternoon :|\n"
     ]
    }
   ],
   "source": [
    "time = int(input())\n",
    "\n",
    "if time > 9 and time <= 12:\n",
    "    print(\"Good Morning :)\")\n",
    "else:\n",
    "    if time > 12 and time <= 17:\n",
    "        print(\"Good Afternoon :|\")\n",
    "    else:\n",
    "        if time > 17 and time <= 20:\n",
    "            print(\"Good Evening :(\")\n",
    "        else:\n",
    "            print(\"Good Night >:(\")"
   ]
  },
  {
   "cell_type": "code",
   "execution_count": 13,
   "id": "1c71af73",
   "metadata": {},
   "outputs": [
    {
     "name": "stdout",
     "output_type": "stream",
     "text": [
      "14\n",
      "Good Afternoon :)\n"
     ]
    }
   ],
   "source": [
    "time = int(input())\n",
    "\n",
    "if time > 9 and time <= 12:\n",
    "    print(\"Good Morning :)\")\n",
    "elif time > 12 and time <= 17:\n",
    "    print(\"Good Afternoon :)\")\n",
    "elif time > 17 and time <= 20:\n",
    "    print(\"Good Evening :)\")\n",
    "else:\n",
    "    print(\"Good Night :)\")"
   ]
  },
  {
   "cell_type": "markdown",
   "id": "6464c9de",
   "metadata": {},
   "source": [
    "# PRACTICE, PRACTICE and PRACTICE!"
   ]
  },
  {
   "cell_type": "code",
   "execution_count": 14,
   "id": "8029bd15",
   "metadata": {},
   "outputs": [
    {
     "data": {
      "text/plain": [
       "'\\nQuestion 3 - \\n1. Take an integer as input from the user.\\n2. Print whether it is positive or not.\\n3. If it is zero, print \"ZERO\"\\n'"
      ]
     },
     "execution_count": 14,
     "metadata": {},
     "output_type": "execute_result"
    }
   ],
   "source": [
    "'''\n",
    "Question 3 - \n",
    "1. Take an integer as input from the user.\n",
    "2. Print whether it is positive or not.\n",
    "3. If it is zero, print \"ZERO\"\n",
    "'''"
   ]
  },
  {
   "cell_type": "code",
   "execution_count": 18,
   "id": "ef7a1bbf",
   "metadata": {},
   "outputs": [
    {
     "name": "stdout",
     "output_type": "stream",
     "text": [
      "-5\n",
      "Negative\n"
     ]
    }
   ],
   "source": [
    "number = int(input())\n",
    "\n",
    "if number > 0:\n",
    "    print(\"Positive\")\n",
    "elif number == 0:\n",
    "    print(\"Zero\")\n",
    "else:\n",
    "    print(\"Negative\")"
   ]
  },
  {
   "cell_type": "code",
   "execution_count": null,
   "id": "7ff00fa2",
   "metadata": {},
   "outputs": [],
   "source": [
    "'''\n",
    "Question 4 - \n",
    "Take a non-negative single digit positive number as input.\n",
    "If num**5%50+20-6 is > 15\n",
    "then print(\"BLACK\") else print(\"BLUE\").\n",
    "\n",
    "Note - Reject any inputs which are not single digit or positive. Print \"Invalid Input!\"\n",
    "'''"
   ]
  }
 ],
 "metadata": {
  "kernelspec": {
   "display_name": "Python 3 (ipykernel)",
   "language": "python",
   "name": "python3"
  },
  "language_info": {
   "codemirror_mode": {
    "name": "ipython",
    "version": 3
   },
   "file_extension": ".py",
   "mimetype": "text/x-python",
   "name": "python",
   "nbconvert_exporter": "python",
   "pygments_lexer": "ipython3",
   "version": "3.9.5"
  }
 },
 "nbformat": 4,
 "nbformat_minor": 5
}
