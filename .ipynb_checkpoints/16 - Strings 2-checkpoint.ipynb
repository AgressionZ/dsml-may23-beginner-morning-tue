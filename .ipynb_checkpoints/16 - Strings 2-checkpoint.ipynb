{
 "cells": [
  {
   "cell_type": "code",
   "execution_count": 1,
   "id": "9d1ca6a1",
   "metadata": {},
   "outputs": [],
   "source": [
    "# 1. SPLIT"
   ]
  },
  {
   "cell_type": "code",
   "execution_count": 2,
   "id": "e4919727",
   "metadata": {},
   "outputs": [],
   "source": [
    "a = \"a string with a few words separated by space.\""
   ]
  },
  {
   "cell_type": "code",
   "execution_count": 3,
   "id": "78d354e7",
   "metadata": {},
   "outputs": [
    {
     "data": {
      "text/plain": [
       "['a', 'string', 'with', 'a', 'few', 'words', 'separated', 'by', 'space.']"
      ]
     },
     "execution_count": 3,
     "metadata": {},
     "output_type": "execute_result"
    }
   ],
   "source": [
    "a.split(\" \") # A delimiter is provided as an argument"
   ]
  },
  {
   "cell_type": "code",
   "execution_count": 4,
   "id": "e56ffbf5",
   "metadata": {},
   "outputs": [
    {
     "data": {
      "text/plain": [
       "['a ', 'tring with a few word', ' ', 'eparated by ', 'pace.']"
      ]
     },
     "execution_count": 4,
     "metadata": {},
     "output_type": "execute_result"
    }
   ],
   "source": [
    "a.split(\"s\")"
   ]
  },
  {
   "cell_type": "code",
   "execution_count": 5,
   "id": "4d5563f6",
   "metadata": {},
   "outputs": [],
   "source": [
    "a = \"this+is+random\""
   ]
  },
  {
   "cell_type": "code",
   "execution_count": 6,
   "id": "cfabb05d",
   "metadata": {},
   "outputs": [
    {
     "data": {
      "text/plain": [
       "['this', 'is', 'random']"
      ]
     },
     "execution_count": 6,
     "metadata": {},
     "output_type": "execute_result"
    }
   ],
   "source": [
    "a.split(\"+\")"
   ]
  },
  {
   "cell_type": "code",
   "execution_count": 7,
   "id": "35015c5d",
   "metadata": {},
   "outputs": [],
   "source": [
    "a = \"thisRANDOMisRANDOMveryRANDOMrandom!\""
   ]
  },
  {
   "cell_type": "code",
   "execution_count": 8,
   "id": "db5055df",
   "metadata": {},
   "outputs": [
    {
     "data": {
      "text/plain": [
       "['this', 'is', 'very', 'random!']"
      ]
     },
     "execution_count": 8,
     "metadata": {},
     "output_type": "execute_result"
    }
   ],
   "source": [
    "a.split(\"RANDOM\")"
   ]
  },
  {
   "cell_type": "code",
   "execution_count": 9,
   "id": "f2860a00",
   "metadata": {},
   "outputs": [],
   "source": [
    "csv = \"1,2,3,4,5,6,7,8,9,10\""
   ]
  },
  {
   "cell_type": "code",
   "execution_count": 10,
   "id": "24f5d764",
   "metadata": {},
   "outputs": [],
   "source": [
    "data = csv.split(\",\")"
   ]
  },
  {
   "cell_type": "code",
   "execution_count": 11,
   "id": "7e65b63e",
   "metadata": {},
   "outputs": [
    {
     "data": {
      "text/plain": [
       "['1', '2', '3', '4', '5', '6', '7', '8', '9', '10']"
      ]
     },
     "execution_count": 11,
     "metadata": {},
     "output_type": "execute_result"
    }
   ],
   "source": [
    "data"
   ]
  },
  {
   "cell_type": "code",
   "execution_count": 12,
   "id": "3f31aaae",
   "metadata": {},
   "outputs": [],
   "source": [
    "final_data = []\n",
    "\n",
    "for i in data:\n",
    "    final_data.append(int(i))"
   ]
  },
  {
   "cell_type": "code",
   "execution_count": 13,
   "id": "dc85c9ed",
   "metadata": {},
   "outputs": [
    {
     "data": {
      "text/plain": [
       "[1, 2, 3, 4, 5, 6, 7, 8, 9, 10]"
      ]
     },
     "execution_count": 13,
     "metadata": {},
     "output_type": "execute_result"
    }
   ],
   "source": [
    "final_data"
   ]
  },
  {
   "cell_type": "code",
   "execution_count": 14,
   "id": "75054efb",
   "metadata": {},
   "outputs": [],
   "source": [
    "# 2. JOIN"
   ]
  },
  {
   "cell_type": "code",
   "execution_count": 15,
   "id": "6e31ead0",
   "metadata": {},
   "outputs": [
    {
     "data": {
      "text/plain": [
       "'\\nUsing split,\\nwe split a string into a list of strings, delimited at a character(s).\\n\\nUsing join,\\nwe join a list of strings into one string using a joining character(s).\\n'"
      ]
     },
     "execution_count": 15,
     "metadata": {},
     "output_type": "execute_result"
    }
   ],
   "source": [
    "'''\n",
    "Using split,\n",
    "we split a string into a list of strings, delimited at a character(s).\n",
    "\n",
    "Using join,\n",
    "we join a list of strings into one string using a joining character(s).\n",
    "'''"
   ]
  },
  {
   "cell_type": "code",
   "execution_count": 16,
   "id": "919aa0da",
   "metadata": {},
   "outputs": [],
   "source": [
    "a = ['a', 'string', 'with', 'a', 'few', 'words', 'separated', 'by', 'space.']"
   ]
  },
  {
   "cell_type": "code",
   "execution_count": 17,
   "id": "751834aa",
   "metadata": {},
   "outputs": [
    {
     "data": {
      "text/plain": [
       "['a', 'string', 'with', 'a', 'few', 'words', 'separated', 'by', 'space.']"
      ]
     },
     "execution_count": 17,
     "metadata": {},
     "output_type": "execute_result"
    }
   ],
   "source": [
    "a"
   ]
  },
  {
   "cell_type": "code",
   "execution_count": 18,
   "id": "1fe6bfe4",
   "metadata": {},
   "outputs": [
    {
     "data": {
      "text/plain": [
       "'a string with a few words separated by space.'"
      ]
     },
     "execution_count": 18,
     "metadata": {},
     "output_type": "execute_result"
    }
   ],
   "source": [
    "\" \".join(a) # \"delimter\".join(list_of_strings)"
   ]
  },
  {
   "cell_type": "code",
   "execution_count": 19,
   "id": "040ded11",
   "metadata": {},
   "outputs": [
    {
     "data": {
      "text/plain": [
       "'a_+_string_+_with_+_a_+_few_+_words_+_separated_+_by_+_space.'"
      ]
     },
     "execution_count": 19,
     "metadata": {},
     "output_type": "execute_result"
    }
   ],
   "source": [
    "\"_+_\".join(a)"
   ]
  },
  {
   "cell_type": "code",
   "execution_count": 20,
   "id": "b07d7b31",
   "metadata": {},
   "outputs": [],
   "source": [
    "a = [\"random\", 23, 5.6, True]"
   ]
  },
  {
   "cell_type": "code",
   "execution_count": 21,
   "id": "afb8545d",
   "metadata": {},
   "outputs": [
    {
     "ename": "TypeError",
     "evalue": "sequence item 1: expected str instance, int found",
     "output_type": "error",
     "traceback": [
      "\u001b[0;31m---------------------------------------------------------------------------\u001b[0m",
      "\u001b[0;31mTypeError\u001b[0m                                 Traceback (most recent call last)",
      "Cell \u001b[0;32mIn[21], line 1\u001b[0m\n\u001b[0;32m----> 1\u001b[0m \u001b[38;5;124;43m\"\u001b[39;49m\u001b[38;5;124;43m \u001b[39;49m\u001b[38;5;124;43m\"\u001b[39;49m\u001b[38;5;241;43m.\u001b[39;49m\u001b[43mjoin\u001b[49m\u001b[43m(\u001b[49m\u001b[43ma\u001b[49m\u001b[43m)\u001b[49m\n",
      "\u001b[0;31mTypeError\u001b[0m: sequence item 1: expected str instance, int found"
     ]
    }
   ],
   "source": [
    "\" \".join(a)"
   ]
  },
  {
   "cell_type": "code",
   "execution_count": 23,
   "id": "bbd25659",
   "metadata": {},
   "outputs": [],
   "source": [
    "def custom_join(list_of_strings, delimiter):\n",
    "    result = \"\"\n",
    "    \n",
    "    for string in list_of_strings:\n",
    "        print(string)"
   ]
  },
  {
   "cell_type": "code",
   "execution_count": null,
   "id": "15f4add1",
   "metadata": {},
   "outputs": [],
   "source": []
  }
 ],
 "metadata": {
  "kernelspec": {
   "display_name": "Python 3 (ipykernel)",
   "language": "python",
   "name": "python3"
  },
  "language_info": {
   "codemirror_mode": {
    "name": "ipython",
    "version": 3
   },
   "file_extension": ".py",
   "mimetype": "text/x-python",
   "name": "python",
   "nbconvert_exporter": "python",
   "pygments_lexer": "ipython3",
   "version": "3.9.5"
  }
 },
 "nbformat": 4,
 "nbformat_minor": 5
}
