{
 "cells": [
  {
   "cell_type": "code",
   "execution_count": 1,
   "id": "5cb84c88",
   "metadata": {},
   "outputs": [
    {
     "name": "stdout",
     "output_type": "stream",
     "text": [
      "213456789823456789091234567893234567890987654323456789876543\n"
     ]
    }
   ],
   "source": [
    "print(213456789823456789091234567893234567890987654323456789876543)"
   ]
  },
  {
   "cell_type": "code",
   "execution_count": 2,
   "id": "bb2572ab",
   "metadata": {},
   "outputs": [
    {
     "name": "stdout",
     "output_type": "stream",
     "text": [
      "4.234567898765432\n"
     ]
    }
   ],
   "source": [
    "print(4.2345678987654323456789)"
   ]
  },
  {
   "cell_type": "code",
   "execution_count": 3,
   "id": "07e8c050",
   "metadata": {},
   "outputs": [
    {
     "name": "stdout",
     "output_type": "stream",
     "text": [
      "True\n"
     ]
    }
   ],
   "source": [
    "print(True)"
   ]
  },
  {
   "cell_type": "code",
   "execution_count": 4,
   "id": "f431af82",
   "metadata": {},
   "outputs": [
    {
     "name": "stdout",
     "output_type": "stream",
     "text": [
      "False\n"
     ]
    }
   ],
   "source": [
    "print(False)"
   ]
  },
  {
   "cell_type": "code",
   "execution_count": 7,
   "id": "854d2859",
   "metadata": {},
   "outputs": [
    {
     "name": "stdout",
     "output_type": "stream",
     "text": [
      "Both double quotes!\n"
     ]
    }
   ],
   "source": [
    "print(\"Both double quotes!\")"
   ]
  },
  {
   "cell_type": "code",
   "execution_count": 8,
   "id": "6ccaad70",
   "metadata": {},
   "outputs": [
    {
     "name": "stdout",
     "output_type": "stream",
     "text": [
      "Both single quotes!\n"
     ]
    }
   ],
   "source": [
    "print('Both single quotes!')"
   ]
  },
  {
   "cell_type": "code",
   "execution_count": 10,
   "id": "504c5d1b",
   "metadata": {},
   "outputs": [
    {
     "ename": "SyntaxError",
     "evalue": "EOL while scanning string literal (2495642679.py, line 1)",
     "output_type": "error",
     "traceback": [
      "\u001b[0;36m  Cell \u001b[0;32mIn[10], line 1\u001b[0;36m\u001b[0m\n\u001b[0;31m    print(\"This is not okay!')\u001b[0m\n\u001b[0m                              ^\u001b[0m\n\u001b[0;31mSyntaxError\u001b[0m\u001b[0;31m:\u001b[0m EOL while scanning string literal\n"
     ]
    }
   ],
   "source": [
    "print(\"This is not okay!')\n",
    "      \n",
    "# COMBINATION OF DOUBLE AND SINGLE QUOTE IS NOT ALLOWED!"
   ]
  },
  {
   "cell_type": "code",
   "execution_count": 11,
   "id": "36b98fa8",
   "metadata": {},
   "outputs": [
    {
     "name": "stdout",
     "output_type": "stream",
     "text": [
      "(4+6j)\n"
     ]
    }
   ],
   "source": [
    "print(4 + 6j)"
   ]
  },
  {
   "cell_type": "code",
   "execution_count": 12,
   "id": "7f6d4ebc",
   "metadata": {},
   "outputs": [
    {
     "name": "stdout",
     "output_type": "stream",
     "text": [
      "None\n"
     ]
    }
   ],
   "source": [
    "print(None)"
   ]
  },
  {
   "cell_type": "code",
   "execution_count": 13,
   "id": "b4c139a3",
   "metadata": {},
   "outputs": [
    {
     "name": "stdout",
     "output_type": "stream",
     "text": [
      "<class 'int'>\n"
     ]
    }
   ],
   "source": [
    "print(type(5))"
   ]
  },
  {
   "cell_type": "code",
   "execution_count": 14,
   "id": "080d7ac0",
   "metadata": {},
   "outputs": [
    {
     "name": "stdout",
     "output_type": "stream",
     "text": [
      "<class 'float'>\n"
     ]
    }
   ],
   "source": [
    "print(type(5.0))"
   ]
  },
  {
   "cell_type": "code",
   "execution_count": 15,
   "id": "a0de6266",
   "metadata": {},
   "outputs": [
    {
     "name": "stdout",
     "output_type": "stream",
     "text": [
      "<class 'str'>\n"
     ]
    }
   ],
   "source": [
    "print(type(\"What type am i?\"))"
   ]
  },
  {
   "cell_type": "code",
   "execution_count": 16,
   "id": "2d2ac05f",
   "metadata": {},
   "outputs": [
    {
     "ename": "NameError",
     "evalue": "name 'false' is not defined",
     "output_type": "error",
     "traceback": [
      "\u001b[0;31m---------------------------------------------------------------------------\u001b[0m",
      "\u001b[0;31mNameError\u001b[0m                                 Traceback (most recent call last)",
      "Cell \u001b[0;32mIn[16], line 1\u001b[0m\n\u001b[0;32m----> 1\u001b[0m \u001b[38;5;28mprint\u001b[39m(\u001b[38;5;28mtype\u001b[39m(\u001b[43mfalse\u001b[49m))\n",
      "\u001b[0;31mNameError\u001b[0m: name 'false' is not defined"
     ]
    }
   ],
   "source": [
    "print(type(false))"
   ]
  },
  {
   "cell_type": "code",
   "execution_count": 17,
   "id": "5b1e149f",
   "metadata": {},
   "outputs": [
    {
     "ename": "NameError",
     "evalue": "name 'Type' is not defined",
     "output_type": "error",
     "traceback": [
      "\u001b[0;31m---------------------------------------------------------------------------\u001b[0m",
      "\u001b[0;31mNameError\u001b[0m                                 Traceback (most recent call last)",
      "Cell \u001b[0;32mIn[17], line 1\u001b[0m\n\u001b[0;32m----> 1\u001b[0m \u001b[38;5;28mprint\u001b[39m(\u001b[43mType\u001b[49m(\u001b[38;5;28;01mTrue\u001b[39;00m))\n",
      "\u001b[0;31mNameError\u001b[0m: name 'Type' is not defined"
     ]
    }
   ],
   "source": [
    "print(Type(True))"
   ]
  },
  {
   "cell_type": "code",
   "execution_count": 18,
   "id": "a95501d4",
   "metadata": {},
   "outputs": [
    {
     "name": "stdout",
     "output_type": "stream",
     "text": [
      "<class 'bool'>\n"
     ]
    }
   ],
   "source": [
    "print(type(True))"
   ]
  },
  {
   "cell_type": "code",
   "execution_count": 19,
   "id": "2000e3bd",
   "metadata": {},
   "outputs": [
    {
     "name": "stdout",
     "output_type": "stream",
     "text": [
      "<class 'complex'>\n"
     ]
    }
   ],
   "source": [
    "print(type(6+4j))"
   ]
  },
  {
   "cell_type": "code",
   "execution_count": 20,
   "id": "e08e9388",
   "metadata": {},
   "outputs": [],
   "source": [
    "x = 5 # Defining a variable"
   ]
  },
  {
   "cell_type": "code",
   "execution_count": 21,
   "id": "5fcfb8d1",
   "metadata": {},
   "outputs": [
    {
     "name": "stdout",
     "output_type": "stream",
     "text": [
      "5\n"
     ]
    }
   ],
   "source": [
    "print(x)"
   ]
  },
  {
   "cell_type": "code",
   "execution_count": 22,
   "id": "5cac0a63",
   "metadata": {},
   "outputs": [
    {
     "name": "stdout",
     "output_type": "stream",
     "text": [
      "<class 'int'>\n"
     ]
    }
   ],
   "source": [
    "print(type(x))"
   ]
  },
  {
   "cell_type": "code",
   "execution_count": 23,
   "id": "6eac2c78",
   "metadata": {},
   "outputs": [],
   "source": [
    "y = \"the variable can be any value!\""
   ]
  },
  {
   "cell_type": "code",
   "execution_count": 24,
   "id": "282138db",
   "metadata": {},
   "outputs": [
    {
     "name": "stdout",
     "output_type": "stream",
     "text": [
      "the variable can be any value!\n"
     ]
    }
   ],
   "source": [
    "print(y)"
   ]
  },
  {
   "cell_type": "code",
   "execution_count": 31,
   "id": "ce193440",
   "metadata": {},
   "outputs": [],
   "source": [
    "# There are 2 rules to creating variables in Python\n",
    "# 1. Variable name can only start with alphabets or _ (underscore)\n",
    "# 2. After the start, you can have any alphabet, number or _ in the name"
   ]
  },
  {
   "cell_type": "code",
   "execution_count": 32,
   "id": "3eccd763",
   "metadata": {},
   "outputs": [],
   "source": [
    "random = 123"
   ]
  },
  {
   "cell_type": "code",
   "execution_count": 33,
   "id": "76503795",
   "metadata": {},
   "outputs": [],
   "source": [
    "Random = 123"
   ]
  },
  {
   "cell_type": "code",
   "execution_count": 34,
   "id": "e4e1409a",
   "metadata": {},
   "outputs": [],
   "source": [
    "_random = 123"
   ]
  },
  {
   "cell_type": "code",
   "execution_count": 35,
   "id": "dd0fb0a5",
   "metadata": {},
   "outputs": [
    {
     "ename": "SyntaxError",
     "evalue": "invalid syntax (4121362097.py, line 1)",
     "output_type": "error",
     "traceback": [
      "\u001b[0;36m  Cell \u001b[0;32mIn[35], line 1\u001b[0;36m\u001b[0m\n\u001b[0;31m    123random = 123 # a number can't be the starting of a variable\u001b[0m\n\u001b[0m       ^\u001b[0m\n\u001b[0;31mSyntaxError\u001b[0m\u001b[0;31m:\u001b[0m invalid syntax\n"
     ]
    }
   ],
   "source": [
    "123random = 123 # a number can't be the starting of a variable"
   ]
  },
  {
   "cell_type": "code",
   "execution_count": 36,
   "id": "1e6124f9",
   "metadata": {},
   "outputs": [],
   "source": [
    "random123 = 123"
   ]
  },
  {
   "cell_type": "code",
   "execution_count": 37,
   "id": "103a4655",
   "metadata": {},
   "outputs": [],
   "source": [
    "random_123 = 123"
   ]
  },
  {
   "cell_type": "code",
   "execution_count": 38,
   "id": "66c86b76",
   "metadata": {},
   "outputs": [],
   "source": [
    "Random_something_123 = 123"
   ]
  },
  {
   "cell_type": "code",
   "execution_count": 39,
   "id": "1657be09",
   "metadata": {},
   "outputs": [
    {
     "ename": "SyntaxError",
     "evalue": "cannot assign to operator (1126065821.py, line 1)",
     "output_type": "error",
     "traceback": [
      "\u001b[0;36m  Cell \u001b[0;32mIn[39], line 1\u001b[0;36m\u001b[0m\n\u001b[0;31m    random@123 = 123\u001b[0m\n\u001b[0m    ^\u001b[0m\n\u001b[0;31mSyntaxError\u001b[0m\u001b[0;31m:\u001b[0m cannot assign to operator\n"
     ]
    }
   ],
   "source": [
    "random@123 = 123"
   ]
  },
  {
   "cell_type": "code",
   "execution_count": 41,
   "id": "1468ca96",
   "metadata": {},
   "outputs": [
    {
     "name": "stdout",
     "output_type": "stream",
     "text": [
      "56 6.7 random True\n"
     ]
    }
   ],
   "source": [
    "print(56,6.7,\"random\",True)"
   ]
  },
  {
   "cell_type": "code",
   "execution_count": 42,
   "id": "ead04608",
   "metadata": {},
   "outputs": [
    {
     "name": "stdout",
     "output_type": "stream",
     "text": [
      "56 + 6.7 + random + True\n"
     ]
    }
   ],
   "source": [
    "print(56,\"+\",6.7,\"+\",\"random\",\"+\",True)"
   ]
  },
  {
   "cell_type": "code",
   "execution_count": 44,
   "id": "10c6c29c",
   "metadata": {},
   "outputs": [
    {
     "name": "stdout",
     "output_type": "stream",
     "text": [
      "56+6.7+random+True\n"
     ]
    }
   ],
   "source": [
    "print(56, 6.7, \"random\", True, sep = \"+\")"
   ]
  },
  {
   "cell_type": "code",
   "execution_count": 45,
   "id": "ce9e0712",
   "metadata": {},
   "outputs": [
    {
     "name": "stdout",
     "output_type": "stream",
     "text": [
      "56     6.7     random     True\n"
     ]
    }
   ],
   "source": [
    "print(56, 6.7, \"random\", True, sep = \"     \")"
   ]
  },
  {
   "cell_type": "code",
   "execution_count": 46,
   "id": "3bc6a87a",
   "metadata": {},
   "outputs": [
    {
     "name": "stdout",
     "output_type": "stream",
     "text": [
      "56__+__6.7__+__random__+__True\n"
     ]
    }
   ],
   "source": [
    "print(56, 6.7, \"random\", True, sep = \"__+__\")"
   ]
  },
  {
   "cell_type": "code",
   "execution_count": 47,
   "id": "e53b0cae",
   "metadata": {},
   "outputs": [
    {
     "name": "stdout",
     "output_type": "stream",
     "text": [
      "56!RANDOM!6.7!RANDOM!random!RANDOM!True\n"
     ]
    }
   ],
   "source": [
    "print(56, 6.7, \"random\", True, sep = \"!RANDOM!\")"
   ]
  },
  {
   "cell_type": "code",
   "execution_count": 48,
   "id": "442738a8",
   "metadata": {},
   "outputs": [
    {
     "name": "stdout",
     "output_type": "stream",
     "text": [
      "566.7randomTrue\n"
     ]
    }
   ],
   "source": [
    "print(56, 6.7, \"random\", True, sep = \"\")"
   ]
  },
  {
   "cell_type": "code",
   "execution_count": 50,
   "id": "d95f451a",
   "metadata": {},
   "outputs": [
    {
     "name": "stdout",
     "output_type": "stream",
     "text": [
      "line 1\n",
      "line 2\n",
      "line 3\n"
     ]
    }
   ],
   "source": [
    "print(\"line 1\") # the default end character after print is \\n -> Enter / Next Line\n",
    "print(\"line 2\")\n",
    "print(\"line 3\")"
   ]
  },
  {
   "cell_type": "code",
   "execution_count": 53,
   "id": "47d7c189",
   "metadata": {},
   "outputs": [
    {
     "name": "stdout",
     "output_type": "stream",
     "text": [
      "line 1 - line 2\n",
      "line 3\n"
     ]
    }
   ],
   "source": [
    "print(\"line 1\", end = \" - \")\n",
    "print(\"line 2\") # This still ends with a \\n\n",
    "print(\"line 3\")"
   ]
  },
  {
   "cell_type": "code",
   "execution_count": 54,
   "id": "eef3efdd",
   "metadata": {},
   "outputs": [
    {
     "name": "stdout",
     "output_type": "stream",
     "text": [
      "1+2+3THIS IS THE END!4_5\n"
     ]
    }
   ],
   "source": [
    "print(1, 2, 3, sep = \"+\", end = \"THIS IS THE END!\")\n",
    "print(4, 5, sep = \"_\")"
   ]
  },
  {
   "cell_type": "code",
   "execution_count": 55,
   "id": "ac4cc066",
   "metadata": {},
   "outputs": [],
   "source": [
    "# DEFAULT VALUES\n",
    "# sep - \" \"\n",
    "# end - \"\\n\""
   ]
  },
  {
   "cell_type": "code",
   "execution_count": 56,
   "id": "7e20598c",
   "metadata": {},
   "outputs": [
    {
     "name": "stdout",
     "output_type": "stream",
     "text": [
      "1\n",
      "2\n",
      "3\n",
      "4\n",
      "5\n"
     ]
    }
   ],
   "source": [
    "print(1, 2, 3, 4, 5, sep = \"\\n\")"
   ]
  },
  {
   "cell_type": "code",
   "execution_count": 57,
   "id": "b9346a32",
   "metadata": {},
   "outputs": [],
   "source": [
    "x = 12345"
   ]
  },
  {
   "cell_type": "code",
   "execution_count": 58,
   "id": "f965fdac",
   "metadata": {},
   "outputs": [],
   "source": [
    "y = x"
   ]
  },
  {
   "cell_type": "code",
   "execution_count": 59,
   "id": "d262b955",
   "metadata": {},
   "outputs": [
    {
     "name": "stdout",
     "output_type": "stream",
     "text": [
      "12345\n"
     ]
    }
   ],
   "source": [
    "print(x)"
   ]
  },
  {
   "cell_type": "code",
   "execution_count": 60,
   "id": "2fe26726",
   "metadata": {},
   "outputs": [
    {
     "name": "stdout",
     "output_type": "stream",
     "text": [
      "12345\n"
     ]
    }
   ],
   "source": [
    "print(y)"
   ]
  },
  {
   "cell_type": "code",
   "execution_count": 61,
   "id": "d34f8c5c",
   "metadata": {},
   "outputs": [],
   "source": [
    "# TAKING USER INPUTS!"
   ]
  },
  {
   "cell_type": "code",
   "execution_count": 63,
   "id": "54cfa4e7",
   "metadata": {},
   "outputs": [
    {
     "name": "stdout",
     "output_type": "stream",
     "text": [
      "this is a user input!\n"
     ]
    }
   ],
   "source": [
    "any_variable_name = input()"
   ]
  },
  {
   "cell_type": "code",
   "execution_count": 66,
   "id": "6397142f",
   "metadata": {},
   "outputs": [
    {
     "name": "stdout",
     "output_type": "stream",
     "text": [
      "<class 'str'>\n"
     ]
    }
   ],
   "source": [
    "print(type(any_variable_name))"
   ]
  },
  {
   "cell_type": "code",
   "execution_count": 64,
   "id": "188aaead",
   "metadata": {},
   "outputs": [
    {
     "name": "stdout",
     "output_type": "stream",
     "text": [
      "this is a user input!\n"
     ]
    }
   ],
   "source": [
    "print(any_variable_name)"
   ]
  },
  {
   "cell_type": "code",
   "execution_count": 65,
   "id": "5ceb27e5",
   "metadata": {},
   "outputs": [
    {
     "name": "stdout",
     "output_type": "stream",
     "text": [
      "12345\n"
     ]
    }
   ],
   "source": [
    "num1 = input()"
   ]
  },
  {
   "cell_type": "code",
   "execution_count": 67,
   "id": "113e4054",
   "metadata": {},
   "outputs": [
    {
     "name": "stdout",
     "output_type": "stream",
     "text": [
      "<class 'str'>\n"
     ]
    }
   ],
   "source": [
    "print(type(num1))"
   ]
  },
  {
   "cell_type": "code",
   "execution_count": 68,
   "id": "9439aacd",
   "metadata": {},
   "outputs": [
    {
     "name": "stdout",
     "output_type": "stream",
     "text": [
      "10\n",
      "15\n",
      "1015\n"
     ]
    }
   ],
   "source": [
    "num1 = input()\n",
    "num2 = input()\n",
    "\n",
    "print(num1 + num2)"
   ]
  },
  {
   "cell_type": "code",
   "execution_count": 70,
   "id": "4f6d55d5",
   "metadata": {},
   "outputs": [
    {
     "name": "stdout",
     "output_type": "stream",
     "text": [
      "1015\n"
     ]
    }
   ],
   "source": [
    "print(\"10\" + \"15\")"
   ]
  },
  {
   "cell_type": "code",
   "execution_count": 71,
   "id": "bc76a08a",
   "metadata": {},
   "outputs": [],
   "source": [
    "x = \"12345\""
   ]
  },
  {
   "cell_type": "code",
   "execution_count": 72,
   "id": "ef731fcd",
   "metadata": {},
   "outputs": [],
   "source": [
    "x_int = int(x)"
   ]
  },
  {
   "cell_type": "code",
   "execution_count": 73,
   "id": "ff9d6e56",
   "metadata": {},
   "outputs": [
    {
     "name": "stdout",
     "output_type": "stream",
     "text": [
      "<class 'int'>\n"
     ]
    }
   ],
   "source": [
    "print(type(x_int))"
   ]
  },
  {
   "cell_type": "code",
   "execution_count": 74,
   "id": "bbf688f0",
   "metadata": {},
   "outputs": [],
   "source": [
    "x_float = float(x)"
   ]
  },
  {
   "cell_type": "code",
   "execution_count": 75,
   "id": "ba44461b",
   "metadata": {},
   "outputs": [
    {
     "name": "stdout",
     "output_type": "stream",
     "text": [
      "<class 'float'>\n"
     ]
    }
   ],
   "source": [
    "print(type(x_float))"
   ]
  },
  {
   "cell_type": "code",
   "execution_count": 76,
   "id": "00cceb7f",
   "metadata": {},
   "outputs": [
    {
     "name": "stdout",
     "output_type": "stream",
     "text": [
      "12345.0\n"
     ]
    }
   ],
   "source": [
    "print(x_float)"
   ]
  },
  {
   "cell_type": "code",
   "execution_count": 77,
   "id": "4b15acd0",
   "metadata": {},
   "outputs": [],
   "source": [
    "x = 12345"
   ]
  },
  {
   "cell_type": "code",
   "execution_count": 80,
   "id": "ff859425",
   "metadata": {},
   "outputs": [],
   "source": [
    "anything_random = str(x)"
   ]
  },
  {
   "cell_type": "code",
   "execution_count": 81,
   "id": "1fa3a24a",
   "metadata": {},
   "outputs": [
    {
     "name": "stdout",
     "output_type": "stream",
     "text": [
      "<class 'str'>\n"
     ]
    }
   ],
   "source": [
    "print(type(anything_random))"
   ]
  },
  {
   "cell_type": "code",
   "execution_count": 82,
   "id": "bd4060c7",
   "metadata": {},
   "outputs": [
    {
     "name": "stdout",
     "output_type": "stream",
     "text": [
      "10\n",
      "15\n",
      "25\n"
     ]
    }
   ],
   "source": [
    "num1 = int(input())\n",
    "num2 = int(input())\n",
    "\n",
    "print(num1 + num2)"
   ]
  },
  {
   "cell_type": "code",
   "execution_count": 83,
   "id": "97bce489",
   "metadata": {},
   "outputs": [
    {
     "name": "stdout",
     "output_type": "stream",
     "text": [
      "this is not an int!\n"
     ]
    },
    {
     "ename": "ValueError",
     "evalue": "invalid literal for int() with base 10: 'this is not an int!'",
     "output_type": "error",
     "traceback": [
      "\u001b[0;31m---------------------------------------------------------------------------\u001b[0m",
      "\u001b[0;31mValueError\u001b[0m                                Traceback (most recent call last)",
      "Cell \u001b[0;32mIn[83], line 1\u001b[0m\n\u001b[0;32m----> 1\u001b[0m num1 \u001b[38;5;241m=\u001b[39m \u001b[38;5;28;43mint\u001b[39;49m\u001b[43m(\u001b[49m\u001b[38;5;28;43minput\u001b[39;49m\u001b[43m(\u001b[49m\u001b[43m)\u001b[49m\u001b[43m)\u001b[49m\n\u001b[1;32m      2\u001b[0m num2 \u001b[38;5;241m=\u001b[39m \u001b[38;5;28mint\u001b[39m(\u001b[38;5;28minput\u001b[39m())\n\u001b[1;32m      4\u001b[0m \u001b[38;5;28mprint\u001b[39m(num1 \u001b[38;5;241m+\u001b[39m num2)\n",
      "\u001b[0;31mValueError\u001b[0m: invalid literal for int() with base 10: 'this is not an int!'"
     ]
    }
   ],
   "source": [
    "num1 = int(input())\n",
    "num2 = int(input())\n",
    "\n",
    "print(num1 + num2)"
   ]
  },
  {
   "cell_type": "code",
   "execution_count": 84,
   "id": "d452f41a",
   "metadata": {},
   "outputs": [
    {
     "name": "stdout",
     "output_type": "stream",
     "text": [
      "Please enter a valid integer - 15\n",
      "Please enter a valid integer - 10\n",
      "25\n"
     ]
    }
   ],
   "source": [
    "num1 = int(input(\"Please enter a valid integer - \"))\n",
    "num2 = int(input(\"Please enter a valid integer - \"))\n",
    "\n",
    "print(num1 + num2)"
   ]
  },
  {
   "cell_type": "code",
   "execution_count": 85,
   "id": "fa0ec516",
   "metadata": {},
   "outputs": [
    {
     "name": "stdout",
     "output_type": "stream",
     "text": [
      "whatever I provide is printed as well!\n"
     ]
    }
   ],
   "source": [
    "x = input()"
   ]
  },
  {
   "cell_type": "markdown",
   "id": "d78e2563",
   "metadata": {},
   "source": [
    "# OPERATORS"
   ]
  },
  {
   "cell_type": "code",
   "execution_count": 86,
   "id": "cc3ea0fa",
   "metadata": {},
   "outputs": [],
   "source": [
    "# ARITHMETIC OPERATORS!"
   ]
  },
  {
   "cell_type": "code",
   "execution_count": 87,
   "id": "e85fd3bd",
   "metadata": {},
   "outputs": [
    {
     "name": "stdout",
     "output_type": "stream",
     "text": [
      "15\n"
     ]
    }
   ],
   "source": [
    "print(10 + 5)"
   ]
  },
  {
   "cell_type": "code",
   "execution_count": 88,
   "id": "b183b528",
   "metadata": {},
   "outputs": [
    {
     "name": "stdout",
     "output_type": "stream",
     "text": [
      "5\n"
     ]
    }
   ],
   "source": [
    "print(10 - 5)"
   ]
  },
  {
   "cell_type": "code",
   "execution_count": 89,
   "id": "ec05cf65",
   "metadata": {},
   "outputs": [
    {
     "name": "stdout",
     "output_type": "stream",
     "text": [
      "50\n"
     ]
    }
   ],
   "source": [
    "print(10 * 5)"
   ]
  },
  {
   "cell_type": "code",
   "execution_count": 92,
   "id": "08c63176",
   "metadata": {},
   "outputs": [
    {
     "name": "stdout",
     "output_type": "stream",
     "text": [
      "2.0\n"
     ]
    }
   ],
   "source": [
    "print(10 / 5) # Special -> Result is always float!"
   ]
  },
  {
   "cell_type": "code",
   "execution_count": 93,
   "id": "709bacab",
   "metadata": {},
   "outputs": [
    {
     "name": "stdout",
     "output_type": "stream",
     "text": [
      "15.0\n"
     ]
    }
   ],
   "source": [
    "print(10.0 + 5)"
   ]
  },
  {
   "cell_type": "code",
   "execution_count": 94,
   "id": "f7d50f6e",
   "metadata": {},
   "outputs": [
    {
     "name": "stdout",
     "output_type": "stream",
     "text": [
      "3.3333333333333335\n"
     ]
    }
   ],
   "source": [
    "print(10 / 3)"
   ]
  },
  {
   "cell_type": "code",
   "execution_count": 99,
   "id": "12710784",
   "metadata": {},
   "outputs": [],
   "source": [
    "# HOMEWORK!\n",
    "# There are 3 more interesting arithmetic operators in Python\n",
    "# exponentiation (**), floored division (//), modulus (%)"
   ]
  },
  {
   "cell_type": "code",
   "execution_count": 100,
   "id": "12b385d0",
   "metadata": {},
   "outputs": [],
   "source": [
    "x = 56.0"
   ]
  },
  {
   "cell_type": "code",
   "execution_count": 101,
   "id": "5b83928d",
   "metadata": {},
   "outputs": [
    {
     "name": "stdout",
     "output_type": "stream",
     "text": [
      "56\n"
     ]
    }
   ],
   "source": [
    "print(int(x))"
   ]
  },
  {
   "cell_type": "code",
   "execution_count": null,
   "id": "9dafe2bd",
   "metadata": {},
   "outputs": [],
   "source": []
  }
 ],
 "metadata": {
  "kernelspec": {
   "display_name": "Python 3 (ipykernel)",
   "language": "python",
   "name": "python3"
  },
  "language_info": {
   "codemirror_mode": {
    "name": "ipython",
    "version": 3
   },
   "file_extension": ".py",
   "mimetype": "text/x-python",
   "name": "python",
   "nbconvert_exporter": "python",
   "pygments_lexer": "ipython3",
   "version": "3.9.5"
  }
 },
 "nbformat": 4,
 "nbformat_minor": 5
}
