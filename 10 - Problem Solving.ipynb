{
 "cells": [
  {
   "cell_type": "code",
   "execution_count": 3,
   "id": "c17b897e",
   "metadata": {},
   "outputs": [
    {
     "data": {
      "text/plain": [
       "'\\nc = 0\\n\\nWhile Loop Starts.\\n\\n- 0 <= 10 -> True\\n    - Print -> 0\\n    - c += 1 -> c = 1\\n    \\n- 1 <= 10 -> True\\n    - Print -> 1\\n    - c -= 1 -> c = 0\\n    \\n- 0 <= 10 -> True\\n    - Print -> 0\\n    - c += 1 -> c = 1\\n.\\n.\\n.\\n'"
      ]
     },
     "execution_count": 3,
     "metadata": {},
     "output_type": "execute_result"
    }
   ],
   "source": [
    "# c = 0\n",
    "# while c <= 10:\n",
    "#     print(c)\n",
    "    \n",
    "#     if c%2:\n",
    "#         c-=1\n",
    "#     else:\n",
    "#         c+=1\n",
    "        \n",
    "'''\n",
    "c = 0\n",
    "\n",
    "While Loop Starts.\n",
    "\n",
    "- 0 <= 10 -> True\n",
    "    - Print -> 0\n",
    "    - c += 1 -> c = 1\n",
    "    \n",
    "- 1 <= 10 -> True\n",
    "    - Print -> 1\n",
    "    - c -= 1 -> c = 0\n",
    "    \n",
    "- 0 <= 10 -> True\n",
    "    - Print -> 0\n",
    "    - c += 1 -> c = 1\n",
    ".\n",
    ".\n",
    ".\n",
    "'''"
   ]
  },
  {
   "cell_type": "code",
   "execution_count": 5,
   "id": "28c50255",
   "metadata": {},
   "outputs": [
    {
     "name": "stdout",
     "output_type": "stream",
     "text": [
      "FALSY\n"
     ]
    }
   ],
   "source": [
    "if 0:\n",
    "    print(\"TRUTHY\")\n",
    "else:\n",
    "    print(\"FALSY\")"
   ]
  },
  {
   "cell_type": "code",
   "execution_count": 6,
   "id": "2f2a8ef0",
   "metadata": {},
   "outputs": [
    {
     "data": {
      "text/plain": [
       "'\\nn = 6\\n\\n******\\n*   *\\n*  *\\n* *\\n**\\n*\\n'"
      ]
     },
     "execution_count": 6,
     "metadata": {},
     "output_type": "execute_result"
    }
   ],
   "source": [
    "'''\n",
    "n = 6\n",
    "\n",
    "******\n",
    "*   *\n",
    "*  *\n",
    "* *\n",
    "**\n",
    "*\n",
    "'''"
   ]
  },
  {
   "cell_type": "code",
   "execution_count": 10,
   "id": "bdb2c955",
   "metadata": {},
   "outputs": [
    {
     "name": "stdout",
     "output_type": "stream",
     "text": [
      "6\n"
     ]
    }
   ],
   "source": [
    "n = int(input())"
   ]
  },
  {
   "cell_type": "code",
   "execution_count": 11,
   "id": "a03c23f2",
   "metadata": {},
   "outputs": [
    {
     "name": "stdout",
     "output_type": "stream",
     "text": [
      "******\n",
      "*   * \n",
      "*  *  \n",
      "* *   \n",
      "**    \n",
      "*     \n"
     ]
    }
   ],
   "source": [
    "for i in range(n):\n",
    "    for j in range(n):\n",
    "        if i == 0 or j == 0 or i + j == n - 1:\n",
    "            print(\"*\", end = \"\")\n",
    "        else:\n",
    "            print(\" \", end = \"\")\n",
    "    \n",
    "    print()"
   ]
  },
  {
   "cell_type": "code",
   "execution_count": 13,
   "id": "e3686173",
   "metadata": {},
   "outputs": [
    {
     "data": {
      "text/plain": [
       "'\\nCompletely ignore self. Think as if self does not exist!\\nYou can pass the values directly to a and b considering that self is not present.\\n'"
      ]
     },
     "execution_count": 13,
     "metadata": {},
     "output_type": "execute_result"
    }
   ],
   "source": [
    "class Solution:\n",
    "    def something(self, a, b):\n",
    "        # Write your code here\n",
    "        pass\n",
    "        \n",
    "'''\n",
    "Completely ignore self. Think as if self does not exist!\n",
    "You can pass the values directly to a and b considering that self is not present.\n",
    "'''"
   ]
  },
  {
   "cell_type": "code",
   "execution_count": 14,
   "id": "83e8d00f",
   "metadata": {},
   "outputs": [],
   "source": [
    "def is_prime(n):\n",
    "    count_divisors = 0\n",
    "    \n",
    "    for i in range(2, (n // 2) + 1):\n",
    "        if n % i == 0:\n",
    "            count_divisors += 1\n",
    "    \n",
    "    if count_divisors == 0:\n",
    "        return \"PRIME\"\n",
    "    else:\n",
    "        return \"NOT PRIME\""
   ]
  },
  {
   "cell_type": "code",
   "execution_count": 20,
   "id": "14de91a4",
   "metadata": {},
   "outputs": [
    {
     "data": {
      "text/plain": [
       "'NOT PRIME'"
      ]
     },
     "execution_count": 20,
     "metadata": {},
     "output_type": "execute_result"
    }
   ],
   "source": [
    "is_prime(50)"
   ]
  },
  {
   "cell_type": "code",
   "execution_count": 21,
   "id": "38dcaac1",
   "metadata": {},
   "outputs": [
    {
     "name": "stdout",
     "output_type": "stream",
     "text": [
      "10\n"
     ]
    }
   ],
   "source": [
    "n = int(input())\n",
    "\n",
    "sum_prime = 0\n",
    "\n",
    "for number in range(1, n + 1):\n",
    "    count_divisors = 0\n",
    "    \n",
    "    for i in range(2, (number // 2) + 1):\n",
    "        if number % i == 0:\n",
    "            count_divisors += 1\n",
    "    \n",
    "    if count_divisors == 0:\n",
    "        sum_prime += number"
   ]
  },
  {
   "cell_type": "code",
   "execution_count": 22,
   "id": "1ba5df61",
   "metadata": {},
   "outputs": [
    {
     "data": {
      "text/plain": [
       "18"
      ]
     },
     "execution_count": 22,
     "metadata": {},
     "output_type": "execute_result"
    }
   ],
   "source": [
    "sum_prime"
   ]
  },
  {
   "cell_type": "code",
   "execution_count": 23,
   "id": "6753e889",
   "metadata": {},
   "outputs": [],
   "source": [
    "number = 12345"
   ]
  },
  {
   "cell_type": "code",
   "execution_count": 24,
   "id": "c8be761e",
   "metadata": {},
   "outputs": [],
   "source": [
    "last_digit = number % 10"
   ]
  },
  {
   "cell_type": "code",
   "execution_count": 25,
   "id": "21feccb0",
   "metadata": {},
   "outputs": [
    {
     "data": {
      "text/plain": [
       "5"
      ]
     },
     "execution_count": 25,
     "metadata": {},
     "output_type": "execute_result"
    }
   ],
   "source": [
    "last_digit"
   ]
  },
  {
   "cell_type": "code",
   "execution_count": 26,
   "id": "2a1c371c",
   "metadata": {},
   "outputs": [],
   "source": [
    "remaining_number = number // 10"
   ]
  },
  {
   "cell_type": "code",
   "execution_count": 27,
   "id": "f59f1cd1",
   "metadata": {},
   "outputs": [
    {
     "data": {
      "text/plain": [
       "1234"
      ]
     },
     "execution_count": 27,
     "metadata": {},
     "output_type": "execute_result"
    }
   ],
   "source": [
    "remaining_number"
   ]
  },
  {
   "cell_type": "code",
   "execution_count": 39,
   "id": "7d018873",
   "metadata": {},
   "outputs": [],
   "source": [
    "def check_palindrome(n):\n",
    "    n_reversed = 0\n",
    "    n_normal = n\n",
    "    \n",
    "    while n:\n",
    "        last_digit = n % 10\n",
    "        n = n // 10\n",
    "        n_reversed = n_reversed * 10 + last_digit\n",
    "        \n",
    "    return n_reversed == n_normal"
   ]
  },
  {
   "cell_type": "code",
   "execution_count": 41,
   "id": "7c47dc69",
   "metadata": {},
   "outputs": [
    {
     "data": {
      "text/plain": [
       "True"
      ]
     },
     "execution_count": 41,
     "metadata": {},
     "output_type": "execute_result"
    }
   ],
   "source": [
    "check_palindrome(12321)"
   ]
  },
  {
   "cell_type": "code",
   "execution_count": 38,
   "id": "06e3da66",
   "metadata": {},
   "outputs": [
    {
     "data": {
      "text/plain": [
       "'\\nn = 123\\nn_reversed = 0\\nn_normal = n -> 123\\n\\nwhile n: # n -> 123 -> TRUTHY -> Loop will execute!\\n\\n    - Iteration 1\\n        - last_digit = n % 10 = 3\\n        - n = n // 10 -> n = 123 // 10 -> n = 12\\n        - n_reversed = 0 * 10 + 3 -> 3\\n    \\n    - Iteration 2\\n        - last_digit = n % 10 -> 12 % 10 = 2\\n        - n = n // 10 -> n = 12 // 10 -> n = 1\\n        - n_reversed = 3 * 10 + 2 -> 32\\n    \\n    - Iteration 3\\n        - last_digit = n % 10 -> 1 % 10 = 1\\n        - n = n // 10 -> n = 1 // 10 -> n = 0\\n        - n_reversed = 32 * 10 + 1 -> 321\\n    \\n    n becomes 0 in the third iteration.\\n    Thus n becomed FALSY and the loop stops!\\n'"
      ]
     },
     "execution_count": 38,
     "metadata": {},
     "output_type": "execute_result"
    }
   ],
   "source": [
    "'''\n",
    "n = 123\n",
    "n_reversed = 0\n",
    "n_normal = n -> 123\n",
    "\n",
    "while n: # n -> 123 -> TRUTHY -> Loop will execute!\n",
    "\n",
    "    - Iteration 1\n",
    "        - last_digit = n % 10 = 3\n",
    "        - n = n // 10 -> n = 123 // 10 -> n = 12\n",
    "        - n_reversed = 0 * 10 + 3 -> 3\n",
    "    \n",
    "    - Iteration 2\n",
    "        - last_digit = n % 10 -> 12 % 10 = 2\n",
    "        - n = n // 10 -> n = 12 // 10 -> n = 1\n",
    "        - n_reversed = 3 * 10 + 2 -> 32\n",
    "    \n",
    "    - Iteration 3\n",
    "        - last_digit = n % 10 -> 1 % 10 = 1\n",
    "        - n = n // 10 -> n = 1 // 10 -> n = 0\n",
    "        - n_reversed = 32 * 10 + 1 -> 321\n",
    "    \n",
    "    n becomes 0 in the third iteration.\n",
    "    Thus n becomed FALSY and the loop stops!\n",
    "'''"
   ]
  },
  {
   "cell_type": "code",
   "execution_count": 42,
   "id": "b62ac92a",
   "metadata": {},
   "outputs": [],
   "source": [
    "a = \"bipin\""
   ]
  },
  {
   "cell_type": "code",
   "execution_count": 48,
   "id": "ad9e8fdc",
   "metadata": {},
   "outputs": [
    {
     "data": {
      "text/plain": [
       "'nipib'"
      ]
     },
     "execution_count": 48,
     "metadata": {},
     "output_type": "execute_result"
    }
   ],
   "source": [
    "a[::-1]"
   ]
  },
  {
   "cell_type": "code",
   "execution_count": 49,
   "id": "0c2cabbe",
   "metadata": {},
   "outputs": [
    {
     "data": {
      "text/plain": [
       "False"
      ]
     },
     "execution_count": 49,
     "metadata": {},
     "output_type": "execute_result"
    }
   ],
   "source": [
    "a == a[::-1]"
   ]
  },
  {
   "cell_type": "code",
   "execution_count": 50,
   "id": "def18e66",
   "metadata": {},
   "outputs": [],
   "source": [
    "a = 12345"
   ]
  },
  {
   "cell_type": "code",
   "execution_count": 51,
   "id": "aa01f9ad",
   "metadata": {},
   "outputs": [],
   "source": [
    "a = str(a)"
   ]
  },
  {
   "cell_type": "code",
   "execution_count": 52,
   "id": "a8e1af0a",
   "metadata": {},
   "outputs": [
    {
     "data": {
      "text/plain": [
       "'12345'"
      ]
     },
     "execution_count": 52,
     "metadata": {},
     "output_type": "execute_result"
    }
   ],
   "source": [
    "a"
   ]
  },
  {
   "cell_type": "code",
   "execution_count": 53,
   "id": "a8dc1db1",
   "metadata": {},
   "outputs": [
    {
     "data": {
      "text/plain": [
       "'54321'"
      ]
     },
     "execution_count": 53,
     "metadata": {},
     "output_type": "execute_result"
    }
   ],
   "source": [
    "a[::-1]"
   ]
  },
  {
   "cell_type": "code",
   "execution_count": 54,
   "id": "9e685d81",
   "metadata": {},
   "outputs": [
    {
     "data": {
      "text/plain": [
       "False"
      ]
     },
     "execution_count": 54,
     "metadata": {},
     "output_type": "execute_result"
    }
   ],
   "source": [
    "a == a[::-1]"
   ]
  },
  {
   "cell_type": "code",
   "execution_count": 55,
   "id": "c0f211ab",
   "metadata": {},
   "outputs": [
    {
     "name": "stdout",
     "output_type": "stream",
     "text": [
      "P\n",
      "Y\n",
      "T\n",
      "H\n",
      "O\n",
      "N\n"
     ]
    }
   ],
   "source": [
    "for i in \"PYTHON\":\n",
    "    print(i)"
   ]
  },
  {
   "cell_type": "code",
   "execution_count": 58,
   "id": "ab0234c7",
   "metadata": {},
   "outputs": [],
   "source": [
    "def check_palindrome_simple(n):\n",
    "    n_reversed = \"\"\n",
    "    n_string = str(n)\n",
    "    \n",
    "    for i in n_string:\n",
    "        n_reversed = i + n_reversed\n",
    "        \n",
    "    return n_reversed == n_string"
   ]
  },
  {
   "cell_type": "code",
   "execution_count": 60,
   "id": "e94ce784",
   "metadata": {},
   "outputs": [
    {
     "data": {
      "text/plain": [
       "True"
      ]
     },
     "execution_count": 60,
     "metadata": {},
     "output_type": "execute_result"
    }
   ],
   "source": [
    "check_palindrome_simple(12321)"
   ]
  },
  {
   "cell_type": "code",
   "execution_count": 62,
   "id": "6a9baf3a",
   "metadata": {},
   "outputs": [
    {
     "name": "stdout",
     "output_type": "stream",
     "text": [
      "6\n"
     ]
    }
   ],
   "source": [
    "n = int(input())"
   ]
  },
  {
   "cell_type": "code",
   "execution_count": 63,
   "id": "1e2ced1b",
   "metadata": {},
   "outputs": [
    {
     "name": "stdout",
     "output_type": "stream",
     "text": [
      "******\n",
      "_*****\n",
      "__****\n",
      "___***\n",
      "____**\n",
      "_____*\n"
     ]
    }
   ],
   "source": [
    "for i in range(n):\n",
    "    for j in range(n):\n",
    "        if i <= j:\n",
    "            print(\"*\", end = \"\")\n",
    "        else:\n",
    "            print(\"_\", end = \"\")\n",
    "    \n",
    "    print()"
   ]
  },
  {
   "cell_type": "code",
   "execution_count": 79,
   "id": "3a79c6bb",
   "metadata": {},
   "outputs": [
    {
     "name": "stdout",
     "output_type": "stream",
     "text": [
      "5\n",
      "1_\n",
      "1_3_\n",
      "1_3_5_\n"
     ]
    }
   ],
   "source": [
    "n = int(input())\n",
    "\n",
    "for i in range(0, n, 2):\n",
    "    for j in range(i + 1):\n",
    "        if (j + 1) % 2 == 1:\n",
    "            print(j + 1, end = \"_\")\n",
    "    \n",
    "    print()"
   ]
  },
  {
   "cell_type": "code",
   "execution_count": 80,
   "id": "4a5e24a3",
   "metadata": {},
   "outputs": [
    {
     "data": {
      "text/plain": [
       "10"
      ]
     },
     "execution_count": 80,
     "metadata": {},
     "output_type": "execute_result"
    }
   ],
   "source": [
    "max(6, 9, 10, 2)"
   ]
  },
  {
   "cell_type": "code",
   "execution_count": 81,
   "id": "ba494069",
   "metadata": {},
   "outputs": [
    {
     "name": "stdout",
     "output_type": "stream",
     "text": [
      "5\n",
      "5 5 5 5 5 \n",
      "5 4 4 4 5 \n",
      "5 4 3 4 5 \n",
      "5 4 4 4 5 \n",
      "5 5 5 5 5 \n"
     ]
    }
   ],
   "source": [
    "n = int(input())\n",
    "\n",
    "for i in range(n):\n",
    "    for j in range(n):\n",
    "        print(max(i + 1, j + 1, n - i, n - j), end = \" \")\n",
    "    \n",
    "    print()"
   ]
  },
  {
   "cell_type": "code",
   "execution_count": null,
   "id": "67652adc",
   "metadata": {},
   "outputs": [],
   "source": []
  }
 ],
 "metadata": {
  "kernelspec": {
   "display_name": "Python 3 (ipykernel)",
   "language": "python",
   "name": "python3"
  },
  "language_info": {
   "codemirror_mode": {
    "name": "ipython",
    "version": 3
   },
   "file_extension": ".py",
   "mimetype": "text/x-python",
   "name": "python",
   "nbconvert_exporter": "python",
   "pygments_lexer": "ipython3",
   "version": "3.9.5"
  }
 },
 "nbformat": 4,
 "nbformat_minor": 5
}
