{
 "cells": [
  {
   "cell_type": "code",
   "execution_count": 1,
   "id": "9814d050",
   "metadata": {},
   "outputs": [
    {
     "data": {
      "text/plain": [
       "'\\nQuestion 1 -\\nGiven a list of all runs,\\nprint runs made in odd numbered (position) matches.\\n'"
      ]
     },
     "execution_count": 1,
     "metadata": {},
     "output_type": "execute_result"
    }
   ],
   "source": [
    "'''\n",
    "Question 1 -\n",
    "Given a list of all runs,\n",
    "print runs made in odd numbered (position) matches.\n",
    "'''"
   ]
  },
  {
   "cell_type": "code",
   "execution_count": 2,
   "id": "0ec3d8c5",
   "metadata": {},
   "outputs": [],
   "source": [
    "runs = [62, 85, 77, 10, 101, 122, 99, 81, 15, 36]"
   ]
  },
  {
   "cell_type": "code",
   "execution_count": 3,
   "id": "79e88334",
   "metadata": {},
   "outputs": [],
   "source": [
    "# position n -> index n - 1"
   ]
  },
  {
   "cell_type": "code",
   "execution_count": 4,
   "id": "d25161c8",
   "metadata": {},
   "outputs": [],
   "source": [
    "# Odd numbered matches will occur on even indexes -\n",
    "# 1st match - 0\n",
    "# 3rd match - 2\n",
    "# 5th match - 4\n",
    "# .\n",
    "# .\n",
    "# ."
   ]
  },
  {
   "cell_type": "code",
   "execution_count": 5,
   "id": "ba28d321",
   "metadata": {},
   "outputs": [
    {
     "name": "stdout",
     "output_type": "stream",
     "text": [
      "62 77 101 99 15 "
     ]
    }
   ],
   "source": [
    "for i in range(len(runs)):\n",
    "    if i % 2 == 0:\n",
    "        print(runs[i], end = \" \")"
   ]
  },
  {
   "cell_type": "code",
   "execution_count": 6,
   "id": "f27e6b40",
   "metadata": {},
   "outputs": [
    {
     "name": "stdout",
     "output_type": "stream",
     "text": [
      "62 77 101 99 15 "
     ]
    }
   ],
   "source": [
    "for i in range(0, len(runs), 2):\n",
    "    print(runs[i], end = \" \")"
   ]
  },
  {
   "cell_type": "code",
   "execution_count": 7,
   "id": "c2756530",
   "metadata": {},
   "outputs": [],
   "source": [
    "# If the question asks you to create a new list instead of printing"
   ]
  },
  {
   "cell_type": "code",
   "execution_count": 9,
   "id": "2179363a",
   "metadata": {},
   "outputs": [],
   "source": [
    "result = []\n",
    "\n",
    "for i in range(0, len(runs), 2):\n",
    "    result.append(runs[i])"
   ]
  },
  {
   "cell_type": "code",
   "execution_count": 10,
   "id": "fbac484a",
   "metadata": {},
   "outputs": [
    {
     "data": {
      "text/plain": [
       "[62, 77, 101, 99, 15]"
      ]
     },
     "execution_count": 10,
     "metadata": {},
     "output_type": "execute_result"
    }
   ],
   "source": [
    "result"
   ]
  },
  {
   "cell_type": "code",
   "execution_count": 11,
   "id": "42f3efc2",
   "metadata": {},
   "outputs": [
    {
     "data": {
      "text/plain": [
       "'\\nQuestion 2 -\\nGiven a list of all runs, \\nmake a new list of runs made in the last 5 matches.\\n'"
      ]
     },
     "execution_count": 11,
     "metadata": {},
     "output_type": "execute_result"
    }
   ],
   "source": [
    "'''\n",
    "Question 2 -\n",
    "Given a list of all runs, \n",
    "make a new list of runs made in the last 5 matches.\n",
    "'''"
   ]
  },
  {
   "cell_type": "code",
   "execution_count": 12,
   "id": "77592b26",
   "metadata": {},
   "outputs": [],
   "source": [
    "result = []\n",
    "\n",
    "for i in range(len(runs) - 5, len(runs)):\n",
    "    result.append(runs[i])"
   ]
  },
  {
   "cell_type": "code",
   "execution_count": 13,
   "id": "369a0116",
   "metadata": {},
   "outputs": [
    {
     "data": {
      "text/plain": [
       "[62, 85, 77, 10, 101, 122, 99, 81, 15, 36]"
      ]
     },
     "execution_count": 13,
     "metadata": {},
     "output_type": "execute_result"
    }
   ],
   "source": [
    "runs"
   ]
  },
  {
   "cell_type": "code",
   "execution_count": 15,
   "id": "772f9d0c",
   "metadata": {},
   "outputs": [
    {
     "data": {
      "text/plain": [
       "10"
      ]
     },
     "execution_count": 15,
     "metadata": {},
     "output_type": "execute_result"
    }
   ],
   "source": [
    "len(runs)"
   ]
  },
  {
   "cell_type": "code",
   "execution_count": 16,
   "id": "76b89ff2",
   "metadata": {
    "scrolled": true
   },
   "outputs": [
    {
     "name": "stdout",
     "output_type": "stream",
     "text": [
      "5 6 7 8 9 "
     ]
    }
   ],
   "source": [
    "for i in range(5, 10):\n",
    "    print(i, end = \" \")"
   ]
  },
  {
   "cell_type": "code",
   "execution_count": 14,
   "id": "44cb1c79",
   "metadata": {},
   "outputs": [
    {
     "data": {
      "text/plain": [
       "[122, 99, 81, 15, 36]"
      ]
     },
     "execution_count": 14,
     "metadata": {},
     "output_type": "execute_result"
    }
   ],
   "source": [
    "result"
   ]
  },
  {
   "cell_type": "code",
   "execution_count": 17,
   "id": "1ad9706c",
   "metadata": {},
   "outputs": [
    {
     "data": {
      "text/plain": [
       "'\\nQuestion 3 -\\nGiven a list of all runs,\\nmake a new list of runs made in reverse order.\\n'"
      ]
     },
     "execution_count": 17,
     "metadata": {},
     "output_type": "execute_result"
    }
   ],
   "source": [
    "'''\n",
    "Question 3 -\n",
    "Given a list of all runs,\n",
    "make a new list of runs made in reverse order.\n",
    "'''"
   ]
  },
  {
   "cell_type": "code",
   "execution_count": 18,
   "id": "b474fb01",
   "metadata": {},
   "outputs": [
    {
     "data": {
      "text/plain": [
       "[62, 85, 77, 10, 101, 122, 99, 81, 15, 36]"
      ]
     },
     "execution_count": 18,
     "metadata": {},
     "output_type": "execute_result"
    }
   ],
   "source": [
    "runs"
   ]
  },
  {
   "cell_type": "code",
   "execution_count": 27,
   "id": "a7cc4628",
   "metadata": {},
   "outputs": [],
   "source": [
    "result = []\n",
    "\n",
    "for i in range(-1, -len(runs) - 1, -1):\n",
    "    result.append(runs[i])"
   ]
  },
  {
   "cell_type": "code",
   "execution_count": 28,
   "id": "885a1f96",
   "metadata": {},
   "outputs": [
    {
     "data": {
      "text/plain": [
       "[36, 15, 81, 99, 122, 101, 10, 77, 85, 62]"
      ]
     },
     "execution_count": 28,
     "metadata": {},
     "output_type": "execute_result"
    }
   ],
   "source": [
    "result"
   ]
  },
  {
   "cell_type": "code",
   "execution_count": 29,
   "id": "df4cbec2",
   "metadata": {},
   "outputs": [],
   "source": [
    "result = [] \n",
    "\n",
    "for i in range(len(runs)):\n",
    "    result.append(runs[-i - 1])"
   ]
  },
  {
   "cell_type": "code",
   "execution_count": 30,
   "id": "e576f0ec",
   "metadata": {},
   "outputs": [
    {
     "data": {
      "text/plain": [
       "[36, 15, 81, 99, 122, 101, 10, 77, 85, 62]"
      ]
     },
     "execution_count": 30,
     "metadata": {},
     "output_type": "execute_result"
    }
   ],
   "source": [
    "result"
   ]
  },
  {
   "cell_type": "code",
   "execution_count": 32,
   "id": "c62576fd",
   "metadata": {},
   "outputs": [
    {
     "data": {
      "text/plain": [
       "[122, 99, 81, 15, 36]"
      ]
     },
     "execution_count": 32,
     "metadata": {},
     "output_type": "execute_result"
    }
   ],
   "source": [
    "# Answer for Q2\n",
    "runs[len(runs) - 5:len(runs)]"
   ]
  },
  {
   "cell_type": "code",
   "execution_count": 33,
   "id": "0c4a814c",
   "metadata": {},
   "outputs": [
    {
     "data": {
      "text/plain": [
       "[62, 77, 101, 99, 15]"
      ]
     },
     "execution_count": 33,
     "metadata": {},
     "output_type": "execute_result"
    }
   ],
   "source": [
    "# Answer for Q1\n",
    "runs[0:len(runs):2]"
   ]
  },
  {
   "cell_type": "code",
   "execution_count": 34,
   "id": "d93b1149",
   "metadata": {},
   "outputs": [
    {
     "data": {
      "text/plain": [
       "[62, 85, 77, 10, 101]"
      ]
     },
     "execution_count": 34,
     "metadata": {},
     "output_type": "execute_result"
    }
   ],
   "source": [
    "runs[0:5]"
   ]
  },
  {
   "cell_type": "code",
   "execution_count": 35,
   "id": "bf84c53f",
   "metadata": {},
   "outputs": [
    {
     "data": {
      "text/plain": [
       "[62, 85, 77, 10, 101]"
      ]
     },
     "execution_count": 35,
     "metadata": {},
     "output_type": "execute_result"
    }
   ],
   "source": [
    "runs[:5] # start value is set at 0 by default"
   ]
  },
  {
   "cell_type": "code",
   "execution_count": 36,
   "id": "9a20e2a3",
   "metadata": {},
   "outputs": [
    {
     "data": {
      "text/plain": [
       "[99, 81, 15, 36]"
      ]
     },
     "execution_count": 36,
     "metadata": {},
     "output_type": "execute_result"
    }
   ],
   "source": [
    "runs[6:] # end value is set at len(list) by default"
   ]
  },
  {
   "cell_type": "code",
   "execution_count": 37,
   "id": "e288e9ab",
   "metadata": {},
   "outputs": [
    {
     "data": {
      "text/plain": [
       "[62, 85, 77, 10, 101, 122, 99, 81, 15, 36]"
      ]
     },
     "execution_count": 37,
     "metadata": {},
     "output_type": "execute_result"
    }
   ],
   "source": [
    "runs[:]"
   ]
  },
  {
   "cell_type": "code",
   "execution_count": 38,
   "id": "f697b6a7",
   "metadata": {},
   "outputs": [
    {
     "ename": "IndexError",
     "evalue": "list index out of range",
     "output_type": "error",
     "traceback": [
      "\u001b[0;31m---------------------------------------------------------------------------\u001b[0m",
      "\u001b[0;31mIndexError\u001b[0m                                Traceback (most recent call last)",
      "Cell \u001b[0;32mIn[38], line 1\u001b[0m\n\u001b[0;32m----> 1\u001b[0m \u001b[43mruns\u001b[49m\u001b[43m[\u001b[49m\u001b[38;5;241;43m4000\u001b[39;49m\u001b[43m]\u001b[49m\n",
      "\u001b[0;31mIndexError\u001b[0m: list index out of range"
     ]
    }
   ],
   "source": [
    "runs[4000]"
   ]
  },
  {
   "cell_type": "code",
   "execution_count": 39,
   "id": "62209bb4",
   "metadata": {},
   "outputs": [
    {
     "data": {
      "text/plain": [
       "[]"
      ]
     },
     "execution_count": 39,
     "metadata": {},
     "output_type": "execute_result"
    }
   ],
   "source": [
    "runs[4000:5000]"
   ]
  },
  {
   "cell_type": "code",
   "execution_count": 40,
   "id": "45a18dab",
   "metadata": {},
   "outputs": [
    {
     "data": {
      "text/plain": [
       "[77, 10, 101, 122, 99, 81, 15, 36]"
      ]
     },
     "execution_count": 40,
     "metadata": {},
     "output_type": "execute_result"
    }
   ],
   "source": [
    "runs[2:4000]"
   ]
  },
  {
   "cell_type": "code",
   "execution_count": 41,
   "id": "8bff7f78",
   "metadata": {},
   "outputs": [
    {
     "data": {
      "text/plain": [
       "[62, 77, 101, 99, 15]"
      ]
     },
     "execution_count": 41,
     "metadata": {},
     "output_type": "execute_result"
    }
   ],
   "source": [
    "# Answer for Q1\n",
    "runs[:len(runs):2]"
   ]
  },
  {
   "cell_type": "code",
   "execution_count": 42,
   "id": "10fb513b",
   "metadata": {},
   "outputs": [
    {
     "data": {
      "text/plain": [
       "[62, 77, 101, 99, 15]"
      ]
     },
     "execution_count": 42,
     "metadata": {},
     "output_type": "execute_result"
    }
   ],
   "source": [
    "# Answer for Q1\n",
    "runs[::2]"
   ]
  },
  {
   "cell_type": "code",
   "execution_count": 43,
   "id": "12e85beb",
   "metadata": {},
   "outputs": [
    {
     "data": {
      "text/plain": [
       "[85, 10, 122, 81, 36]"
      ]
     },
     "execution_count": 43,
     "metadata": {},
     "output_type": "execute_result"
    }
   ],
   "source": [
    "# Runs in even numbered matches -> Odd Indexes\n",
    "runs[1::2]"
   ]
  },
  {
   "cell_type": "code",
   "execution_count": 44,
   "id": "777ba4a3",
   "metadata": {},
   "outputs": [
    {
     "data": {
      "text/plain": [
       "[]"
      ]
     },
     "execution_count": 44,
     "metadata": {},
     "output_type": "execute_result"
    }
   ],
   "source": [
    "runs[5:0]"
   ]
  },
  {
   "cell_type": "code",
   "execution_count": 45,
   "id": "a4e1810a",
   "metadata": {},
   "outputs": [
    {
     "data": {
      "text/plain": [
       "[122, 101, 10, 77, 85]"
      ]
     },
     "execution_count": 45,
     "metadata": {},
     "output_type": "execute_result"
    }
   ],
   "source": [
    "runs[5:0:-1]"
   ]
  },
  {
   "cell_type": "code",
   "execution_count": 46,
   "id": "ebb30817",
   "metadata": {},
   "outputs": [
    {
     "data": {
      "text/plain": [
       "'\\nresult = []\\n\\nfor i in range(-1, -len(runs) - 1, -1):\\n    result.append(runs[i])\\n'"
      ]
     },
     "execution_count": 46,
     "metadata": {},
     "output_type": "execute_result"
    }
   ],
   "source": [
    "'''\n",
    "result = []\n",
    "\n",
    "for i in range(-1, -len(runs) - 1, -1):\n",
    "    result.append(runs[i])\n",
    "'''"
   ]
  },
  {
   "cell_type": "code",
   "execution_count": 47,
   "id": "fb10dbd3",
   "metadata": {},
   "outputs": [
    {
     "data": {
      "text/plain": [
       "[36, 15, 81, 99, 122, 101, 10, 77, 85, 62]"
      ]
     },
     "execution_count": 47,
     "metadata": {},
     "output_type": "execute_result"
    }
   ],
   "source": [
    "# Answer to Q3\n",
    "runs[-1:-len(runs) - 1:-1]"
   ]
  },
  {
   "cell_type": "code",
   "execution_count": 48,
   "id": "263cd951",
   "metadata": {},
   "outputs": [
    {
     "data": {
      "text/plain": [
       "'\\nDefault values - \\n1. When jump / step size is positive - \\n    - start = 0\\n    - end = len(list)\\n2. When jump / step size is negative - \\n    - start = -1\\n    - end = -len(runs) - 1\\n'"
      ]
     },
     "execution_count": 48,
     "metadata": {},
     "output_type": "execute_result"
    }
   ],
   "source": [
    "'''\n",
    "Default values - \n",
    "1. When jump / step size is positive - \n",
    "    - start = 0\n",
    "    - end = len(list)\n",
    "2. When jump / step size is negative - \n",
    "    - start = -1\n",
    "    - end = -len(runs) - 1\n",
    "'''"
   ]
  },
  {
   "cell_type": "code",
   "execution_count": 50,
   "id": "1a21eee3",
   "metadata": {},
   "outputs": [
    {
     "data": {
      "text/plain": [
       "[36, 15, 81, 99, 122, 101, 10, 77, 85, 62]"
      ]
     },
     "execution_count": 50,
     "metadata": {},
     "output_type": "execute_result"
    }
   ],
   "source": [
    "# Answer to Q3 -> TO REVERSE ANY LIST IN PYTHON\n",
    "runs[::-1]"
   ]
  },
  {
   "cell_type": "code",
   "execution_count": 51,
   "id": "7c8beb85",
   "metadata": {},
   "outputs": [
    {
     "data": {
      "text/plain": [
       "'\\nQuestion 4 - \\na = [10,20,30,40,50,60,70,80,90,100]\\n\\n1. a[3:5]\\n2. a[:8]\\n3. a[:]\\n4. a[7:]\\n5. a[-2:-5:-1]\\n6. a[-2:-7]\\n7. a[:-5]\\n8. a[-2:]\\n9. a[-8:5]\\n10. a[-8:5:-1]\\n'"
      ]
     },
     "execution_count": 51,
     "metadata": {},
     "output_type": "execute_result"
    }
   ],
   "source": [
    "'''\n",
    "Question 4 - \n",
    "a = [10,20,30,40,50,60,70,80,90,100]\n",
    "\n",
    "1. a[3:5]\n",
    "2. a[:8]\n",
    "3. a[:]\n",
    "4. a[7:]\n",
    "5. a[-2:-5:-1]\n",
    "6. a[-2:-7]\n",
    "7. a[:-5]\n",
    "8. a[-2:]\n",
    "9. a[-8:5]\n",
    "10. a[-8:5:-1]\n",
    "'''"
   ]
  },
  {
   "cell_type": "code",
   "execution_count": 52,
   "id": "37f57c80",
   "metadata": {},
   "outputs": [],
   "source": [
    "a = [10,20,30,40,50,60,70,80,90,100]"
   ]
  },
  {
   "cell_type": "code",
   "execution_count": 53,
   "id": "358e61e8",
   "metadata": {},
   "outputs": [
    {
     "data": {
      "text/plain": [
       "[40, 50]"
      ]
     },
     "execution_count": 53,
     "metadata": {},
     "output_type": "execute_result"
    }
   ],
   "source": [
    "# a = [10,20,30,40,50,60,70,80,90,100]\n",
    "a[3:5]"
   ]
  },
  {
   "cell_type": "code",
   "execution_count": 54,
   "id": "99c64669",
   "metadata": {},
   "outputs": [
    {
     "data": {
      "text/plain": [
       "[10, 20, 30, 40, 50, 60, 70, 80]"
      ]
     },
     "execution_count": 54,
     "metadata": {},
     "output_type": "execute_result"
    }
   ],
   "source": [
    "# a = [10,20,30,40,50,60,70,80,90,100]\n",
    "a[:8]"
   ]
  },
  {
   "cell_type": "code",
   "execution_count": 55,
   "id": "74eab936",
   "metadata": {},
   "outputs": [
    {
     "data": {
      "text/plain": [
       "[10, 20, 30, 40, 50, 60, 70, 80, 90, 100]"
      ]
     },
     "execution_count": 55,
     "metadata": {},
     "output_type": "execute_result"
    }
   ],
   "source": [
    "# a = [10,20,30,40,50,60,70,80,90,100]\n",
    "a[:]"
   ]
  },
  {
   "cell_type": "code",
   "execution_count": 56,
   "id": "6d8b72ac",
   "metadata": {},
   "outputs": [
    {
     "data": {
      "text/plain": [
       "[80, 90, 100]"
      ]
     },
     "execution_count": 56,
     "metadata": {},
     "output_type": "execute_result"
    }
   ],
   "source": [
    "# a = [10,20,30,40,50,60,70,80,90,100]\n",
    "a[7:]"
   ]
  },
  {
   "cell_type": "code",
   "execution_count": 58,
   "id": "ca42c4dc",
   "metadata": {},
   "outputs": [
    {
     "data": {
      "text/plain": [
       "[90, 80, 70]"
      ]
     },
     "execution_count": 58,
     "metadata": {},
     "output_type": "execute_result"
    }
   ],
   "source": [
    "# a = [10,20,30,40,50,60,70,80,90,100]\n",
    "a[-2:-5:-1]"
   ]
  },
  {
   "cell_type": "code",
   "execution_count": 59,
   "id": "f7cfdb00",
   "metadata": {},
   "outputs": [
    {
     "data": {
      "text/plain": [
       "[]"
      ]
     },
     "execution_count": 59,
     "metadata": {},
     "output_type": "execute_result"
    }
   ],
   "source": [
    "# a = [10,20,30,40,50,60,70,80,90,100]\n",
    "a[-2:-7]"
   ]
  },
  {
   "cell_type": "code",
   "execution_count": 60,
   "id": "cf502293",
   "metadata": {},
   "outputs": [
    {
     "data": {
      "text/plain": [
       "[10, 20, 30, 40, 50]"
      ]
     },
     "execution_count": 60,
     "metadata": {},
     "output_type": "execute_result"
    }
   ],
   "source": [
    "# a = [10,20,30,40,50,60,70,80,90,100]\n",
    "a[:-5]"
   ]
  },
  {
   "cell_type": "code",
   "execution_count": 61,
   "id": "5c9c7675",
   "metadata": {},
   "outputs": [
    {
     "data": {
      "text/plain": [
       "[90, 100]"
      ]
     },
     "execution_count": 61,
     "metadata": {},
     "output_type": "execute_result"
    }
   ],
   "source": [
    "# a = [10,20,30,40,50,60,70,80,90,100]\n",
    "a[-2:]"
   ]
  },
  {
   "cell_type": "code",
   "execution_count": 62,
   "id": "f8d82127",
   "metadata": {},
   "outputs": [
    {
     "data": {
      "text/plain": [
       "[30, 40, 50]"
      ]
     },
     "execution_count": 62,
     "metadata": {},
     "output_type": "execute_result"
    }
   ],
   "source": [
    "# a = [10,20,30,40,50,60,70,80,90,100]\n",
    "a[-8:5]"
   ]
  },
  {
   "cell_type": "code",
   "execution_count": 63,
   "id": "44d8a545",
   "metadata": {},
   "outputs": [
    {
     "data": {
      "text/plain": [
       "[]"
      ]
     },
     "execution_count": 63,
     "metadata": {},
     "output_type": "execute_result"
    }
   ],
   "source": [
    "# a = [10,20,30,40,50,60,70,80,90,100]\n",
    "a[-8:5:-1]"
   ]
  },
  {
   "cell_type": "code",
   "execution_count": 64,
   "id": "656b1b74",
   "metadata": {},
   "outputs": [
    {
     "name": "stdout",
     "output_type": "stream",
     "text": [
      "5\n",
      "6\n",
      "9\n"
     ]
    }
   ],
   "source": [
    "input_list = []\n",
    "\n",
    "for i in range(3):\n",
    "    input_list.append(input())"
   ]
  },
  {
   "cell_type": "code",
   "execution_count": 65,
   "id": "b16ccd40",
   "metadata": {},
   "outputs": [
    {
     "data": {
      "text/plain": [
       "['5', '6', '9']"
      ]
     },
     "execution_count": 65,
     "metadata": {},
     "output_type": "execute_result"
    }
   ],
   "source": [
    "input_list"
   ]
  },
  {
   "cell_type": "code",
   "execution_count": 66,
   "id": "2f2013fb",
   "metadata": {},
   "outputs": [
    {
     "name": "stdout",
     "output_type": "stream",
     "text": [
      "5 6 7 18 10 3 4 5\n"
     ]
    }
   ],
   "source": [
    "random = input()"
   ]
  },
  {
   "cell_type": "code",
   "execution_count": 67,
   "id": "c63fd8b1",
   "metadata": {},
   "outputs": [
    {
     "data": {
      "text/plain": [
       "'5 6 7 18 10 3 4 5'"
      ]
     },
     "execution_count": 67,
     "metadata": {},
     "output_type": "execute_result"
    }
   ],
   "source": [
    "random"
   ]
  },
  {
   "cell_type": "code",
   "execution_count": 69,
   "id": "04343ca4",
   "metadata": {},
   "outputs": [],
   "source": [
    "random1 = random.split(\" \")"
   ]
  },
  {
   "cell_type": "code",
   "execution_count": 70,
   "id": "1605dc61",
   "metadata": {},
   "outputs": [
    {
     "data": {
      "text/plain": [
       "['5', '6', '7', '18', '10', '3', '4', '5']"
      ]
     },
     "execution_count": 70,
     "metadata": {},
     "output_type": "execute_result"
    }
   ],
   "source": [
    "random1"
   ]
  },
  {
   "cell_type": "code",
   "execution_count": 71,
   "id": "bdafdf68",
   "metadata": {},
   "outputs": [],
   "source": [
    "random_final = []\n",
    "\n",
    "for i in random1:\n",
    "    random_final.append(int(i))"
   ]
  },
  {
   "cell_type": "code",
   "execution_count": 72,
   "id": "199ffda8",
   "metadata": {},
   "outputs": [
    {
     "data": {
      "text/plain": [
       "[5, 6, 7, 18, 10, 3, 4, 5]"
      ]
     },
     "execution_count": 72,
     "metadata": {},
     "output_type": "execute_result"
    }
   ],
   "source": [
    "random_final"
   ]
  },
  {
   "cell_type": "code",
   "execution_count": 75,
   "id": "15a57ed7",
   "metadata": {},
   "outputs": [
    {
     "name": "stdout",
     "output_type": "stream",
     "text": [
      "5 6 8 19 10 11\n"
     ]
    }
   ],
   "source": [
    "random = input()\n",
    "\n",
    "random = random.split(\" \")\n",
    "\n",
    "random_final = []\n",
    "\n",
    "for i in random:\n",
    "    random_final.append(int(i))"
   ]
  },
  {
   "cell_type": "code",
   "execution_count": 76,
   "id": "01a5dff0",
   "metadata": {},
   "outputs": [
    {
     "data": {
      "text/plain": [
       "[5, 6, 8, 19, 10, 11]"
      ]
     },
     "execution_count": 76,
     "metadata": {},
     "output_type": "execute_result"
    }
   ],
   "source": [
    "random_final"
   ]
  },
  {
   "cell_type": "code",
   "execution_count": null,
   "id": "f238531a",
   "metadata": {},
   "outputs": [],
   "source": []
  }
 ],
 "metadata": {
  "kernelspec": {
   "display_name": "Python 3 (ipykernel)",
   "language": "python",
   "name": "python3"
  },
  "language_info": {
   "codemirror_mode": {
    "name": "ipython",
    "version": 3
   },
   "file_extension": ".py",
   "mimetype": "text/x-python",
   "name": "python",
   "nbconvert_exporter": "python",
   "pygments_lexer": "ipython3",
   "version": "3.9.5"
  }
 },
 "nbformat": 4,
 "nbformat_minor": 5
}
