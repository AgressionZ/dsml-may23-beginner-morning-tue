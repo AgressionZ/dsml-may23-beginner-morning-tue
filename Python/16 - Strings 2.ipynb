{
 "cells": [
  {
   "cell_type": "code",
   "execution_count": 1,
   "id": "ef4a5c9d",
   "metadata": {},
   "outputs": [],
   "source": [
    "# 1. SPLIT"
   ]
  },
  {
   "cell_type": "code",
   "execution_count": 2,
   "id": "2ee3136f",
   "metadata": {},
   "outputs": [],
   "source": [
    "a = \"a string with a few words separated by space.\""
   ]
  },
  {
   "cell_type": "code",
   "execution_count": 3,
   "id": "520b25bb",
   "metadata": {},
   "outputs": [
    {
     "data": {
      "text/plain": [
       "['a', 'string', 'with', 'a', 'few', 'words', 'separated', 'by', 'space.']"
      ]
     },
     "execution_count": 3,
     "metadata": {},
     "output_type": "execute_result"
    }
   ],
   "source": [
    "a.split(\" \") # A delimiter is provided as an argument"
   ]
  },
  {
   "cell_type": "code",
   "execution_count": 4,
   "id": "c14698c3",
   "metadata": {},
   "outputs": [
    {
     "data": {
      "text/plain": [
       "['a ', 'tring with a few word', ' ', 'eparated by ', 'pace.']"
      ]
     },
     "execution_count": 4,
     "metadata": {},
     "output_type": "execute_result"
    }
   ],
   "source": [
    "a.split(\"s\")"
   ]
  },
  {
   "cell_type": "code",
   "execution_count": 5,
   "id": "49a5ab83",
   "metadata": {},
   "outputs": [],
   "source": [
    "a = \"this+is+random\""
   ]
  },
  {
   "cell_type": "code",
   "execution_count": 6,
   "id": "3f5bea5c",
   "metadata": {},
   "outputs": [
    {
     "data": {
      "text/plain": [
       "['this', 'is', 'random']"
      ]
     },
     "execution_count": 6,
     "metadata": {},
     "output_type": "execute_result"
    }
   ],
   "source": [
    "a.split(\"+\")"
   ]
  },
  {
   "cell_type": "code",
   "execution_count": 7,
   "id": "bc8f9dfb",
   "metadata": {},
   "outputs": [],
   "source": [
    "a = \"thisRANDOMisRANDOMveryRANDOMrandom!\""
   ]
  },
  {
   "cell_type": "code",
   "execution_count": 8,
   "id": "92ff442e",
   "metadata": {},
   "outputs": [
    {
     "data": {
      "text/plain": [
       "['this', 'is', 'very', 'random!']"
      ]
     },
     "execution_count": 8,
     "metadata": {},
     "output_type": "execute_result"
    }
   ],
   "source": [
    "a.split(\"RANDOM\")"
   ]
  },
  {
   "cell_type": "code",
   "execution_count": 9,
   "id": "39160dca",
   "metadata": {},
   "outputs": [],
   "source": [
    "csv = \"1,2,3,4,5,6,7,8,9,10\""
   ]
  },
  {
   "cell_type": "code",
   "execution_count": 10,
   "id": "0cd2273b",
   "metadata": {},
   "outputs": [],
   "source": [
    "data = csv.split(\",\")"
   ]
  },
  {
   "cell_type": "code",
   "execution_count": 11,
   "id": "85820f62",
   "metadata": {},
   "outputs": [
    {
     "data": {
      "text/plain": [
       "['1', '2', '3', '4', '5', '6', '7', '8', '9', '10']"
      ]
     },
     "execution_count": 11,
     "metadata": {},
     "output_type": "execute_result"
    }
   ],
   "source": [
    "data"
   ]
  },
  {
   "cell_type": "code",
   "execution_count": 12,
   "id": "3eb2f0ee",
   "metadata": {},
   "outputs": [],
   "source": [
    "final_data = []\n",
    "\n",
    "for i in data:\n",
    "    final_data.append(int(i))"
   ]
  },
  {
   "cell_type": "code",
   "execution_count": 13,
   "id": "3673010d",
   "metadata": {},
   "outputs": [
    {
     "data": {
      "text/plain": [
       "[1, 2, 3, 4, 5, 6, 7, 8, 9, 10]"
      ]
     },
     "execution_count": 13,
     "metadata": {},
     "output_type": "execute_result"
    }
   ],
   "source": [
    "final_data"
   ]
  },
  {
   "cell_type": "code",
   "execution_count": 14,
   "id": "6f216540",
   "metadata": {},
   "outputs": [],
   "source": [
    "# 2. JOIN"
   ]
  },
  {
   "cell_type": "code",
   "execution_count": 15,
   "id": "5ebc986b",
   "metadata": {},
   "outputs": [
    {
     "data": {
      "text/plain": [
       "'\\nUsing split,\\nwe split a string into a list of strings, delimited at a character(s).\\n\\nUsing join,\\nwe join a list of strings into one string using a joining character(s).\\n'"
      ]
     },
     "execution_count": 15,
     "metadata": {},
     "output_type": "execute_result"
    }
   ],
   "source": [
    "'''\n",
    "Using split,\n",
    "we split a string into a list of strings, delimited at a character(s).\n",
    "\n",
    "Using join,\n",
    "we join a list of strings into one string using a joining character(s).\n",
    "'''"
   ]
  },
  {
   "cell_type": "code",
   "execution_count": 16,
   "id": "6b366d34",
   "metadata": {},
   "outputs": [],
   "source": [
    "a = ['a', 'string', 'with', 'a', 'few', 'words', 'separated', 'by', 'space.']"
   ]
  },
  {
   "cell_type": "code",
   "execution_count": 17,
   "id": "b9f513e6",
   "metadata": {},
   "outputs": [
    {
     "data": {
      "text/plain": [
       "['a', 'string', 'with', 'a', 'few', 'words', 'separated', 'by', 'space.']"
      ]
     },
     "execution_count": 17,
     "metadata": {},
     "output_type": "execute_result"
    }
   ],
   "source": [
    "a"
   ]
  },
  {
   "cell_type": "code",
   "execution_count": 18,
   "id": "ebca68b8",
   "metadata": {},
   "outputs": [
    {
     "data": {
      "text/plain": [
       "'a string with a few words separated by space.'"
      ]
     },
     "execution_count": 18,
     "metadata": {},
     "output_type": "execute_result"
    }
   ],
   "source": [
    "\" \".join(a) # \"delimter\".join(list_of_strings)"
   ]
  },
  {
   "cell_type": "code",
   "execution_count": 19,
   "id": "a9180c59",
   "metadata": {},
   "outputs": [
    {
     "data": {
      "text/plain": [
       "'a_+_string_+_with_+_a_+_few_+_words_+_separated_+_by_+_space.'"
      ]
     },
     "execution_count": 19,
     "metadata": {},
     "output_type": "execute_result"
    }
   ],
   "source": [
    "\"_+_\".join(a)"
   ]
  },
  {
   "cell_type": "code",
   "execution_count": 20,
   "id": "8393eff1",
   "metadata": {},
   "outputs": [],
   "source": [
    "a = [\"random\", 23, 5.6, True]"
   ]
  },
  {
   "cell_type": "code",
   "execution_count": 21,
   "id": "681af0fb",
   "metadata": {},
   "outputs": [
    {
     "ename": "TypeError",
     "evalue": "sequence item 1: expected str instance, int found",
     "output_type": "error",
     "traceback": [
      "\u001b[0;31m---------------------------------------------------------------------------\u001b[0m",
      "\u001b[0;31mTypeError\u001b[0m                                 Traceback (most recent call last)",
      "Cell \u001b[0;32mIn[21], line 1\u001b[0m\n\u001b[0;32m----> 1\u001b[0m \u001b[38;5;124;43m\"\u001b[39;49m\u001b[38;5;124;43m \u001b[39;49m\u001b[38;5;124;43m\"\u001b[39;49m\u001b[38;5;241;43m.\u001b[39;49m\u001b[43mjoin\u001b[49m\u001b[43m(\u001b[49m\u001b[43ma\u001b[49m\u001b[43m)\u001b[49m\n",
      "\u001b[0;31mTypeError\u001b[0m: sequence item 1: expected str instance, int found"
     ]
    }
   ],
   "source": [
    "\" \".join(a)"
   ]
  },
  {
   "cell_type": "code",
   "execution_count": 28,
   "id": "d38f3509",
   "metadata": {},
   "outputs": [],
   "source": [
    "def custom_join(list_of_strings, delimiter):\n",
    "    result = \"\"\n",
    "    \n",
    "    for string in list_of_strings:\n",
    "        result += string + delimiter\n",
    "        \n",
    "    return result"
   ]
  },
  {
   "cell_type": "code",
   "execution_count": 29,
   "id": "8b75d1d5",
   "metadata": {},
   "outputs": [],
   "source": [
    "a = ['a', 'string', 'with', 'a', 'few', 'words', 'separated', 'by', 'space.']"
   ]
  },
  {
   "cell_type": "code",
   "execution_count": 31,
   "id": "866868c2",
   "metadata": {},
   "outputs": [
    {
     "data": {
      "text/plain": [
       "'a__string__with__a__few__words__separated__by__space.__'"
      ]
     },
     "execution_count": 31,
     "metadata": {},
     "output_type": "execute_result"
    }
   ],
   "source": [
    "custom_join(a, \"__\")"
   ]
  },
  {
   "cell_type": "code",
   "execution_count": 32,
   "id": "230e0680",
   "metadata": {},
   "outputs": [],
   "source": [
    "def custom_join(list_of_strings, delimiter):\n",
    "    result = \"\"\n",
    "    n = len(list_of_strings)\n",
    "    \n",
    "    for i in range(n):\n",
    "        if i == n - 1:\n",
    "            result += list_of_strings[i]\n",
    "            break\n",
    "        \n",
    "        result += list_of_strings[i] + delimiter\n",
    "        \n",
    "    return result"
   ]
  },
  {
   "cell_type": "code",
   "execution_count": 33,
   "id": "a1760a82",
   "metadata": {},
   "outputs": [
    {
     "data": {
      "text/plain": [
       "['a', 'string', 'with', 'a', 'few', 'words', 'separated', 'by', 'space.']"
      ]
     },
     "execution_count": 33,
     "metadata": {},
     "output_type": "execute_result"
    }
   ],
   "source": [
    "a"
   ]
  },
  {
   "cell_type": "code",
   "execution_count": 34,
   "id": "ed827e40",
   "metadata": {},
   "outputs": [
    {
     "data": {
      "text/plain": [
       "'a__string__with__a__few__words__separated__by__space.'"
      ]
     },
     "execution_count": 34,
     "metadata": {},
     "output_type": "execute_result"
    }
   ],
   "source": [
    "custom_join(a, \"__\")"
   ]
  },
  {
   "cell_type": "code",
   "execution_count": 35,
   "id": "9ae6b963",
   "metadata": {},
   "outputs": [],
   "source": [
    "# 3. FIND"
   ]
  },
  {
   "cell_type": "code",
   "execution_count": 37,
   "id": "bcead9a1",
   "metadata": {},
   "outputs": [],
   "source": [
    "a = \"this is a random string!\""
   ]
  },
  {
   "cell_type": "code",
   "execution_count": 38,
   "id": "b3220922",
   "metadata": {},
   "outputs": [
    {
     "data": {
      "text/plain": [
       "2"
      ]
     },
     "execution_count": 38,
     "metadata": {},
     "output_type": "execute_result"
    }
   ],
   "source": [
    "a.find(\"is\") # It would return the first index of the substring in the string"
   ]
  },
  {
   "cell_type": "code",
   "execution_count": 39,
   "id": "3c72577d",
   "metadata": {},
   "outputs": [
    {
     "data": {
      "text/plain": [
       "10"
      ]
     },
     "execution_count": 39,
     "metadata": {},
     "output_type": "execute_result"
    }
   ],
   "source": [
    "a.find(\"random\")"
   ]
  },
  {
   "cell_type": "code",
   "execution_count": 41,
   "id": "9ddefe5f",
   "metadata": {},
   "outputs": [
    {
     "data": {
      "text/plain": [
       "'random'"
      ]
     },
     "execution_count": 41,
     "metadata": {},
     "output_type": "execute_result"
    }
   ],
   "source": [
    "a[a.find(\"random\"):a.find(\"random\")+len(\"random\")]"
   ]
  },
  {
   "cell_type": "code",
   "execution_count": 42,
   "id": "105b5fd0",
   "metadata": {},
   "outputs": [
    {
     "data": {
      "text/plain": [
       "'this is a string!'"
      ]
     },
     "execution_count": 42,
     "metadata": {},
     "output_type": "execute_result"
    }
   ],
   "source": [
    "a[:a.find(\"random\")] + a[a.find(\"random\") + len(\"random\") + 1:]"
   ]
  },
  {
   "cell_type": "code",
   "execution_count": 44,
   "id": "869ff681",
   "metadata": {},
   "outputs": [
    {
     "data": {
      "text/plain": [
       "-1"
      ]
     },
     "execution_count": 44,
     "metadata": {},
     "output_type": "execute_result"
    }
   ],
   "source": [
    "a.find(\"not present!\")\n",
    "# Returns -1 if the substring can't be found"
   ]
  },
  {
   "cell_type": "code",
   "execution_count": 45,
   "id": "5216b5c8",
   "metadata": {},
   "outputs": [],
   "source": [
    "# 4. REPLACE"
   ]
  },
  {
   "cell_type": "code",
   "execution_count": 46,
   "id": "62ae2f9d",
   "metadata": {},
   "outputs": [],
   "source": [
    "a = \"this is a random string with very random random words arranged in a random order which is random!\""
   ]
  },
  {
   "cell_type": "code",
   "execution_count": 47,
   "id": "807b3291",
   "metadata": {},
   "outputs": [
    {
     "data": {
      "text/plain": [
       "'this is a random string with very random random words arranged in a random order which is random!'"
      ]
     },
     "execution_count": 47,
     "metadata": {},
     "output_type": "execute_result"
    }
   ],
   "source": [
    "a"
   ]
  },
  {
   "cell_type": "code",
   "execution_count": 48,
   "id": "6d667ed2",
   "metadata": {},
   "outputs": [
    {
     "data": {
      "text/plain": [
       "'this is a SUPERB string with very SUPERB SUPERB words arranged in a SUPERB order which is SUPERB!'"
      ]
     },
     "execution_count": 48,
     "metadata": {},
     "output_type": "execute_result"
    }
   ],
   "source": [
    "a.replace(\"random\", \"SUPERB\")"
   ]
  },
  {
   "cell_type": "code",
   "execution_count": 50,
   "id": "f461d95e",
   "metadata": {},
   "outputs": [
    {
     "data": {
      "text/plain": [
       "'this is a random string with very random random words arranged in a random order which is random!'"
      ]
     },
     "execution_count": 50,
     "metadata": {},
     "output_type": "execute_result"
    }
   ],
   "source": [
    "a # Does not modify the original string"
   ]
  },
  {
   "cell_type": "code",
   "execution_count": 51,
   "id": "60b1fa21",
   "metadata": {},
   "outputs": [],
   "source": [
    "a_replaced = a.replace(\"random\", \"SUPERB\")"
   ]
  },
  {
   "cell_type": "code",
   "execution_count": 52,
   "id": "c18f400a",
   "metadata": {},
   "outputs": [
    {
     "data": {
      "text/plain": [
       "'this is a SUPERB string with very SUPERB SUPERB words arranged in a SUPERB order which is SUPERB!'"
      ]
     },
     "execution_count": 52,
     "metadata": {},
     "output_type": "execute_result"
    }
   ],
   "source": [
    "a_replaced"
   ]
  },
  {
   "cell_type": "code",
   "execution_count": 53,
   "id": "5e50813c",
   "metadata": {},
   "outputs": [],
   "source": [
    "# 5. MEMBERSHIP OPERATOR"
   ]
  },
  {
   "cell_type": "code",
   "execution_count": 54,
   "id": "747f663a",
   "metadata": {},
   "outputs": [],
   "source": [
    "a = \"this is a random string!\""
   ]
  },
  {
   "cell_type": "code",
   "execution_count": 55,
   "id": "20312c0d",
   "metadata": {},
   "outputs": [
    {
     "data": {
      "text/plain": [
       "True"
      ]
     },
     "execution_count": 55,
     "metadata": {},
     "output_type": "execute_result"
    }
   ],
   "source": [
    "\"random\" in a"
   ]
  },
  {
   "cell_type": "code",
   "execution_count": 56,
   "id": "289df71c",
   "metadata": {},
   "outputs": [
    {
     "data": {
      "text/plain": [
       "False"
      ]
     },
     "execution_count": 56,
     "metadata": {},
     "output_type": "execute_result"
    }
   ],
   "source": [
    "\"RANDOM\" in a"
   ]
  },
  {
   "cell_type": "code",
   "execution_count": 57,
   "id": "a7948b28",
   "metadata": {},
   "outputs": [
    {
     "data": {
      "text/plain": [
       "False"
      ]
     },
     "execution_count": 57,
     "metadata": {},
     "output_type": "execute_result"
    }
   ],
   "source": [
    "\"something else\" in a"
   ]
  },
  {
   "cell_type": "code",
   "execution_count": 58,
   "id": "e7cdc8b8",
   "metadata": {},
   "outputs": [
    {
     "data": {
      "text/plain": [
       "True"
      ]
     },
     "execution_count": 58,
     "metadata": {},
     "output_type": "execute_result"
    }
   ],
   "source": [
    "\"random string\" in a"
   ]
  },
  {
   "cell_type": "code",
   "execution_count": 59,
   "id": "dcfe31dd",
   "metadata": {},
   "outputs": [],
   "source": [
    "# CUSTOM IMPLEMENTATION FOR REPLACE!"
   ]
  },
  {
   "cell_type": "code",
   "execution_count": 63,
   "id": "cb83c5c3",
   "metadata": {},
   "outputs": [],
   "source": [
    "def custom_replace(string, old_substring, new_substring):\n",
    "    string_list = string.split(old_substring)\n",
    "    \n",
    "    return new_substring.join(string_list)"
   ]
  },
  {
   "cell_type": "code",
   "execution_count": 64,
   "id": "99d875e9",
   "metadata": {},
   "outputs": [],
   "source": [
    "a = \"this is a random string with very random random words arranged in a random order which is random!\""
   ]
  },
  {
   "cell_type": "code",
   "execution_count": 65,
   "id": "15d61dbd",
   "metadata": {},
   "outputs": [
    {
     "data": {
      "text/plain": [
       "'this is a SUPERB string with very SUPERB SUPERB words arranged in a SUPERB order which is SUPERB!'"
      ]
     },
     "execution_count": 65,
     "metadata": {},
     "output_type": "execute_result"
    }
   ],
   "source": [
    "custom_replace(a, \"random\", \"SUPERB\")"
   ]
  },
  {
   "cell_type": "code",
   "execution_count": 66,
   "id": "0f2a693b",
   "metadata": {},
   "outputs": [],
   "source": [
    "# 6. SOME MORE INTERESTING FUNCTIONS"
   ]
  },
  {
   "cell_type": "code",
   "execution_count": 67,
   "id": "2562957d",
   "metadata": {},
   "outputs": [
    {
     "data": {
      "text/plain": [
       "True"
      ]
     },
     "execution_count": 67,
     "metadata": {},
     "output_type": "execute_result"
    }
   ],
   "source": [
    "\"6\".isdigit() # TRUE if the string contains only numbers"
   ]
  },
  {
   "cell_type": "code",
   "execution_count": 68,
   "id": "52e43858",
   "metadata": {},
   "outputs": [
    {
     "data": {
      "text/plain": [
       "True"
      ]
     },
     "execution_count": 68,
     "metadata": {},
     "output_type": "execute_result"
    }
   ],
   "source": [
    "\"234567890876543\".isdigit()"
   ]
  },
  {
   "cell_type": "code",
   "execution_count": 70,
   "id": "d19d3df9",
   "metadata": {},
   "outputs": [
    {
     "data": {
      "text/plain": [
       "False"
      ]
     },
     "execution_count": 70,
     "metadata": {},
     "output_type": "execute_result"
    }
   ],
   "source": [
    "\"56.7\".isdigit()\n",
    "# This string contains \".\" also which is not a number"
   ]
  },
  {
   "cell_type": "code",
   "execution_count": 72,
   "id": "71d5deec",
   "metadata": {},
   "outputs": [
    {
     "data": {
      "text/plain": [
       "False"
      ]
     },
     "execution_count": 72,
     "metadata": {},
     "output_type": "execute_result"
    }
   ],
   "source": [
    "\"123abc\".isdigit()"
   ]
  },
  {
   "cell_type": "code",
   "execution_count": 75,
   "id": "03a6b25d",
   "metadata": {},
   "outputs": [
    {
     "name": "stdout",
     "output_type": "stream",
     "text": [
      "Please enter your 10 digit phone number - 345678zhdbfs\n",
      "INVALID NUMBER!\n"
     ]
    }
   ],
   "source": [
    "number = input(\"Please enter your 10 digit phone number - \")\n",
    "\n",
    "if len(number) == 10 and number.isdigit():\n",
    "    print(\"VALID NUMBER!\")\n",
    "else:\n",
    "    print(\"INVALID NUMBER!\")"
   ]
  },
  {
   "cell_type": "code",
   "execution_count": 78,
   "id": "d10f368b",
   "metadata": {},
   "outputs": [
    {
     "data": {
      "text/plain": [
       "False"
      ]
     },
     "execution_count": 78,
     "metadata": {},
     "output_type": "execute_result"
    }
   ],
   "source": [
    "\"bipin kalra\".isalpha()\n",
    "# Returns True if the string contains only alphabets\n",
    "# False because this string contains space which is not an alphabet"
   ]
  },
  {
   "cell_type": "code",
   "execution_count": 79,
   "id": "a5baf0e3",
   "metadata": {},
   "outputs": [
    {
     "data": {
      "text/plain": [
       "True"
      ]
     },
     "execution_count": 79,
     "metadata": {},
     "output_type": "execute_result"
    }
   ],
   "source": [
    "\"bipin\".isalpha()"
   ]
  },
  {
   "cell_type": "code",
   "execution_count": 80,
   "id": "d0f5f3a4",
   "metadata": {},
   "outputs": [
    {
     "data": {
      "text/plain": [
       "True"
      ]
     },
     "execution_count": 80,
     "metadata": {},
     "output_type": "execute_result"
    }
   ],
   "source": [
    "\"smallCAPITAL\".isalpha()"
   ]
  },
  {
   "cell_type": "code",
   "execution_count": 81,
   "id": "e52a54ca",
   "metadata": {},
   "outputs": [
    {
     "data": {
      "text/plain": [
       "False"
      ]
     },
     "execution_count": 81,
     "metadata": {},
     "output_type": "execute_result"
    }
   ],
   "source": [
    "\"#$%^&*)(*&^)\".isalpha()"
   ]
  },
  {
   "cell_type": "code",
   "execution_count": 84,
   "id": "551bda76",
   "metadata": {},
   "outputs": [
    {
     "data": {
      "text/plain": [
       "True"
      ]
     },
     "execution_count": 84,
     "metadata": {},
     "output_type": "execute_result"
    }
   ],
   "source": [
    "\"sdhfgs23456789\".isalnum()\n",
    "# Returns True if the string only contains alphabets / numbers"
   ]
  },
  {
   "cell_type": "code",
   "execution_count": 83,
   "id": "e246c6cc",
   "metadata": {},
   "outputs": [
    {
     "data": {
      "text/plain": [
       "False"
      ]
     },
     "execution_count": 83,
     "metadata": {},
     "output_type": "execute_result"
    }
   ],
   "source": [
    "\"cvsgdfh4567#$%^&\".isalnum()"
   ]
  },
  {
   "cell_type": "code",
   "execution_count": 85,
   "id": "b655bb61",
   "metadata": {},
   "outputs": [
    {
     "data": {
      "text/plain": [
       "True"
      ]
     },
     "execution_count": 85,
     "metadata": {},
     "output_type": "execute_result"
    }
   ],
   "source": [
    "\"A\".isupper()"
   ]
  },
  {
   "cell_type": "code",
   "execution_count": 86,
   "id": "fd640b82",
   "metadata": {},
   "outputs": [
    {
     "data": {
      "text/plain": [
       "False"
      ]
     },
     "execution_count": 86,
     "metadata": {},
     "output_type": "execute_result"
    }
   ],
   "source": [
    "\"a\".isupper()"
   ]
  },
  {
   "cell_type": "code",
   "execution_count": 87,
   "id": "313b48eb",
   "metadata": {},
   "outputs": [
    {
     "data": {
      "text/plain": [
       "False"
      ]
     },
     "execution_count": 87,
     "metadata": {},
     "output_type": "execute_result"
    }
   ],
   "source": [
    "\"A\".islower()"
   ]
  },
  {
   "cell_type": "code",
   "execution_count": 88,
   "id": "7e1f2fa3",
   "metadata": {},
   "outputs": [
    {
     "data": {
      "text/plain": [
       "True"
      ]
     },
     "execution_count": 88,
     "metadata": {},
     "output_type": "execute_result"
    }
   ],
   "source": [
    "\"a\".islower()"
   ]
  },
  {
   "cell_type": "code",
   "execution_count": 89,
   "id": "1f95ae6a",
   "metadata": {},
   "outputs": [
    {
     "data": {
      "text/plain": [
       "True"
      ]
     },
     "execution_count": 89,
     "metadata": {},
     "output_type": "execute_result"
    }
   ],
   "source": [
    "\"bipin\".islower()"
   ]
  },
  {
   "cell_type": "code",
   "execution_count": 91,
   "id": "f764c678",
   "metadata": {},
   "outputs": [
    {
     "data": {
      "text/plain": [
       "False"
      ]
     },
     "execution_count": 91,
     "metadata": {},
     "output_type": "execute_result"
    }
   ],
   "source": [
    "\"Bipin\".isupper()"
   ]
  },
  {
   "cell_type": "code",
   "execution_count": 92,
   "id": "58ee7e0b",
   "metadata": {},
   "outputs": [
    {
     "data": {
      "text/plain": [
       "False"
      ]
     },
     "execution_count": 92,
     "metadata": {},
     "output_type": "execute_result"
    }
   ],
   "source": [
    "\"35\".isupper()"
   ]
  },
  {
   "cell_type": "code",
   "execution_count": 93,
   "id": "150a7257",
   "metadata": {},
   "outputs": [
    {
     "data": {
      "text/plain": [
       "False"
      ]
     },
     "execution_count": 93,
     "metadata": {},
     "output_type": "execute_result"
    }
   ],
   "source": [
    "\"35\".islower()"
   ]
  },
  {
   "cell_type": "code",
   "execution_count": 95,
   "id": "3238fb2d",
   "metadata": {},
   "outputs": [
    {
     "data": {
      "text/plain": [
       "'\\nQuestion 1 (HOMEWORK) - \\n1. Create a custom isalphanumeric function. (isalnum())\\n2. True if all characters are alphanumeric else false.\\n'"
      ]
     },
     "execution_count": 95,
     "metadata": {},
     "output_type": "execute_result"
    }
   ],
   "source": [
    "'''\n",
    "Question 1 (HOMEWORK) - \n",
    "1. Create a custom isalphanumeric function. (isalnum())\n",
    "2. True if all characters are alphanumeric else false.\n",
    "'''"
   ]
  },
  {
   "cell_type": "code",
   "execution_count": 96,
   "id": "69b4fe12",
   "metadata": {},
   "outputs": [
    {
     "data": {
      "text/plain": [
       "'THIS IS A RANDOM STRING!'"
      ]
     },
     "execution_count": 96,
     "metadata": {},
     "output_type": "execute_result"
    }
   ],
   "source": [
    "\"This IS A random STRing!\".upper()"
   ]
  },
  {
   "cell_type": "code",
   "execution_count": 97,
   "id": "034b0401",
   "metadata": {},
   "outputs": [
    {
     "data": {
      "text/plain": [
       "'this is a random string!'"
      ]
     },
     "execution_count": 97,
     "metadata": {},
     "output_type": "execute_result"
    }
   ],
   "source": [
    "\"This IS A random STRing!\".lower()"
   ]
  },
  {
   "cell_type": "code",
   "execution_count": 98,
   "id": "28780fa8",
   "metadata": {},
   "outputs": [
    {
     "data": {
      "text/plain": [
       "True"
      ]
     },
     "execution_count": 98,
     "metadata": {},
     "output_type": "execute_result"
    }
   ],
   "source": [
    "\" \".isspace()"
   ]
  },
  {
   "cell_type": "markdown",
   "id": "f447f9ee",
   "metadata": {},
   "source": [
    "# Glossary of string methods\n",
    "\n",
    "1. __split__ -> `\"this is a string\".split(\" \")` -> string to a list\n",
    "\n",
    "2. __join__ -> `\" \".join([\"list\", \"of\", \"strings\"])` -> list of strings to a string\n",
    "\n",
    "3. __replace__ -> `\"this is a string\".replace(\" \", \"_\")` -> replaces all occurences of the first character by the second character. __IMP__ - _CREATES A NEW STRING_\n",
    "\n",
    "4. __find__ -> `\"this is a string\".find(\" a \")` -> Finds the exact sequence or substring in the original string and returns the starting index of that substring.\n",
    "\n",
    "5. __count__ -> `\"this is a string\".count(\"a\")` -> Counts the number of times a character or substring is present within a string\n",
    "\n",
    "6. __isdigit__ -> True if content inside the string is only digits.\n",
    "7. __isalpha__ -> True if content inside the string is only alphabets.\n",
    "8. __islower__ / __isupper__ -> True if content inside the string is all lower case / all upper case\n",
    "9. __isspace__ -> True if the character is a space\n",
    "10. __lower__ / __upper__ -> Converts a string to lowercase / uppercase\n",
    "\n",
    "__Special Mention__\n",
    "- `\"random\" in \"this is random!\"` -> MEMBERSHIP OPERATOR - True if operand1 is present inside operand2."
   ]
  },
  {
   "cell_type": "code",
   "execution_count": null,
   "id": "c38442d1",
   "metadata": {},
   "outputs": [],
   "source": []
  }
 ],
 "metadata": {
  "kernelspec": {
   "display_name": "Python 3 (ipykernel)",
   "language": "python",
   "name": "python3"
  },
  "language_info": {
   "codemirror_mode": {
    "name": "ipython",
    "version": 3
   },
   "file_extension": ".py",
   "mimetype": "text/x-python",
   "name": "python",
   "nbconvert_exporter": "python",
   "pygments_lexer": "ipython3",
   "version": "3.9.5"
  }
 },
 "nbformat": 4,
 "nbformat_minor": 5
}
