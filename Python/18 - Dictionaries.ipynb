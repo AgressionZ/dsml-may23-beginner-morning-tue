{
 "cells": [
  {
   "cell_type": "code",
   "execution_count": 1,
   "id": "bf5a2acb",
   "metadata": {},
   "outputs": [],
   "source": [
    "s = {\"bipin\", 12, 34, 56, \"random\"}"
   ]
  },
  {
   "cell_type": "code",
   "execution_count": 2,
   "id": "078dc004",
   "metadata": {},
   "outputs": [
    {
     "data": {
      "text/plain": [
       "{12, 34, 56, 'bipin', 'random'}"
      ]
     },
     "execution_count": 2,
     "metadata": {},
     "output_type": "execute_result"
    }
   ],
   "source": [
    "s"
   ]
  },
  {
   "cell_type": "code",
   "execution_count": 6,
   "id": "9f2f6c68",
   "metadata": {},
   "outputs": [],
   "source": [
    "d = {\n",
    "    \"key1\" : \"value1\",\n",
    "    \"key2\" : \"value2\",\n",
    "    \"key3\" : \"value3\"\n",
    "}\n",
    "\n",
    "# For keys, we will only use strings for a while - SECOND HALF OF LECTURE\n",
    "# For values, we can use anything!"
   ]
  },
  {
   "cell_type": "code",
   "execution_count": 7,
   "id": "2844eaf5",
   "metadata": {},
   "outputs": [],
   "source": [
    "# Approach 1 -> List of tuples\n",
    "state_wise_data = [(\"Delhi\", 15), (\"Haryana\", 35), (\"UP\", 100)]"
   ]
  },
  {
   "cell_type": "code",
   "execution_count": 9,
   "id": "b8d01f91",
   "metadata": {},
   "outputs": [
    {
     "data": {
      "text/plain": [
       "15"
      ]
     },
     "execution_count": 9,
     "metadata": {},
     "output_type": "execute_result"
    }
   ],
   "source": [
    "state_wise_data[0][1]"
   ]
  },
  {
   "cell_type": "code",
   "execution_count": 11,
   "id": "9c325d8d",
   "metadata": {},
   "outputs": [],
   "source": [
    "# Approach 2 -> Dictionary\n",
    "state_wise_data = {\n",
    "    \"Delhi\" : 15,\n",
    "    \"Haryana\" : 35,\n",
    "    \"UP\" : 100\n",
    "}"
   ]
  },
  {
   "cell_type": "code",
   "execution_count": 15,
   "id": "a7bf8cb9",
   "metadata": {},
   "outputs": [
    {
     "ename": "KeyError",
     "evalue": "0",
     "output_type": "error",
     "traceback": [
      "\u001b[0;31m---------------------------------------------------------------------------\u001b[0m",
      "\u001b[0;31mKeyError\u001b[0m                                  Traceback (most recent call last)",
      "Cell \u001b[0;32mIn[15], line 1\u001b[0m\n\u001b[0;32m----> 1\u001b[0m \u001b[43mstate_wise_data\u001b[49m\u001b[43m[\u001b[49m\u001b[38;5;241;43m0\u001b[39;49m\u001b[43m]\u001b[49m\n\u001b[1;32m      3\u001b[0m \u001b[38;5;66;03m# Similar to sets, dictionaries are not subscriptable via numerical indexes\u001b[39;00m\n\u001b[1;32m      4\u001b[0m \u001b[38;5;66;03m# They can be indexed via keys!\u001b[39;00m\n",
      "\u001b[0;31mKeyError\u001b[0m: 0"
     ]
    }
   ],
   "source": [
    "state_wise_data[0]\n",
    "\n",
    "# Similar to sets, dictionaries are not subscriptable via numerical indexes\n",
    "# They can be indexed via keys!"
   ]
  },
  {
   "cell_type": "code",
   "execution_count": 13,
   "id": "71a02249",
   "metadata": {},
   "outputs": [
    {
     "data": {
      "text/plain": [
       "15"
      ]
     },
     "execution_count": 13,
     "metadata": {},
     "output_type": "execute_result"
    }
   ],
   "source": [
    "state_wise_data[\"Delhi\"]"
   ]
  },
  {
   "cell_type": "code",
   "execution_count": 14,
   "id": "001b810d",
   "metadata": {},
   "outputs": [
    {
     "data": {
      "text/plain": [
       "35"
      ]
     },
     "execution_count": 14,
     "metadata": {},
     "output_type": "execute_result"
    }
   ],
   "source": [
    "state_wise_data[\"Haryana\"]"
   ]
  },
  {
   "cell_type": "code",
   "execution_count": 16,
   "id": "b7fab317",
   "metadata": {},
   "outputs": [
    {
     "ename": "AttributeError",
     "evalue": "'dict' object has no attribute 'Delhi'",
     "output_type": "error",
     "traceback": [
      "\u001b[0;31m---------------------------------------------------------------------------\u001b[0m",
      "\u001b[0;31mAttributeError\u001b[0m                            Traceback (most recent call last)",
      "Cell \u001b[0;32mIn[16], line 1\u001b[0m\n\u001b[0;32m----> 1\u001b[0m \u001b[43mstate_wise_data\u001b[49m\u001b[38;5;241;43m.\u001b[39;49m\u001b[43mDelhi\u001b[49m\n",
      "\u001b[0;31mAttributeError\u001b[0m: 'dict' object has no attribute 'Delhi'"
     ]
    }
   ],
   "source": [
    "state_wise_data.Delhi"
   ]
  },
  {
   "cell_type": "code",
   "execution_count": 17,
   "id": "1371a2e9",
   "metadata": {},
   "outputs": [],
   "source": [
    "a = {}"
   ]
  },
  {
   "cell_type": "code",
   "execution_count": 18,
   "id": "51abca36",
   "metadata": {},
   "outputs": [
    {
     "data": {
      "text/plain": [
       "dict"
      ]
     },
     "execution_count": 18,
     "metadata": {},
     "output_type": "execute_result"
    }
   ],
   "source": [
    "type(a)"
   ]
  },
  {
   "cell_type": "code",
   "execution_count": 19,
   "id": "bff38e3c",
   "metadata": {},
   "outputs": [],
   "source": [
    "# KEYS ARE ALWAYS UNIQUE"
   ]
  },
  {
   "cell_type": "code",
   "execution_count": 22,
   "id": "cc0f496a",
   "metadata": {},
   "outputs": [],
   "source": [
    "a = {\n",
    "    \"Delhi\" : 15,\n",
    "    \"Delhi\" : 10,\n",
    "    \"Delhi\" : 30,\n",
    "    \"Haryana\" : 36,\n",
    "    \"UP\" : 100,\n",
    "    \"Delhi\" : 20\n",
    "}"
   ]
  },
  {
   "cell_type": "code",
   "execution_count": 23,
   "id": "620e05c2",
   "metadata": {},
   "outputs": [
    {
     "data": {
      "text/plain": [
       "{'Delhi': 20, 'Haryana': 36, 'UP': 100}"
      ]
     },
     "execution_count": 23,
     "metadata": {},
     "output_type": "execute_result"
    }
   ],
   "source": [
    "a"
   ]
  },
  {
   "cell_type": "code",
   "execution_count": 24,
   "id": "d69013af",
   "metadata": {},
   "outputs": [],
   "source": [
    "# Keys will never be repeated\n",
    "# The last or latest value that is provided will be kept!"
   ]
  },
  {
   "cell_type": "code",
   "execution_count": 25,
   "id": "fa8e0a93",
   "metadata": {},
   "outputs": [],
   "source": [
    "# ADDING MORE KEY VALUE PAIRS"
   ]
  },
  {
   "cell_type": "code",
   "execution_count": 26,
   "id": "6d8c9bd3",
   "metadata": {},
   "outputs": [],
   "source": [
    "a[\"Maharashtra\"] = 80"
   ]
  },
  {
   "cell_type": "code",
   "execution_count": 27,
   "id": "bb53aa58",
   "metadata": {},
   "outputs": [
    {
     "data": {
      "text/plain": [
       "{'Delhi': 20, 'Haryana': 36, 'UP': 100, 'Maharashtra': 80}"
      ]
     },
     "execution_count": 27,
     "metadata": {},
     "output_type": "execute_result"
    }
   ],
   "source": [
    "a"
   ]
  },
  {
   "cell_type": "code",
   "execution_count": 28,
   "id": "3482d71f",
   "metadata": {},
   "outputs": [
    {
     "data": {
      "text/plain": [
       "20"
      ]
     },
     "execution_count": 28,
     "metadata": {},
     "output_type": "execute_result"
    }
   ],
   "source": [
    "a[\"Delhi\"]"
   ]
  },
  {
   "cell_type": "code",
   "execution_count": 29,
   "id": "cae63ace",
   "metadata": {},
   "outputs": [],
   "source": [
    "a[\"delhi\"] = 35"
   ]
  },
  {
   "cell_type": "code",
   "execution_count": 30,
   "id": "6b71c121",
   "metadata": {},
   "outputs": [
    {
     "data": {
      "text/plain": [
       "{'Delhi': 20, 'Haryana': 36, 'UP': 100, 'Maharashtra': 80, 'delhi': 35}"
      ]
     },
     "execution_count": 30,
     "metadata": {},
     "output_type": "execute_result"
    }
   ],
   "source": [
    "a"
   ]
  },
  {
   "cell_type": "code",
   "execution_count": 31,
   "id": "96e11d12",
   "metadata": {},
   "outputs": [],
   "source": [
    "Avenger = {\n",
    "    \"name\" : \"Thor\",\n",
    "    \"age\" : 1500,\n",
    "    \"weapon\" : [\"Stormbreaker, Mjolnir\"]\n",
    "}"
   ]
  },
  {
   "cell_type": "code",
   "execution_count": 32,
   "id": "295560ce",
   "metadata": {},
   "outputs": [],
   "source": [
    "Avenger.update({\n",
    "    \"name\" : \"Thor Odinson\",\n",
    "    \"weapon\" : [\"Stormbreaker\"],\n",
    "    \"strongest?\" : True,\n",
    "    \"eyes\" : 1\n",
    "})"
   ]
  },
  {
   "cell_type": "code",
   "execution_count": 33,
   "id": "602a70e2",
   "metadata": {},
   "outputs": [
    {
     "data": {
      "text/plain": [
       "{'name': 'Thor Odinson',\n",
       " 'age': 1500,\n",
       " 'weapon': ['Stormbreaker'],\n",
       " 'strongest?': True,\n",
       " 'eyes': 1}"
      ]
     },
     "execution_count": 33,
     "metadata": {},
     "output_type": "execute_result"
    }
   ],
   "source": [
    "Avenger"
   ]
  },
  {
   "cell_type": "code",
   "execution_count": 34,
   "id": "d5c8a7f6",
   "metadata": {},
   "outputs": [],
   "source": [
    "random = {\n",
    "    \"a\" : 1,\n",
    "    \"b\" : 2,\n",
    "    \"c\" : 3,\n",
    "    \"d\" : None\n",
    "}"
   ]
  },
  {
   "cell_type": "code",
   "execution_count": 35,
   "id": "2632a174",
   "metadata": {},
   "outputs": [
    {
     "data": {
      "text/plain": [
       "2"
      ]
     },
     "execution_count": 35,
     "metadata": {},
     "output_type": "execute_result"
    }
   ],
   "source": [
    "random[\"b\"]"
   ]
  },
  {
   "cell_type": "code",
   "execution_count": 36,
   "id": "0b86d535",
   "metadata": {},
   "outputs": [
    {
     "ename": "KeyError",
     "evalue": "'e'",
     "output_type": "error",
     "traceback": [
      "\u001b[0;31m---------------------------------------------------------------------------\u001b[0m",
      "\u001b[0;31mKeyError\u001b[0m                                  Traceback (most recent call last)",
      "Cell \u001b[0;32mIn[36], line 1\u001b[0m\n\u001b[0;32m----> 1\u001b[0m \u001b[43mrandom\u001b[49m\u001b[43m[\u001b[49m\u001b[38;5;124;43m\"\u001b[39;49m\u001b[38;5;124;43me\u001b[39;49m\u001b[38;5;124;43m\"\u001b[39;49m\u001b[43m]\u001b[49m\n",
      "\u001b[0;31mKeyError\u001b[0m: 'e'"
     ]
    }
   ],
   "source": [
    "random[\"e\"]"
   ]
  },
  {
   "cell_type": "code",
   "execution_count": 37,
   "id": "8c496a9b",
   "metadata": {},
   "outputs": [],
   "source": [
    "# GET FUNCTION"
   ]
  },
  {
   "cell_type": "code",
   "execution_count": 38,
   "id": "e7ee8dff",
   "metadata": {},
   "outputs": [],
   "source": [
    "result = random.get(\"e\")"
   ]
  },
  {
   "cell_type": "code",
   "execution_count": 40,
   "id": "4023d7ec",
   "metadata": {},
   "outputs": [
    {
     "name": "stdout",
     "output_type": "stream",
     "text": [
      "None\n"
     ]
    }
   ],
   "source": [
    "print(result) # Returns None instead of throwing an error!"
   ]
  },
  {
   "cell_type": "code",
   "execution_count": 41,
   "id": "fef5c9ba",
   "metadata": {},
   "outputs": [
    {
     "data": {
      "text/plain": [
       "2"
      ]
     },
     "execution_count": 41,
     "metadata": {},
     "output_type": "execute_result"
    }
   ],
   "source": [
    "random.get(\"b\")"
   ]
  },
  {
   "cell_type": "code",
   "execution_count": 42,
   "id": "5a8c7de4",
   "metadata": {},
   "outputs": [
    {
     "data": {
      "text/plain": [
       "'NOT FOUND!'"
      ]
     },
     "execution_count": 42,
     "metadata": {},
     "output_type": "execute_result"
    }
   ],
   "source": [
    "random.get(\"e\", \"NOT FOUND!\")"
   ]
  },
  {
   "cell_type": "code",
   "execution_count": 43,
   "id": "9bc1b6dd",
   "metadata": {},
   "outputs": [
    {
     "data": {
      "text/plain": [
       "2"
      ]
     },
     "execution_count": 43,
     "metadata": {},
     "output_type": "execute_result"
    }
   ],
   "source": [
    "random.get(\"b\", \"NOT FOUND!\")"
   ]
  },
  {
   "cell_type": "code",
   "execution_count": 44,
   "id": "398fa86a",
   "metadata": {},
   "outputs": [
    {
     "data": {
      "text/plain": [
       "{'a': 1, 'b': 2, 'c': 3, 'd': None}"
      ]
     },
     "execution_count": 44,
     "metadata": {},
     "output_type": "execute_result"
    }
   ],
   "source": [
    "random"
   ]
  },
  {
   "cell_type": "code",
   "execution_count": 45,
   "id": "2bc88566",
   "metadata": {},
   "outputs": [],
   "source": [
    "random.pop(\"d\") # provide the key as argument"
   ]
  },
  {
   "cell_type": "code",
   "execution_count": 46,
   "id": "8a7d8d59",
   "metadata": {},
   "outputs": [
    {
     "data": {
      "text/plain": [
       "{'a': 1, 'b': 2, 'c': 3}"
      ]
     },
     "execution_count": 46,
     "metadata": {},
     "output_type": "execute_result"
    }
   ],
   "source": [
    "random"
   ]
  },
  {
   "cell_type": "code",
   "execution_count": 47,
   "id": "df520723",
   "metadata": {},
   "outputs": [
    {
     "data": {
      "text/plain": [
       "1"
      ]
     },
     "execution_count": 47,
     "metadata": {},
     "output_type": "execute_result"
    }
   ],
   "source": [
    "random.pop(\"a\")"
   ]
  },
  {
   "cell_type": "code",
   "execution_count": 48,
   "id": "c9ff56ec",
   "metadata": {},
   "outputs": [
    {
     "data": {
      "text/plain": [
       "{'b': 2, 'c': 3}"
      ]
     },
     "execution_count": 48,
     "metadata": {},
     "output_type": "execute_result"
    }
   ],
   "source": [
    "random"
   ]
  },
  {
   "cell_type": "code",
   "execution_count": 49,
   "id": "11af1ff0",
   "metadata": {},
   "outputs": [
    {
     "ename": "TypeError",
     "evalue": "pop expected at least 1 argument, got 0",
     "output_type": "error",
     "traceback": [
      "\u001b[0;31m---------------------------------------------------------------------------\u001b[0m",
      "\u001b[0;31mTypeError\u001b[0m                                 Traceback (most recent call last)",
      "Cell \u001b[0;32mIn[49], line 1\u001b[0m\n\u001b[0;32m----> 1\u001b[0m \u001b[43mrandom\u001b[49m\u001b[38;5;241;43m.\u001b[39;49m\u001b[43mpop\u001b[49m\u001b[43m(\u001b[49m\u001b[43m)\u001b[49m\n",
      "\u001b[0;31mTypeError\u001b[0m: pop expected at least 1 argument, got 0"
     ]
    }
   ],
   "source": [
    "random.pop()"
   ]
  },
  {
   "cell_type": "code",
   "execution_count": 50,
   "id": "64ba7853",
   "metadata": {},
   "outputs": [
    {
     "data": {
      "text/plain": [
       "'\\nQuestion 1 - \\nGiven two dictionaries A and B, \\nWrite a python program to merge these dictionaries.\\n\\nExample -\\nA = {\\n    \"a\" : 4,\\n    \"b\" : 5,\\n    \"c\" : 6\\n}\\n\\nB = {\\n    \"b\" : 1,\\n    \"d\" : 20\\n}\\n\\nResult = {\\n    \"a\" : 4,\\n    \"b\" : 1,\\n    \"c\" : 6,\\n    \"d\" : 20\\n}\\n'"
      ]
     },
     "execution_count": 50,
     "metadata": {},
     "output_type": "execute_result"
    }
   ],
   "source": [
    "'''\n",
    "Question 1 - \n",
    "Given two dictionaries A and B, \n",
    "Write a python program to merge these dictionaries.\n",
    "\n",
    "Example -\n",
    "A = {\n",
    "    \"a\" : 4,\n",
    "    \"b\" : 5,\n",
    "    \"c\" : 6\n",
    "}\n",
    "\n",
    "B = {\n",
    "    \"b\" : 1,\n",
    "    \"d\" : 20\n",
    "}\n",
    "\n",
    "Result = {\n",
    "    \"a\" : 4,\n",
    "    \"b\" : 1,\n",
    "    \"c\" : 6,\n",
    "    \"d\" : 20\n",
    "}\n",
    "'''"
   ]
  },
  {
   "cell_type": "code",
   "execution_count": 51,
   "id": "6a6eca9e",
   "metadata": {},
   "outputs": [],
   "source": [
    "A = {\n",
    "    \"a\" : 4,\n",
    "    \"b\" : 5,\n",
    "    \"c\" : 6\n",
    "}\n",
    "\n",
    "B = {\n",
    "    \"b\" : 1,\n",
    "    \"d\" : 20\n",
    "}"
   ]
  },
  {
   "cell_type": "code",
   "execution_count": 52,
   "id": "af304762",
   "metadata": {},
   "outputs": [],
   "source": [
    "A.update(B)"
   ]
  },
  {
   "cell_type": "code",
   "execution_count": 53,
   "id": "44ab8d0b",
   "metadata": {},
   "outputs": [
    {
     "data": {
      "text/plain": [
       "{'a': 4, 'b': 1, 'c': 6, 'd': 20}"
      ]
     },
     "execution_count": 53,
     "metadata": {},
     "output_type": "execute_result"
    }
   ],
   "source": [
    "A"
   ]
  },
  {
   "cell_type": "code",
   "execution_count": 59,
   "id": "dad626cb",
   "metadata": {},
   "outputs": [],
   "source": [
    "A = {\n",
    "    \"a\" : 4,\n",
    "    \"b\" : 5,\n",
    "    \"c\" : 6\n",
    "}\n",
    "\n",
    "B = {\n",
    "    \"b\" : 1,\n",
    "    \"d\" : 20\n",
    "}"
   ]
  },
  {
   "cell_type": "code",
   "execution_count": 60,
   "id": "e8fe1ab9",
   "metadata": {},
   "outputs": [],
   "source": [
    "random = {1,2,3} | {3,4,5}"
   ]
  },
  {
   "cell_type": "code",
   "execution_count": 61,
   "id": "49c916ac",
   "metadata": {},
   "outputs": [
    {
     "data": {
      "text/plain": [
       "{1, 2, 3, 4, 5}"
      ]
     },
     "execution_count": 61,
     "metadata": {},
     "output_type": "execute_result"
    }
   ],
   "source": [
    "random"
   ]
  },
  {
   "cell_type": "code",
   "execution_count": 62,
   "id": "b911d761",
   "metadata": {},
   "outputs": [],
   "source": [
    "result = A | B # Union in dictionaries"
   ]
  },
  {
   "cell_type": "code",
   "execution_count": 63,
   "id": "a5ca131d",
   "metadata": {},
   "outputs": [
    {
     "data": {
      "text/plain": [
       "{'a': 4, 'b': 1, 'c': 6, 'd': 20}"
      ]
     },
     "execution_count": 63,
     "metadata": {},
     "output_type": "execute_result"
    }
   ],
   "source": [
    "result"
   ]
  },
  {
   "cell_type": "code",
   "execution_count": 64,
   "id": "ba9b8a79",
   "metadata": {},
   "outputs": [],
   "source": [
    "result = { **A, **B } # Spread Operator"
   ]
  },
  {
   "cell_type": "code",
   "execution_count": 65,
   "id": "4343b1d6",
   "metadata": {},
   "outputs": [
    {
     "data": {
      "text/plain": [
       "{'a': 4, 'b': 1, 'c': 6, 'd': 20}"
      ]
     },
     "execution_count": 65,
     "metadata": {},
     "output_type": "execute_result"
    }
   ],
   "source": [
    "result"
   ]
  },
  {
   "cell_type": "code",
   "execution_count": 66,
   "id": "b2293006",
   "metadata": {},
   "outputs": [],
   "source": [
    "# ITERATION IN A DICTIONARY"
   ]
  },
  {
   "cell_type": "code",
   "execution_count": 69,
   "id": "079d9eb6",
   "metadata": {},
   "outputs": [],
   "source": [
    "a = Avenger"
   ]
  },
  {
   "cell_type": "code",
   "execution_count": 70,
   "id": "1ceb9e1b",
   "metadata": {},
   "outputs": [
    {
     "data": {
      "text/plain": [
       "{'name': 'Thor Odinson',\n",
       " 'age': 1500,\n",
       " 'weapon': ['Stormbreaker'],\n",
       " 'strongest?': True,\n",
       " 'eyes': 1}"
      ]
     },
     "execution_count": 70,
     "metadata": {},
     "output_type": "execute_result"
    }
   ],
   "source": [
    "a"
   ]
  },
  {
   "cell_type": "code",
   "execution_count": 72,
   "id": "3a0c4216",
   "metadata": {},
   "outputs": [
    {
     "name": "stdout",
     "output_type": "stream",
     "text": [
      "name\n",
      "age\n",
      "weapon\n",
      "strongest?\n",
      "eyes\n"
     ]
    }
   ],
   "source": [
    "for i in a: # by default it iterates over the keys\n",
    "    print(i)"
   ]
  },
  {
   "cell_type": "code",
   "execution_count": 73,
   "id": "b3cd8d83",
   "metadata": {},
   "outputs": [
    {
     "name": "stdout",
     "output_type": "stream",
     "text": [
      "Thor Odinson\n",
      "1500\n",
      "['Stormbreaker']\n",
      "True\n",
      "1\n"
     ]
    }
   ],
   "source": [
    "for i in a: # to go over the values\n",
    "    print(a[i])"
   ]
  },
  {
   "cell_type": "code",
   "execution_count": 74,
   "id": "21888ddc",
   "metadata": {},
   "outputs": [
    {
     "name": "stdout",
     "output_type": "stream",
     "text": [
      "name -> Thor Odinson\n",
      "age -> 1500\n",
      "weapon -> ['Stormbreaker']\n",
      "strongest? -> True\n",
      "eyes -> 1\n"
     ]
    }
   ],
   "source": [
    "for i in a:\n",
    "    print(f\"{i} -> {a[i]}\")"
   ]
  },
  {
   "cell_type": "code",
   "execution_count": 75,
   "id": "cf5dd911",
   "metadata": {},
   "outputs": [
    {
     "data": {
      "text/plain": [
       "['name', 'age', 'weapon', 'strongest?', 'eyes']"
      ]
     },
     "execution_count": 75,
     "metadata": {},
     "output_type": "execute_result"
    }
   ],
   "source": [
    "list(a.keys())"
   ]
  },
  {
   "cell_type": "code",
   "execution_count": 76,
   "id": "4d83228e",
   "metadata": {},
   "outputs": [
    {
     "data": {
      "text/plain": [
       "['Thor Odinson', 1500, ['Stormbreaker'], True, 1]"
      ]
     },
     "execution_count": 76,
     "metadata": {},
     "output_type": "execute_result"
    }
   ],
   "source": [
    "list(a.values())"
   ]
  },
  {
   "cell_type": "code",
   "execution_count": 77,
   "id": "c2531bfd",
   "metadata": {},
   "outputs": [
    {
     "data": {
      "text/plain": [
       "[('name', 'Thor Odinson'),\n",
       " ('age', 1500),\n",
       " ('weapon', ['Stormbreaker']),\n",
       " ('strongest?', True),\n",
       " ('eyes', 1)]"
      ]
     },
     "execution_count": 77,
     "metadata": {},
     "output_type": "execute_result"
    }
   ],
   "source": [
    "list(a.items())"
   ]
  },
  {
   "cell_type": "code",
   "execution_count": 78,
   "id": "196ae960",
   "metadata": {},
   "outputs": [
    {
     "name": "stdout",
     "output_type": "stream",
     "text": [
      "name\n",
      "age\n",
      "weapon\n",
      "strongest?\n",
      "eyes\n"
     ]
    }
   ],
   "source": [
    "for i in a.keys():\n",
    "    print(i)"
   ]
  },
  {
   "cell_type": "code",
   "execution_count": 79,
   "id": "20db8e27",
   "metadata": {},
   "outputs": [
    {
     "name": "stdout",
     "output_type": "stream",
     "text": [
      "Thor Odinson\n",
      "1500\n",
      "['Stormbreaker']\n",
      "True\n",
      "1\n"
     ]
    }
   ],
   "source": [
    "for i in a.values():\n",
    "    print(i)"
   ]
  },
  {
   "cell_type": "code",
   "execution_count": 80,
   "id": "db97027e",
   "metadata": {},
   "outputs": [
    {
     "name": "stdout",
     "output_type": "stream",
     "text": [
      "('name', 'Thor Odinson')\n",
      "('age', 1500)\n",
      "('weapon', ['Stormbreaker'])\n",
      "('strongest?', True)\n",
      "('eyes', 1)\n"
     ]
    }
   ],
   "source": [
    "for i in a.items():\n",
    "    print(i)"
   ]
  },
  {
   "cell_type": "code",
   "execution_count": 82,
   "id": "ed34ab30",
   "metadata": {},
   "outputs": [
    {
     "name": "stdout",
     "output_type": "stream",
     "text": [
      "name -> Thor Odinson\n",
      "age -> 1500\n",
      "weapon -> ['Stormbreaker']\n",
      "strongest? -> True\n",
      "eyes -> 1\n"
     ]
    }
   ],
   "source": [
    "for key, value in a.items():\n",
    "    print(f\"{key} -> {value}\")"
   ]
  },
  {
   "cell_type": "code",
   "execution_count": 83,
   "id": "719a8523",
   "metadata": {},
   "outputs": [],
   "source": [
    "# random(a) / a.random()"
   ]
  },
  {
   "cell_type": "code",
   "execution_count": 84,
   "id": "df91d9a3",
   "metadata": {},
   "outputs": [
    {
     "data": {
      "text/plain": [
       "True"
      ]
     },
     "execution_count": 84,
     "metadata": {},
     "output_type": "execute_result"
    }
   ],
   "source": [
    "\"strongest?\" in a"
   ]
  },
  {
   "cell_type": "code",
   "execution_count": 85,
   "id": "b3f93032",
   "metadata": {},
   "outputs": [
    {
     "data": {
      "text/plain": [
       "False"
      ]
     },
     "execution_count": 85,
     "metadata": {},
     "output_type": "execute_result"
    }
   ],
   "source": [
    "\"RANDOM\" in a"
   ]
  },
  {
   "cell_type": "code",
   "execution_count": 86,
   "id": "c4709f93",
   "metadata": {},
   "outputs": [
    {
     "data": {
      "text/plain": [
       "'\\nQuestion 2 - \\n1. Take a string as input.\\n2. Create a dictionary acc to the following criteria - \\n- There will be one key value pair for each unique character - \\n- Key will be character and value will be the count of character inside the string\\n\\nINPUT - \"rrsssstttt\"\\nOUTPUT -\\n{\\n    \"r\": 2,\\n    \"s\": 4,\\n    \"t\": 4\\n}\\n'"
      ]
     },
     "execution_count": 86,
     "metadata": {},
     "output_type": "execute_result"
    }
   ],
   "source": [
    "'''\n",
    "Question 2 - \n",
    "1. Take a string as input.\n",
    "2. Create a dictionary acc to the following criteria - \n",
    "- There will be one key value pair for each unique character - \n",
    "- Key will be character and value will be the count of character inside the string\n",
    "\n",
    "INPUT - \"rrsssstttt\"\n",
    "OUTPUT -\n",
    "{\n",
    "    \"r\": 2,\n",
    "    \"s\": 4,\n",
    "    \"t\": 4\n",
    "}\n",
    "'''"
   ]
  },
  {
   "cell_type": "code",
   "execution_count": 105,
   "id": "8dc90076",
   "metadata": {},
   "outputs": [],
   "source": [
    "def character_count(a):\n",
    "    result = {}\n",
    "    num_of_iterations = 0\n",
    "    \n",
    "    for i in a:\n",
    "        num_of_iterations += 1\n",
    "        \n",
    "        if i in result:\n",
    "            result[i] += 1\n",
    "        else:\n",
    "            result[i] = 1\n",
    "            \n",
    "    print(f\"TOTAL NUMBER OF ITERATIONS - {num_of_iterations}\")\n",
    "            \n",
    "    return result"
   ]
  },
  {
   "cell_type": "code",
   "execution_count": 106,
   "id": "f39a9ce4",
   "metadata": {},
   "outputs": [
    {
     "name": "stdout",
     "output_type": "stream",
     "text": [
      "TOTAL NUMBER OF ITERATIONS - 10\n"
     ]
    },
    {
     "data": {
      "text/plain": [
       "{'r': 2, 's': 4, 't': 4}"
      ]
     },
     "execution_count": 106,
     "metadata": {},
     "output_type": "execute_result"
    }
   ],
   "source": [
    "character_count(\"rrsssstttt\")"
   ]
  },
  {
   "cell_type": "code",
   "execution_count": 90,
   "id": "a4524ecb",
   "metadata": {},
   "outputs": [],
   "source": [
    "a = \"rrsssstttt\""
   ]
  },
  {
   "cell_type": "code",
   "execution_count": 92,
   "id": "7a3b917f",
   "metadata": {},
   "outputs": [
    {
     "data": {
      "text/plain": [
       "4"
      ]
     },
     "execution_count": 92,
     "metadata": {},
     "output_type": "execute_result"
    }
   ],
   "source": [
    "a.count(\"s\")"
   ]
  },
  {
   "cell_type": "code",
   "execution_count": 95,
   "id": "5ed2cb9b",
   "metadata": {},
   "outputs": [],
   "source": [
    "def custom_count(a, target):\n",
    "    count = 0\n",
    "    num_of_iterations = 0\n",
    "    \n",
    "    for i in a:\n",
    "        num_of_iterations += 1\n",
    "        if i == target:\n",
    "            count += 1\n",
    "            \n",
    "    return count, num_of_iterations"
   ]
  },
  {
   "cell_type": "code",
   "execution_count": 100,
   "id": "f97542ad",
   "metadata": {},
   "outputs": [],
   "source": [
    "def character_count_2(a):\n",
    "    unique_chars = set(a)\n",
    "    result = {}\n",
    "    \n",
    "    total_num_of_iterations = 0\n",
    "    \n",
    "    for i in unique_chars:\n",
    "        total_num_of_iterations += 1\n",
    "        \n",
    "        count, num_of_iterations = custom_count(a, i)\n",
    "        print(f\"Number of Iterations - {num_of_iterations}\")\n",
    "        result[i] = count\n",
    "        \n",
    "        total_num_of_iterations += num_of_iterations\n",
    "        \n",
    "    print(\"TOTAL NUMBER OF ITERATIONS -\", total_num_of_iterations)\n",
    "        \n",
    "    return result"
   ]
  },
  {
   "cell_type": "code",
   "execution_count": 101,
   "id": "ccbf3484",
   "metadata": {},
   "outputs": [
    {
     "name": "stdout",
     "output_type": "stream",
     "text": [
      "Number of Iterations - 10\n",
      "Number of Iterations - 10\n",
      "Number of Iterations - 10\n",
      "TOTAL NUMBER OF ITERATIONS - 33\n"
     ]
    },
    {
     "data": {
      "text/plain": [
       "{'s': 4, 'r': 2, 't': 4}"
      ]
     },
     "execution_count": 101,
     "metadata": {},
     "output_type": "execute_result"
    }
   ],
   "source": [
    "character_count_2(\"rrsssstttt\")"
   ]
  },
  {
   "cell_type": "code",
   "execution_count": 107,
   "id": "16cb0f56",
   "metadata": {},
   "outputs": [
    {
     "data": {
      "text/plain": [
       "'\\nHETEROGENEITY ->\\n    - Keys -> Any immutable data structure (Everything other than lists, sets and dictionaries)\\n    - Values -> Any Python Object\\n'"
      ]
     },
     "execution_count": 107,
     "metadata": {},
     "output_type": "execute_result"
    }
   ],
   "source": [
    "'''\n",
    "HETEROGENEITY ->\n",
    "    - Keys -> Any immutable data structure (Everything other than lists, sets and dictionaries)\n",
    "    - Values -> Any Python Object\n",
    "'''"
   ]
  },
  {
   "cell_type": "code",
   "execution_count": 108,
   "id": "1c70eb08",
   "metadata": {},
   "outputs": [],
   "source": [
    "random = {\n",
    "    \"key1\" : [1,2,3],\n",
    "    \"key2\" : {\n",
    "        (1,2,3) : 45\n",
    "    },\n",
    "    45 : \"num1\",\n",
    "    45.6 : {1,2,3,4},\n",
    "    True: 12\n",
    "}"
   ]
  },
  {
   "cell_type": "code",
   "execution_count": 109,
   "id": "b1ae7659",
   "metadata": {},
   "outputs": [
    {
     "ename": "TypeError",
     "evalue": "unhashable type: 'list'",
     "output_type": "error",
     "traceback": [
      "\u001b[0;31m---------------------------------------------------------------------------\u001b[0m",
      "\u001b[0;31mTypeError\u001b[0m                                 Traceback (most recent call last)",
      "Cell \u001b[0;32mIn[109], line 3\u001b[0m\n\u001b[1;32m      1\u001b[0m random \u001b[38;5;241m=\u001b[39m {\n\u001b[1;32m      2\u001b[0m     \u001b[38;5;124m\"\u001b[39m\u001b[38;5;124mkey1\u001b[39m\u001b[38;5;124m\"\u001b[39m : [\u001b[38;5;241m1\u001b[39m,\u001b[38;5;241m2\u001b[39m,\u001b[38;5;241m3\u001b[39m],\n\u001b[0;32m----> 3\u001b[0m     \u001b[38;5;124m\"\u001b[39m\u001b[38;5;124mkey2\u001b[39m\u001b[38;5;124m\"\u001b[39m : {\n\u001b[1;32m      4\u001b[0m         [\u001b[38;5;241m1\u001b[39m,\u001b[38;5;241m2\u001b[39m,\u001b[38;5;241m3\u001b[39m] : \u001b[38;5;241m45\u001b[39m \u001b[38;5;66;03m# List used as key here -> NOT ALLOWED!\u001b[39;00m\n\u001b[1;32m      5\u001b[0m     },\n\u001b[1;32m      6\u001b[0m     \u001b[38;5;241m45\u001b[39m : \u001b[38;5;124m\"\u001b[39m\u001b[38;5;124mnum1\u001b[39m\u001b[38;5;124m\"\u001b[39m,\n\u001b[1;32m      7\u001b[0m     \u001b[38;5;241m45.6\u001b[39m : {\u001b[38;5;241m1\u001b[39m,\u001b[38;5;241m2\u001b[39m,\u001b[38;5;241m3\u001b[39m,\u001b[38;5;241m4\u001b[39m},\n\u001b[1;32m      8\u001b[0m     \u001b[38;5;28;01mTrue\u001b[39;00m: \u001b[38;5;241m12\u001b[39m\n\u001b[1;32m      9\u001b[0m }\n",
      "\u001b[0;31mTypeError\u001b[0m: unhashable type: 'list'"
     ]
    }
   ],
   "source": [
    "random = {\n",
    "    \"key1\" : [1,2,3],\n",
    "    \"key2\" : {\n",
    "        [1,2,3] : 45 # List used as key here -> NOT ALLOWED!\n",
    "    },\n",
    "    45 : \"num1\",\n",
    "    45.6 : {1,2,3,4},\n",
    "    True: 12\n",
    "}"
   ]
  },
  {
   "cell_type": "code",
   "execution_count": null,
   "id": "cdfe9c51",
   "metadata": {},
   "outputs": [],
   "source": []
  }
 ],
 "metadata": {
  "kernelspec": {
   "display_name": "Python 3 (ipykernel)",
   "language": "python",
   "name": "python3"
  },
  "language_info": {
   "codemirror_mode": {
    "name": "ipython",
    "version": 3
   },
   "file_extension": ".py",
   "mimetype": "text/x-python",
   "name": "python",
   "nbconvert_exporter": "python",
   "pygments_lexer": "ipython3",
   "version": "3.9.5"
  }
 },
 "nbformat": 4,
 "nbformat_minor": 5
}
