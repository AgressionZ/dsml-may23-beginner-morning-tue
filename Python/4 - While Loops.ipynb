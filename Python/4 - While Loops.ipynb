{
 "cells": [
  {
   "cell_type": "code",
   "execution_count": 1,
   "id": "b6b0ba07",
   "metadata": {},
   "outputs": [],
   "source": [
    "# Print all integers from 0 to 5 (both included)"
   ]
  },
  {
   "cell_type": "code",
   "execution_count": 2,
   "id": "8713129b",
   "metadata": {},
   "outputs": [
    {
     "name": "stdout",
     "output_type": "stream",
     "text": [
      "0\n",
      "1\n",
      "2\n",
      "3\n",
      "4\n",
      "5\n"
     ]
    }
   ],
   "source": [
    "number = 0\n",
    "\n",
    "while number <= 5:\n",
    "    print(number)\n",
    "    number += 1"
   ]
  },
  {
   "cell_type": "code",
   "execution_count": 3,
   "id": "e896ac4e",
   "metadata": {},
   "outputs": [
    {
     "name": "stdout",
     "output_type": "stream",
     "text": [
      "-5\n",
      "-4\n",
      "-3\n",
      "-2\n",
      "-1\n",
      "0\n",
      "1\n",
      "2\n",
      "3\n",
      "4\n",
      "5\n"
     ]
    }
   ],
   "source": [
    "number = -5\n",
    "\n",
    "while number <= 5:\n",
    "    print(number)\n",
    "    number += 1"
   ]
  },
  {
   "cell_type": "code",
   "execution_count": 4,
   "id": "8441cf79",
   "metadata": {},
   "outputs": [
    {
     "data": {
      "text/plain": [
       "'\\nQuestion 1 - \\nTake an integer input from the user and \\nprint alternate numbers from from 1 to input.\\nInput will be a positive number > 1.\\n\\nINPUT - 7\\nOUTPUT - 1 3 5 7\\n\\nINPUT - 8\\nOUTPUT - 1 3 5 7\\n'"
      ]
     },
     "execution_count": 4,
     "metadata": {},
     "output_type": "execute_result"
    }
   ],
   "source": [
    "'''\n",
    "Question 1 - \n",
    "Take an integer input from the user and \n",
    "print alternate numbers from from 1 to input.\n",
    "Input will be a positive number > 1.\n",
    "\n",
    "INPUT - 7\n",
    "OUTPUT - 1 3 5 7\n",
    "\n",
    "INPUT - 8\n",
    "OUTPUT - 1 3 5 7\n",
    "'''"
   ]
  },
  {
   "cell_type": "code",
   "execution_count": 5,
   "id": "d0926a1e",
   "metadata": {},
   "outputs": [
    {
     "name": "stdout",
     "output_type": "stream",
     "text": [
      "Enter a number - 10\n",
      "1 3 5 7 9 "
     ]
    }
   ],
   "source": [
    "number = int(input(\"Enter a number - \"))\n",
    "\n",
    "i = 1\n",
    "\n",
    "while i <= number:\n",
    "    print(i, end = \" \")\n",
    "    i += 2"
   ]
  },
  {
   "cell_type": "code",
   "execution_count": 6,
   "id": "9214cb89",
   "metadata": {},
   "outputs": [
    {
     "data": {
      "text/plain": [
       "'\\nQuestion 1.1 - \\nTake an integer input from the user and \\nprint alternate numbers from from 1 to input.\\nIf number is > 1 -> Print as required.\\nElse print \"Number is smaller than 1!\"\\n\\nINPUT - 7\\nOUTPUT - 1 3 5 7\\n\\nINPUT - -5\\nOUTPUT - Number is smaller than 1!\\n'"
      ]
     },
     "execution_count": 6,
     "metadata": {},
     "output_type": "execute_result"
    }
   ],
   "source": [
    "'''\n",
    "Question 1.1 - \n",
    "Take an integer input from the user and \n",
    "print alternate numbers from from 1 to input.\n",
    "If number is > 1 -> Print as required.\n",
    "Else print \"Number is smaller than 1!\"\n",
    "\n",
    "INPUT - 7\n",
    "OUTPUT - 1 3 5 7\n",
    "\n",
    "INPUT - -5\n",
    "OUTPUT - Number is smaller than 1!\n",
    "'''"
   ]
  },
  {
   "cell_type": "code",
   "execution_count": 8,
   "id": "0bfd8311",
   "metadata": {},
   "outputs": [
    {
     "name": "stdout",
     "output_type": "stream",
     "text": [
      "Enter a number - -3\n",
      "Number is smaller than 1!\n"
     ]
    }
   ],
   "source": [
    "number = int(input(\"Enter a number - \"))\n",
    "\n",
    "if number >= 1:\n",
    "    i = 1\n",
    "\n",
    "    while i <= number:\n",
    "        print(i, end = \" \")\n",
    "        i += 2\n",
    "else:\n",
    "    print(\"Number is smaller than 1!\")"
   ]
  },
  {
   "cell_type": "code",
   "execution_count": 10,
   "id": "4c084295",
   "metadata": {},
   "outputs": [
    {
     "data": {
      "text/plain": [
       "'\\nQuestion 2 - \\nTake two integer inputs from user for start and end integer values.\\nPrint every third number starting at start till end. \\n(BOTH START AND END TO BE INCLUDED.)\\n\\nINPUT - \\nstart = 2\\nend = 10\\n\\nOUPUT - 2 5 8\\n'"
      ]
     },
     "execution_count": 10,
     "metadata": {},
     "output_type": "execute_result"
    }
   ],
   "source": [
    "'''\n",
    "Question 2 - \n",
    "Take two integer inputs from user for start and end integer values.\n",
    "Print every third number starting at start till end. \n",
    "(BOTH START AND END TO BE INCLUDED.)\n",
    "\n",
    "INPUT - \n",
    "start = 2\n",
    "end = 10\n",
    "\n",
    "OUPUT - 2 5 8\n",
    "'''"
   ]
  },
  {
   "cell_type": "code",
   "execution_count": 12,
   "id": "28ae5795",
   "metadata": {},
   "outputs": [
    {
     "name": "stdout",
     "output_type": "stream",
     "text": [
      "Starting Value - 2\n",
      "Ending Value - 20\n",
      "2 5 8 11 14 17 20 "
     ]
    }
   ],
   "source": [
    "START = int(input(\"Starting Value - \"))\n",
    "END = int(input(\"Ending Value - \"))\n",
    "\n",
    "while START <= END:\n",
    "    print(START, end = \" \")\n",
    "    START += 3"
   ]
  },
  {
   "cell_type": "code",
   "execution_count": 13,
   "id": "6b8d52cd",
   "metadata": {},
   "outputs": [
    {
     "data": {
      "text/plain": [
       "'\\nQuestion 3 - \\nTake integer inputs from user for start and end values.\\nPrint all even numbers between them. (start and end included)\\n\\nINPUT - \\n3\\n7\\n\\nOUTPUT - 4 6\\n'"
      ]
     },
     "execution_count": 13,
     "metadata": {},
     "output_type": "execute_result"
    }
   ],
   "source": [
    "'''\n",
    "Question 3 - \n",
    "Take integer inputs from user for start and end values.\n",
    "Print all even numbers between them. (start and end included)\n",
    "\n",
    "INPUT - \n",
    "3\n",
    "7\n",
    "\n",
    "OUTPUT - 4 6\n",
    "'''"
   ]
  },
  {
   "cell_type": "code",
   "execution_count": 14,
   "id": "38c178d7",
   "metadata": {},
   "outputs": [
    {
     "name": "stdout",
     "output_type": "stream",
     "text": [
      "Starting Value - 5\n",
      "Ending Value - 20\n",
      "6 8 10 12 14 16 18 20 "
     ]
    }
   ],
   "source": [
    "start = int(input(\"Starting Value - \"))\n",
    "end = int(input(\"Ending Value - \"))\n",
    "\n",
    "while start <= end:\n",
    "    if start % 2 == 0:\n",
    "        print(start, end = \" \")\n",
    "    \n",
    "    start += 1"
   ]
  },
  {
   "cell_type": "code",
   "execution_count": 15,
   "id": "5e6a07c9",
   "metadata": {},
   "outputs": [
    {
     "name": "stdout",
     "output_type": "stream",
     "text": [
      "Starting Value - 5\n",
      "Ending Value - 20\n",
      "6 8 10 12 14 16 18 20 \n",
      "This loop was run 16 times!\n"
     ]
    }
   ],
   "source": [
    "start = int(input(\"Starting Value - \"))\n",
    "end = int(input(\"Ending Value - \"))\n",
    "\n",
    "loop_count = 0\n",
    "\n",
    "while start <= end:\n",
    "    loop_count += 1\n",
    "    \n",
    "    if start % 2 == 0:\n",
    "        print(start, end = \" \")\n",
    "    \n",
    "    start += 1\n",
    "    \n",
    "print(\"\\nThis loop was run\", loop_count, \"times!\")"
   ]
  },
  {
   "cell_type": "code",
   "execution_count": 16,
   "id": "ce88521b",
   "metadata": {},
   "outputs": [],
   "source": [
    "# OPTIMIZED APPROACH"
   ]
  },
  {
   "cell_type": "code",
   "execution_count": 17,
   "id": "0e9972d8",
   "metadata": {},
   "outputs": [
    {
     "name": "stdout",
     "output_type": "stream",
     "text": [
      "Starting Value - 5\n",
      "Ending Value - 20\n",
      "6 8 10 12 14 16 18 20 "
     ]
    }
   ],
   "source": [
    "start = int(input(\"Starting Value - \"))\n",
    "end = int(input(\"Ending Value - \"))\n",
    "\n",
    "if start % 2 != 0:\n",
    "    start += 1\n",
    "    \n",
    "while start <= end:\n",
    "    print(start, end = \" \")\n",
    "    \n",
    "    start += 2"
   ]
  },
  {
   "cell_type": "code",
   "execution_count": 18,
   "id": "093311ec",
   "metadata": {},
   "outputs": [
    {
     "name": "stdout",
     "output_type": "stream",
     "text": [
      "Starting Value - 5\n",
      "Ending Value - 20\n",
      "6 8 10 12 14 16 18 20 \n",
      "This loop was run 8 times!\n"
     ]
    }
   ],
   "source": [
    "start = int(input(\"Starting Value - \"))\n",
    "end = int(input(\"Ending Value - \"))\n",
    "\n",
    "if start % 2 != 0:\n",
    "    start += 1\n",
    "    \n",
    "loop_count = 0\n",
    "    \n",
    "while start <= end:\n",
    "    loop_count += 1\n",
    "    \n",
    "    print(start, end = \" \")\n",
    "    \n",
    "    start += 2\n",
    "    \n",
    "print(\"\\nThis loop was run\", loop_count, \"times!\")"
   ]
  },
  {
   "cell_type": "code",
   "execution_count": 19,
   "id": "c43751a1",
   "metadata": {},
   "outputs": [
    {
     "data": {
      "text/plain": [
       "'\\nQuestion 4 -\\nTake a number input from user.\\nPrint its multiplication table till 10th multiple.\\n\\nINPUT - 7\\nOUTPUT - 7 14 21 28 35 42 49 56 63 70\\n'"
      ]
     },
     "execution_count": 19,
     "metadata": {},
     "output_type": "execute_result"
    }
   ],
   "source": [
    "'''\n",
    "Question 4 -\n",
    "Take a number input from user.\n",
    "Print its multiplication table till 10th multiple.\n",
    "\n",
    "INPUT - 7\n",
    "OUTPUT - 7 14 21 28 35 42 49 56 63 70\n",
    "'''"
   ]
  },
  {
   "cell_type": "code",
   "execution_count": 20,
   "id": "7c85d737",
   "metadata": {},
   "outputs": [
    {
     "name": "stdout",
     "output_type": "stream",
     "text": [
      "9\n",
      "9 18 27 36 45 54 63 72 81 90 "
     ]
    }
   ],
   "source": [
    "number = int(input())\n",
    "\n",
    "i = 1\n",
    "\n",
    "while i <= 10:\n",
    "    print(number * i, end = \" \")\n",
    "    i += 1"
   ]
  },
  {
   "cell_type": "code",
   "execution_count": 21,
   "id": "8b779cf7",
   "metadata": {},
   "outputs": [
    {
     "data": {
      "text/plain": [
       "'\\nQuestion 5 - \\n1. Take an integer input from user. \\n   This is the number of test cases. (count)\\n2. Take integer input for each test case from the user.\\n3. Print multiplication table of that integer.\\n\\n\\nINPUT - 3\\n\\nOUTPUT - \\nPlease input number 1 - 2\\nMultiplication table - 2 4 6 8 10 12 14 16 18 20\\n\\nPlese input number 2 - 1\\nMultiplication table - 1 2 3 4 5 6 7 8 9 10\\n\\nPlease input number 3 - 5\\nMultiplication table - 5 10 15 20 25 30 35 40 45 50\\n'"
      ]
     },
     "execution_count": 21,
     "metadata": {},
     "output_type": "execute_result"
    }
   ],
   "source": [
    "'''\n",
    "Question 5 - \n",
    "1. Take an integer input from user. \n",
    "   This is the number of test cases. (count)\n",
    "2. Take integer input for each test case from the user.\n",
    "3. Print multiplication table of that integer.\n",
    "\n",
    "\n",
    "INPUT - 3\n",
    "\n",
    "OUTPUT - \n",
    "Please input number 1 - 2\n",
    "Multiplication table - 2 4 6 8 10 12 14 16 18 20\n",
    "\n",
    "Plese input number 2 - 1\n",
    "Multiplication table - 1 2 3 4 5 6 7 8 9 10\n",
    "\n",
    "Please input number 3 - 5\n",
    "Multiplication table - 5 10 15 20 25 30 35 40 45 50\n",
    "'''"
   ]
  },
  {
   "cell_type": "code",
   "execution_count": null,
   "id": "9983067e",
   "metadata": {},
   "outputs": [
    {
     "name": "stdout",
     "output_type": "stream",
     "text": [
      "Enter the number of test cases - 2\n",
      "Please input number - 7\n"
     ]
    }
   ],
   "source": [
    "test_cases = int(input(\"Enter the number of test cases - \"))\n",
    "\n",
    "t = 1\n",
    "\n",
    "while t <= test_cases:\n",
    "    # CODE FOR MULTIPLICATION TABLE\n",
    "    number = int(input(\"Please input number - \"))\n",
    "\n",
    "    i = 1\n",
    "\n",
    "    while i <= 10:\n",
    "        print(number * i, end = \" \")\n",
    "        i += 1\n",
    "    # ENDS HERE\n",
    "    \n",
    "    print()\n",
    "    t += 1"
   ]
  },
  {
   "cell_type": "code",
   "execution_count": null,
   "id": "f0fbd66c",
   "metadata": {},
   "outputs": [],
   "source": []
  }
 ],
 "metadata": {
  "kernelspec": {
   "display_name": "Python 3 (ipykernel)",
   "language": "python",
   "name": "python3"
  },
  "language_info": {
   "codemirror_mode": {
    "name": "ipython",
    "version": 3
   },
   "file_extension": ".py",
   "mimetype": "text/x-python",
   "name": "python",
   "nbconvert_exporter": "python",
   "pygments_lexer": "ipython3",
   "version": "3.9.5"
  }
 },
 "nbformat": 4,
 "nbformat_minor": 5
}
