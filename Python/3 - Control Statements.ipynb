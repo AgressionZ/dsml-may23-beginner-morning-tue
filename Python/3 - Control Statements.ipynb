{
 "cells": [
  {
   "cell_type": "code",
   "execution_count": 1,
   "id": "ec6dd96e",
   "metadata": {},
   "outputs": [
    {
     "name": "stdout",
     "output_type": "stream",
     "text": [
      "0\n",
      "1\n",
      "2\n",
      "3\n",
      "4\n"
     ]
    }
   ],
   "source": [
    "print(\"0\")\n",
    "\n",
    "if 50 > 40:\n",
    "    print(\"1\")\n",
    "    print(\"2\")\n",
    "    print(\"3\")\n",
    "\n",
    "print(\"4\")"
   ]
  },
  {
   "cell_type": "code",
   "execution_count": 2,
   "id": "7e281ff3",
   "metadata": {},
   "outputs": [
    {
     "name": "stdout",
     "output_type": "stream",
     "text": [
      "0\n",
      "4\n"
     ]
    }
   ],
   "source": [
    "print(\"0\")\n",
    "\n",
    "if 50 < 40:\n",
    "    print(\"1\")\n",
    "    print(\"2\")\n",
    "    print(\"3\")\n",
    "\n",
    "print(\"4\")"
   ]
  },
  {
   "cell_type": "code",
   "execution_count": 3,
   "id": "88898c66",
   "metadata": {},
   "outputs": [
    {
     "data": {
      "text/plain": [
       "'\\nLINES BEFORE THE IF-ELSE BLOCK WILL ALWAYS EXECUTE.\\n\\nif <condition>:\\n    IF BLOCK EXECUTES IF THE CONDITION IS TRUE.\\n    SECOND LINE.\\n    THIRD LINE.\\nelse:\\n    ELSE BLOCK EXECUTES IF THE CONDITION IS FALSE.\\n    SECOND LINE.\\n    THIRD LINE.\\n\\nLINES AFTER THE IF-ELSE BLOCK WILL ALWAYS EXECUTE.\\n'"
      ]
     },
     "execution_count": 3,
     "metadata": {},
     "output_type": "execute_result"
    }
   ],
   "source": [
    "'''\n",
    "LINES BEFORE THE IF-ELSE BLOCK WILL ALWAYS EXECUTE.\n",
    "\n",
    "if <condition>:\n",
    "    IF BLOCK EXECUTES IF THE CONDITION IS TRUE.\n",
    "    SECOND LINE.\n",
    "    THIRD LINE.\n",
    "else:\n",
    "    ELSE BLOCK EXECUTES IF THE CONDITION IS FALSE.\n",
    "    SECOND LINE.\n",
    "    THIRD LINE.\n",
    "\n",
    "LINES AFTER THE IF-ELSE BLOCK WILL ALWAYS EXECUTE.\n",
    "'''"
   ]
  },
  {
   "cell_type": "code",
   "execution_count": 4,
   "id": "3c066d65",
   "metadata": {},
   "outputs": [
    {
     "data": {
      "text/plain": [
       "'\\nQuestion 1 - \\n1. Take an integer as input from the user.\\n2. Calculate cube of the input.\\n3. If result > 50 print \"Massive Number\" else print \"Small Number\".\\n4. After this, print \"EXECUTION COMPLETE!\"\\n'"
      ]
     },
     "execution_count": 4,
     "metadata": {},
     "output_type": "execute_result"
    }
   ],
   "source": [
    "'''\n",
    "Question 1 - \n",
    "1. Take an integer as input from the user.\n",
    "2. Calculate cube of the input.\n",
    "3. If result > 50 print \"Massive Number\" else print \"Small Number\".\n",
    "4. After this, print \"EXECUTION COMPLETE!\"\n",
    "'''"
   ]
  },
  {
   "cell_type": "code",
   "execution_count": 6,
   "id": "4f9dd5b8",
   "metadata": {},
   "outputs": [
    {
     "name": "stdout",
     "output_type": "stream",
     "text": [
      "3\n",
      "Small Number!\n",
      "EXECUTION COMPLETE!\n"
     ]
    }
   ],
   "source": [
    "n = int(input())\n",
    "\n",
    "result = n ** 3\n",
    "\n",
    "if result > 50:\n",
    "    print(\"Massive Number!\")\n",
    "else:\n",
    "    print(\"Small Number!\")\n",
    "\n",
    "print(\"EXECUTION COMPLETE!\")"
   ]
  },
  {
   "cell_type": "code",
   "execution_count": 7,
   "id": "a2312531",
   "metadata": {},
   "outputs": [
    {
     "data": {
      "text/plain": [
       "'\\nQuestion 2 -\\n1. Take a password as input from User.\\n2. Take another input to verify password.\\n3. Print \"Successfully Verified!\" if both passwords are same.\\n4. Print \"Verification Failed!\" otherwise.\\n'"
      ]
     },
     "execution_count": 7,
     "metadata": {},
     "output_type": "execute_result"
    }
   ],
   "source": [
    "'''\n",
    "Question 2 -\n",
    "1. Take a password as input from User.\n",
    "2. Take another input to verify password.\n",
    "3. Print \"Successfully Verified!\" if both passwords are same.\n",
    "4. Print \"Verification Failed!\" otherwise.\n",
    "'''"
   ]
  },
  {
   "cell_type": "code",
   "execution_count": 9,
   "id": "567d4069",
   "metadata": {},
   "outputs": [
    {
     "name": "stdout",
     "output_type": "stream",
     "text": [
      "Enter your password - password\n",
      "Enter your password again - random123\n",
      "Verification Failed!\n"
     ]
    }
   ],
   "source": [
    "password_1 = input(\"Enter your password - \")\n",
    "password_2 = input(\"Enter your password again - \")\n",
    "\n",
    "if password_1 == password_2:\n",
    "    print(\"Successfully Verified!\")\n",
    "else:\n",
    "    print(\"Verification Failed!\")"
   ]
  },
  {
   "cell_type": "code",
   "execution_count": 11,
   "id": "84520601",
   "metadata": {},
   "outputs": [
    {
     "name": "stdout",
     "output_type": "stream",
     "text": [
      "14\n",
      "Good Afternoon :|\n"
     ]
    }
   ],
   "source": [
    "time = int(input())\n",
    "\n",
    "if time > 9 and time <= 12:\n",
    "    print(\"Good Morning :)\")\n",
    "else:\n",
    "    if time > 12 and time <= 17:\n",
    "        print(\"Good Afternoon :|\")\n",
    "    else:\n",
    "        if time > 17 and time <= 20:\n",
    "            print(\"Good Evening :(\")\n",
    "        else:\n",
    "            print(\"Good Night >:(\")"
   ]
  },
  {
   "cell_type": "code",
   "execution_count": 13,
   "id": "8c34262a",
   "metadata": {},
   "outputs": [
    {
     "name": "stdout",
     "output_type": "stream",
     "text": [
      "14\n",
      "Good Afternoon :)\n"
     ]
    }
   ],
   "source": [
    "time = int(input())\n",
    "\n",
    "if time > 9 and time <= 12:\n",
    "    print(\"Good Morning :)\")\n",
    "elif time > 12 and time <= 17:\n",
    "    print(\"Good Afternoon :)\")\n",
    "elif time > 17 and time <= 20:\n",
    "    print(\"Good Evening :)\")\n",
    "else:\n",
    "    print(\"Good Night :)\")"
   ]
  },
  {
   "cell_type": "markdown",
   "id": "3aa00c5f",
   "metadata": {},
   "source": [
    "# PRACTICE, PRACTICE and PRACTICE!"
   ]
  },
  {
   "cell_type": "code",
   "execution_count": 14,
   "id": "afaf5c42",
   "metadata": {},
   "outputs": [
    {
     "data": {
      "text/plain": [
       "'\\nQuestion 3 - \\n1. Take an integer as input from the user.\\n2. Print whether it is positive or not.\\n3. If it is zero, print \"ZERO\"\\n'"
      ]
     },
     "execution_count": 14,
     "metadata": {},
     "output_type": "execute_result"
    }
   ],
   "source": [
    "'''\n",
    "Question 3 - \n",
    "1. Take an integer as input from the user.\n",
    "2. Print whether it is positive or not.\n",
    "3. If it is zero, print \"ZERO\"\n",
    "'''"
   ]
  },
  {
   "cell_type": "code",
   "execution_count": 18,
   "id": "3511159f",
   "metadata": {},
   "outputs": [
    {
     "name": "stdout",
     "output_type": "stream",
     "text": [
      "-5\n",
      "Negative\n"
     ]
    }
   ],
   "source": [
    "number = int(input())\n",
    "\n",
    "if number > 0:\n",
    "    print(\"Positive\")\n",
    "elif number == 0:\n",
    "    print(\"Zero\")\n",
    "else:\n",
    "    print(\"Negative\")"
   ]
  },
  {
   "cell_type": "code",
   "execution_count": 19,
   "id": "44797d64",
   "metadata": {},
   "outputs": [
    {
     "data": {
      "text/plain": [
       "'\\nQuestion 4 - \\nTake a non-negative single digit positive number as input.\\nIf num**5%50+20-6 is > 15\\nthen print(\"BLACK\") else print(\"BLUE\").\\n\\nNote - Reject any inputs which are not single digit or positive. Print \"Invalid Input!\"\\n'"
      ]
     },
     "execution_count": 19,
     "metadata": {},
     "output_type": "execute_result"
    }
   ],
   "source": [
    "'''\n",
    "Question 4 - \n",
    "Take a non-negative single digit positive number as input.\n",
    "If num**5%50+20-6 is > 15\n",
    "then print(\"BLACK\") else print(\"BLUE\").\n",
    "\n",
    "Note - Reject any inputs which are not single digit or positive. Print \"Invalid Input!\"\n",
    "'''"
   ]
  },
  {
   "cell_type": "code",
   "execution_count": 23,
   "id": "8bb99b90",
   "metadata": {},
   "outputs": [
    {
     "name": "stdout",
     "output_type": "stream",
     "text": [
      "1\n",
      "BLUE\n"
     ]
    }
   ],
   "source": [
    "number = int(input())\n",
    "\n",
    "if number >= 0 and number <= 9:\n",
    "    # Number is accepted\n",
    "    result = number ** 5 % 50 + 20 - 6\n",
    "    \n",
    "    if result > 15:\n",
    "        print(\"BLACK\")\n",
    "    else:\n",
    "        print(\"BLUE\")\n",
    "else:\n",
    "    # Number is rejected\n",
    "    print(\"Invalid Input!\")"
   ]
  },
  {
   "cell_type": "code",
   "execution_count": 27,
   "id": "13e295c2",
   "metadata": {},
   "outputs": [
    {
     "name": "stdout",
     "output_type": "stream",
     "text": [
      "-5\n",
      "Invalid Input!\n"
     ]
    }
   ],
   "source": [
    "number = int(input())\n",
    "\n",
    "if number < 0 or number > 9:\n",
    "    # Number is rejected\n",
    "    print(\"Invalid Input!\")\n",
    "else:\n",
    "    # Number is accepted\n",
    "    result = number ** 5 % 50 + 20 - 6\n",
    "    \n",
    "    if result > 15:\n",
    "        print(\"BLACK\")\n",
    "    else:\n",
    "        print(\"BLUE\")"
   ]
  },
  {
   "cell_type": "code",
   "execution_count": 28,
   "id": "ea6fd8ef",
   "metadata": {},
   "outputs": [
    {
     "name": "stdout",
     "output_type": "stream",
     "text": [
      "1\n",
      "BLUE\n"
     ]
    }
   ],
   "source": [
    "number = int(input())\n",
    "\n",
    "if not (number >= 0 and number <= 9):\n",
    "    # Number is rejected\n",
    "    print(\"Invalid Input!\")\n",
    "else:\n",
    "    # Number is accepted\n",
    "    result = number ** 5 % 50 + 20 - 6\n",
    "    \n",
    "    if result > 15:\n",
    "        print(\"BLACK\")\n",
    "    else:\n",
    "        print(\"BLUE\")"
   ]
  },
  {
   "cell_type": "code",
   "execution_count": 32,
   "id": "8dd81ea1",
   "metadata": {},
   "outputs": [
    {
     "name": "stdout",
     "output_type": "stream",
     "text": [
      "-4\n",
      "Invalid Input!\n"
     ]
    }
   ],
   "source": [
    "number = int(input())\n",
    "\n",
    "if number < 0 or number > 9:\n",
    "    # Number is rejected\n",
    "    print(\"Invalid Input!\")\n",
    "elif number ** 5 % 50 + 20 - 6 > 15:\n",
    "    print(\"BLACK\")\n",
    "else:\n",
    "    print(\"BLUE\")"
   ]
  },
  {
   "cell_type": "code",
   "execution_count": 33,
   "id": "36297e62",
   "metadata": {},
   "outputs": [
    {
     "data": {
      "text/plain": [
       "'\\nQuestion 6 (Google, Microsoft, Cred, Razorpay, Twitter, Meta...) - \\nFIZZBUZZ - \\n1. Take an integer input n.\\n2. if n is a multiple of 3 -> print FIZZ\\n3. if n is a multiple of 5 -> print BUZZ\\n4. if n is a multiple of 3 and 5 both -> print FIZZBUZZ.\\n\\nOtherwise print nothing!\\n'"
      ]
     },
     "execution_count": 33,
     "metadata": {},
     "output_type": "execute_result"
    }
   ],
   "source": [
    "'''\n",
    "Question 6 (Google, Microsoft, Cred, Razorpay, Twitter, Meta...) - \n",
    "FIZZBUZZ - \n",
    "1. Take an integer input n.\n",
    "2. if n is a multiple of 3 -> print FIZZ\n",
    "3. if n is a multiple of 5 -> print BUZZ\n",
    "4. if n is a multiple of 3 and 5 both -> print FIZZBUZZ.\n",
    "\n",
    "Otherwise print nothing!\n",
    "'''"
   ]
  },
  {
   "cell_type": "code",
   "execution_count": 37,
   "id": "4f6538a3",
   "metadata": {},
   "outputs": [
    {
     "name": "stdout",
     "output_type": "stream",
     "text": [
      "15\n",
      "FIZZ\n"
     ]
    }
   ],
   "source": [
    "n = int(input())\n",
    "\n",
    "if n % 3 == 0:\n",
    "    print(\"FIZZ\")\n",
    "elif n % 5 == 0:\n",
    "    print(\"BUZZ\")\n",
    "elif n % 3 == 0 and n % 5 == 0:\n",
    "    print(\"FIZZBUZZ\")\n",
    "else:\n",
    "    print(\"\")"
   ]
  },
  {
   "cell_type": "code",
   "execution_count": 40,
   "id": "6a6838ab",
   "metadata": {},
   "outputs": [
    {
     "name": "stdout",
     "output_type": "stream",
     "text": [
      "15\n",
      "FIZZBUZZ\n"
     ]
    }
   ],
   "source": [
    "n = int(input())\n",
    "\n",
    "if n % 3 == 0 and n % 5 == 0:\n",
    "    print(\"FIZZBUZZ\")\n",
    "elif n % 5 == 0:\n",
    "    print(\"BUZZ\")\n",
    "elif n % 3 == 0:\n",
    "    print(\"FIZZ\")\n",
    "else:\n",
    "    print(\"\")"
   ]
  },
  {
   "cell_type": "code",
   "execution_count": 41,
   "id": "3334bde9",
   "metadata": {},
   "outputs": [
    {
     "data": {
      "text/plain": [
       "'\\nQuestion 7 -\\nWhat will be the output of the following?\\n\\na = 50\\nif a > 40:\\n    print(\"A\")\\nif a > 30:\\n    print(\"B\")\\nif a > 20:\\n    print(\"C\")\\n'"
      ]
     },
     "execution_count": 41,
     "metadata": {},
     "output_type": "execute_result"
    }
   ],
   "source": [
    "'''\n",
    "Question 7 -\n",
    "What will be the output of the following?\n",
    "\n",
    "a = 50\n",
    "if a > 40:\n",
    "    print(\"A\")\n",
    "if a > 30:\n",
    "    print(\"B\")\n",
    "if a > 20:\n",
    "    print(\"C\")\n",
    "'''"
   ]
  },
  {
   "cell_type": "code",
   "execution_count": 45,
   "id": "847b56c2",
   "metadata": {},
   "outputs": [
    {
     "name": "stdout",
     "output_type": "stream",
     "text": [
      "A\n",
      "B\n",
      "C\n"
     ]
    }
   ],
   "source": [
    "a = 50\n",
    "if a > 40:\n",
    "    print(\"A\")\n",
    "    \n",
    "if a > 30:\n",
    "    print(\"B\")\n",
    "    \n",
    "if a > 20:\n",
    "    print(\"C\")"
   ]
  },
  {
   "cell_type": "code",
   "execution_count": 46,
   "id": "fd6025d0",
   "metadata": {},
   "outputs": [
    {
     "data": {
      "text/plain": [
       "'\\nQuestion 8 - \\nBuild a meter system for an auto. Take into two inputs. \\nKilometers Travelled and Stall Time (in minutes). Rate List -\\n- First 10 kms - Rs 10 per Km\\n- Next 40 kms - Rs 9 per Km\\n- Next 100 kms - Rs 8 per Km\\n- Any leftover km count - Rs. 6 per Km\\n\\n- Rs 5 extra for every minute of Stall Time.\\n'"
      ]
     },
     "execution_count": 46,
     "metadata": {},
     "output_type": "execute_result"
    }
   ],
   "source": [
    "'''\n",
    "Question 8 - \n",
    "Build a meter system for an auto. Take into two inputs. \n",
    "Kilometers Travelled and Stall Time (in minutes). Rate List -\n",
    "- First 10 kms - Rs 10 per Km\n",
    "- Next 40 kms - Rs 9 per Km\n",
    "- Next 100 kms - Rs 8 per Km\n",
    "- Any leftover km count - Rs. 6 per Km\n",
    "\n",
    "- Rs 5 extra for every minute of Stall Time.\n",
    "'''"
   ]
  },
  {
   "cell_type": "code",
   "execution_count": 49,
   "id": "a7c9938c",
   "metadata": {},
   "outputs": [
    {
     "name": "stdout",
     "output_type": "stream",
     "text": [
      "5\n",
      "5\n",
      "75\n"
     ]
    }
   ],
   "source": [
    "kms = int(input())\n",
    "mins = int(input())\n",
    "\n",
    "if kms >= 150:\n",
    "    price = (kms - 150) * 6 + (100 * 8 + 40 * 9 + 10 * 10)\n",
    "elif kms >= 50:\n",
    "    price = (kms - 50) * 8 + 40 * 9 + 10 * 10\n",
    "elif kms >= 10:\n",
    "    price = (kms - 10) * 9 + 10 * 10\n",
    "else:\n",
    "    price = kms * 10\n",
    "    \n",
    "price += 5 * mins\n",
    "print(price)"
   ]
  },
  {
   "cell_type": "code",
   "execution_count": 50,
   "id": "1589cefa",
   "metadata": {},
   "outputs": [
    {
     "data": {
      "text/plain": [
       "'\\nBONUS QUESTIONS - \\n1. Generate electricity bill using the following rate card.\\nTake units consumed as input -\\n- If < 100 units -> Free\\n- If >= 100 units and < 200 units -> Rs 2 per unit\\n- If >= 200 units -> Rs 5 per unit\\n\\n------------------------------------------\\n\\n2. Take in three inputs from a user which are marksin english, maths and science.\\nAssign streams according to the following criteria.\\n- if science > 90 or marks in all are greater than 75 -> Science\\n- if marks in all are greater than 60 and less than 75 -> Commerce\\n- if marks in any are less than 60 -> Humanities\\n\\n------------------------------------------\\n\\n3. Feedback System - Take string feedback from a user.\\nNow,\\n    if any the feedback is provided,\\n        print(\"Thank you for providing the feedback\").\\n    If feedback is \"Super\", \"Great\", \"Fantastic\", \"Awesome\",\\n        print(\"Thank you so much!\")\\n        \\n------------------------------------------\\n\\n4. Take an amount as input from the user\\n    You only have 200 and 500 Rs Notes in the ATM. For one transaction,\\n    you can only dispatch notes of a single type.\\n    Given the amount - \\n        - \"Dispatching Cash!\" if it can be dispatched.\\n        - \"Denomination not available!\" if it can not be \\n\\n'"
      ]
     },
     "execution_count": 50,
     "metadata": {},
     "output_type": "execute_result"
    }
   ],
   "source": [
    "'''\n",
    "BONUS QUESTIONS - \n",
    "1. Generate electricity bill using the following rate card.\n",
    "Take units consumed as input -\n",
    "- If < 100 units -> Free\n",
    "- If >= 100 units and < 200 units -> Rs 2 per unit\n",
    "- If >= 200 units -> Rs 5 per unit\n",
    "\n",
    "------------------------------------------\n",
    "\n",
    "2. Take in three inputs from a user which are marksin english, maths and science.\n",
    "Assign streams according to the following criteria.\n",
    "- if science > 90 or marks in all are greater than 75 -> Science\n",
    "- if marks in all are greater than 60 and less than 75 -> Commerce\n",
    "- if marks in any are less than 60 -> Humanities\n",
    "\n",
    "------------------------------------------\n",
    "\n",
    "3. Feedback System - Take string feedback from a user.\n",
    "Now,\n",
    "    if any the feedback is provided,\n",
    "        print(\"Thank you for providing the feedback\").\n",
    "    If feedback is \"Super\", \"Great\", \"Fantastic\", \"Awesome\",\n",
    "        print(\"Thank you so much!\")\n",
    "        \n",
    "------------------------------------------\n",
    "\n",
    "4. Take an amount as input from the user\n",
    "    You only have 200 and 500 Rs Notes in the ATM. For one transaction,\n",
    "    you can only dispatch notes of a single type.\n",
    "    Given the amount - \n",
    "        - \"Dispatching Cash!\" if it can be dispatched.\n",
    "        - \"Denomination not available!\" if it can not be \n",
    "\n",
    "'''"
   ]
  },
  {
   "cell_type": "code",
   "execution_count": null,
   "id": "7de9eb91",
   "metadata": {},
   "outputs": [],
   "source": []
  }
 ],
 "metadata": {
  "kernelspec": {
   "display_name": "Python 3 (ipykernel)",
   "language": "python",
   "name": "python3"
  },
  "language_info": {
   "codemirror_mode": {
    "name": "ipython",
    "version": 3
   },
   "file_extension": ".py",
   "mimetype": "text/x-python",
   "name": "python",
   "nbconvert_exporter": "python",
   "pygments_lexer": "ipython3",
   "version": "3.9.5"
  }
 },
 "nbformat": 4,
 "nbformat_minor": 5
}
