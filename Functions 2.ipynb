{
 "cells": [
  {
   "cell_type": "code",
   "execution_count": 1,
   "id": "15fddc30",
   "metadata": {},
   "outputs": [],
   "source": [
    "# FUNCTION DEFINITION\n",
    "def function_name():\n",
    "    x = 10\n",
    "    print(\"Inside function!\")\n",
    "    print(x)"
   ]
  },
  {
   "cell_type": "code",
   "execution_count": 3,
   "id": "94ea7b30",
   "metadata": {},
   "outputs": [
    {
     "name": "stdout",
     "output_type": "stream",
     "text": [
      "Inside function!\n",
      "10\n"
     ]
    }
   ],
   "source": [
    "# FUNCTION CALL / EXECUTION\n",
    "function_name()"
   ]
  },
  {
   "cell_type": "code",
   "execution_count": 4,
   "id": "d278e61f",
   "metadata": {},
   "outputs": [],
   "source": [
    "def random1():\n",
    "    return True\n",
    "\n",
    "def random2():\n",
    "    print(True)"
   ]
  },
  {
   "cell_type": "code",
   "execution_count": 5,
   "id": "90b24872",
   "metadata": {},
   "outputs": [
    {
     "data": {
      "text/plain": [
       "True"
      ]
     },
     "execution_count": 5,
     "metadata": {},
     "output_type": "execute_result"
    }
   ],
   "source": [
    "random1()"
   ]
  },
  {
   "cell_type": "code",
   "execution_count": 6,
   "id": "3227c442",
   "metadata": {},
   "outputs": [
    {
     "name": "stdout",
     "output_type": "stream",
     "text": [
      "True\n"
     ]
    }
   ],
   "source": [
    "random2()"
   ]
  },
  {
   "cell_type": "code",
   "execution_count": 7,
   "id": "9d5cdb57",
   "metadata": {},
   "outputs": [
    {
     "name": "stdout",
     "output_type": "stream",
     "text": [
      "True\n"
     ]
    }
   ],
   "source": [
    "result1 = random1()\n",
    "result2 = random2()"
   ]
  },
  {
   "cell_type": "code",
   "execution_count": 9,
   "id": "bbdd4005",
   "metadata": {},
   "outputs": [
    {
     "name": "stdout",
     "output_type": "stream",
     "text": [
      "True\n",
      "None\n"
     ]
    }
   ],
   "source": [
    "print(result1, result2, sep = \"\\n\")"
   ]
  },
  {
   "cell_type": "code",
   "execution_count": 10,
   "id": "1bf76e4c",
   "metadata": {},
   "outputs": [],
   "source": [
    "def simple_interest(p, r, t):\n",
    "    interest = (p * r * t) / 100\n",
    "    \n",
    "    return interest"
   ]
  },
  {
   "cell_type": "code",
   "execution_count": 11,
   "id": "b10326fa",
   "metadata": {},
   "outputs": [
    {
     "data": {
      "text/plain": [
       "2500.0"
      ]
     },
     "execution_count": 11,
     "metadata": {},
     "output_type": "execute_result"
    }
   ],
   "source": [
    "simple_interest(10000, 5, 5)"
   ]
  },
  {
   "cell_type": "code",
   "execution_count": 12,
   "id": "c7064581",
   "metadata": {},
   "outputs": [],
   "source": [
    "def simple_interest(p, r, t = 10):\n",
    "    interest = (p * r * t) / 100\n",
    "    \n",
    "    return interest"
   ]
  },
  {
   "cell_type": "code",
   "execution_count": 13,
   "id": "95c04c59",
   "metadata": {},
   "outputs": [
    {
     "data": {
      "text/plain": [
       "5000.0"
      ]
     },
     "execution_count": 13,
     "metadata": {},
     "output_type": "execute_result"
    }
   ],
   "source": [
    "simple_interest(10000, 5)"
   ]
  },
  {
   "cell_type": "code",
   "execution_count": 14,
   "id": "719dba75",
   "metadata": {},
   "outputs": [
    {
     "data": {
      "text/plain": [
       "10000.0"
      ]
     },
     "execution_count": 14,
     "metadata": {},
     "output_type": "execute_result"
    }
   ],
   "source": [
    "simple_interest(10000, 5, 20)"
   ]
  },
  {
   "cell_type": "code",
   "execution_count": 15,
   "id": "6448de13",
   "metadata": {},
   "outputs": [
    {
     "ename": "SyntaxError",
     "evalue": "non-default argument follows default argument (21423845.py, line 1)",
     "output_type": "error",
     "traceback": [
      "\u001b[0;36m  Cell \u001b[0;32mIn[15], line 1\u001b[0;36m\u001b[0m\n\u001b[0;31m    def simple_interest(p, r = 5, t):\u001b[0m\n\u001b[0m                                   ^\u001b[0m\n\u001b[0;31mSyntaxError\u001b[0m\u001b[0;31m:\u001b[0m non-default argument follows default argument\n"
     ]
    }
   ],
   "source": [
    "def simple_interest(p, r = 5, t):\n",
    "    interest = (p * r * t) / 100\n",
    "    \n",
    "    return interest\n",
    "\n",
    "'''\n",
    "Python does not allow the creation of functions\n",
    "where there are optional arguments before required arguments!\n",
    "The order should always be -> REQUIRED followed by OPTIONAL (DEFAULT)\n",
    "'''"
   ]
  },
  {
   "cell_type": "code",
   "execution_count": 16,
   "id": "1452f79f",
   "metadata": {},
   "outputs": [],
   "source": [
    "def simple_interest(p, r = 5, t = 10):\n",
    "    interest = (p * r * t) / 100\n",
    "    \n",
    "    return interest"
   ]
  },
  {
   "cell_type": "code",
   "execution_count": 17,
   "id": "597fcae3",
   "metadata": {},
   "outputs": [
    {
     "data": {
      "text/plain": [
       "5000.0"
      ]
     },
     "execution_count": 17,
     "metadata": {},
     "output_type": "execute_result"
    }
   ],
   "source": [
    "simple_interest(10000)"
   ]
  },
  {
   "cell_type": "code",
   "execution_count": 19,
   "id": "5631e3bf",
   "metadata": {},
   "outputs": [
    {
     "data": {
      "text/plain": [
       "10000.0"
      ]
     },
     "execution_count": 19,
     "metadata": {},
     "output_type": "execute_result"
    }
   ],
   "source": [
    "simple_interest(10000, 10)"
   ]
  },
  {
   "cell_type": "code",
   "execution_count": 20,
   "id": "c283d5f5",
   "metadata": {},
   "outputs": [
    {
     "data": {
      "text/plain": [
       "20000.0"
      ]
     },
     "execution_count": 20,
     "metadata": {},
     "output_type": "execute_result"
    }
   ],
   "source": [
    "simple_interest(10000, 10, 20)"
   ]
  },
  {
   "cell_type": "code",
   "execution_count": 21,
   "id": "ac8f4c8b",
   "metadata": {},
   "outputs": [
    {
     "data": {
      "text/plain": [
       "'\\nQuestion 1 - \\nCreate a date printing function - \\nShould take 4 arguments -> day, month, year and style\\n\\nStyling Logic - \\nstyle -> 0 -> d/m/y\\nstyle -> 1 -> m/d/y\\nstyle -> any other value -> Invalid Style\\n\\ndefault style is 0.\\n'"
      ]
     },
     "execution_count": 21,
     "metadata": {},
     "output_type": "execute_result"
    }
   ],
   "source": [
    "'''\n",
    "Question 1 - \n",
    "Create a date printing function - \n",
    "Should take 4 arguments -> day, month, year and style\n",
    "\n",
    "Styling Logic - \n",
    "style -> 0 -> d/m/y\n",
    "style -> 1 -> m/d/y\n",
    "style -> any other value -> Invalid Style\n",
    "\n",
    "default style is 0.\n",
    "'''"
   ]
  },
  {
   "cell_type": "code",
   "execution_count": 22,
   "id": "2058f8a0",
   "metadata": {},
   "outputs": [],
   "source": [
    "def print_date(day, month, year, style = 0):\n",
    "    if style == 0:\n",
    "        print(day, month, year, sep = \"/\")\n",
    "    elif style == 1:\n",
    "        print(month, day, year, sep = \"/\")\n",
    "    else:\n",
    "        print(\"INVALID STYLE!\")"
   ]
  },
  {
   "cell_type": "code",
   "execution_count": 23,
   "id": "ba3fe7eb",
   "metadata": {},
   "outputs": [
    {
     "name": "stdout",
     "output_type": "stream",
     "text": [
      "5/11/1997\n"
     ]
    }
   ],
   "source": [
    "print_date(5, 11, 1997)"
   ]
  },
  {
   "cell_type": "code",
   "execution_count": 24,
   "id": "671ce920",
   "metadata": {},
   "outputs": [
    {
     "name": "stdout",
     "output_type": "stream",
     "text": [
      "11/5/1997\n"
     ]
    }
   ],
   "source": [
    "print_date(5, 11, 1997, 1)"
   ]
  },
  {
   "cell_type": "code",
   "execution_count": 25,
   "id": "7b37fea6",
   "metadata": {},
   "outputs": [
    {
     "name": "stdout",
     "output_type": "stream",
     "text": [
      "INVALID STYLE!\n"
     ]
    }
   ],
   "source": [
    "print_date(5, 11, 1997, 5)"
   ]
  },
  {
   "cell_type": "code",
   "execution_count": 28,
   "id": "7055d06d",
   "metadata": {},
   "outputs": [
    {
     "ename": "SyntaxError",
     "evalue": "leading zeros in decimal integer literals are not permitted; use an 0o prefix for octal integers (526178084.py, line 1)",
     "output_type": "error",
     "traceback": [
      "\u001b[0;36m  Cell \u001b[0;32mIn[28], line 1\u001b[0;36m\u001b[0m\n\u001b[0;31m    print_date(5, 08, 1997) # LEADING ZEROS NOT ALLOWED\u001b[0m\n\u001b[0m                   ^\u001b[0m\n\u001b[0;31mSyntaxError\u001b[0m\u001b[0;31m:\u001b[0m leading zeros in decimal integer literals are not permitted; use an 0o prefix for octal integers\n"
     ]
    }
   ],
   "source": [
    "print_date(5, 08, 1997) # LEADING ZEROS NOT ALLOWED"
   ]
  },
  {
   "cell_type": "code",
   "execution_count": 29,
   "id": "85085e85",
   "metadata": {},
   "outputs": [
    {
     "name": "stdout",
     "output_type": "stream",
     "text": [
      "Inside random1 - 10\n",
      "Inside random2 - 20\n",
      "Outside - 10\n"
     ]
    }
   ],
   "source": [
    "a = 10 # global variable\n",
    "\n",
    "def random1():\n",
    "    print(\"Inside random1 -\", a)\n",
    "    \n",
    "def random2():\n",
    "    a = 20 # local variable\n",
    "    print(\"Inside random2 -\", a)\n",
    "    \n",
    "random1()\n",
    "random2()\n",
    "\n",
    "print(\"Outside -\", a)"
   ]
  },
  {
   "cell_type": "code",
   "execution_count": 33,
   "id": "fa051c20",
   "metadata": {},
   "outputs": [
    {
     "name": "stdout",
     "output_type": "stream",
     "text": [
      "Chief of home - Mother\n",
      "New chief of home - Father\n",
      "Actual and Forver chief of home - Mother\n"
     ]
    }
   ],
   "source": [
    "chief_of_home = \"Mother\" # global variable\n",
    "\n",
    "print(\"Chief of home -\", chief_of_home)\n",
    "\n",
    "def change_chief():\n",
    "    chief_of_home = \"Father\" # local variable\n",
    "    print(\"New chief of home -\", chief_of_home)\n",
    "    \n",
    "change_chief()\n",
    "\n",
    "print(\"Actual and Forver chief of home -\", chief_of_home)"
   ]
  },
  {
   "cell_type": "code",
   "execution_count": 38,
   "id": "e9f32f16",
   "metadata": {},
   "outputs": [
    {
     "name": "stdout",
     "output_type": "stream",
     "text": [
      "Inside the function. a - 20\n",
      "Outside the function. a - 20\n"
     ]
    }
   ],
   "source": [
    "a = 10\n",
    "\n",
    "def random():\n",
    "    global a # Tells python that you are working with global a in this function\n",
    "    \n",
    "    a = 20 # global a will get updated\n",
    "    print(\"Inside the function. a -\", a)\n",
    "    \n",
    "random()\n",
    "print(\"Outside the function. a -\", a)"
   ]
  },
  {
   "cell_type": "code",
   "execution_count": 40,
   "id": "618dbc87",
   "metadata": {},
   "outputs": [
    {
     "name": "stdout",
     "output_type": "stream",
     "text": [
      "Inside random1 - 10\n",
      "Inside random2 - 20\n",
      "Outside - 500000000\n"
     ]
    }
   ],
   "source": [
    "a = 10 # global variable\n",
    "    \n",
    "def random2():\n",
    "    a = 20 # local variable\n",
    "    print(\"Inside random2 -\", a)\n",
    "    \n",
    "random1()\n",
    "random2()\n",
    "\n",
    "a = 500000000\n",
    "\n",
    "print(\"Outside -\", a)"
   ]
  },
  {
   "cell_type": "code",
   "execution_count": 41,
   "id": "d5135f88",
   "metadata": {},
   "outputs": [],
   "source": [
    "# LAMBDA FUNCTIONS"
   ]
  },
  {
   "cell_type": "code",
   "execution_count": 42,
   "id": "b3cf4bbb",
   "metadata": {},
   "outputs": [],
   "source": [
    "def random1(x):\n",
    "    return x + 10\n",
    "\n",
    "# A function that only contains a single statement which is a return value"
   ]
  },
  {
   "cell_type": "code",
   "execution_count": 43,
   "id": "ba82aa9f",
   "metadata": {},
   "outputs": [],
   "source": [
    "random2 = lambda x : x + 10"
   ]
  },
  {
   "cell_type": "code",
   "execution_count": 44,
   "id": "35f609b9",
   "metadata": {},
   "outputs": [
    {
     "data": {
      "text/plain": [
       "15"
      ]
     },
     "execution_count": 44,
     "metadata": {},
     "output_type": "execute_result"
    }
   ],
   "source": [
    "random1(5)"
   ]
  },
  {
   "cell_type": "code",
   "execution_count": 45,
   "id": "013c5ca7",
   "metadata": {},
   "outputs": [
    {
     "data": {
      "text/plain": [
       "15"
      ]
     },
     "execution_count": 45,
     "metadata": {},
     "output_type": "execute_result"
    }
   ],
   "source": [
    "random2(5)"
   ]
  },
  {
   "cell_type": "code",
   "execution_count": 48,
   "id": "6f6b6db4",
   "metadata": {},
   "outputs": [],
   "source": [
    "hello = lambda : \"HELLO\" # Lambda function without arguments"
   ]
  },
  {
   "cell_type": "code",
   "execution_count": 49,
   "id": "eb044c75",
   "metadata": {},
   "outputs": [
    {
     "data": {
      "text/plain": [
       "'HELLO'"
      ]
     },
     "execution_count": 49,
     "metadata": {},
     "output_type": "execute_result"
    }
   ],
   "source": [
    "hello()"
   ]
  },
  {
   "cell_type": "code",
   "execution_count": 50,
   "id": "7a65abfb",
   "metadata": {},
   "outputs": [],
   "source": [
    "sum_2 = lambda x, y : x + y # Multiple Arguments"
   ]
  },
  {
   "cell_type": "code",
   "execution_count": 51,
   "id": "32d7ad66",
   "metadata": {},
   "outputs": [
    {
     "data": {
      "text/plain": [
       "15"
      ]
     },
     "execution_count": 51,
     "metadata": {},
     "output_type": "execute_result"
    }
   ],
   "source": [
    "sum_2(10, 5)"
   ]
  },
  {
   "cell_type": "code",
   "execution_count": 52,
   "id": "ee943ec2",
   "metadata": {},
   "outputs": [],
   "source": [
    "simple_interest = lambda p, r = 5, t = 10 : (p * r * t) / 100"
   ]
  },
  {
   "cell_type": "code",
   "execution_count": 53,
   "id": "9313c364",
   "metadata": {},
   "outputs": [
    {
     "data": {
      "text/plain": [
       "2500.0"
      ]
     },
     "execution_count": 53,
     "metadata": {},
     "output_type": "execute_result"
    }
   ],
   "source": [
    "simple_interest(5000)"
   ]
  },
  {
   "cell_type": "code",
   "execution_count": 54,
   "id": "1fbd8a86",
   "metadata": {},
   "outputs": [],
   "source": [
    "# Lambda functions can be anonymous"
   ]
  },
  {
   "cell_type": "code",
   "execution_count": 55,
   "id": "d635f5aa",
   "metadata": {},
   "outputs": [],
   "source": [
    "random = lambda x : x + 10"
   ]
  },
  {
   "cell_type": "code",
   "execution_count": 56,
   "id": "934d5d07",
   "metadata": {},
   "outputs": [
    {
     "data": {
      "text/plain": [
       "15"
      ]
     },
     "execution_count": 56,
     "metadata": {},
     "output_type": "execute_result"
    }
   ],
   "source": [
    "random(5)"
   ]
  },
  {
   "cell_type": "code",
   "execution_count": 58,
   "id": "0da251e1",
   "metadata": {},
   "outputs": [
    {
     "data": {
      "text/plain": [
       "15"
      ]
     },
     "execution_count": 58,
     "metadata": {},
     "output_type": "execute_result"
    }
   ],
   "source": [
    "(lambda x : x + 10)(5) # Anonymous - do not need a name to be called!"
   ]
  },
  {
   "cell_type": "code",
   "execution_count": 59,
   "id": "20e85e9d",
   "metadata": {},
   "outputs": [],
   "source": [
    "import math"
   ]
  },
  {
   "cell_type": "code",
   "execution_count": 60,
   "id": "1f672027",
   "metadata": {},
   "outputs": [],
   "source": [
    "r = 5"
   ]
  },
  {
   "cell_type": "code",
   "execution_count": 61,
   "id": "a9bb52cc",
   "metadata": {},
   "outputs": [],
   "source": [
    "area = math.pi * (r ** 2)"
   ]
  },
  {
   "cell_type": "code",
   "execution_count": 62,
   "id": "a98c60ab",
   "metadata": {},
   "outputs": [
    {
     "data": {
      "text/plain": [
       "78.53981633974483"
      ]
     },
     "execution_count": 62,
     "metadata": {},
     "output_type": "execute_result"
    }
   ],
   "source": [
    "area"
   ]
  },
  {
   "cell_type": "code",
   "execution_count": 63,
   "id": "47c3e3aa",
   "metadata": {},
   "outputs": [
    {
     "data": {
      "text/plain": [
       "3.141592653589793"
      ]
     },
     "execution_count": 63,
     "metadata": {},
     "output_type": "execute_result"
    }
   ],
   "source": [
    "math.pi"
   ]
  },
  {
   "cell_type": "code",
   "execution_count": 64,
   "id": "f13e5098",
   "metadata": {},
   "outputs": [
    {
     "data": {
      "text/plain": [
       "6"
      ]
     },
     "execution_count": 64,
     "metadata": {},
     "output_type": "execute_result"
    }
   ],
   "source": [
    "math.ceil(5.6)"
   ]
  },
  {
   "cell_type": "code",
   "execution_count": 65,
   "id": "ebf07436",
   "metadata": {},
   "outputs": [
    {
     "data": {
      "text/plain": [
       "6.0"
      ]
     },
     "execution_count": 65,
     "metadata": {},
     "output_type": "execute_result"
    }
   ],
   "source": [
    "(5.6 // 1) + 1"
   ]
  },
  {
   "cell_type": "code",
   "execution_count": null,
   "id": "f1e28c13",
   "metadata": {},
   "outputs": [],
   "source": []
  }
 ],
 "metadata": {
  "kernelspec": {
   "display_name": "Python 3 (ipykernel)",
   "language": "python",
   "name": "python3"
  },
  "language_info": {
   "codemirror_mode": {
    "name": "ipython",
    "version": 3
   },
   "file_extension": ".py",
   "mimetype": "text/x-python",
   "name": "python",
   "nbconvert_exporter": "python",
   "pygments_lexer": "ipython3",
   "version": "3.9.5"
  }
 },
 "nbformat": 4,
 "nbformat_minor": 5
}
