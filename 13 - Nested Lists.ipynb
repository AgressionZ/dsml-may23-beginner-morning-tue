{
 "cells": [
  {
   "cell_type": "code",
   "execution_count": 1,
   "id": "249ec9d0",
   "metadata": {},
   "outputs": [
    {
     "data": {
      "text/plain": [
       "'\\nQuestion 1 - \\nRotate a given list by 1 element.\\n\\nINPUT - [1,2,3,4,5]\\nOUTPUT - [5,1,2,3,4]\\n'"
      ]
     },
     "execution_count": 1,
     "metadata": {},
     "output_type": "execute_result"
    }
   ],
   "source": [
    "'''\n",
    "Question 1 - \n",
    "Rotate a given list by 1 element.\n",
    "\n",
    "INPUT - [1,2,3,4,5]\n",
    "OUTPUT - [5,1,2,3,4]\n",
    "'''"
   ]
  },
  {
   "cell_type": "code",
   "execution_count": 110,
   "id": "528fdc2f",
   "metadata": {},
   "outputs": [],
   "source": [
    "a = [1,2,3,4,5]"
   ]
  },
  {
   "cell_type": "code",
   "execution_count": 111,
   "id": "af30a5c7",
   "metadata": {},
   "outputs": [
    {
     "data": {
      "text/plain": [
       "5"
      ]
     },
     "execution_count": 111,
     "metadata": {},
     "output_type": "execute_result"
    }
   ],
   "source": [
    "a[-1]"
   ]
  },
  {
   "cell_type": "code",
   "execution_count": 112,
   "id": "6564026a",
   "metadata": {},
   "outputs": [
    {
     "data": {
      "text/plain": [
       "[1, 2, 3, 4]"
      ]
     },
     "execution_count": 112,
     "metadata": {},
     "output_type": "execute_result"
    }
   ],
   "source": [
    "a[:-1]"
   ]
  },
  {
   "cell_type": "code",
   "execution_count": 113,
   "id": "8d8b2e5e",
   "metadata": {},
   "outputs": [
    {
     "data": {
      "text/plain": [
       "[1, 2, 3, 4, 5]"
      ]
     },
     "execution_count": 113,
     "metadata": {},
     "output_type": "execute_result"
    }
   ],
   "source": [
    "a"
   ]
  },
  {
   "cell_type": "code",
   "execution_count": 114,
   "id": "f371a5f5",
   "metadata": {},
   "outputs": [],
   "source": [
    "result = [a[-1]]"
   ]
  },
  {
   "cell_type": "code",
   "execution_count": 115,
   "id": "e6dbda40",
   "metadata": {},
   "outputs": [],
   "source": [
    "result.extend(a[:-1]) # COME BACK TO THIS AT THE END!"
   ]
  },
  {
   "cell_type": "code",
   "execution_count": 116,
   "id": "da44e5f2",
   "metadata": {},
   "outputs": [
    {
     "data": {
      "text/plain": [
       "[5, 1, 2, 3, 4]"
      ]
     },
     "execution_count": 116,
     "metadata": {},
     "output_type": "execute_result"
    }
   ],
   "source": [
    "result"
   ]
  },
  {
   "cell_type": "code",
   "execution_count": 27,
   "id": "aa0dcf58",
   "metadata": {},
   "outputs": [],
   "source": [
    "result = [a[-1]] + a[:-1] # APPROACH 1"
   ]
  },
  {
   "cell_type": "code",
   "execution_count": 28,
   "id": "7ef7fcf1",
   "metadata": {},
   "outputs": [
    {
     "data": {
      "text/plain": [
       "[5, 1, 2, 3, 4]"
      ]
     },
     "execution_count": 28,
     "metadata": {},
     "output_type": "execute_result"
    }
   ],
   "source": [
    "result"
   ]
  },
  {
   "cell_type": "code",
   "execution_count": 29,
   "id": "f02cadba",
   "metadata": {},
   "outputs": [
    {
     "data": {
      "text/plain": [
       "[1, 2, 3, 4, 5]"
      ]
     },
     "execution_count": 29,
     "metadata": {},
     "output_type": "execute_result"
    }
   ],
   "source": [
    "a"
   ]
  },
  {
   "cell_type": "code",
   "execution_count": 30,
   "id": "89603fce",
   "metadata": {},
   "outputs": [],
   "source": [
    "last_element = a.pop() # APPROACH 2\n",
    "a.insert(0, last_element)"
   ]
  },
  {
   "cell_type": "code",
   "execution_count": 31,
   "id": "e09809b8",
   "metadata": {},
   "outputs": [
    {
     "data": {
      "text/plain": [
       "[5, 1, 2, 3, 4]"
      ]
     },
     "execution_count": 31,
     "metadata": {},
     "output_type": "execute_result"
    }
   ],
   "source": [
    "a"
   ]
  },
  {
   "cell_type": "code",
   "execution_count": 32,
   "id": "7e830e20",
   "metadata": {},
   "outputs": [],
   "source": [
    "a = [10,20,30,40,30,30,50,60,70,80,90,20,30,40,100,30]"
   ]
  },
  {
   "cell_type": "code",
   "execution_count": 34,
   "id": "3798652e",
   "metadata": {},
   "outputs": [
    {
     "data": {
      "text/plain": [
       "6"
      ]
     },
     "execution_count": 34,
     "metadata": {},
     "output_type": "execute_result"
    }
   ],
   "source": [
    "a.index(50) # Returns the index of a value within a list"
   ]
  },
  {
   "cell_type": "code",
   "execution_count": 35,
   "id": "6c7efa3b",
   "metadata": {},
   "outputs": [
    {
     "ename": "ValueError",
     "evalue": "-10 is not in list",
     "output_type": "error",
     "traceback": [
      "\u001b[0;31m---------------------------------------------------------------------------\u001b[0m",
      "\u001b[0;31mValueError\u001b[0m                                Traceback (most recent call last)",
      "Cell \u001b[0;32mIn[35], line 1\u001b[0m\n\u001b[0;32m----> 1\u001b[0m \u001b[43ma\u001b[49m\u001b[38;5;241;43m.\u001b[39;49m\u001b[43mindex\u001b[49m\u001b[43m(\u001b[49m\u001b[38;5;241;43m-\u001b[39;49m\u001b[38;5;241;43m10\u001b[39;49m\u001b[43m)\u001b[49m\n",
      "\u001b[0;31mValueError\u001b[0m: -10 is not in list"
     ]
    }
   ],
   "source": [
    "a.index(-10)"
   ]
  },
  {
   "cell_type": "code",
   "execution_count": 36,
   "id": "5a02cabf",
   "metadata": {},
   "outputs": [
    {
     "data": {
      "text/plain": [
       "2"
      ]
     },
     "execution_count": 36,
     "metadata": {},
     "output_type": "execute_result"
    }
   ],
   "source": [
    "a.index(30)"
   ]
  },
  {
   "cell_type": "code",
   "execution_count": 37,
   "id": "0e126958",
   "metadata": {},
   "outputs": [
    {
     "data": {
      "text/plain": [
       "'\\nQuestion 2 (HOMEWORK) -\\nWrite a python function which prints a list of indexes \\nof all the occurences of a certain element within the parent list.\\n\\nINPUT = [10,20,30,30,40], target = 30\\nOUTPUT = [2,3]\\n'"
      ]
     },
     "execution_count": 37,
     "metadata": {},
     "output_type": "execute_result"
    }
   ],
   "source": [
    "'''\n",
    "Question 2 (HOMEWORK) -\n",
    "Write a python function which prints a list of indexes \n",
    "of all the occurences of a certain element within the parent list.\n",
    "\n",
    "INPUT = [10,20,30,30,40], target = 30\n",
    "OUTPUT = [2,3]\n",
    "'''"
   ]
  },
  {
   "cell_type": "code",
   "execution_count": 38,
   "id": "a10900f8",
   "metadata": {},
   "outputs": [],
   "source": [
    "a = [[1,2,3],[4,5,6],[7,8,9],[10,11,12]]"
   ]
  },
  {
   "cell_type": "code",
   "execution_count": 39,
   "id": "35de55fe",
   "metadata": {},
   "outputs": [
    {
     "data": {
      "text/plain": [
       "1"
      ]
     },
     "execution_count": 39,
     "metadata": {},
     "output_type": "execute_result"
    }
   ],
   "source": [
    "a[0][0]"
   ]
  },
  {
   "cell_type": "code",
   "execution_count": 40,
   "id": "bcac305f",
   "metadata": {},
   "outputs": [
    {
     "data": {
      "text/plain": [
       "[1, 2, 3]"
      ]
     },
     "execution_count": 40,
     "metadata": {},
     "output_type": "execute_result"
    }
   ],
   "source": [
    "a[0]"
   ]
  },
  {
   "cell_type": "code",
   "execution_count": 41,
   "id": "a830275f",
   "metadata": {},
   "outputs": [],
   "source": [
    "rows = len(a)"
   ]
  },
  {
   "cell_type": "code",
   "execution_count": 42,
   "id": "0cb630a3",
   "metadata": {},
   "outputs": [
    {
     "data": {
      "text/plain": [
       "4"
      ]
     },
     "execution_count": 42,
     "metadata": {},
     "output_type": "execute_result"
    }
   ],
   "source": [
    "rows"
   ]
  },
  {
   "cell_type": "code",
   "execution_count": 43,
   "id": "feb0ed1b",
   "metadata": {},
   "outputs": [],
   "source": [
    "columns = len(a[0])"
   ]
  },
  {
   "cell_type": "code",
   "execution_count": 44,
   "id": "cd6f0ccb",
   "metadata": {},
   "outputs": [
    {
     "data": {
      "text/plain": [
       "3"
      ]
     },
     "execution_count": 44,
     "metadata": {},
     "output_type": "execute_result"
    }
   ],
   "source": [
    "columns"
   ]
  },
  {
   "cell_type": "code",
   "execution_count": 45,
   "id": "b595ba13",
   "metadata": {},
   "outputs": [
    {
     "name": "stdout",
     "output_type": "stream",
     "text": [
      "1 2 3 \n",
      "4 5 6 \n",
      "7 8 9 \n",
      "10 11 12 \n"
     ]
    }
   ],
   "source": [
    "# MATRIX ITERATION\n",
    "rows = len(a)\n",
    "columns = len(a[0])\n",
    "\n",
    "for i in range(rows):\n",
    "    for j in range(columns):\n",
    "        print(a[i][j], end = \" \")\n",
    "    \n",
    "    print()"
   ]
  },
  {
   "cell_type": "code",
   "execution_count": 46,
   "id": "6f3ee28c",
   "metadata": {},
   "outputs": [],
   "source": [
    "b = [[1,2,3],[4,5],[6,7,8,9,10]]"
   ]
  },
  {
   "cell_type": "code",
   "execution_count": 50,
   "id": "60f11cc9",
   "metadata": {},
   "outputs": [
    {
     "name": "stdout",
     "output_type": "stream",
     "text": [
      "1 2 3 \n",
      "4 5 \n",
      "6 7 8 9 10 \n"
     ]
    }
   ],
   "source": [
    "# GENERAL 2D LIST ITERATIOn -> NOT A MATRIX\n",
    "\n",
    "for i in b:\n",
    "    for element in i:\n",
    "        print(element, end = \" \")\n",
    "        \n",
    "    print()"
   ]
  },
  {
   "cell_type": "code",
   "execution_count": 51,
   "id": "74f05265",
   "metadata": {},
   "outputs": [
    {
     "name": "stdout",
     "output_type": "stream",
     "text": [
      "1 2 3 \n",
      "4 5 6 \n",
      "7 8 9 \n",
      "10 11 12 \n"
     ]
    }
   ],
   "source": [
    "# THIS METHOD ALSO APPLIES TO MATRICES\n",
    "\n",
    "for i in a:\n",
    "    for element in i:\n",
    "        print(element, end = \" \")\n",
    "        \n",
    "    print()"
   ]
  },
  {
   "cell_type": "code",
   "execution_count": 52,
   "id": "b2274f3d",
   "metadata": {},
   "outputs": [
    {
     "name": "stdout",
     "output_type": "stream",
     "text": [
      "1 2 3 \n",
      "4 5 "
     ]
    },
    {
     "ename": "IndexError",
     "evalue": "list index out of range",
     "output_type": "error",
     "traceback": [
      "\u001b[0;31m---------------------------------------------------------------------------\u001b[0m",
      "\u001b[0;31mIndexError\u001b[0m                                Traceback (most recent call last)",
      "Cell \u001b[0;32mIn[52], line 6\u001b[0m\n\u001b[1;32m      4\u001b[0m \u001b[38;5;28;01mfor\u001b[39;00m i \u001b[38;5;129;01min\u001b[39;00m \u001b[38;5;28mrange\u001b[39m(rows):\n\u001b[1;32m      5\u001b[0m     \u001b[38;5;28;01mfor\u001b[39;00m j \u001b[38;5;129;01min\u001b[39;00m \u001b[38;5;28mrange\u001b[39m(columns):\n\u001b[0;32m----> 6\u001b[0m         \u001b[38;5;28mprint\u001b[39m(\u001b[43mb\u001b[49m\u001b[43m[\u001b[49m\u001b[43mi\u001b[49m\u001b[43m]\u001b[49m\u001b[43m[\u001b[49m\u001b[43mj\u001b[49m\u001b[43m]\u001b[49m, end \u001b[38;5;241m=\u001b[39m \u001b[38;5;124m\"\u001b[39m\u001b[38;5;124m \u001b[39m\u001b[38;5;124m\"\u001b[39m)\n\u001b[1;32m      8\u001b[0m     \u001b[38;5;28mprint\u001b[39m()\n",
      "\u001b[0;31mIndexError\u001b[0m: list index out of range"
     ]
    }
   ],
   "source": [
    "rows = len(b)\n",
    "columns = len(b[0])\n",
    "\n",
    "for i in range(rows):\n",
    "    for j in range(columns):\n",
    "        print(b[i][j], end = \" \")\n",
    "    \n",
    "    print()"
   ]
  },
  {
   "cell_type": "code",
   "execution_count": 53,
   "id": "9a3e4e14",
   "metadata": {},
   "outputs": [
    {
     "data": {
      "text/plain": [
       "[[1, 2, 3], [4, 5, 6], [7, 8, 9], [10, 11, 12]]"
      ]
     },
     "execution_count": 53,
     "metadata": {},
     "output_type": "execute_result"
    }
   ],
   "source": [
    "a"
   ]
  },
  {
   "cell_type": "code",
   "execution_count": 54,
   "id": "def7be10",
   "metadata": {},
   "outputs": [],
   "source": [
    "def check_matrix(a):\n",
    "    is_matrix = True\n",
    "    \n",
    "    for i in range(len(a) - 1):\n",
    "        if len(a[i]) != len(a[i + 1]):\n",
    "            is_matrix = False\n",
    "            \n",
    "    return is_matrix"
   ]
  },
  {
   "cell_type": "code",
   "execution_count": 55,
   "id": "9c1a15fe",
   "metadata": {},
   "outputs": [
    {
     "data": {
      "text/plain": [
       "[[1, 2, 3], [4, 5, 6], [7, 8, 9], [10, 11, 12]]"
      ]
     },
     "execution_count": 55,
     "metadata": {},
     "output_type": "execute_result"
    }
   ],
   "source": [
    "a"
   ]
  },
  {
   "cell_type": "code",
   "execution_count": 56,
   "id": "b84f8a31",
   "metadata": {},
   "outputs": [
    {
     "data": {
      "text/plain": [
       "[[1, 2, 3], [4, 5], [6, 7, 8, 9, 10]]"
      ]
     },
     "execution_count": 56,
     "metadata": {},
     "output_type": "execute_result"
    }
   ],
   "source": [
    "b"
   ]
  },
  {
   "cell_type": "code",
   "execution_count": 57,
   "id": "80d51106",
   "metadata": {},
   "outputs": [
    {
     "data": {
      "text/plain": [
       "True"
      ]
     },
     "execution_count": 57,
     "metadata": {},
     "output_type": "execute_result"
    }
   ],
   "source": [
    "check_matrix(a)"
   ]
  },
  {
   "cell_type": "code",
   "execution_count": 58,
   "id": "0d1c2edc",
   "metadata": {},
   "outputs": [
    {
     "data": {
      "text/plain": [
       "False"
      ]
     },
     "execution_count": 58,
     "metadata": {},
     "output_type": "execute_result"
    }
   ],
   "source": [
    "check_matrix(b)"
   ]
  },
  {
   "cell_type": "code",
   "execution_count": 59,
   "id": "960bb90a",
   "metadata": {},
   "outputs": [],
   "source": [
    "# TRY TAKING A MATRIX AS INPUT!"
   ]
  },
  {
   "cell_type": "code",
   "execution_count": 61,
   "id": "ece18ada",
   "metadata": {},
   "outputs": [],
   "source": [
    "def check_matrix(a):\n",
    "    if type(a[0]) != list:\n",
    "        return \"NOT A 2D LIST!\"\n",
    "    \n",
    "    is_matrix = True\n",
    "    \n",
    "    for i in range(len(a) - 1):\n",
    "        if len(a[i]) != len(a[i + 1]):\n",
    "            is_matrix = False\n",
    "            \n",
    "    return is_matrix"
   ]
  },
  {
   "cell_type": "code",
   "execution_count": 62,
   "id": "8bc10e1e",
   "metadata": {},
   "outputs": [
    {
     "data": {
      "text/plain": [
       "'NOT A 2D LIST!'"
      ]
     },
     "execution_count": 62,
     "metadata": {},
     "output_type": "execute_result"
    }
   ],
   "source": [
    "check_matrix([1,2,3,4])"
   ]
  },
  {
   "cell_type": "code",
   "execution_count": 63,
   "id": "6e9fe8af",
   "metadata": {},
   "outputs": [
    {
     "data": {
      "text/plain": [
       "'\\nQuestion 3 - \\nTake a 3X3 matrix as an input from the user.\\nGiven this matrix.\\n1. Calculate the sum of all the elements in the matrix\\n2. Calculate the sum of each row\\n3. Calculate the sum of each column\\n'"
      ]
     },
     "execution_count": 63,
     "metadata": {},
     "output_type": "execute_result"
    }
   ],
   "source": [
    "'''\n",
    "Question 3 - \n",
    "Take a 3X3 matrix as an input from the user.\n",
    "Given this matrix.\n",
    "1. Calculate the sum of all the elements in the matrix\n",
    "2. Calculate the sum of each row\n",
    "3. Calculate the sum of each column\n",
    "'''"
   ]
  },
  {
   "cell_type": "code",
   "execution_count": 64,
   "id": "584a69eb",
   "metadata": {},
   "outputs": [
    {
     "name": "stdout",
     "output_type": "stream",
     "text": [
      "4\n",
      "5\n",
      "6\n"
     ]
    }
   ],
   "source": [
    "row = []\n",
    "\n",
    "for i in range(3):\n",
    "    row.append(int(input()))"
   ]
  },
  {
   "cell_type": "code",
   "execution_count": 65,
   "id": "cd41cf6b",
   "metadata": {},
   "outputs": [
    {
     "data": {
      "text/plain": [
       "[4, 5, 6]"
      ]
     },
     "execution_count": 65,
     "metadata": {},
     "output_type": "execute_result"
    }
   ],
   "source": [
    "row"
   ]
  },
  {
   "cell_type": "code",
   "execution_count": 66,
   "id": "73b66760",
   "metadata": {},
   "outputs": [
    {
     "name": "stdout",
     "output_type": "stream",
     "text": [
      "1\n",
      "2\n",
      "3\n",
      "4\n",
      "5\n",
      "6\n",
      "7\n",
      "98\n",
      "9\n"
     ]
    }
   ],
   "source": [
    "matrix = []\n",
    "\n",
    "for i in range(3):\n",
    "    row = []\n",
    "\n",
    "    for j in range(3):\n",
    "        row.append(int(input()))\n",
    "    \n",
    "    matrix.append(row)"
   ]
  },
  {
   "cell_type": "code",
   "execution_count": 67,
   "id": "f67a774f",
   "metadata": {},
   "outputs": [
    {
     "data": {
      "text/plain": [
       "[[1, 2, 3], [4, 5, 6], [7, 98, 9]]"
      ]
     },
     "execution_count": 67,
     "metadata": {},
     "output_type": "execute_result"
    }
   ],
   "source": [
    "matrix"
   ]
  },
  {
   "cell_type": "code",
   "execution_count": 71,
   "id": "744af8ee",
   "metadata": {},
   "outputs": [],
   "source": [
    "def generate_matrix(rows, columns):\n",
    "    matrix = []\n",
    "    \n",
    "    for i in range(rows):\n",
    "        row = []\n",
    "        \n",
    "        for j in range(columns):\n",
    "            message = \"Please input element at \" + str(i) + \",\" + str(j) + \" - \"\n",
    "            row.append(int(input(message)))\n",
    "        \n",
    "        matrix.append(row)\n",
    "        \n",
    "    return matrix"
   ]
  },
  {
   "cell_type": "code",
   "execution_count": 73,
   "id": "f4d0e267",
   "metadata": {},
   "outputs": [
    {
     "name": "stdout",
     "output_type": "stream",
     "text": [
      "Please input element at 0,0 - 1\n",
      "Please input element at 0,1 - 2\n",
      "Please input element at 0,2 - 3\n",
      "Please input element at 1,0 - 4\n",
      "Please input element at 1,1 - 5\n",
      "Please input element at 1,2 - 6\n",
      "Please input element at 2,0 - 7\n",
      "Please input element at 2,1 - 8\n",
      "Please input element at 2,2 - 9\n"
     ]
    }
   ],
   "source": [
    "a = generate_matrix(3,3)"
   ]
  },
  {
   "cell_type": "code",
   "execution_count": 74,
   "id": "fdcdaf75",
   "metadata": {},
   "outputs": [
    {
     "data": {
      "text/plain": [
       "[[1, 2, 3], [4, 5, 6], [7, 8, 9]]"
      ]
     },
     "execution_count": 74,
     "metadata": {},
     "output_type": "execute_result"
    }
   ],
   "source": [
    "a"
   ]
  },
  {
   "cell_type": "code",
   "execution_count": 75,
   "id": "87350143",
   "metadata": {},
   "outputs": [],
   "source": [
    "def sum_all(matrix):\n",
    "    sum_all = 0\n",
    "    \n",
    "    for i in matrix:\n",
    "        for element in i:\n",
    "            sum_all += element\n",
    "            \n",
    "    return sum_all"
   ]
  },
  {
   "cell_type": "code",
   "execution_count": 76,
   "id": "191047b8",
   "metadata": {},
   "outputs": [
    {
     "data": {
      "text/plain": [
       "45"
      ]
     },
     "execution_count": 76,
     "metadata": {},
     "output_type": "execute_result"
    }
   ],
   "source": [
    "sum_all(a)"
   ]
  },
  {
   "cell_type": "code",
   "execution_count": 101,
   "id": "d87cd6c7",
   "metadata": {},
   "outputs": [],
   "source": [
    "def sum_each_row(matrix):\n",
    "    rows = len(matrix)\n",
    "    columns = len(matrix[0])\n",
    "    \n",
    "    for i in range(rows):\n",
    "        print(\"Going over row\", i, \"-\")\n",
    "        sum_row = 0\n",
    "        \n",
    "        for j in range(columns):\n",
    "            print(\"\\tAdding element at index\", i, j, \"which is\", matrix[i][j])\n",
    "            sum_row += matrix[i][j]\n",
    "        \n",
    "        print(\"Sum of row\", i, \"=\", sum_row)\n",
    "        print(\"-\"*25)"
   ]
  },
  {
   "cell_type": "code",
   "execution_count": 102,
   "id": "cdd9e410",
   "metadata": {
    "scrolled": true
   },
   "outputs": [
    {
     "name": "stdout",
     "output_type": "stream",
     "text": [
      "Going over row 0 -\n",
      "\tAdding element at index 0 0 which is 1\n",
      "\tAdding element at index 0 1 which is 2\n",
      "\tAdding element at index 0 2 which is 3\n",
      "Sum of row 0 = 6\n",
      "-------------------------\n",
      "Going over row 1 -\n",
      "\tAdding element at index 1 0 which is 4\n",
      "\tAdding element at index 1 1 which is 5\n",
      "\tAdding element at index 1 2 which is 6\n",
      "Sum of row 1 = 15\n",
      "-------------------------\n",
      "Going over row 2 -\n",
      "\tAdding element at index 2 0 which is 7\n",
      "\tAdding element at index 2 1 which is 8\n",
      "\tAdding element at index 2 2 which is 9\n",
      "Sum of row 2 = 24\n",
      "-------------------------\n"
     ]
    }
   ],
   "source": [
    "sum_each_row(a)"
   ]
  },
  {
   "cell_type": "code",
   "execution_count": 98,
   "id": "15609ac5",
   "metadata": {},
   "outputs": [],
   "source": [
    "def sum_each_column(matrix):\n",
    "    rows = len(matrix)\n",
    "    columns = len(matrix[0])\n",
    "    \n",
    "    for j in range(columns):\n",
    "        print(\"Going over column\", j, \"-\")\n",
    "        sum_column = 0\n",
    "        \n",
    "        for i in range(rows):\n",
    "            print(\"\\tAdding element at index\", i, j, \"which is\", matrix[i][j])\n",
    "            sum_column += matrix[i][j]\n",
    "        \n",
    "        print(\"Sum of column\", j, \"=\", sum_column)\n",
    "        print(\"-\"*25)"
   ]
  },
  {
   "cell_type": "code",
   "execution_count": 99,
   "id": "d9c5cda0",
   "metadata": {},
   "outputs": [
    {
     "data": {
      "text/plain": [
       "[[1, 2, 3], [4, 5, 6], [7, 8, 9]]"
      ]
     },
     "execution_count": 99,
     "metadata": {},
     "output_type": "execute_result"
    }
   ],
   "source": [
    "a"
   ]
  },
  {
   "cell_type": "code",
   "execution_count": 100,
   "id": "1ca8dca0",
   "metadata": {},
   "outputs": [
    {
     "name": "stdout",
     "output_type": "stream",
     "text": [
      "Going over column 0 -\n",
      "\tAdding element at index 0 0 which is 1\n",
      "\tAdding element at index 1 0 which is 4\n",
      "\tAdding element at index 2 0 which is 7\n",
      "Sum of column 0 = 12\n",
      "-------------------------\n",
      "Going over column 1 -\n",
      "\tAdding element at index 0 1 which is 2\n",
      "\tAdding element at index 1 1 which is 5\n",
      "\tAdding element at index 2 1 which is 8\n",
      "Sum of column 1 = 15\n",
      "-------------------------\n",
      "Going over column 2 -\n",
      "\tAdding element at index 0 2 which is 3\n",
      "\tAdding element at index 1 2 which is 6\n",
      "\tAdding element at index 2 2 which is 9\n",
      "Sum of column 2 = 18\n",
      "-------------------------\n"
     ]
    }
   ],
   "source": [
    "sum_each_column(a)"
   ]
  },
  {
   "cell_type": "code",
   "execution_count": 79,
   "id": "fb1c8217",
   "metadata": {},
   "outputs": [],
   "source": [
    "# LIST COMPREHENSION!"
   ]
  },
  {
   "cell_type": "code",
   "execution_count": 80,
   "id": "c98a4d8b",
   "metadata": {},
   "outputs": [],
   "source": [
    "# Example -> Create a list of squares of all numbers from 1 to 10"
   ]
  },
  {
   "cell_type": "code",
   "execution_count": 85,
   "id": "3821b237",
   "metadata": {},
   "outputs": [],
   "source": [
    "squares = [] # 1. Creating a result list\n",
    "\n",
    "for i in range(1, 11): # 2. Writing a loop\n",
    "    squares.append(i ** 2) #3.  Appending a value"
   ]
  },
  {
   "cell_type": "code",
   "execution_count": 86,
   "id": "49cf4772",
   "metadata": {},
   "outputs": [
    {
     "data": {
      "text/plain": [
       "[1, 4, 9, 16, 25, 36, 49, 64, 81, 100]"
      ]
     },
     "execution_count": 86,
     "metadata": {},
     "output_type": "execute_result"
    }
   ],
   "source": [
    "squares"
   ]
  },
  {
   "cell_type": "code",
   "execution_count": 87,
   "id": "75707061",
   "metadata": {},
   "outputs": [],
   "source": [
    "squares_amazing = [ i**2 for i in range(1, 11) ]\n",
    "# variable_name = [ value_to_be_apended for i in range(start, end) ]"
   ]
  },
  {
   "cell_type": "code",
   "execution_count": 89,
   "id": "4d67436c",
   "metadata": {},
   "outputs": [
    {
     "data": {
      "text/plain": [
       "[1, 4, 9, 16, 25, 36, 49, 64, 81, 100]"
      ]
     },
     "execution_count": 89,
     "metadata": {},
     "output_type": "execute_result"
    }
   ],
   "source": [
    "squares_amazing"
   ]
  },
  {
   "cell_type": "code",
   "execution_count": 90,
   "id": "493e8087",
   "metadata": {},
   "outputs": [],
   "source": [
    "table = []\n",
    "\n",
    "for i in range(1, 11):\n",
    "    row = []\n",
    "    \n",
    "    for j in range(1, 11):\n",
    "        row.append(i*j)\n",
    "        \n",
    "    table.append(row)"
   ]
  },
  {
   "cell_type": "code",
   "execution_count": 91,
   "id": "897a1658",
   "metadata": {},
   "outputs": [
    {
     "data": {
      "text/plain": [
       "[[1, 2, 3, 4, 5, 6, 7, 8, 9, 10],\n",
       " [2, 4, 6, 8, 10, 12, 14, 16, 18, 20],\n",
       " [3, 6, 9, 12, 15, 18, 21, 24, 27, 30],\n",
       " [4, 8, 12, 16, 20, 24, 28, 32, 36, 40],\n",
       " [5, 10, 15, 20, 25, 30, 35, 40, 45, 50],\n",
       " [6, 12, 18, 24, 30, 36, 42, 48, 54, 60],\n",
       " [7, 14, 21, 28, 35, 42, 49, 56, 63, 70],\n",
       " [8, 16, 24, 32, 40, 48, 56, 64, 72, 80],\n",
       " [9, 18, 27, 36, 45, 54, 63, 72, 81, 90],\n",
       " [10, 20, 30, 40, 50, 60, 70, 80, 90, 100]]"
      ]
     },
     "execution_count": 91,
     "metadata": {},
     "output_type": "execute_result"
    }
   ],
   "source": [
    "table"
   ]
  },
  {
   "cell_type": "code",
   "execution_count": 92,
   "id": "2d6156a2",
   "metadata": {},
   "outputs": [],
   "source": [
    "t = [ [ i*j for j in range(1,11) ] for i in range(1,11) ]"
   ]
  },
  {
   "cell_type": "code",
   "execution_count": 93,
   "id": "74489e7b",
   "metadata": {},
   "outputs": [
    {
     "data": {
      "text/plain": [
       "[[1, 2, 3, 4, 5, 6, 7, 8, 9, 10],\n",
       " [2, 4, 6, 8, 10, 12, 14, 16, 18, 20],\n",
       " [3, 6, 9, 12, 15, 18, 21, 24, 27, 30],\n",
       " [4, 8, 12, 16, 20, 24, 28, 32, 36, 40],\n",
       " [5, 10, 15, 20, 25, 30, 35, 40, 45, 50],\n",
       " [6, 12, 18, 24, 30, 36, 42, 48, 54, 60],\n",
       " [7, 14, 21, 28, 35, 42, 49, 56, 63, 70],\n",
       " [8, 16, 24, 32, 40, 48, 56, 64, 72, 80],\n",
       " [9, 18, 27, 36, 45, 54, 63, 72, 81, 90],\n",
       " [10, 20, 30, 40, 50, 60, 70, 80, 90, 100]]"
      ]
     },
     "execution_count": 93,
     "metadata": {},
     "output_type": "execute_result"
    }
   ],
   "source": [
    "t"
   ]
  },
  {
   "cell_type": "code",
   "execution_count": null,
   "id": "36311e6d",
   "metadata": {},
   "outputs": [],
   "source": []
  }
 ],
 "metadata": {
  "kernelspec": {
   "display_name": "Python 3 (ipykernel)",
   "language": "python",
   "name": "python3"
  },
  "language_info": {
   "codemirror_mode": {
    "name": "ipython",
    "version": 3
   },
   "file_extension": ".py",
   "mimetype": "text/x-python",
   "name": "python",
   "nbconvert_exporter": "python",
   "pygments_lexer": "ipython3",
   "version": "3.9.5"
  }
 },
 "nbformat": 4,
 "nbformat_minor": 5
}
