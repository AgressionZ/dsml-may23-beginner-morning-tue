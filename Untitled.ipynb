{
 "cells": [
  {
   "cell_type": "code",
   "execution_count": 1,
   "id": "c0944b22",
   "metadata": {},
   "outputs": [
    {
     "name": "stdout",
     "output_type": "stream",
     "text": [
      "Dust all the rooms!\n",
      "Arrange the living area!\n",
      "Go out and get cold drinks and chips!\n",
      "Take out the fancy dinner set!\n",
      "Touch their feet when you see them!\n"
     ]
    }
   ],
   "source": [
    "print(\"Dust all the rooms!\")\n",
    "print(\"Arrange the living area!\")\n",
    "print(\"Go out and get cold drinks and chips!\")\n",
    "print(\"Take out the fancy dinner set!\")\n",
    "print(\"Touch their feet when you see them!\")"
   ]
  },
  {
   "cell_type": "code",
   "execution_count": 2,
   "id": "1bd0fdef",
   "metadata": {},
   "outputs": [
    {
     "name": "stdout",
     "output_type": "stream",
     "text": [
      "Dust all the rooms!\n",
      "Arrange the living area!\n",
      "Go out and get cold drinks and chips!\n",
      "Take out the fancy dinner set!\n",
      "Touch their feet when you see them!\n"
     ]
    }
   ],
   "source": [
    "print(\"Dust all the rooms!\")\n",
    "print(\"Arrange the living area!\")\n",
    "print(\"Go out and get cold drinks and chips!\")\n",
    "print(\"Take out the fancy dinner set!\")\n",
    "print(\"Touch their feet when you see them!\")"
   ]
  },
  {
   "cell_type": "code",
   "execution_count": 3,
   "id": "76745c26",
   "metadata": {},
   "outputs": [
    {
     "name": "stdout",
     "output_type": "stream",
     "text": [
      "Dust all the rooms!\n",
      "Arrange the living area!\n",
      "Go out and get cold drinks and chips!\n",
      "Take out the fancy dinner set!\n",
      "Touch their feet when you see them!\n"
     ]
    }
   ],
   "source": [
    "print(\"Dust all the rooms!\")\n",
    "print(\"Arrange the living area!\")\n",
    "print(\"Go out and get cold drinks and chips!\")\n",
    "print(\"Take out the fancy dinner set!\")\n",
    "print(\"Touch their feet when you see them!\")"
   ]
  },
  {
   "cell_type": "code",
   "execution_count": 4,
   "id": "d9be6ab8",
   "metadata": {},
   "outputs": [],
   "source": [
    "# FUNCTION DEFINITION -> \"def\" is the keyword\n",
    "\n",
    "def prepare_for_guests():\n",
    "    print(\"Dust all the rooms!\")\n",
    "    print(\"Arrange the living area!\")\n",
    "    print(\"Go out and get cold drinks and chips!\")\n",
    "    print(\"Take out the fancy dinner set!\")\n",
    "    print(\"Touch their feet when you see them!\")"
   ]
  },
  {
   "cell_type": "code",
   "execution_count": 5,
   "id": "51b2d218",
   "metadata": {},
   "outputs": [
    {
     "name": "stdout",
     "output_type": "stream",
     "text": [
      "Dust all the rooms!\n",
      "Arrange the living area!\n",
      "Go out and get cold drinks and chips!\n",
      "Take out the fancy dinner set!\n",
      "Touch their feet when you see them!\n"
     ]
    }
   ],
   "source": [
    "prepare_for_guests()"
   ]
  },
  {
   "cell_type": "code",
   "execution_count": 6,
   "id": "b0da9ba7",
   "metadata": {},
   "outputs": [
    {
     "name": "stdout",
     "output_type": "stream",
     "text": [
      "Dust all the rooms!\n",
      "Arrange the living area!\n",
      "Go out and get cold drinks and chips!\n",
      "Take out the fancy dinner set!\n",
      "Touch their feet when you see them!\n"
     ]
    }
   ],
   "source": [
    "prepare_for_guests()"
   ]
  },
  {
   "cell_type": "code",
   "execution_count": 7,
   "id": "1a39873c",
   "metadata": {},
   "outputs": [
    {
     "name": "stdout",
     "output_type": "stream",
     "text": [
      "Dust all the rooms!\n",
      "Arrange the living area!\n",
      "Go out and get cold drinks and chips!\n",
      "Take out the fancy dinner set!\n",
      "Touch their feet when you see them!\n"
     ]
    }
   ],
   "source": [
    "prepare_for_guests()"
   ]
  },
  {
   "cell_type": "code",
   "execution_count": 8,
   "id": "92a6467b",
   "metadata": {},
   "outputs": [],
   "source": [
    "def sheldon_knock():\n",
    "    print(\"knock knock knock Penny!\")\n",
    "    print(\"knock knock knock Penny!\")\n",
    "    print(\"knock knock knock Penny!\")"
   ]
  },
  {
   "cell_type": "code",
   "execution_count": 9,
   "id": "ea4da8aa",
   "metadata": {},
   "outputs": [
    {
     "name": "stdout",
     "output_type": "stream",
     "text": [
      "knock knock knock Penny!\n",
      "knock knock knock Penny!\n",
      "knock knock knock Penny!\n"
     ]
    }
   ],
   "source": [
    "sheldon_knock()"
   ]
  },
  {
   "cell_type": "code",
   "execution_count": 13,
   "id": "a698e5c9",
   "metadata": {},
   "outputs": [],
   "source": [
    "# FUNCTIONS CAN ACCEPT ARGUMENTS!\n",
    "\n",
    "def sheldon_knock(name):\n",
    "    print(\"knock knock knock\", name)\n",
    "    print(\"knock knock knock\", name)\n",
    "    print(\"knock knock knock\", name)"
   ]
  },
  {
   "cell_type": "code",
   "execution_count": 14,
   "id": "5085e020",
   "metadata": {},
   "outputs": [
    {
     "name": "stdout",
     "output_type": "stream",
     "text": [
      "knock knock knock Swapnil\n",
      "knock knock knock Swapnil\n",
      "knock knock knock Swapnil\n"
     ]
    }
   ],
   "source": [
    "sheldon_knock(\"Swapnil\")"
   ]
  },
  {
   "cell_type": "code",
   "execution_count": 15,
   "id": "5a93b1bb",
   "metadata": {},
   "outputs": [
    {
     "name": "stdout",
     "output_type": "stream",
     "text": [
      "knock knock knock Deepak\n",
      "knock knock knock Deepak\n",
      "knock knock knock Deepak\n"
     ]
    }
   ],
   "source": [
    "sheldon_knock(\"Deepak\")"
   ]
  },
  {
   "cell_type": "code",
   "execution_count": 16,
   "id": "5be58aaf",
   "metadata": {},
   "outputs": [],
   "source": [
    "student = \"Vijaylaxmi\""
   ]
  },
  {
   "cell_type": "code",
   "execution_count": 17,
   "id": "09127de8",
   "metadata": {},
   "outputs": [
    {
     "name": "stdout",
     "output_type": "stream",
     "text": [
      "knock knock knock Vijaylaxmi\n",
      "knock knock knock Vijaylaxmi\n",
      "knock knock knock Vijaylaxmi\n"
     ]
    }
   ],
   "source": [
    "sheldon_knock(student)"
   ]
  },
  {
   "cell_type": "code",
   "execution_count": 18,
   "id": "8082fb76",
   "metadata": {},
   "outputs": [],
   "source": [
    "a = None\n",
    "b = \"Random\""
   ]
  },
  {
   "cell_type": "code",
   "execution_count": 19,
   "id": "8825fa08",
   "metadata": {},
   "outputs": [],
   "source": [
    "a = b"
   ]
  },
  {
   "cell_type": "code",
   "execution_count": 20,
   "id": "94c10d16",
   "metadata": {},
   "outputs": [
    {
     "data": {
      "text/plain": [
       "'Random'"
      ]
     },
     "execution_count": 20,
     "metadata": {},
     "output_type": "execute_result"
    }
   ],
   "source": [
    "a"
   ]
  },
  {
   "cell_type": "code",
   "execution_count": 21,
   "id": "563e221a",
   "metadata": {},
   "outputs": [
    {
     "name": "stdout",
     "output_type": "stream",
     "text": [
      "Akash\n"
     ]
    }
   ],
   "source": [
    "user_input = input()"
   ]
  },
  {
   "cell_type": "code",
   "execution_count": 22,
   "id": "00ee7ba0",
   "metadata": {},
   "outputs": [
    {
     "data": {
      "text/plain": [
       "'Akash'"
      ]
     },
     "execution_count": 22,
     "metadata": {},
     "output_type": "execute_result"
    }
   ],
   "source": [
    "user_input"
   ]
  },
  {
   "cell_type": "code",
   "execution_count": 23,
   "id": "f0d7bf15",
   "metadata": {},
   "outputs": [
    {
     "name": "stdout",
     "output_type": "stream",
     "text": [
      "knock knock knock Akash\n",
      "knock knock knock Akash\n",
      "knock knock knock Akash\n"
     ]
    }
   ],
   "source": [
    "sheldon_knock(user_input)"
   ]
  },
  {
   "cell_type": "code",
   "execution_count": 24,
   "id": "0879acfe",
   "metadata": {},
   "outputs": [
    {
     "data": {
      "text/plain": [
       "'\\nQuestion 1 - \\nTake a name as input.\\nWrite a greeter function which prints, \"Hello, <name> :)\"\\nafter accepting name as an argument.\\n'"
      ]
     },
     "execution_count": 24,
     "metadata": {},
     "output_type": "execute_result"
    }
   ],
   "source": [
    "'''\n",
    "Question 1 - \n",
    "Take a name as input.\n",
    "Write a greeter function which prints, \"Hello, <name> :)\"\n",
    "after accepting name as an argument.\n",
    "'''"
   ]
  },
  {
   "cell_type": "code",
   "execution_count": 25,
   "id": "8de7fcf7",
   "metadata": {},
   "outputs": [],
   "source": [
    "def greeter(name):\n",
    "    print(\"Hello\", name, \":)\")"
   ]
  },
  {
   "cell_type": "code",
   "execution_count": 27,
   "id": "a3b57756",
   "metadata": {},
   "outputs": [
    {
     "name": "stdout",
     "output_type": "stream",
     "text": [
      "Kunal\n",
      "Hello Kunal :)\n"
     ]
    }
   ],
   "source": [
    "user_input = input()\n",
    "\n",
    "greeter(user_input)"
   ]
  },
  {
   "cell_type": "code",
   "execution_count": 28,
   "id": "db6ec33d",
   "metadata": {},
   "outputs": [],
   "source": [
    "# A FUNCTION CAN ACCEPT MULTIPLE ARGUMENTS!"
   ]
  },
  {
   "cell_type": "code",
   "execution_count": 31,
   "id": "3f0d2b80",
   "metadata": {},
   "outputs": [],
   "source": [
    "def introduce_family(father, mother, sibling, myself):\n",
    "    print(\"Father's Name -\", father)\n",
    "    print(\"Mother's Name -\", mother)\n",
    "    print(\"Sibling's Name -\", sibling)\n",
    "    print(\"My Name -\", myself)"
   ]
  },
  {
   "cell_type": "code",
   "execution_count": 32,
   "id": "edf39dc7",
   "metadata": {},
   "outputs": [
    {
     "name": "stdout",
     "output_type": "stream",
     "text": [
      "Father's Name - Brad Pitt\n",
      "Mother's Name - Angelina Jolie\n",
      "Sibling's Name - Stormi\n",
      "My Name - Bipin Kalra\n"
     ]
    }
   ],
   "source": [
    "introduce_family(\"Brad Pitt\", \"Angelina Jolie\", \"Stormi\", \"Bipin Kalra\")"
   ]
  },
  {
   "cell_type": "code",
   "execution_count": 33,
   "id": "9e2955ad",
   "metadata": {},
   "outputs": [
    {
     "name": "stdout",
     "output_type": "stream",
     "text": [
      "Father's Name - Angelina Jolie\n",
      "Mother's Name - Brad Pitt\n",
      "Sibling's Name - Stormi\n",
      "My Name - Bipin Kalra\n"
     ]
    }
   ],
   "source": [
    "introduce_family(\"Angelina Jolie\", \"Brad Pitt\", \"Stormi\", \"Bipin Kalra\")"
   ]
  },
  {
   "cell_type": "code",
   "execution_count": 34,
   "id": "85e52b02",
   "metadata": {},
   "outputs": [
    {
     "ename": "TypeError",
     "evalue": "introduce_family() missing 1 required positional argument: 'myself'",
     "output_type": "error",
     "traceback": [
      "\u001b[0;31m---------------------------------------------------------------------------\u001b[0m",
      "\u001b[0;31mTypeError\u001b[0m                                 Traceback (most recent call last)",
      "Cell \u001b[0;32mIn[34], line 1\u001b[0m\n\u001b[0;32m----> 1\u001b[0m \u001b[43mintroduce_family\u001b[49m\u001b[43m(\u001b[49m\u001b[38;5;124;43m\"\u001b[39;49m\u001b[38;5;124;43mA\u001b[39;49m\u001b[38;5;124;43m\"\u001b[39;49m\u001b[43m,\u001b[49m\u001b[43m \u001b[49m\u001b[38;5;124;43m\"\u001b[39;49m\u001b[38;5;124;43mB\u001b[39;49m\u001b[38;5;124;43m\"\u001b[39;49m\u001b[43m,\u001b[49m\u001b[43m \u001b[49m\u001b[38;5;124;43m\"\u001b[39;49m\u001b[38;5;124;43mC\u001b[39;49m\u001b[38;5;124;43m\"\u001b[39;49m\u001b[43m)\u001b[49m\n",
      "\u001b[0;31mTypeError\u001b[0m: introduce_family() missing 1 required positional argument: 'myself'"
     ]
    }
   ],
   "source": [
    "introduce_family(\"A\", \"B\", \"C\")"
   ]
  },
  {
   "cell_type": "code",
   "execution_count": 35,
   "id": "97aade41",
   "metadata": {},
   "outputs": [
    {
     "ename": "TypeError",
     "evalue": "introduce_family() takes 4 positional arguments but 5 were given",
     "output_type": "error",
     "traceback": [
      "\u001b[0;31m---------------------------------------------------------------------------\u001b[0m",
      "\u001b[0;31mTypeError\u001b[0m                                 Traceback (most recent call last)",
      "Cell \u001b[0;32mIn[35], line 1\u001b[0m\n\u001b[0;32m----> 1\u001b[0m \u001b[43mintroduce_family\u001b[49m\u001b[43m(\u001b[49m\u001b[38;5;124;43m\"\u001b[39;49m\u001b[38;5;124;43mA\u001b[39;49m\u001b[38;5;124;43m\"\u001b[39;49m\u001b[43m,\u001b[49m\u001b[43m \u001b[49m\u001b[38;5;124;43m\"\u001b[39;49m\u001b[38;5;124;43mB\u001b[39;49m\u001b[38;5;124;43m\"\u001b[39;49m\u001b[43m,\u001b[49m\u001b[43m \u001b[49m\u001b[38;5;124;43m\"\u001b[39;49m\u001b[38;5;124;43mC\u001b[39;49m\u001b[38;5;124;43m\"\u001b[39;49m\u001b[43m,\u001b[49m\u001b[43m \u001b[49m\u001b[38;5;124;43m\"\u001b[39;49m\u001b[38;5;124;43mD\u001b[39;49m\u001b[38;5;124;43m\"\u001b[39;49m\u001b[43m,\u001b[49m\u001b[43m \u001b[49m\u001b[38;5;124;43m\"\u001b[39;49m\u001b[38;5;124;43mE\u001b[39;49m\u001b[38;5;124;43m\"\u001b[39;49m\u001b[43m)\u001b[49m\n",
      "\u001b[0;31mTypeError\u001b[0m: introduce_family() takes 4 positional arguments but 5 were given"
     ]
    }
   ],
   "source": [
    "introduce_family(\"A\", \"B\", \"C\", \"D\", \"E\")"
   ]
  },
  {
   "cell_type": "code",
   "execution_count": 36,
   "id": "dbc70294",
   "metadata": {},
   "outputs": [],
   "source": [
    "s1 = 'this string uses single quotes!'"
   ]
  },
  {
   "cell_type": "code",
   "execution_count": 41,
   "id": "a6292363",
   "metadata": {},
   "outputs": [],
   "source": [
    "s2 = \"this string uses double quotes!\""
   ]
  },
  {
   "cell_type": "code",
   "execution_count": 42,
   "id": "5210d8db",
   "metadata": {},
   "outputs": [],
   "source": [
    "s3 = '''this is a special string that uses triple single quotes! -> DOCSTRING'''"
   ]
  },
  {
   "cell_type": "code",
   "execution_count": 43,
   "id": "210f0e0e",
   "metadata": {},
   "outputs": [
    {
     "data": {
      "text/plain": [
       "'\\nThis string\\n            maintains white spaces\\n            \\n            \\n            which\\n        include tabs, spaces and newline characters!\\n'"
      ]
     },
     "execution_count": 43,
     "metadata": {},
     "output_type": "execute_result"
    }
   ],
   "source": [
    "'''\n",
    "This string\n",
    "            maintains white spaces\n",
    "            \n",
    "            \n",
    "            which\n",
    "        include tabs, spaces and newline characters!\n",
    "'''"
   ]
  },
  {
   "cell_type": "code",
   "execution_count": 44,
   "id": "51e75aae",
   "metadata": {},
   "outputs": [],
   "source": [
    "def random(a, b):\n",
    "    '''\n",
    "    This function takes two arguments -\n",
    "    a and b can be of any type\n",
    "    \n",
    "    Output - Prints both the arguments separated by a space.\n",
    "    '''\n",
    "    \n",
    "    print(a, b)"
   ]
  },
  {
   "cell_type": "code",
   "execution_count": 45,
   "id": "eb69ad69",
   "metadata": {},
   "outputs": [
    {
     "name": "stdout",
     "output_type": "stream",
     "text": [
      "Help on function random in module __main__:\n",
      "\n",
      "random(a, b)\n",
      "    This function takes two arguments -\n",
      "    a and b can be of any type\n",
      "    \n",
      "    Output - Prints both the arguments separated by a space.\n",
      "\n"
     ]
    }
   ],
   "source": [
    "help(random)"
   ]
  },
  {
   "cell_type": "code",
   "execution_count": 49,
   "id": "552f739a",
   "metadata": {},
   "outputs": [],
   "source": [
    "# help(print)"
   ]
  },
  {
   "cell_type": "code",
   "execution_count": 50,
   "id": "48b686ea",
   "metadata": {},
   "outputs": [
    {
     "data": {
      "text/plain": [
       "9"
      ]
     },
     "execution_count": 50,
     "metadata": {},
     "output_type": "execute_result"
    }
   ],
   "source": [
    "4 + 5"
   ]
  },
  {
   "cell_type": "code",
   "execution_count": 51,
   "id": "abaf7343",
   "metadata": {},
   "outputs": [
    {
     "data": {
      "text/plain": [
       "'string1string2'"
      ]
     },
     "execution_count": 51,
     "metadata": {},
     "output_type": "execute_result"
    }
   ],
   "source": [
    "\"string1\" + \"string2\""
   ]
  },
  {
   "cell_type": "code",
   "execution_count": 52,
   "id": "ac0bd066",
   "metadata": {},
   "outputs": [
    {
     "ename": "TypeError",
     "evalue": "can only concatenate str (not \"int\") to str",
     "output_type": "error",
     "traceback": [
      "\u001b[0;31m---------------------------------------------------------------------------\u001b[0m",
      "\u001b[0;31mTypeError\u001b[0m                                 Traceback (most recent call last)",
      "Cell \u001b[0;32mIn[52], line 1\u001b[0m\n\u001b[0;32m----> 1\u001b[0m \u001b[38;5;124;43m\"\u001b[39;49m\u001b[38;5;124;43mstring\u001b[39;49m\u001b[38;5;124;43m\"\u001b[39;49m\u001b[43m \u001b[49m\u001b[38;5;241;43m+\u001b[39;49m\u001b[43m \u001b[49m\u001b[38;5;241;43m1\u001b[39;49m\n",
      "\u001b[0;31mTypeError\u001b[0m: can only concatenate str (not \"int\") to str"
     ]
    }
   ],
   "source": [
    "\"string\" + 1"
   ]
  },
  {
   "cell_type": "code",
   "execution_count": 53,
   "id": "74a2c4f5",
   "metadata": {},
   "outputs": [],
   "source": [
    "def add_two(a, b):\n",
    "    '''\n",
    "    Arguments - \n",
    "    a: Number or String\n",
    "    b: Number or String\n",
    "    \n",
    "    Note - Please do not enter mixed data types i.e. both a and b should be of the same type.\n",
    "    \n",
    "    Output - \n",
    "    String + String -> Concatenation\n",
    "    Number + Number -> Addition\n",
    "    '''\n",
    "    \n",
    "    result = a + b\n",
    "    print(result)"
   ]
  },
  {
   "cell_type": "code",
   "execution_count": 54,
   "id": "e0265834",
   "metadata": {},
   "outputs": [
    {
     "name": "stdout",
     "output_type": "stream",
     "text": [
      "Help on function add_two in module __main__:\n",
      "\n",
      "add_two(a, b)\n",
      "    Arguments - \n",
      "    a: Number or String\n",
      "    b: Number or String\n",
      "    \n",
      "    Note - Please do not enter mixed data types i.e. both a and b should be of the same type.\n",
      "    \n",
      "    Output - \n",
      "    String + String -> Concatenation\n",
      "    Number + Number -> Addition\n",
      "\n"
     ]
    }
   ],
   "source": [
    "help(add_two)"
   ]
  },
  {
   "cell_type": "code",
   "execution_count": 55,
   "id": "82d3a30e",
   "metadata": {},
   "outputs": [],
   "source": [
    "def add_two_numbers(a, b):\n",
    "    print(a + b)"
   ]
  },
  {
   "cell_type": "code",
   "execution_count": 56,
   "id": "72e28170",
   "metadata": {},
   "outputs": [
    {
     "name": "stdout",
     "output_type": "stream",
     "text": [
      "15\n"
     ]
    }
   ],
   "source": [
    "add_two_numbers(10, 5)"
   ]
  },
  {
   "cell_type": "code",
   "execution_count": 57,
   "id": "d87eb1d3",
   "metadata": {},
   "outputs": [
    {
     "name": "stdout",
     "output_type": "stream",
     "text": [
      "15\n"
     ]
    }
   ],
   "source": [
    "result = add_two_numbers(10, 5)"
   ]
  },
  {
   "cell_type": "code",
   "execution_count": 59,
   "id": "5d5c9685",
   "metadata": {},
   "outputs": [
    {
     "name": "stdout",
     "output_type": "stream",
     "text": [
      "None\n"
     ]
    }
   ],
   "source": [
    "print(result)"
   ]
  },
  {
   "cell_type": "code",
   "execution_count": 60,
   "id": "027626bc",
   "metadata": {},
   "outputs": [],
   "source": [
    "def add_two_numbers(a, b):\n",
    "    return a + b"
   ]
  },
  {
   "cell_type": "code",
   "execution_count": 61,
   "id": "46647151",
   "metadata": {},
   "outputs": [],
   "source": [
    "result = add_two_numbers(10, 5)"
   ]
  },
  {
   "cell_type": "code",
   "execution_count": 62,
   "id": "567de53d",
   "metadata": {},
   "outputs": [
    {
     "name": "stdout",
     "output_type": "stream",
     "text": [
      "15\n"
     ]
    }
   ],
   "source": [
    "print(result)"
   ]
  },
  {
   "cell_type": "code",
   "execution_count": 63,
   "id": "d84247dc",
   "metadata": {},
   "outputs": [],
   "source": [
    "def add_two_numbers_with_print(a, b):\n",
    "    print(a + b)\n",
    "    \n",
    "def add_two_numbers_with_return(a, b):\n",
    "    return a + b"
   ]
  },
  {
   "cell_type": "code",
   "execution_count": 64,
   "id": "22b4b8f4",
   "metadata": {
    "scrolled": true
   },
   "outputs": [
    {
     "name": "stdout",
     "output_type": "stream",
     "text": [
      "15\n"
     ]
    }
   ],
   "source": [
    "add_two_numbers_with_print(10, 5)"
   ]
  },
  {
   "cell_type": "code",
   "execution_count": 65,
   "id": "37bc4b14",
   "metadata": {},
   "outputs": [
    {
     "data": {
      "text/plain": [
       "15"
      ]
     },
     "execution_count": 65,
     "metadata": {},
     "output_type": "execute_result"
    }
   ],
   "source": [
    "add_two_numbers_with_return(10, 5)"
   ]
  },
  {
   "cell_type": "code",
   "execution_count": 66,
   "id": "baa695d9",
   "metadata": {},
   "outputs": [],
   "source": [
    "def add_two_numbers_with_both(a, b):\n",
    "    value = a + b\n",
    "    \n",
    "    print(value)\n",
    "    return value"
   ]
  },
  {
   "cell_type": "code",
   "execution_count": 68,
   "id": "3f523747",
   "metadata": {},
   "outputs": [
    {
     "name": "stdout",
     "output_type": "stream",
     "text": [
      "15\n"
     ]
    }
   ],
   "source": [
    "result = add_two_numbers_with_both(10, 5)"
   ]
  },
  {
   "cell_type": "code",
   "execution_count": 69,
   "id": "3547b61b",
   "metadata": {},
   "outputs": [
    {
     "name": "stdout",
     "output_type": "stream",
     "text": [
      "15\n"
     ]
    }
   ],
   "source": [
    "print(result)"
   ]
  },
  {
   "cell_type": "code",
   "execution_count": 70,
   "id": "837a52a8",
   "metadata": {},
   "outputs": [],
   "source": [
    "def random():\n",
    "    print(\"CODE BEFORE RETURN!\")\n",
    "    return 1\n",
    "    print(\"CODE AFTER RETURN!\")"
   ]
  },
  {
   "cell_type": "code",
   "execution_count": 71,
   "id": "28fd6937",
   "metadata": {
    "scrolled": false
   },
   "outputs": [
    {
     "name": "stdout",
     "output_type": "stream",
     "text": [
      "CODE BEFORE RETURN!\n"
     ]
    },
    {
     "data": {
      "text/plain": [
       "1"
      ]
     },
     "execution_count": 71,
     "metadata": {},
     "output_type": "execute_result"
    }
   ],
   "source": [
    "random()"
   ]
  },
  {
   "cell_type": "code",
   "execution_count": 72,
   "id": "51b1642a",
   "metadata": {},
   "outputs": [],
   "source": [
    "def introduce_family(father, mother, sibling, myself):\n",
    "    print(\"Father's Name -\", father)\n",
    "    print(\"Mother's Name -\", mother)\n",
    "    print(\"Sibling's Name -\", sibling)\n",
    "    print(\"My Name -\", myself)"
   ]
  },
  {
   "cell_type": "code",
   "execution_count": 73,
   "id": "19c656af",
   "metadata": {},
   "outputs": [
    {
     "name": "stdout",
     "output_type": "stream",
     "text": [
      "Father's Name - Angelina Jolie\n",
      "Mother's Name - Brad Pitt\n",
      "Sibling's Name - Stormi\n",
      "My Name - Bipin Kalra\n"
     ]
    }
   ],
   "source": [
    "introduce_family(\"Angelina Jolie\", \"Brad Pitt\", \"Stormi\", \"Bipin Kalra\")"
   ]
  },
  {
   "cell_type": "code",
   "execution_count": 74,
   "id": "ea518020",
   "metadata": {},
   "outputs": [
    {
     "name": "stdout",
     "output_type": "stream",
     "text": [
      "Father's Name - Brad Pitt\n",
      "Mother's Name - Angelina Jolie\n",
      "Sibling's Name - Stormi\n",
      "My Name - Bipin Kalra\n"
     ]
    }
   ],
   "source": [
    "# KEYWORDED ARGUMENTS!\n",
    "introduce_family(myself = \"Bipin Kalra\", father = \"Brad Pitt\", mother = \"Angelina Jolie\", sibling = \"Stormi\")"
   ]
  },
  {
   "cell_type": "code",
   "execution_count": 76,
   "id": "676583d6",
   "metadata": {},
   "outputs": [
    {
     "name": "stdout",
     "output_type": "stream",
     "text": [
      "Father's Name - Brad Pitt\n",
      "Mother's Name - Angelina Jolie\n",
      "Sibling's Name - Stormi\n",
      "My Name - Bipin Kalra\n"
     ]
    }
   ],
   "source": [
    "# Just another way of writing the same\n",
    "introduce_family(\n",
    "    myself = \"Bipin Kalra\",\n",
    "    father = \"Brad Pitt\",\n",
    "    mother = \"Angelina Jolie\",\n",
    "    sibling = \"Stormi\"\n",
    ")"
   ]
  },
  {
   "cell_type": "code",
   "execution_count": 77,
   "id": "9af0f20f",
   "metadata": {},
   "outputs": [],
   "source": [
    "def random(a, b, c, d):\n",
    "    print(\"a ->\", a)\n",
    "    print(\"b ->\", b)\n",
    "    print(\"c ->\", c)\n",
    "    print(\"d ->\", d)"
   ]
  },
  {
   "cell_type": "code",
   "execution_count": 78,
   "id": "fcd9d598",
   "metadata": {},
   "outputs": [
    {
     "ename": "SyntaxError",
     "evalue": "positional argument follows keyword argument (4058565175.py, line 1)",
     "output_type": "error",
     "traceback": [
      "\u001b[0;36m  Cell \u001b[0;32mIn[78], line 1\u001b[0;36m\u001b[0m\n\u001b[0;31m    random(b = 6, c = 7, d = 8, 9)\u001b[0m\n\u001b[0m                                 ^\u001b[0m\n\u001b[0;31mSyntaxError\u001b[0m\u001b[0;31m:\u001b[0m positional argument follows keyword argument\n"
     ]
    }
   ],
   "source": [
    "random(b = 6, c = 7, d = 8, 9)"
   ]
  },
  {
   "cell_type": "code",
   "execution_count": 79,
   "id": "81f4b15d",
   "metadata": {},
   "outputs": [
    {
     "name": "stdout",
     "output_type": "stream",
     "text": [
      "a -> 9\n",
      "b -> 7\n",
      "c -> 5\n",
      "d -> 6\n"
     ]
    }
   ],
   "source": [
    "random(9, 7, d = 6, c = 5)"
   ]
  },
  {
   "cell_type": "code",
   "execution_count": 80,
   "id": "f3288191",
   "metadata": {},
   "outputs": [],
   "source": [
    "# POSITIONAL followed by KEYWORD -> OK\n",
    "# KEYWORDED followed by POSITIONAL -> NOT ALLOWED!"
   ]
  },
  {
   "cell_type": "code",
   "execution_count": 81,
   "id": "9d84a7b1",
   "metadata": {},
   "outputs": [
    {
     "ename": "TypeError",
     "evalue": "random() got multiple values for argument 'b'",
     "output_type": "error",
     "traceback": [
      "\u001b[0;31m---------------------------------------------------------------------------\u001b[0m",
      "\u001b[0;31mTypeError\u001b[0m                                 Traceback (most recent call last)",
      "Cell \u001b[0;32mIn[81], line 1\u001b[0m\n\u001b[0;32m----> 1\u001b[0m \u001b[43mrandom\u001b[49m\u001b[43m(\u001b[49m\u001b[38;5;241;43m9\u001b[39;49m\u001b[43m,\u001b[49m\u001b[43m \u001b[49m\u001b[38;5;241;43m7\u001b[39;49m\u001b[43m,\u001b[49m\u001b[43m \u001b[49m\u001b[43mb\u001b[49m\u001b[43m \u001b[49m\u001b[38;5;241;43m=\u001b[39;49m\u001b[43m \u001b[49m\u001b[38;5;241;43m8\u001b[39;49m\u001b[43m,\u001b[49m\u001b[43m \u001b[49m\u001b[43md\u001b[49m\u001b[43m \u001b[49m\u001b[38;5;241;43m=\u001b[39;49m\u001b[43m \u001b[49m\u001b[38;5;241;43m7\u001b[39;49m\u001b[43m)\u001b[49m\n",
      "\u001b[0;31mTypeError\u001b[0m: random() got multiple values for argument 'b'"
     ]
    }
   ],
   "source": [
    "random(9, 7, b = 8, d = 7)"
   ]
  },
  {
   "cell_type": "code",
   "execution_count": 82,
   "id": "139e32da",
   "metadata": {},
   "outputs": [
    {
     "data": {
      "text/plain": [
       "'\\nTHIS IS A DOCSTRING!\\n'"
      ]
     },
     "execution_count": 82,
     "metadata": {},
     "output_type": "execute_result"
    }
   ],
   "source": [
    "'''\n",
    "THIS IS A DOCSTRING!\n",
    "'''"
   ]
  },
  {
   "cell_type": "code",
   "execution_count": 83,
   "id": "13e41230",
   "metadata": {},
   "outputs": [
    {
     "data": {
      "text/plain": [
       "'\\nTHIS IS ALSO A DOCSTRING!\\n'"
      ]
     },
     "execution_count": 83,
     "metadata": {},
     "output_type": "execute_result"
    }
   ],
   "source": [
    "\"\"\"\n",
    "THIS IS ALSO A DOCSTRING!\n",
    "\"\"\""
   ]
  },
  {
   "cell_type": "code",
   "execution_count": null,
   "id": "df156d20",
   "metadata": {},
   "outputs": [],
   "source": []
  }
 ],
 "metadata": {
  "kernelspec": {
   "display_name": "Python 3 (ipykernel)",
   "language": "python",
   "name": "python3"
  },
  "language_info": {
   "codemirror_mode": {
    "name": "ipython",
    "version": 3
   },
   "file_extension": ".py",
   "mimetype": "text/x-python",
   "name": "python",
   "nbconvert_exporter": "python",
   "pygments_lexer": "ipython3",
   "version": "3.9.5"
  }
 },
 "nbformat": 4,
 "nbformat_minor": 5
}
