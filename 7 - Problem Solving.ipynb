{
 "cells": [
  {
   "cell_type": "markdown",
   "id": "8c4ba3b1",
   "metadata": {},
   "source": [
    "# Problem Solving"
   ]
  },
  {
   "cell_type": "code",
   "execution_count": null,
   "id": "de0b60ea",
   "metadata": {},
   "outputs": [],
   "source": []
  },
  {
   "cell_type": "markdown",
   "id": "fc927a06",
   "metadata": {},
   "source": [
    "Take an integer N as input, print the corresponding pattern for N. For example if N = 5 then pattern will be like:\n",
    "\n",
    "*****\n",
    "*---*\n",
    "*---*\n",
    "*---*\n",
    "*****"
   ]
  },
  {
   "cell_type": "code",
   "execution_count": null,
   "id": "9334929c",
   "metadata": {},
   "outputs": [],
   "source": []
  },
  {
   "cell_type": "code",
   "execution_count": 4,
   "id": "636f7896",
   "metadata": {},
   "outputs": [
    {
     "name": "stdout",
     "output_type": "stream",
     "text": [
      "*******\n",
      "*     *\n",
      "*     *\n",
      "*     *\n",
      "*     *\n",
      "*     *\n",
      "*******\n"
     ]
    }
   ],
   "source": [
    "N = 7\n",
    "\n",
    "for i in range(1, N+1):\n",
    "    for j in range(1, N+1):\n",
    "        if (i==1) or (i==N) or (j==1) or (j==N):\n",
    "            print('*', end='')\n",
    "        else:\n",
    "            print(' ', end='')\n",
    "    \n",
    "    print()"
   ]
  },
  {
   "cell_type": "code",
   "execution_count": null,
   "id": "38f24fe5",
   "metadata": {},
   "outputs": [],
   "source": []
  },
  {
   "cell_type": "code",
   "execution_count": null,
   "id": "98dc30f9",
   "metadata": {},
   "outputs": [],
   "source": []
  },
  {
   "cell_type": "code",
   "execution_count": null,
   "id": "e49bbb21",
   "metadata": {},
   "outputs": [],
   "source": []
  },
  {
   "cell_type": "markdown",
   "id": "1c2c0086",
   "metadata": {},
   "source": [
    "### Sum of digits"
   ]
  },
  {
   "cell_type": "code",
   "execution_count": 7,
   "id": "db15f668",
   "metadata": {},
   "outputs": [
    {
     "name": "stdout",
     "output_type": "stream",
     "text": [
      "24\n"
     ]
    }
   ],
   "source": [
    "N = 987\n",
    "\n",
    "ans = 0\n",
    "\n",
    "while N > 0:\n",
    "    lastDigit = N % 10\n",
    "    ans += lastDigit\n",
    "    N = N // 10\n",
    "    \n",
    "print(ans)"
   ]
  },
  {
   "cell_type": "code",
   "execution_count": null,
   "id": "d0930a67",
   "metadata": {},
   "outputs": [],
   "source": []
  },
  {
   "cell_type": "code",
   "execution_count": 8,
   "id": "0375f4d1",
   "metadata": {},
   "outputs": [],
   "source": [
    "# Run it for multiple testcase input"
   ]
  },
  {
   "cell_type": "code",
   "execution_count": 9,
   "id": "71a71edd",
   "metadata": {},
   "outputs": [
    {
     "name": "stdout",
     "output_type": "stream",
     "text": [
      "3\n",
      "1234\n",
      "10\n",
      "9047\n",
      "20\n",
      "1058\n",
      "14\n"
     ]
    }
   ],
   "source": [
    "t = int(input())\n",
    "\n",
    "# Run a loop t times\n",
    "for _ in range(t):\n",
    "    # Do the operation whatever you are required to do, inside this testcase loop\n",
    "    # In this case, calculate the sum of digits\n",
    "    \n",
    "    N = int(input())\n",
    "    ans = 0\n",
    "\n",
    "    while N > 0:\n",
    "        lastDigit = N % 10\n",
    "        ans += lastDigit\n",
    "        N = N // 10\n",
    "\n",
    "    print(ans)"
   ]
  },
  {
   "cell_type": "code",
   "execution_count": null,
   "id": "1ce7fd48",
   "metadata": {},
   "outputs": [],
   "source": []
  },
  {
   "cell_type": "code",
   "execution_count": null,
   "id": "98b5c1f7",
   "metadata": {},
   "outputs": [],
   "source": []
  },
  {
   "cell_type": "markdown",
   "id": "c27fe905",
   "metadata": {},
   "source": [
    "### Reverse of a number"
   ]
  },
  {
   "cell_type": "code",
   "execution_count": 11,
   "id": "b6d2e33a",
   "metadata": {},
   "outputs": [
    {
     "name": "stdout",
     "output_type": "stream",
     "text": [
      "987654321\n"
     ]
    }
   ],
   "source": [
    "N = 123456789\n",
    "ans = 0\n",
    "\n",
    "while N > 0:\n",
    "    lastDigit = N % 10\n",
    "    N = N // 10\n",
    "    ans = ans * 10 + lastDigit\n",
    "    \n",
    "print(ans)"
   ]
  },
  {
   "cell_type": "code",
   "execution_count": null,
   "id": "5b5a42ea",
   "metadata": {},
   "outputs": [],
   "source": []
  },
  {
   "cell_type": "code",
   "execution_count": null,
   "id": "e1f21293",
   "metadata": {},
   "outputs": [],
   "source": []
  },
  {
   "cell_type": "markdown",
   "id": "728dc63e",
   "metadata": {},
   "source": [
    "### String concatenation"
   ]
  },
  {
   "cell_type": "code",
   "execution_count": 14,
   "id": "655bd9f7",
   "metadata": {},
   "outputs": [
    {
     "name": "stdout",
     "output_type": "stream",
     "text": [
      "abc\n",
      "def\n",
      "abcdef\n"
     ]
    }
   ],
   "source": [
    "a = input()\n",
    "b = input()\n",
    "\n",
    "print(a + b)"
   ]
  },
  {
   "cell_type": "code",
   "execution_count": null,
   "id": "a8040688",
   "metadata": {},
   "outputs": [],
   "source": []
  },
  {
   "cell_type": "code",
   "execution_count": null,
   "id": "c625337d",
   "metadata": {},
   "outputs": [],
   "source": []
  },
  {
   "cell_type": "code",
   "execution_count": null,
   "id": "a07e6fac",
   "metadata": {},
   "outputs": [],
   "source": []
  },
  {
   "cell_type": "code",
   "execution_count": null,
   "id": "8e9101ab",
   "metadata": {},
   "outputs": [],
   "source": [
    "x = int(input())\n",
    "y = int(input())\n",
    "\n",
    "q = 0\n",
    "r = 0\n",
    "# Block A is wrong\n",
    "# r is never updated\n",
    "while x > y:\n",
    "    x -= y\n",
    "    q += 1\n",
    "    print(q, r)\n",
    "    \n",
    "\n",
    "# x is your dividend\n",
    "# y is your divisor\n",
    "# Block B\n",
    "while x >= y:\n",
    "    x -= y\n",
    "    q += 1\n",
    "    print(q, y)\n",
    "# Also wrong, we are printing the quotient and divisor\n",
    "# We wish to print quotient and remainder\n",
    "    \n",
    "    \n",
    "# Initial value of x was dividend\n",
    "# Block C\n",
    "while x >= y:\n",
    "    x -= y # updating x\n",
    "    q += 1\n",
    "    print(q, x)"
   ]
  },
  {
   "cell_type": "code",
   "execution_count": null,
   "id": "e588ea3d",
   "metadata": {},
   "outputs": [],
   "source": []
  },
  {
   "cell_type": "code",
   "execution_count": null,
   "id": "3fad40de",
   "metadata": {},
   "outputs": [],
   "source": []
  },
  {
   "cell_type": "code",
   "execution_count": null,
   "id": "1c5fbcca",
   "metadata": {},
   "outputs": [],
   "source": []
  },
  {
   "cell_type": "code",
   "execution_count": 15,
   "id": "b4c4305c",
   "metadata": {},
   "outputs": [
    {
     "name": "stdout",
     "output_type": "stream",
     "text": [
      "3\n",
      "6\n",
      "7\n",
      "14\n"
     ]
    }
   ],
   "source": [
    "x = 2\n",
    "for i in range(0, 4):\n",
    "    if x%2:\n",
    "        # Whenever x is odd\n",
    "        x = x*2\n",
    "    else:\n",
    "        # Whenever x is even\n",
    "        x = x+1\n",
    "    print(x)"
   ]
  },
  {
   "cell_type": "code",
   "execution_count": null,
   "id": "72bc1ae0",
   "metadata": {},
   "outputs": [],
   "source": []
  },
  {
   "cell_type": "code",
   "execution_count": null,
   "id": "50af04ec",
   "metadata": {},
   "outputs": [],
   "source": []
  },
  {
   "cell_type": "code",
   "execution_count": null,
   "id": "503f4d0b",
   "metadata": {},
   "outputs": [],
   "source": []
  },
  {
   "cell_type": "code",
   "execution_count": 18,
   "id": "3f58332d",
   "metadata": {},
   "outputs": [
    {
     "name": "stdout",
     "output_type": "stream",
     "text": [
      "1\n",
      "100\n",
      "1\n"
     ]
    }
   ],
   "source": [
    "T=int(input())\n",
    "for t in range(1,T+1):\n",
    "    A=int(input())\n",
    "    x=str(A)\n",
    "    y=len(x)\n",
    "    i=0\n",
    "    ans = ''\n",
    "    for j in range(1,y+1):\n",
    "        u=x[y-j:y-i] # slicing - covered later on\n",
    "        ans += u\n",
    "        i=i+1\n",
    "    print(int(ans))\n"
   ]
  },
  {
   "cell_type": "code",
   "execution_count": null,
   "id": "e8c01a07",
   "metadata": {},
   "outputs": [],
   "source": []
  },
  {
   "cell_type": "code",
   "execution_count": null,
   "id": "56d9b784",
   "metadata": {},
   "outputs": [],
   "source": []
  },
  {
   "cell_type": "code",
   "execution_count": null,
   "id": "1a14d0ce",
   "metadata": {},
   "outputs": [],
   "source": [
    "\"100\" => \"001\""
   ]
  },
  {
   "cell_type": "code",
   "execution_count": null,
   "id": "e7b36b11",
   "metadata": {},
   "outputs": [],
   "source": []
  },
  {
   "cell_type": "code",
   "execution_count": null,
   "id": "bf6ec84d",
   "metadata": {},
   "outputs": [],
   "source": []
  },
  {
   "cell_type": "code",
   "execution_count": null,
   "id": "308cd3c2",
   "metadata": {},
   "outputs": [],
   "source": [
    "# for loops - Use when you know the exact number of iterations,\n",
    "# the behaviour of iterations\n",
    "# starting point, ending point, jumps (increments)\n",
    "\n",
    "\n",
    "# while loops - Use when you do not know or you cannot anticipate the \n",
    "# complete behaviour of your loop"
   ]
  },
  {
   "cell_type": "code",
   "execution_count": null,
   "id": "22b0884b",
   "metadata": {},
   "outputs": [],
   "source": []
  },
  {
   "cell_type": "code",
   "execution_count": 22,
   "id": "825cc9e7",
   "metadata": {},
   "outputs": [
    {
     "name": "stdout",
     "output_type": "stream",
     "text": [
      "10\n",
      "0 1 2 3 4 5 6 7 8 9 "
     ]
    }
   ],
   "source": [
    "x = int(input())\n",
    "\n",
    "for i in range(x):\n",
    "    print(i, end=' ') \n",
    "    i += x\n",
    "    x = x ** 2"
   ]
  },
  {
   "cell_type": "code",
   "execution_count": null,
   "id": "bd9186bb",
   "metadata": {},
   "outputs": [],
   "source": [
    "# Command to run jupyter - jupyter notebook"
   ]
  },
  {
   "cell_type": "code",
   "execution_count": null,
   "id": "36d0c1d6",
   "metadata": {},
   "outputs": [],
   "source": []
  },
  {
   "cell_type": "code",
   "execution_count": null,
   "id": "e14ce3b9",
   "metadata": {},
   "outputs": [],
   "source": []
  },
  {
   "cell_type": "code",
   "execution_count": null,
   "id": "aac99ce3",
   "metadata": {},
   "outputs": [],
   "source": []
  },
  {
   "cell_type": "markdown",
   "id": "1b5166e6",
   "metadata": {},
   "source": [
    "### Inverted pyramid\n",
    "\n",
    "\n",
    "N = 4\n",
    "```\n",
    "1111\n",
    " 111\n",
    "  11\n",
    "   1\n",
    "```"
   ]
  },
  {
   "cell_type": "code",
   "execution_count": 24,
   "id": "1c7afeee",
   "metadata": {},
   "outputs": [
    {
     "name": "stdout",
     "output_type": "stream",
     "text": [
      "11111111\n",
      " 1111111\n",
      "  111111\n",
      "   11111\n",
      "    1111\n",
      "     111\n",
      "      11\n",
      "       1\n"
     ]
    }
   ],
   "source": [
    "N = 8\n",
    "\n",
    "for i in range(1, N+1):\n",
    "    for j in range(i - 1):\n",
    "        print(' ', end='')\n",
    "    for j in range(N - i + 1):\n",
    "        print(1, end='')\n",
    "    \n",
    "    print()"
   ]
  },
  {
   "cell_type": "code",
   "execution_count": null,
   "id": "a1e608d6",
   "metadata": {},
   "outputs": [],
   "source": []
  },
  {
   "cell_type": "code",
   "execution_count": null,
   "id": "452259a8",
   "metadata": {},
   "outputs": [],
   "source": []
  },
  {
   "cell_type": "code",
   "execution_count": null,
   "id": "ee746532",
   "metadata": {},
   "outputs": [],
   "source": []
  },
  {
   "cell_type": "code",
   "execution_count": 28,
   "id": "65128222",
   "metadata": {},
   "outputs": [
    {
     "name": "stdout",
     "output_type": "stream",
     "text": [
      "*****\n",
      " ****\n",
      "  ***\n",
      "   **\n",
      "    *\n"
     ]
    }
   ],
   "source": [
    "N = 5\n",
    "\n",
    "for i in range (1, N+1):\n",
    "    for j in range(i-1):\n",
    "        print(' ', end='')\n",
    "    for j in range(N-i+1):\n",
    "        print('*', end ='')\n",
    "    print()"
   ]
  },
  {
   "cell_type": "code",
   "execution_count": null,
   "id": "9e2b3b35",
   "metadata": {},
   "outputs": [],
   "source": []
  }
 ],
 "metadata": {
  "kernelspec": {
   "display_name": "Python 3 (ipykernel)",
   "language": "python",
   "name": "python3"
  },
  "language_info": {
   "codemirror_mode": {
    "name": "ipython",
    "version": 3
   },
   "file_extension": ".py",
   "mimetype": "text/x-python",
   "name": "python",
   "nbconvert_exporter": "python",
   "pygments_lexer": "ipython3",
   "version": "3.9.12"
  }
 },
 "nbformat": 4,
 "nbformat_minor": 5
}
