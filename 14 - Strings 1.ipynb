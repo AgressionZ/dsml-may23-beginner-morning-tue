{
 "cells": [
  {
   "cell_type": "code",
   "execution_count": 1,
   "id": "02de71a9",
   "metadata": {},
   "outputs": [],
   "source": [
    "a = \"double quotes!\""
   ]
  },
  {
   "cell_type": "code",
   "execution_count": 2,
   "id": "b56b8632",
   "metadata": {},
   "outputs": [],
   "source": [
    "b = 'single quotes!'"
   ]
  },
  {
   "cell_type": "code",
   "execution_count": 3,
   "id": "edf1f9e2",
   "metadata": {},
   "outputs": [],
   "source": [
    "c = '''triple quotes! -> DOCSTRINGS'''"
   ]
  },
  {
   "cell_type": "code",
   "execution_count": 5,
   "id": "be951eb5",
   "metadata": {},
   "outputs": [],
   "source": [
    "d = \"\"\"triple double quotes! -> DOCSTRINGS\"\"\""
   ]
  },
  {
   "cell_type": "code",
   "execution_count": 9,
   "id": "7f0cb7a0",
   "metadata": {},
   "outputs": [
    {
     "data": {
      "text/plain": [
       "str"
      ]
     },
     "execution_count": 9,
     "metadata": {},
     "output_type": "execute_result"
    }
   ],
   "source": [
    "type(d)"
   ]
  },
  {
   "cell_type": "code",
   "execution_count": 10,
   "id": "4167c9ca",
   "metadata": {},
   "outputs": [],
   "source": [
    "randoom = \"Whatever we write, UPPERCASE, lowercase, 12345678908765432@#$%^&*(*&^%$#@#$%^)\""
   ]
  },
  {
   "cell_type": "code",
   "execution_count": 11,
   "id": "ba96d767",
   "metadata": {},
   "outputs": [
    {
     "data": {
      "text/plain": [
       "'Whatever we write, UPPERCASE, lowercase, 12345678908765432@#$%^&*(*&^%$#@#$%^)'"
      ]
     },
     "execution_count": 11,
     "metadata": {},
     "output_type": "execute_result"
    }
   ],
   "source": [
    "randoom"
   ]
  },
  {
   "cell_type": "code",
   "execution_count": 13,
   "id": "23afb3f2",
   "metadata": {},
   "outputs": [
    {
     "ename": "SyntaxError",
     "evalue": "EOL while scanning string literal (4111874266.py, line 1)",
     "output_type": "error",
     "traceback": [
      "\u001b[0;36m  Cell \u001b[0;32mIn[13], line 1\u001b[0;36m\u001b[0m\n\u001b[0;31m    random = \"a' # Mixed quotations are not allowed\u001b[0m\n\u001b[0m                                                   ^\u001b[0m\n\u001b[0;31mSyntaxError\u001b[0m\u001b[0;31m:\u001b[0m EOL while scanning string literal\n"
     ]
    }
   ],
   "source": [
    "random = \"a' # Mixed quotations are not allowed"
   ]
  },
  {
   "cell_type": "code",
   "execution_count": 14,
   "id": "83fee368",
   "metadata": {},
   "outputs": [
    {
     "ename": "SyntaxError",
     "evalue": "invalid syntax (3829515004.py, line 3)",
     "output_type": "error",
     "traceback": [
      "\u001b[0;36m  Cell \u001b[0;32mIn[14], line 3\u001b[0;36m\u001b[0m\n\u001b[0;31m    y = \"something \"random\" which is highlight!\"\u001b[0m\n\u001b[0m                    ^\u001b[0m\n\u001b[0;31mSyntaxError\u001b[0m\u001b[0;31m:\u001b[0m invalid syntax\n"
     ]
    }
   ],
   "source": [
    "# What if your string itself contains quotes inside it\n",
    "\n",
    "y = \"something \"random\" which is highlight!\"\n",
    "\n",
    "# If you want to use double quotes inside a string\n",
    "# -> Use single quotes to form the string!\n",
    "# And vice versa"
   ]
  },
  {
   "cell_type": "code",
   "execution_count": 19,
   "id": "d435c90f",
   "metadata": {},
   "outputs": [],
   "source": [
    "y = 'something \"random\" which is highlighted!'"
   ]
  },
  {
   "cell_type": "code",
   "execution_count": 20,
   "id": "1feab988",
   "metadata": {},
   "outputs": [
    {
     "data": {
      "text/plain": [
       "'something \"random\" which is highlighted!'"
      ]
     },
     "execution_count": 20,
     "metadata": {},
     "output_type": "execute_result"
    }
   ],
   "source": [
    "y"
   ]
  },
  {
   "cell_type": "code",
   "execution_count": 21,
   "id": "a71b3f6a",
   "metadata": {},
   "outputs": [],
   "source": [
    "z = \"something 'random' which is highlighted!\""
   ]
  },
  {
   "cell_type": "code",
   "execution_count": 22,
   "id": "38332934",
   "metadata": {},
   "outputs": [
    {
     "data": {
      "text/plain": [
       "\"something 'random' which is highlighted!\""
      ]
     },
     "execution_count": 22,
     "metadata": {},
     "output_type": "execute_result"
    }
   ],
   "source": [
    "z"
   ]
  },
  {
   "cell_type": "code",
   "execution_count": 23,
   "id": "fadc75ac",
   "metadata": {},
   "outputs": [
    {
     "ename": "SyntaxError",
     "evalue": "invalid syntax (3506376244.py, line 1)",
     "output_type": "error",
     "traceback": [
      "\u001b[0;36m  Cell \u001b[0;32mIn[23], line 1\u001b[0;36m\u001b[0m\n\u001b[0;31m    a = 'can't' # THIS HAS A LOT OF ISSUES!\u001b[0m\n\u001b[0m             ^\u001b[0m\n\u001b[0;31mSyntaxError\u001b[0m\u001b[0;31m:\u001b[0m invalid syntax\n"
     ]
    }
   ],
   "source": [
    "a = 'can't' # THIS HAS A LOT OF ISSUES!"
   ]
  },
  {
   "cell_type": "code",
   "execution_count": 24,
   "id": "314dbc6f",
   "metadata": {},
   "outputs": [],
   "source": [
    "a = 'can\\'t' # Escape character"
   ]
  },
  {
   "cell_type": "code",
   "execution_count": 25,
   "id": "9a6ec0aa",
   "metadata": {},
   "outputs": [
    {
     "data": {
      "text/plain": [
       "\"can't\""
      ]
     },
     "execution_count": 25,
     "metadata": {},
     "output_type": "execute_result"
    }
   ],
   "source": [
    "a"
   ]
  },
  {
   "cell_type": "code",
   "execution_count": 34,
   "id": "848476a3",
   "metadata": {},
   "outputs": [],
   "source": [
    "random = \"this string is \\\"random\\\" which can't work properly without \\\"escape characters!\\\"\""
   ]
  },
  {
   "cell_type": "code",
   "execution_count": 35,
   "id": "b8bd27d6",
   "metadata": {},
   "outputs": [
    {
     "data": {
      "text/plain": [
       "'this string is \"random\" which can\\'t work properly without \"escape characters!\"'"
      ]
     },
     "execution_count": 35,
     "metadata": {},
     "output_type": "execute_result"
    }
   ],
   "source": [
    "random"
   ]
  },
  {
   "cell_type": "code",
   "execution_count": 37,
   "id": "35bed9b6",
   "metadata": {},
   "outputs": [
    {
     "data": {
      "text/plain": [
       "True"
      ]
     },
     "execution_count": 37,
     "metadata": {},
     "output_type": "execute_result"
    }
   ],
   "source": [
    "\"zebra\" > \"aaaaaahgfshjfgjhchsdudadhgafgdadaajdghdja\"\n",
    "# LEXICOGRAPHICAL - Order in a dictionary"
   ]
  },
  {
   "cell_type": "code",
   "execution_count": 39,
   "id": "1bf5f4ba",
   "metadata": {},
   "outputs": [
    {
     "data": {
      "text/plain": [
       "False"
      ]
     },
     "execution_count": 39,
     "metadata": {},
     "output_type": "execute_result"
    }
   ],
   "source": [
    "\"abc\" > \"agh\""
   ]
  },
  {
   "cell_type": "code",
   "execution_count": 40,
   "id": "7867121f",
   "metadata": {},
   "outputs": [],
   "source": [
    "# This comparison is enabled via mapping in programming!"
   ]
  },
  {
   "cell_type": "code",
   "execution_count": 42,
   "id": "ac0a1de2",
   "metadata": {},
   "outputs": [
    {
     "data": {
      "text/plain": [
       "True"
      ]
     },
     "execution_count": 42,
     "metadata": {},
     "output_type": "execute_result"
    }
   ],
   "source": [
    "\"a\" > \"A\" # THIS IS BECAUSE OF ASCII!"
   ]
  },
  {
   "cell_type": "code",
   "execution_count": 43,
   "id": "47e72aeb",
   "metadata": {},
   "outputs": [
    {
     "data": {
      "text/plain": [
       "True"
      ]
     },
     "execution_count": 43,
     "metadata": {},
     "output_type": "execute_result"
    }
   ],
   "source": [
    "\"zebra\" > \"ZEBRA\""
   ]
  },
  {
   "cell_type": "code",
   "execution_count": 44,
   "id": "78488b3c",
   "metadata": {},
   "outputs": [
    {
     "data": {
      "text/plain": [
       "'random1random2'"
      ]
     },
     "execution_count": 44,
     "metadata": {},
     "output_type": "execute_result"
    }
   ],
   "source": [
    "\"random1\" + \"random2\" # Concatenation"
   ]
  },
  {
   "cell_type": "code",
   "execution_count": 45,
   "id": "09fce5ad",
   "metadata": {},
   "outputs": [
    {
     "data": {
      "text/plain": [
       "'randomrandomrandomrandomrandomrandom'"
      ]
     },
     "execution_count": 45,
     "metadata": {},
     "output_type": "execute_result"
    }
   ],
   "source": [
    "\"random\" * 2 * 3"
   ]
  },
  {
   "cell_type": "code",
   "execution_count": 46,
   "id": "361cfee6",
   "metadata": {},
   "outputs": [],
   "source": [
    "def calc_area(l, b):\n",
    "    a = l * b\n",
    "    print(\"length =\", l, \", breadth =\", b, \", Area =\", a)"
   ]
  },
  {
   "cell_type": "code",
   "execution_count": 48,
   "id": "0d44d160",
   "metadata": {},
   "outputs": [
    {
     "name": "stdout",
     "output_type": "stream",
     "text": [
      "lenth = 10 , breadth = 5 , Area = 50\n"
     ]
    }
   ],
   "source": [
    "calc_area(10, 5)"
   ]
  },
  {
   "cell_type": "code",
   "execution_count": 51,
   "id": "34ae480b",
   "metadata": {},
   "outputs": [],
   "source": [
    "def calc_area(l, b):\n",
    "    a = l * b\n",
    "    print(\"length = {}, breadth = {}, area = {}\".format(l, a, b))"
   ]
  },
  {
   "cell_type": "code",
   "execution_count": 53,
   "id": "2b76133c",
   "metadata": {},
   "outputs": [
    {
     "name": "stdout",
     "output_type": "stream",
     "text": [
      "length = 10, breadth = 50, area = 5\n"
     ]
    }
   ],
   "source": [
    "calc_area(10, 5) # Position is important!"
   ]
  },
  {
   "cell_type": "code",
   "execution_count": 54,
   "id": "45dc8c10",
   "metadata": {},
   "outputs": [],
   "source": [
    "def calc_area(l, b):\n",
    "    a = l * b\n",
    "    print(\"length = {2}, breadth = {0}, area = {1}\".format(b, a, l))"
   ]
  },
  {
   "cell_type": "code",
   "execution_count": 55,
   "id": "e96e6cce",
   "metadata": {},
   "outputs": [
    {
     "name": "stdout",
     "output_type": "stream",
     "text": [
      "length = 10, breadth = 5, area = 50\n"
     ]
    }
   ],
   "source": [
    "calc_area(10, 5)"
   ]
  },
  {
   "cell_type": "code",
   "execution_count": 56,
   "id": "ce85f576",
   "metadata": {},
   "outputs": [],
   "source": [
    "def calc_area(l, b):\n",
    "    a = l * b\n",
    "    print(f\"length = {l}, breadth = {b}, area = {a}\")"
   ]
  },
  {
   "cell_type": "code",
   "execution_count": 57,
   "id": "27b788b4",
   "metadata": {},
   "outputs": [
    {
     "name": "stdout",
     "output_type": "stream",
     "text": [
      "length = 10, breadth = 5, area = 50\n"
     ]
    }
   ],
   "source": [
    "calc_area(10, 5)"
   ]
  },
  {
   "cell_type": "code",
   "execution_count": 68,
   "id": "fe664026",
   "metadata": {},
   "outputs": [],
   "source": [
    "s1 = \"The Undertaker\"\n",
    "s2 = \"Kane\""
   ]
  },
  {
   "cell_type": "code",
   "execution_count": 69,
   "id": "207c17f1",
   "metadata": {},
   "outputs": [],
   "source": [
    "s3 = f\"{s1} v/s {s2}\""
   ]
  },
  {
   "cell_type": "code",
   "execution_count": 70,
   "id": "3a5df2e0",
   "metadata": {},
   "outputs": [
    {
     "data": {
      "text/plain": [
       "'The Undertaker v/s Kane'"
      ]
     },
     "execution_count": 70,
     "metadata": {},
     "output_type": "execute_result"
    }
   ],
   "source": [
    "s3"
   ]
  },
  {
   "cell_type": "code",
   "execution_count": 71,
   "id": "c4180e62",
   "metadata": {},
   "outputs": [
    {
     "data": {
      "text/plain": [
       "97"
      ]
     },
     "execution_count": 71,
     "metadata": {},
     "output_type": "execute_result"
    }
   ],
   "source": [
    "ord(\"a\") # Corresponding ASCII (mapping) value"
   ]
  },
  {
   "cell_type": "code",
   "execution_count": 72,
   "id": "394fdbee",
   "metadata": {},
   "outputs": [
    {
     "data": {
      "text/plain": [
       "122"
      ]
     },
     "execution_count": 72,
     "metadata": {},
     "output_type": "execute_result"
    }
   ],
   "source": [
    "ord(\"z\")"
   ]
  },
  {
   "cell_type": "code",
   "execution_count": 74,
   "id": "e53bb68e",
   "metadata": {},
   "outputs": [
    {
     "data": {
      "text/plain": [
       "65"
      ]
     },
     "execution_count": 74,
     "metadata": {},
     "output_type": "execute_result"
    }
   ],
   "source": [
    "ord(\"A\")"
   ]
  },
  {
   "cell_type": "code",
   "execution_count": 75,
   "id": "cda70774",
   "metadata": {},
   "outputs": [
    {
     "data": {
      "text/plain": [
       "37"
      ]
     },
     "execution_count": 75,
     "metadata": {},
     "output_type": "execute_result"
    }
   ],
   "source": [
    "ord(\"%\")"
   ]
  },
  {
   "cell_type": "code",
   "execution_count": 76,
   "id": "5d5a2514",
   "metadata": {},
   "outputs": [
    {
     "data": {
      "text/plain": [
       "48"
      ]
     },
     "execution_count": 76,
     "metadata": {},
     "output_type": "execute_result"
    }
   ],
   "source": [
    "ord(\"0\")"
   ]
  },
  {
   "cell_type": "code",
   "execution_count": 79,
   "id": "ad16eb19",
   "metadata": {},
   "outputs": [
    {
     "data": {
      "text/plain": [
       "'a'"
      ]
     },
     "execution_count": 79,
     "metadata": {},
     "output_type": "execute_result"
    }
   ],
   "source": [
    "chr(97) # Corresponding character acc to mapping"
   ]
  },
  {
   "cell_type": "code",
   "execution_count": 80,
   "id": "190abbd0",
   "metadata": {},
   "outputs": [
    {
     "data": {
      "text/plain": [
       "'B'"
      ]
     },
     "execution_count": 80,
     "metadata": {},
     "output_type": "execute_result"
    }
   ],
   "source": [
    "chr(66)"
   ]
  },
  {
   "cell_type": "code",
   "execution_count": 81,
   "id": "18f8a6c8",
   "metadata": {},
   "outputs": [
    {
     "data": {
      "text/plain": [
       "'\\nQuestion 1 -\\n1. Take a string as input from the user.\\n2. Print the string character by character in new lines.\\n\\nINPUT - VIRAT\\nOUTPUT -\\nV\\nI\\nR\\nA\\nT\\n'"
      ]
     },
     "execution_count": 81,
     "metadata": {},
     "output_type": "execute_result"
    }
   ],
   "source": [
    "'''\n",
    "Question 1 -\n",
    "1. Take a string as input from the user.\n",
    "2. Print the string character by character in new lines.\n",
    "\n",
    "INPUT - VIRAT\n",
    "OUTPUT -\n",
    "V\n",
    "I\n",
    "R\n",
    "A\n",
    "T\n",
    "'''"
   ]
  },
  {
   "cell_type": "code",
   "execution_count": 83,
   "id": "8513f0e7",
   "metadata": {},
   "outputs": [
    {
     "name": "stdout",
     "output_type": "stream",
     "text": [
      "VIRAT\n",
      "V\n",
      "I\n",
      "R\n",
      "A\n",
      "T\n"
     ]
    }
   ],
   "source": [
    "a = input()\n",
    "\n",
    "for i in a: # Strings are iterable\n",
    "    print(i)"
   ]
  },
  {
   "cell_type": "code",
   "execution_count": 84,
   "id": "352fef63",
   "metadata": {},
   "outputs": [
    {
     "data": {
      "text/plain": [
       "'\\nQuestion 2 -\\n1. Take a string as input from the user.\\n2. Print the following - \\n\"First Character - f, Last Character - l\"\\n'"
      ]
     },
     "execution_count": 84,
     "metadata": {},
     "output_type": "execute_result"
    }
   ],
   "source": [
    "'''\n",
    "Question 2 -\n",
    "1. Take a string as input from the user.\n",
    "2. Print the following - \n",
    "\"First Character - f, Last Character - l\"\n",
    "'''"
   ]
  },
  {
   "cell_type": "code",
   "execution_count": 85,
   "id": "ce6dafd3",
   "metadata": {},
   "outputs": [
    {
     "name": "stdout",
     "output_type": "stream",
     "text": [
      "Bhupendra\n",
      "First Character - B, Last Character - a\n"
     ]
    }
   ],
   "source": [
    "a = input()\n",
    "\n",
    "print(f\"First Character - {a[0]}, Last Character - {a[-1]}\")"
   ]
  },
  {
   "cell_type": "code",
   "execution_count": 86,
   "id": "5a4a5dae",
   "metadata": {},
   "outputs": [
    {
     "data": {
      "text/plain": [
       "'Bhupendra'"
      ]
     },
     "execution_count": 86,
     "metadata": {},
     "output_type": "execute_result"
    }
   ],
   "source": [
    "a"
   ]
  },
  {
   "cell_type": "code",
   "execution_count": 87,
   "id": "5e39c07d",
   "metadata": {},
   "outputs": [
    {
     "data": {
      "text/plain": [
       "'e'"
      ]
     },
     "execution_count": 87,
     "metadata": {},
     "output_type": "execute_result"
    }
   ],
   "source": [
    "a[4]"
   ]
  },
  {
   "cell_type": "code",
   "execution_count": 88,
   "id": "29c5162e",
   "metadata": {},
   "outputs": [
    {
     "data": {
      "text/plain": [
       "'e'"
      ]
     },
     "execution_count": 88,
     "metadata": {},
     "output_type": "execute_result"
    }
   ],
   "source": [
    "a[-5]"
   ]
  },
  {
   "cell_type": "code",
   "execution_count": 89,
   "id": "aeaacca4",
   "metadata": {},
   "outputs": [
    {
     "data": {
      "text/plain": [
       "'upe'"
      ]
     },
     "execution_count": 89,
     "metadata": {},
     "output_type": "execute_result"
    }
   ],
   "source": [
    "a[2:5]"
   ]
  },
  {
   "cell_type": "code",
   "execution_count": 90,
   "id": "47e57aed",
   "metadata": {},
   "outputs": [
    {
     "data": {
      "text/plain": [
       "'\\nQuestion 3 -\\n1. Take a string as input from the user.\\n2. Check whether that string is a palindrome.\\n   Create a function which returns \"PALINDROME\" if true otherwise \"NOT A PALINDROME.\"\\n'"
      ]
     },
     "execution_count": 90,
     "metadata": {},
     "output_type": "execute_result"
    }
   ],
   "source": [
    "'''\n",
    "Question 3 -\n",
    "1. Take a string as input from the user.\n",
    "2. Check whether that string is a palindrome.\n",
    "   Create a function which returns \"PALINDROME\" if true otherwise \"NOT A PALINDROME.\"\n",
    "'''"
   ]
  },
  {
   "cell_type": "code",
   "execution_count": 91,
   "id": "87b42ed4",
   "metadata": {},
   "outputs": [
    {
     "data": {
      "text/plain": [
       "False"
      ]
     },
     "execution_count": 91,
     "metadata": {},
     "output_type": "execute_result"
    }
   ],
   "source": [
    "\"Naman\" == \"namaN\""
   ]
  },
  {
   "cell_type": "code",
   "execution_count": 92,
   "id": "f8aa9c55",
   "metadata": {},
   "outputs": [],
   "source": [
    "a = \"This IS RAndom!\""
   ]
  },
  {
   "cell_type": "code",
   "execution_count": 93,
   "id": "3fecc679",
   "metadata": {},
   "outputs": [
    {
     "data": {
      "text/plain": [
       "'this is random!'"
      ]
     },
     "execution_count": 93,
     "metadata": {},
     "output_type": "execute_result"
    }
   ],
   "source": [
    "a.lower()"
   ]
  },
  {
   "cell_type": "code",
   "execution_count": 94,
   "id": "8cb7d196",
   "metadata": {},
   "outputs": [
    {
     "data": {
      "text/plain": [
       "'This IS RAndom!'"
      ]
     },
     "execution_count": 94,
     "metadata": {},
     "output_type": "execute_result"
    }
   ],
   "source": [
    "a"
   ]
  },
  {
   "cell_type": "code",
   "execution_count": 97,
   "id": "8e3a737a",
   "metadata": {},
   "outputs": [
    {
     "data": {
      "text/plain": [
       "32"
      ]
     },
     "execution_count": 97,
     "metadata": {},
     "output_type": "execute_result"
    }
   ],
   "source": [
    "ord(\"a\") - ord(\"A\")"
   ]
  },
  {
   "cell_type": "code",
   "execution_count": 98,
   "id": "2ebee1b0",
   "metadata": {},
   "outputs": [
    {
     "data": {
      "text/plain": [
       "32"
      ]
     },
     "execution_count": 98,
     "metadata": {},
     "output_type": "execute_result"
    }
   ],
   "source": [
    "ord(\"b\") - ord(\"B\")"
   ]
  },
  {
   "cell_type": "code",
   "execution_count": 101,
   "id": "539ab112",
   "metadata": {},
   "outputs": [
    {
     "data": {
      "text/plain": [
       "'z'"
      ]
     },
     "execution_count": 101,
     "metadata": {},
     "output_type": "execute_result"
    }
   ],
   "source": [
    "chr(ord(\"Z\") + 32)"
   ]
  },
  {
   "cell_type": "code",
   "execution_count": 102,
   "id": "e7d315cb",
   "metadata": {},
   "outputs": [],
   "source": [
    "def lower_case(a):\n",
    "    result = \"\"\n",
    "    \n",
    "    for i in a:\n",
    "        if i >= \"A\" and i <= \"Z\":\n",
    "            result += chr(ord(i) + 32)\n",
    "        else:\n",
    "            result += i\n",
    "            \n",
    "    return result"
   ]
  },
  {
   "cell_type": "code",
   "execution_count": 103,
   "id": "55fd8b1c",
   "metadata": {},
   "outputs": [
    {
     "data": {
      "text/plain": [
       "'This IS RAndom!'"
      ]
     },
     "execution_count": 103,
     "metadata": {},
     "output_type": "execute_result"
    }
   ],
   "source": [
    "a"
   ]
  },
  {
   "cell_type": "code",
   "execution_count": 104,
   "id": "6d973cf0",
   "metadata": {},
   "outputs": [
    {
     "data": {
      "text/plain": [
       "'this is random!'"
      ]
     },
     "execution_count": 104,
     "metadata": {},
     "output_type": "execute_result"
    }
   ],
   "source": [
    "lower_case(a)"
   ]
  },
  {
   "cell_type": "code",
   "execution_count": 106,
   "id": "1421a777",
   "metadata": {},
   "outputs": [
    {
     "data": {
      "text/plain": [
       "'NAYYYY!'"
      ]
     },
     "execution_count": 106,
     "metadata": {},
     "output_type": "execute_result"
    }
   ],
   "source": [
    "\"YAYYY!\" if 56 > 67 else \"NAYYYY!\"\n",
    "# value_if_true if condition else value_if_false"
   ]
  },
  {
   "cell_type": "code",
   "execution_count": 107,
   "id": "78f5d30e",
   "metadata": {},
   "outputs": [],
   "source": [
    "def check_palindrome(a):\n",
    "    a = lower_case(a)\n",
    "    \n",
    "    return \"PALINDROME!\" if a == a[::-1] else \"NOT A PALINDROME!\""
   ]
  },
  {
   "cell_type": "code",
   "execution_count": 110,
   "id": "037411c9",
   "metadata": {},
   "outputs": [
    {
     "data": {
      "text/plain": [
       "'NOT A PALINDROME!'"
      ]
     },
     "execution_count": 110,
     "metadata": {},
     "output_type": "execute_result"
    }
   ],
   "source": [
    "check_palindrome(\"karthik\")"
   ]
  },
  {
   "cell_type": "code",
   "execution_count": 111,
   "id": "8442a952",
   "metadata": {},
   "outputs": [
    {
     "data": {
      "text/plain": [
       "'\\nQuestion 4 -\\n1. Take a string as input from the user.\\n2. Print the count of uppercase characters in that string. (alphabets)\\n\\nINPUT - \"This is a Random%^&*()\"\\nOUTPUT - 2\\n'"
      ]
     },
     "execution_count": 111,
     "metadata": {},
     "output_type": "execute_result"
    }
   ],
   "source": [
    "'''\n",
    "Question 4 -\n",
    "1. Take a string as input from the user.\n",
    "2. Print the count of uppercase characters in that string. (alphabets)\n",
    "\n",
    "INPUT - \"This is a Random%^&*()\"\n",
    "OUTPUT - 2\n",
    "'''"
   ]
  },
  {
   "cell_type": "code",
   "execution_count": 119,
   "id": "6e8f3583",
   "metadata": {},
   "outputs": [],
   "source": [
    "def count_upper_case(a):\n",
    "    count = 0\n",
    "    \n",
    "    for i in a:\n",
    "        if i >= \"A\" and i <= \"Z\":\n",
    "            count += 1\n",
    "            \n",
    "    return count"
   ]
  },
  {
   "cell_type": "code",
   "execution_count": 121,
   "id": "5e333f1d",
   "metadata": {},
   "outputs": [
    {
     "data": {
      "text/plain": [
       "8"
      ]
     },
     "execution_count": 121,
     "metadata": {},
     "output_type": "execute_result"
    }
   ],
   "source": [
    "count_upper_case(\"This is a RANDOM strinG!\")"
   ]
  },
  {
   "cell_type": "code",
   "execution_count": 122,
   "id": "3bab860b",
   "metadata": {},
   "outputs": [
    {
     "data": {
      "text/plain": [
       "'\\nQuestion 5 -\\n1. You are given a list as input to a function.\\n2. Generate a string from the chr values of the integers in the list.\\n\\nINPUT = [65, 97, 68]\\nOUTPUT = \"AaD\"\\n\\nEXPLANATION - \\n\"A\" -> 65\\n\"a\" -> 97\\n\"D\" -> 68\\n'"
      ]
     },
     "execution_count": 122,
     "metadata": {},
     "output_type": "execute_result"
    }
   ],
   "source": [
    "'''\n",
    "Question 5 -\n",
    "1. You are given a list as input to a function.\n",
    "2. Generate a string from the chr values of the integers in the list.\n",
    "\n",
    "INPUT = [65, 97, 68]\n",
    "OUTPUT = \"AaD\"\n",
    "\n",
    "EXPLANATION - \n",
    "\"A\" -> 65\n",
    "\"a\" -> 97\n",
    "\"D\" -> 68\n",
    "'''"
   ]
  },
  {
   "cell_type": "code",
   "execution_count": 123,
   "id": "322b050a",
   "metadata": {},
   "outputs": [],
   "source": [
    "a = [80, 89, 84, 72, 79, 78, 128013]"
   ]
  },
  {
   "cell_type": "code",
   "execution_count": 124,
   "id": "18d362ab",
   "metadata": {},
   "outputs": [],
   "source": [
    "def generate_string(a):\n",
    "    s = \"\"\n",
    "    \n",
    "    for i in a:\n",
    "        s += chr(i)\n",
    "        \n",
    "    return s"
   ]
  },
  {
   "cell_type": "code",
   "execution_count": 125,
   "id": "b5642b5a",
   "metadata": {},
   "outputs": [
    {
     "data": {
      "text/plain": [
       "'PYTHON🐍'"
      ]
     },
     "execution_count": 125,
     "metadata": {},
     "output_type": "execute_result"
    }
   ],
   "source": [
    "generate_string(a)"
   ]
  },
  {
   "cell_type": "code",
   "execution_count": null,
   "id": "5341dcf1",
   "metadata": {},
   "outputs": [],
   "source": []
  }
 ],
 "metadata": {
  "kernelspec": {
   "display_name": "Python 3 (ipykernel)",
   "language": "python",
   "name": "python3"
  },
  "language_info": {
   "codemirror_mode": {
    "name": "ipython",
    "version": 3
   },
   "file_extension": ".py",
   "mimetype": "text/x-python",
   "name": "python",
   "nbconvert_exporter": "python",
   "pygments_lexer": "ipython3",
   "version": "3.9.5"
  }
 },
 "nbformat": 4,
 "nbformat_minor": 5
}
