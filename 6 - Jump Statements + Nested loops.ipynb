{
 "cells": [
  {
   "cell_type": "markdown",
   "id": "e1dce45b",
   "metadata": {},
   "source": [
    "# Loop control Statements"
   ]
  },
  {
   "cell_type": "markdown",
   "id": "6e24f8cf",
   "metadata": {},
   "source": [
    "![](https://scaler.com/topics/images/Break-Pass-and-continue-statement-in-Python.webp)"
   ]
  },
  {
   "cell_type": "code",
   "execution_count": null,
   "id": "6923b950",
   "metadata": {},
   "outputs": [],
   "source": []
  },
  {
   "cell_type": "markdown",
   "id": "d7cf8ae2",
   "metadata": {},
   "source": [
    "### pass statement\n",
    "![](https://scaler.com/topics/images/pass-in-python.webp)\n",
    "\n",
    "\\\n",
    "pass in Python is a null statement which the interpreter simply 'moves over' while executing the code. It can be used in a variety of scenarios where you want to leave parts of your code undefined (such as if-else, loops, classes or methods) but the Python syntax doesn't allow it."
   ]
  },
  {
   "cell_type": "code",
   "execution_count": 2,
   "id": "1a4e0837",
   "metadata": {},
   "outputs": [],
   "source": [
    "# pass is basically a placeholder"
   ]
  },
  {
   "cell_type": "code",
   "execution_count": 3,
   "id": "48d9123f",
   "metadata": {},
   "outputs": [
    {
     "ename": "IndentationError",
     "evalue": "expected an indented block (387309564.py, line 4)",
     "output_type": "error",
     "traceback": [
      "\u001b[0;36m  File \u001b[0;32m\"/var/folders/jn/1bsrct314hv5xmfm7vrcdrzc0000gn/T/ipykernel_7040/387309564.py\"\u001b[0;36m, line \u001b[0;32m4\u001b[0m\n\u001b[0;31m    \u001b[0m\n\u001b[0m    ^\u001b[0m\n\u001b[0;31mIndentationError\u001b[0m\u001b[0;31m:\u001b[0m expected an indented block\n"
     ]
    }
   ],
   "source": [
    "x = 10\n",
    "\n",
    "if x % 4 == 0:\n",
    "    "
   ]
  },
  {
   "cell_type": "code",
   "execution_count": 4,
   "id": "fe48c476",
   "metadata": {},
   "outputs": [],
   "source": [
    "x = 10\n",
    "\n",
    "if x % 4 == 0:\n",
    "    pass"
   ]
  },
  {
   "cell_type": "code",
   "execution_count": 5,
   "id": "8498224c",
   "metadata": {},
   "outputs": [
    {
     "ename": "IndentationError",
     "evalue": "expected an indented block (4155345654.py, line 2)",
     "output_type": "error",
     "traceback": [
      "\u001b[0;36m  File \u001b[0;32m\"/var/folders/jn/1bsrct314hv5xmfm7vrcdrzc0000gn/T/ipykernel_7040/4155345654.py\"\u001b[0;36m, line \u001b[0;32m2\u001b[0m\n\u001b[0;31m    \u001b[0m\n\u001b[0m    ^\u001b[0m\n\u001b[0;31mIndentationError\u001b[0m\u001b[0;31m:\u001b[0m expected an indented block\n"
     ]
    }
   ],
   "source": [
    "for i in range(10):\n",
    "    "
   ]
  },
  {
   "cell_type": "code",
   "execution_count": 6,
   "id": "ba5aca86",
   "metadata": {},
   "outputs": [],
   "source": [
    "for i in range(10):\n",
    "    pass"
   ]
  },
  {
   "cell_type": "markdown",
   "id": "95e708c6",
   "metadata": {},
   "source": [
    "<img src=\"https://media.giphy.com/media/um5zgB7txzYeBPZnPZ/giphy.gif\" width=\"200px\" />"
   ]
  },
  {
   "cell_type": "code",
   "execution_count": null,
   "id": "4dd6e7c7",
   "metadata": {},
   "outputs": [],
   "source": []
  },
  {
   "cell_type": "markdown",
   "id": "fe906afd",
   "metadata": {},
   "source": [
    "#### Quiz 1:\n",
    "```py\n",
    "x = 5\n",
    "if x % 2 == 0:\n",
    "    print(x ** 3)\n",
    "    pass\n",
    "else:\n",
    "    print(x ** 2)\n",
    "    pass\n",
    "```"
   ]
  },
  {
   "cell_type": "code",
   "execution_count": 8,
   "id": "9b80e3dd",
   "metadata": {},
   "outputs": [
    {
     "name": "stdout",
     "output_type": "stream",
     "text": [
      "25\n"
     ]
    }
   ],
   "source": [
    "x = 5\n",
    "if x % 2 == 0:\n",
    "    print(x ** 3)\n",
    "    pass\n",
    "else:\n",
    "    pass\n",
    "    print(x ** 2)\n",
    "    pass"
   ]
  },
  {
   "cell_type": "code",
   "execution_count": null,
   "id": "0844f7f7",
   "metadata": {},
   "outputs": [],
   "source": [
    "# pass statements in above example are redundant"
   ]
  },
  {
   "cell_type": "code",
   "execution_count": null,
   "id": "892c1744",
   "metadata": {},
   "outputs": [],
   "source": []
  },
  {
   "cell_type": "code",
   "execution_count": null,
   "id": "67251812",
   "metadata": {},
   "outputs": [],
   "source": []
  },
  {
   "cell_type": "markdown",
   "id": "894177bb",
   "metadata": {},
   "source": [
    "# Break statement\n",
    "Stop / Interrupt / Destroy the loop. Works with both for and while loop.\n"
   ]
  },
  {
   "cell_type": "code",
   "execution_count": 10,
   "id": "1a038d75",
   "metadata": {},
   "outputs": [
    {
     "name": "stdout",
     "output_type": "stream",
     "text": [
      "0\n",
      "After the if\n",
      "1\n",
      "After the if\n",
      "2\n",
      "After the if\n",
      "3\n",
      "After the if\n",
      "4\n",
      "After the if\n",
      "5\n",
      "\n",
      "Outside the loop\n"
     ]
    }
   ],
   "source": [
    "for i in range(10):\n",
    "    print(i)\n",
    "    \n",
    "    if i == 5:\n",
    "        break\n",
    "        \n",
    "    print(\"After the if\")\n",
    "    \n",
    "print(\"\\nOutside the loop\")"
   ]
  },
  {
   "cell_type": "code",
   "execution_count": null,
   "id": "2e4149ff",
   "metadata": {},
   "outputs": [],
   "source": [
    "\n"
   ]
  },
  {
   "cell_type": "code",
   "execution_count": null,
   "id": "11b5e8a1",
   "metadata": {},
   "outputs": [],
   "source": []
  },
  {
   "cell_type": "code",
   "execution_count": null,
   "id": "1a03744e",
   "metadata": {},
   "outputs": [],
   "source": []
  },
  {
   "cell_type": "markdown",
   "id": "34f7f227",
   "metadata": {},
   "source": [
    "#### Quiz 2\n",
    "```py\n",
    "for i in range(1, 10):\n",
    "    if i == 5:\n",
    "        break\n",
    "    print(i, end=' ')\n",
    "```"
   ]
  },
  {
   "cell_type": "code",
   "execution_count": 11,
   "id": "9f314b49",
   "metadata": {},
   "outputs": [
    {
     "name": "stdout",
     "output_type": "stream",
     "text": [
      "1 2 3 4 "
     ]
    }
   ],
   "source": [
    "for i in range(1, 10):\n",
    "    if i == 5:\n",
    "        break\n",
    "    print(i, end=' ')"
   ]
  },
  {
   "cell_type": "code",
   "execution_count": null,
   "id": "053a6f09",
   "metadata": {},
   "outputs": [],
   "source": [
    "# i = 1 => 1\n",
    "# i = 2 => 2\n",
    "# i = 3 => 3\n",
    "# i = 4 => 4\n",
    "# i = 5"
   ]
  },
  {
   "cell_type": "code",
   "execution_count": null,
   "id": "9dddc8bd",
   "metadata": {},
   "outputs": [],
   "source": []
  },
  {
   "cell_type": "markdown",
   "id": "0803aabb",
   "metadata": {},
   "source": [
    "<img src=\"https://media.giphy.com/media/dYsYG3shlTDO1S38Vg/giphy.gif\" width=\"300px\" />"
   ]
  },
  {
   "cell_type": "code",
   "execution_count": null,
   "id": "c0439791",
   "metadata": {},
   "outputs": [],
   "source": []
  },
  {
   "cell_type": "code",
   "execution_count": null,
   "id": "f5b96bfa",
   "metadata": {},
   "outputs": [],
   "source": []
  },
  {
   "cell_type": "code",
   "execution_count": null,
   "id": "679d222c",
   "metadata": {},
   "outputs": [],
   "source": []
  },
  {
   "cell_type": "markdown",
   "id": "5349052a",
   "metadata": {},
   "source": [
    "# Continue statement\n",
    "<img src=\"https://media.giphy.com/media/l2YWxte7sJB2XuE8M/giphy.gif\" width=\"300px\" />\n",
    "\n",
    "Skips an iteration.\n",
    "Works with both for loops and while loops"
   ]
  },
  {
   "cell_type": "code",
   "execution_count": 12,
   "id": "8f147b70",
   "metadata": {},
   "outputs": [
    {
     "name": "stdout",
     "output_type": "stream",
     "text": [
      "1 2 3 4 5 6 8 9 "
     ]
    }
   ],
   "source": [
    "for i in range(1, 10):\n",
    "    if i == 7:\n",
    "        continue\n",
    "        \n",
    "    print(i, end=' ')"
   ]
  },
  {
   "cell_type": "code",
   "execution_count": null,
   "id": "f647cca5",
   "metadata": {},
   "outputs": [],
   "source": []
  },
  {
   "cell_type": "code",
   "execution_count": null,
   "id": "b6692ac6",
   "metadata": {},
   "outputs": [],
   "source": []
  },
  {
   "cell_type": "code",
   "execution_count": null,
   "id": "707fe073",
   "metadata": {},
   "outputs": [],
   "source": []
  },
  {
   "cell_type": "markdown",
   "id": "0fa79137",
   "metadata": {},
   "source": [
    "#### Quiz 3\n",
    "What is the output of the following?\n",
    "```py\n",
    "for i in range(0,10):\n",
    "     if(i%3==0):\n",
    "        continue\n",
    "    print(i, end=' ')\n",
    "```\n"
   ]
  },
  {
   "cell_type": "code",
   "execution_count": 13,
   "id": "abc9ba5d",
   "metadata": {},
   "outputs": [
    {
     "name": "stdout",
     "output_type": "stream",
     "text": [
      "1 2 4 5 7 8 "
     ]
    }
   ],
   "source": [
    "for i in range(0, 10):\n",
    "    if (i % 3 == 0):\n",
    "        continue\n",
    "    print(i, end=' ')"
   ]
  },
  {
   "cell_type": "code",
   "execution_count": null,
   "id": "742dd2b1",
   "metadata": {},
   "outputs": [],
   "source": []
  },
  {
   "cell_type": "code",
   "execution_count": 14,
   "id": "8ab56c71",
   "metadata": {},
   "outputs": [
    {
     "name": "stdout",
     "output_type": "stream",
     "text": [
      "0 1 2 3 4 5 6 7 8 9 "
     ]
    }
   ],
   "source": [
    "for i in range(0, 10):\n",
    "    if (i % 3 == 0):\n",
    "        pass\n",
    "    print(i, end=' ')"
   ]
  },
  {
   "cell_type": "code",
   "execution_count": null,
   "id": "a4859b88",
   "metadata": {},
   "outputs": [],
   "source": []
  },
  {
   "cell_type": "code",
   "execution_count": null,
   "id": "9106bec9",
   "metadata": {},
   "outputs": [],
   "source": []
  },
  {
   "cell_type": "code",
   "execution_count": null,
   "id": "ecc35923",
   "metadata": {},
   "outputs": [],
   "source": []
  },
  {
   "cell_type": "code",
   "execution_count": null,
   "id": "8baf4ebd",
   "metadata": {},
   "outputs": [],
   "source": []
  },
  {
   "cell_type": "markdown",
   "id": "eaef6f0c",
   "metadata": {},
   "source": [
    "#### Question\n",
    "- Write a program that continuously asks the user to provide an input number.\n",
    "- Print the square of that input number.\n",
    "- The program should stop if the user enters 5.\n",
    "- In case user enters any multiple of 4, skip it."
   ]
  },
  {
   "cell_type": "code",
   "execution_count": 16,
   "id": "ffa9676a",
   "metadata": {},
   "outputs": [
    {
     "name": "stdout",
     "output_type": "stream",
     "text": [
      "9\n",
      "81\n",
      "2\n",
      "4\n",
      "6\n",
      "36\n",
      "12\n",
      "40\n",
      "41\n",
      "1681\n",
      "5\n"
     ]
    }
   ],
   "source": [
    "while True:\n",
    "    x = int(input())\n",
    "    \n",
    "    if x == 5:\n",
    "        break\n",
    "        \n",
    "    if x % 4 == 0:\n",
    "        continue\n",
    "    \n",
    "    print(x ** 2)"
   ]
  },
  {
   "cell_type": "code",
   "execution_count": null,
   "id": "f5d659d0",
   "metadata": {},
   "outputs": [],
   "source": []
  },
  {
   "cell_type": "code",
   "execution_count": null,
   "id": "fd999ff5",
   "metadata": {},
   "outputs": [],
   "source": []
  },
  {
   "cell_type": "code",
   "execution_count": null,
   "id": "5e746591",
   "metadata": {},
   "outputs": [],
   "source": []
  },
  {
   "cell_type": "code",
   "execution_count": null,
   "id": "d2302876",
   "metadata": {},
   "outputs": [],
   "source": []
  },
  {
   "cell_type": "code",
   "execution_count": null,
   "id": "7488adab",
   "metadata": {},
   "outputs": [],
   "source": []
  },
  {
   "cell_type": "markdown",
   "id": "d9080db3",
   "metadata": {},
   "source": [
    "# Nested Loops"
   ]
  },
  {
   "cell_type": "code",
   "execution_count": 25,
   "id": "a8b1c613",
   "metadata": {},
   "outputs": [
    {
     "name": "stdout",
     "output_type": "stream",
     "text": [
      "*****"
     ]
    }
   ],
   "source": [
    "for j in range(5):\n",
    "    print(\"*\", end='')"
   ]
  },
  {
   "cell_type": "code",
   "execution_count": null,
   "id": "6334ab3e",
   "metadata": {},
   "outputs": [],
   "source": []
  },
  {
   "cell_type": "code",
   "execution_count": 28,
   "id": "0c70ce39",
   "metadata": {},
   "outputs": [
    {
     "name": "stdout",
     "output_type": "stream",
     "text": [
      "*****\n",
      "*****\n",
      "*****"
     ]
    }
   ],
   "source": [
    "for j in range(5):\n",
    "    print(\"*\", end='')\n",
    "    \n",
    "print()\n",
    "\n",
    "for j in range(5):\n",
    "    print(\"*\", end='')\n",
    "    \n",
    "print()\n",
    "\n",
    "for j in range(5):\n",
    "    print(\"*\", end='')"
   ]
  },
  {
   "cell_type": "code",
   "execution_count": null,
   "id": "001d95e6",
   "metadata": {},
   "outputs": [],
   "source": []
  },
  {
   "cell_type": "code",
   "execution_count": 29,
   "id": "cb49fed8",
   "metadata": {},
   "outputs": [
    {
     "name": "stdout",
     "output_type": "stream",
     "text": [
      "*****\n",
      "*****\n",
      "*****\n"
     ]
    }
   ],
   "source": [
    "for i in range(3):\n",
    "    for j in range(5):\n",
    "        print(\"*\", end='')\n",
    "    print()"
   ]
  },
  {
   "cell_type": "code",
   "execution_count": null,
   "id": "97e28b64",
   "metadata": {},
   "outputs": [],
   "source": []
  },
  {
   "cell_type": "code",
   "execution_count": null,
   "id": "279704bd",
   "metadata": {},
   "outputs": [],
   "source": []
  },
  {
   "cell_type": "markdown",
   "id": "5c4a806e",
   "metadata": {},
   "source": [
    "##### **Question**: Write a program to print a `N x M` matrix of `*`"
   ]
  },
  {
   "cell_type": "code",
   "execution_count": null,
   "id": "f8030a9a",
   "metadata": {},
   "outputs": [],
   "source": [
    "N = 4 # no of rows\n",
    "M = 2 # no of cols\n",
    "\n",
    "**\n",
    "**\n",
    "**\n",
    "**"
   ]
  },
  {
   "cell_type": "code",
   "execution_count": 46,
   "id": "9b4ba86c",
   "metadata": {},
   "outputs": [
    {
     "name": "stdout",
     "output_type": "stream",
     "text": [
      "6\n",
      "10\n",
      "**********\n",
      "**********\n",
      "**********\n",
      "**********\n",
      "**********\n",
      "**********\n"
     ]
    }
   ],
   "source": [
    "N = int(input())\n",
    "M = int(input())\n",
    "\n",
    "for i in range(N):\n",
    "    for j in range(M):\n",
    "        print('*', end='')\n",
    "    print()"
   ]
  },
  {
   "cell_type": "code",
   "execution_count": null,
   "id": "b6851c51",
   "metadata": {},
   "outputs": [],
   "source": []
  },
  {
   "cell_type": "code",
   "execution_count": 30,
   "id": "9a20960a",
   "metadata": {},
   "outputs": [
    {
     "name": "stdout",
     "output_type": "stream",
     "text": [
      "**"
     ]
    }
   ],
   "source": [
    "M = 2\n",
    "for j in range(M):\n",
    "    print('*', end='')"
   ]
  },
  {
   "cell_type": "code",
   "execution_count": null,
   "id": "d5702c72",
   "metadata": {},
   "outputs": [],
   "source": []
  },
  {
   "cell_type": "code",
   "execution_count": null,
   "id": "abdcf261",
   "metadata": {},
   "outputs": [],
   "source": []
  },
  {
   "cell_type": "code",
   "execution_count": null,
   "id": "fc45bfce",
   "metadata": {},
   "outputs": [],
   "source": []
  },
  {
   "cell_type": "code",
   "execution_count": null,
   "id": "c08050cd",
   "metadata": {},
   "outputs": [],
   "source": []
  },
  {
   "cell_type": "markdown",
   "id": "65ba49cb",
   "metadata": {},
   "source": [
    "## Stair Pattern"
   ]
  },
  {
   "cell_type": "code",
   "execution_count": 39,
   "id": "cd09bde8",
   "metadata": {},
   "outputs": [
    {
     "name": "stdout",
     "output_type": "stream",
     "text": [
      "*\n",
      "**\n",
      "***\n",
      "****\n",
      "*****\n"
     ]
    }
   ],
   "source": [
    "N = 5\n",
    "\n",
    "for i in range(1, N+1):\n",
    "    for j in range(i):\n",
    "        print(\"*\", end='')\n",
    "    print()"
   ]
  },
  {
   "cell_type": "code",
   "execution_count": null,
   "id": "7ec87abb",
   "metadata": {},
   "outputs": [],
   "source": []
  },
  {
   "cell_type": "code",
   "execution_count": null,
   "id": "a5513db3",
   "metadata": {},
   "outputs": [],
   "source": []
  },
  {
   "cell_type": "code",
   "execution_count": null,
   "id": "e434a5e7",
   "metadata": {},
   "outputs": [],
   "source": []
  },
  {
   "cell_type": "markdown",
   "id": "f85cc60c",
   "metadata": {},
   "source": [
    "## Reverse Stair Pattern"
   ]
  },
  {
   "cell_type": "code",
   "execution_count": 36,
   "id": "2ce21e3d",
   "metadata": {},
   "outputs": [
    {
     "name": "stdout",
     "output_type": "stream",
     "text": [
      "***************\n",
      "**************\n",
      "*************\n",
      "************\n",
      "***********\n",
      "**********\n",
      "*********\n",
      "********\n",
      "*******\n",
      "******\n",
      "*****\n",
      "****\n",
      "***\n",
      "**\n",
      "*\n"
     ]
    }
   ],
   "source": [
    "N = 15\n",
    "\n",
    "for i in range(1, N+1):\n",
    "    # For each row, print (N-i+1) cols\n",
    "    for j in range(N-i+1):\n",
    "        print('*', end='')\n",
    "    print()\n"
   ]
  },
  {
   "cell_type": "code",
   "execution_count": null,
   "id": "71781da0",
   "metadata": {},
   "outputs": [],
   "source": []
  },
  {
   "cell_type": "code",
   "execution_count": null,
   "id": "2086a9a9",
   "metadata": {},
   "outputs": [],
   "source": []
  },
  {
   "cell_type": "code",
   "execution_count": null,
   "id": "b5b91ae5",
   "metadata": {},
   "outputs": [],
   "source": []
  },
  {
   "cell_type": "markdown",
   "id": "ce592c00",
   "metadata": {},
   "source": [
    "##### **Question**: Write a program to print a multiplication table till an input **N**."
   ]
  },
  {
   "cell_type": "code",
   "execution_count": null,
   "id": "1caf848f",
   "metadata": {},
   "outputs": [],
   "source": [
    "N = 4\n",
    "Table of 1\n",
    "Table of 2\n",
    "Table of 3\n",
    "Table of 4\n",
    "\n",
    "Tables of all nums from 1 till N"
   ]
  },
  {
   "cell_type": "code",
   "execution_count": null,
   "id": "9a28241c",
   "metadata": {},
   "outputs": [],
   "source": [
    "N = 4\n",
    "\n",
    "1 2 3 4 5 ... 10\n",
    "2 4 6 8 10 ... 20\n",
    "3 6 9 12 15 ... 30\n",
    "4 8 12 16 ... 40"
   ]
  },
  {
   "cell_type": "code",
   "execution_count": 38,
   "id": "8fea8225",
   "metadata": {},
   "outputs": [
    {
     "name": "stdout",
     "output_type": "stream",
     "text": [
      "8\n",
      "1 2 3 4 5 6 7 8 9 10 \n",
      "2 4 6 8 10 12 14 16 18 20 \n",
      "3 6 9 12 15 18 21 24 27 30 \n",
      "4 8 12 16 20 24 28 32 36 40 \n",
      "5 10 15 20 25 30 35 40 45 50 \n",
      "6 12 18 24 30 36 42 48 54 60 \n",
      "7 14 21 28 35 42 49 56 63 70 \n",
      "8 16 24 32 40 48 56 64 72 80 \n"
     ]
    }
   ],
   "source": [
    "N = int(input())\n",
    "\n",
    "for i in range(1, N+1):\n",
    "    # Print the table of i\n",
    "    for j in range(1, 11):\n",
    "        print(i * j, end=' ')\n",
    "    print()"
   ]
  },
  {
   "cell_type": "code",
   "execution_count": null,
   "id": "5f705469",
   "metadata": {},
   "outputs": [],
   "source": []
  },
  {
   "cell_type": "code",
   "execution_count": null,
   "id": "a9900b4e",
   "metadata": {},
   "outputs": [],
   "source": []
  },
  {
   "cell_type": "code",
   "execution_count": null,
   "id": "0705abb6",
   "metadata": {},
   "outputs": [],
   "source": []
  },
  {
   "cell_type": "code",
   "execution_count": 37,
   "id": "4869d15e",
   "metadata": {},
   "outputs": [
    {
     "name": "stdout",
     "output_type": "stream",
     "text": [
      "5 10 15 20 25 30 35 40 45 50 "
     ]
    }
   ],
   "source": [
    "# Covered in previous sessions\n",
    "x = 5\n",
    "\n",
    "for j in range(1, 11):\n",
    "    print(x * j, end=' ')"
   ]
  },
  {
   "cell_type": "code",
   "execution_count": null,
   "id": "f9c20b2b",
   "metadata": {},
   "outputs": [],
   "source": []
  },
  {
   "cell_type": "code",
   "execution_count": null,
   "id": "a47ab37b",
   "metadata": {},
   "outputs": [],
   "source": []
  },
  {
   "cell_type": "markdown",
   "id": "61e367f3",
   "metadata": {},
   "source": [
    "# GCD\n",
    "Given two integer inputs, write a program to calculate GCD of these two numbers.\n",
    "\n",
    "\n",
    "![](https://www.scaler.com/topics/images/gcd.webp)"
   ]
  },
  {
   "cell_type": "code",
   "execution_count": 20,
   "id": "d7e1e1a7",
   "metadata": {},
   "outputs": [
    {
     "name": "stdout",
     "output_type": "stream",
     "text": [
      "40\n"
     ]
    }
   ],
   "source": [
    "A = 200\n",
    "B = 80\n",
    "\n",
    "# Smallest = 1\n",
    "# Largest = min(a, b)\n",
    "# I am looking for the highest common factor\n",
    "\n",
    "for i in range(min(A, B), 0, -1):\n",
    "    # We wish to find a common factor of A & B\n",
    "    # Check if (i is a factor of A) and (i is a factor of B)\n",
    "    if (A % i == 0) and (B % i == 0):\n",
    "        gcd = i\n",
    "        break\n",
    "        \n",
    "print(gcd)"
   ]
  },
  {
   "cell_type": "code",
   "execution_count": null,
   "id": "1512dc9e",
   "metadata": {},
   "outputs": [],
   "source": []
  },
  {
   "cell_type": "code",
   "execution_count": 21,
   "id": "776938a6",
   "metadata": {},
   "outputs": [
    {
     "data": {
      "text/plain": [
       "10"
      ]
     },
     "execution_count": 21,
     "metadata": {},
     "output_type": "execute_result"
    }
   ],
   "source": [
    "min(10, 20)"
   ]
  },
  {
   "cell_type": "code",
   "execution_count": 23,
   "id": "f9318235",
   "metadata": {},
   "outputs": [
    {
     "data": {
      "text/plain": [
       "10"
      ]
     },
     "execution_count": 23,
     "metadata": {},
     "output_type": "execute_result"
    }
   ],
   "source": [
    "min(10, 10)"
   ]
  },
  {
   "cell_type": "code",
   "execution_count": 22,
   "id": "e82096db",
   "metadata": {},
   "outputs": [
    {
     "data": {
      "text/plain": [
       "24"
      ]
     },
     "execution_count": 22,
     "metadata": {},
     "output_type": "execute_result"
    }
   ],
   "source": [
    "min(30, 24)"
   ]
  },
  {
   "cell_type": "code",
   "execution_count": 24,
   "id": "07d7f405",
   "metadata": {},
   "outputs": [
    {
     "data": {
      "text/plain": [
       "20"
      ]
     },
     "execution_count": 24,
     "metadata": {},
     "output_type": "execute_result"
    }
   ],
   "source": [
    "max(10, 20)"
   ]
  },
  {
   "cell_type": "code",
   "execution_count": null,
   "id": "3ce79c9e",
   "metadata": {},
   "outputs": [],
   "source": []
  },
  {
   "cell_type": "code",
   "execution_count": null,
   "id": "1b526903",
   "metadata": {},
   "outputs": [],
   "source": []
  },
  {
   "cell_type": "markdown",
   "id": "b7c19db7",
   "metadata": {},
   "source": [
    "## LCM\n",
    "Given two integer inputs, write a program to calculate LCM of these two numbers.\n",
    "\n",
    "![](https://www.scaler.com/topics/images/lcm-of-two-numbers-in-python-featured-image.webp)"
   ]
  },
  {
   "cell_type": "code",
   "execution_count": null,
   "id": "89fe808f",
   "metadata": {},
   "outputs": [],
   "source": []
  },
  {
   "cell_type": "code",
   "execution_count": null,
   "id": "e85294cd",
   "metadata": {},
   "outputs": [],
   "source": []
  },
  {
   "cell_type": "code",
   "execution_count": null,
   "id": "fed23247",
   "metadata": {},
   "outputs": [],
   "source": []
  },
  {
   "cell_type": "code",
   "execution_count": null,
   "id": "115b2261",
   "metadata": {},
   "outputs": [],
   "source": []
  },
  {
   "cell_type": "code",
   "execution_count": null,
   "id": "01980e3c",
   "metadata": {},
   "outputs": [],
   "source": []
  },
  {
   "cell_type": "code",
   "execution_count": null,
   "id": "ccac4800",
   "metadata": {},
   "outputs": [],
   "source": []
  },
  {
   "cell_type": "code",
   "execution_count": null,
   "id": "23e9340c",
   "metadata": {},
   "outputs": [],
   "source": []
  },
  {
   "cell_type": "code",
   "execution_count": null,
   "id": "0dc32a82",
   "metadata": {},
   "outputs": [],
   "source": []
  },
  {
   "cell_type": "code",
   "execution_count": null,
   "id": "792694e3",
   "metadata": {},
   "outputs": [],
   "source": []
  },
  {
   "cell_type": "code",
   "execution_count": null,
   "id": "22781974",
   "metadata": {},
   "outputs": [],
   "source": []
  },
  {
   "cell_type": "markdown",
   "id": "49093131",
   "metadata": {},
   "source": [
    "# Bonus Reading Material\n",
    "- Pass in Python - https://www.scaler.com/topics/pass-in-python/\n",
    "- Break, Pass and Continue Statement in Python - https://www.scaler.com/topics/python/break-pass-and-continue-statement-in-python/\n",
    "- Factorial Program in Python - https://www.scaler.com/topics/factorial-program-in-python/\n",
    "- What is Nested For Loop in Python? - https://www.scaler.com/topics/nested-for-loop-in-python/\n",
    "- GCD of Two Numbers in Python - https://www.scaler.com/topics/gcd-of-two-numbers-in-python/"
   ]
  },
  {
   "cell_type": "code",
   "execution_count": null,
   "id": "8feb2af8",
   "metadata": {},
   "outputs": [],
   "source": []
  },
  {
   "cell_type": "code",
   "execution_count": null,
   "id": "7eaf5f7e",
   "metadata": {},
   "outputs": [],
   "source": []
  },
  {
   "cell_type": "code",
   "execution_count": null,
   "id": "71e9f14f",
   "metadata": {},
   "outputs": [],
   "source": []
  },
  {
   "cell_type": "markdown",
   "id": "db9d7cfa",
   "metadata": {},
   "source": [
    "# Doubts"
   ]
  },
  {
   "cell_type": "code",
   "execution_count": 48,
   "id": "e2e05964",
   "metadata": {},
   "outputs": [
    {
     "name": "stdout",
     "output_type": "stream",
     "text": [
      "*\n",
      "**\n",
      "***\n",
      "****\n",
      "*****\n"
     ]
    }
   ],
   "source": [
    "N = 5\n",
    "\n",
    "for i in range(N):\n",
    "    for j in range(i+1):\n",
    "        print(\"*\", end='')\n",
    "    print()"
   ]
  },
  {
   "cell_type": "code",
   "execution_count": 50,
   "id": "512b1ae4",
   "metadata": {},
   "outputs": [
    {
     "name": "stdout",
     "output_type": "stream",
     "text": [
      "******\n",
      "******\n",
      "******\n",
      "******\n",
      "******\n"
     ]
    }
   ],
   "source": [
    "N = 5\n",
    "M = 6\n",
    "\n",
    "\n",
    "for i in range(N):\n",
    "    for j in range(M):\n",
    "        print(\"*\", end='')\n",
    "    print()"
   ]
  },
  {
   "cell_type": "code",
   "execution_count": null,
   "id": "07cad3d3",
   "metadata": {},
   "outputs": [],
   "source": []
  },
  {
   "cell_type": "code",
   "execution_count": null,
   "id": "8f9c5bb6",
   "metadata": {},
   "outputs": [],
   "source": []
  },
  {
   "cell_type": "code",
   "execution_count": 51,
   "id": "1226680d",
   "metadata": {},
   "outputs": [
    {
     "name": "stdout",
     "output_type": "stream",
     "text": [
      "******\n",
      "______\n",
      "______\n",
      "______\n",
      "******\n"
     ]
    }
   ],
   "source": [
    "N = 5\n",
    "M = 6\n",
    "\n",
    "\n",
    "for i in range(1, N+1):\n",
    "    for j in range(M):\n",
    "        if (i == 1) or (i == N):\n",
    "            print(\"*\", end='')\n",
    "        else:\n",
    "            print(\"_\", end='')\n",
    "    print()"
   ]
  },
  {
   "cell_type": "code",
   "execution_count": 54,
   "id": "f446d4b9",
   "metadata": {},
   "outputs": [
    {
     "name": "stdout",
     "output_type": "stream",
     "text": [
      "5\n",
      "1 2 3 4 5 6 7 8 9 10 \n",
      "2 4 6 8 10 12 14 16 18 20 \n",
      "3 6 9 12 15 18 21 24 27 30 \n",
      "4 8 12 16 20 24 28 32 36 40 \n",
      "5 10 15 20 25 30 35 40 45 50 \n"
     ]
    }
   ],
   "source": [
    "N = int(input())\n",
    "\n",
    "for i in range(1, N+1):\n",
    "    # Print the table of i\n",
    "    for j in range(1, 11):\n",
    "        print(i * j, end=' ')\n",
    "    print()"
   ]
  },
  {
   "cell_type": "code",
   "execution_count": null,
   "id": "4d77a8a8",
   "metadata": {},
   "outputs": [],
   "source": []
  },
  {
   "cell_type": "code",
   "execution_count": null,
   "id": "4df37e2a",
   "metadata": {},
   "outputs": [],
   "source": []
  },
  {
   "cell_type": "code",
   "execution_count": 55,
   "id": "25c4c742",
   "metadata": {},
   "outputs": [
    {
     "ename": "IndentationError",
     "evalue": "expected an indented block (4155345654.py, line 2)",
     "output_type": "error",
     "traceback": [
      "\u001b[0;36m  File \u001b[0;32m\"/var/folders/jn/1bsrct314hv5xmfm7vrcdrzc0000gn/T/ipykernel_7040/4155345654.py\"\u001b[0;36m, line \u001b[0;32m2\u001b[0m\n\u001b[0;31m    \u001b[0m\n\u001b[0m    ^\u001b[0m\n\u001b[0;31mIndentationError\u001b[0m\u001b[0;31m:\u001b[0m expected an indented block\n"
     ]
    }
   ],
   "source": [
    "for i in range(10):\n",
    "    "
   ]
  },
  {
   "cell_type": "code",
   "execution_count": 56,
   "id": "8f93e0bf",
   "metadata": {},
   "outputs": [],
   "source": [
    "for i in range(10):\n",
    "    pass"
   ]
  },
  {
   "cell_type": "code",
   "execution_count": null,
   "id": "d78b8fa6",
   "metadata": {},
   "outputs": [],
   "source": []
  }
 ],
 "metadata": {
  "kernelspec": {
   "display_name": "Python 3 (ipykernel)",
   "language": "python",
   "name": "python3"
  },
  "language_info": {
   "codemirror_mode": {
    "name": "ipython",
    "version": 3
   },
   "file_extension": ".py",
   "mimetype": "text/x-python",
   "name": "python",
   "nbconvert_exporter": "python",
   "pygments_lexer": "ipython3",
   "version": "3.9.12"
  }
 },
 "nbformat": 4,
 "nbformat_minor": 5
}
